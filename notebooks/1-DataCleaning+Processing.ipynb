{
 "cells": [
  {
   "cell_type": "markdown",
   "source": "# X-Ray Image Labelling & Reporting\n## Data Cleaning & Preprocessing\n**`Team AKAKI!` | `Minerva University`**\n\n---",
   "metadata": {
    "tags": [],
    "cell_id": "00001-e039789c-d3a9-4b35-afc9-4a8413b11aad",
    "deepnote_cell_type": "markdown"
   }
  },
  {
   "cell_type": "markdown",
   "source": "## Project Overview\n\nIn summary, we are measuring the similarity of predicted captions to the actual captions provided by doctors.\n\nThis is broken down into multiple steps:\n- Clean Indiana X-Ray imaging data.\n- Explore ways to increase and engineer features for better results.\n- Use machine learning, NLP, computer vision, and other methods to label the chest X-Rays.\n- Compare the labels we generate against the actual label provided by the doctors.\n\nFor example,\n- **Real Caption:** the lungs are hyperinflated with coarse interstitial markings compatible with obstructive pulmonary disease and emphysema periodseq there is chronic pleuralparenchymal scarring within the lung bases periodseq no lobar consolidation is seen periodseq no pleural effusion or pneumothorax periodseq heart size is normal period.\n- **Prediction Caption:** typical findings of pulmonary consolidation periodseq no pneumothorax periodseq there is no evidence for effusion.\n\n---",
   "metadata": {
    "tags": [],
    "cell_id": "00002-10f27a77-a20a-40b2-8565-b8d3c1ede368",
    "deepnote_cell_type": "markdown"
   }
  },
  {
   "cell_type": "markdown",
   "source": "## 1. Import Libraries",
   "metadata": {
    "tags": [],
    "cell_id": "00002-a57dda81-16d7-4ebb-b880-92a8f7f19fe9",
    "deepnote_cell_type": "markdown"
   }
  },
  {
   "cell_type": "code",
   "metadata": {
    "tags": [],
    "cell_id": "00003-208916ae-64e9-43f3-84e4-ceab0323b0fe",
    "deepnote_to_be_reexecuted": false,
    "source_hash": "73a26d6d",
    "execution_start": 1637592888414,
    "execution_millis": 3197,
    "deepnote_cell_type": "code"
   },
   "source": "import string\nimport contractions\nimport pandas as pd\nimport matplotlib.pyplot as plt\nfrom cleantext import clean\nfrom sklearn.model_selection import train_test_split\n\nimport pickle\nfrom glob import glob\n\n!ls /datasets/gdrive/XRay-AKAKI",
   "execution_count": 1,
   "outputs": [
    {
     "name": "stdout",
     "text": "images_normalized\t indiana_reports.csv\r\nindiana_projections.csv  radiology_vocabulary_final.xlsx\r\n",
     "output_type": "stream"
    }
   ]
  },
  {
   "cell_type": "markdown",
   "source": "## 2. Load the data",
   "metadata": {
    "tags": [],
    "cell_id": "00004-0b7f9583-5f44-4756-a60b-658e6b585089",
    "deepnote_cell_type": "markdown"
   }
  },
  {
   "cell_type": "code",
   "metadata": {
    "tags": [],
    "cell_id": "00007-0d2b8630-a50e-4b12-8b92-26172eb59305",
    "deepnote_to_be_reexecuted": false,
    "source_hash": "4eaecd75",
    "execution_start": 1637592893222,
    "execution_millis": 91,
    "deepnote_cell_type": "code"
   },
   "source": "data = pd.read_csv('../data/raw/raw_merged_xray_data.csv')",
   "execution_count": 2,
   "outputs": []
  },
  {
   "cell_type": "code",
   "metadata": {
    "tags": [],
    "cell_id": "00007-b58ae564-38d3-4d90-909c-1b56c1589a27",
    "deepnote_to_be_reexecuted": false,
    "source_hash": "6962de3c",
    "execution_start": 1637593009720,
    "execution_millis": 54,
    "deepnote_cell_type": "code"
   },
   "source": "# defines image path\nimages_path = \"/datasets/gdrive/XRay-AKAKI/images_normalized\"\n\n# Use glob to grab images from path .jpg or jpeg\nimages_file_names = glob(images_path + '/*')\n\nprint(len(images_file_names))",
   "execution_count": 4,
   "outputs": [
    {
     "name": "stdout",
     "text": "7693\n",
     "output_type": "stream"
    }
   ]
  },
  {
   "cell_type": "markdown",
   "source": "## 3. Quick data preview",
   "metadata": {
    "tags": [],
    "cell_id": "00007-981bf98e-7455-4da7-950f-86ea25e166a8",
    "deepnote_cell_type": "markdown"
   }
  },
  {
   "cell_type": "code",
   "metadata": {
    "tags": [],
    "cell_id": "00011-2ad3f032-097e-41c3-b06e-394478a2f7b1",
    "deepnote_to_be_reexecuted": false,
    "source_hash": "e6928a8f",
    "execution_start": 1637593015625,
    "execution_millis": 126,
    "deepnote_cell_type": "code"
   },
   "source": "data",
   "execution_count": 5,
   "outputs": [
    {
     "output_type": "execute_result",
     "execution_count": 5,
     "data": {
      "application/vnd.deepnote.dataframe.v2+json": {
       "row_count": 7466,
       "column_count": 10,
       "columns": [
        {
         "name": "uid",
         "dtype": "int64",
         "stats": {
          "unique_count": 3851,
          "nan_count": 0,
          "min": "1",
          "max": "3999",
          "histogram": [
           {
            "bin_start": 1,
            "bin_end": 400.8,
            "count": 750
           },
           {
            "bin_start": 400.8,
            "bin_end": 800.6,
            "count": 749
           },
           {
            "bin_start": 800.6,
            "bin_end": 1200.4,
            "count": 742
           },
           {
            "bin_start": 1200.4,
            "bin_end": 1600.2,
            "count": 759
           },
           {
            "bin_start": 1600.2,
            "bin_end": 2000,
            "count": 734
           },
           {
            "bin_start": 2000,
            "bin_end": 2399.8,
            "count": 749
           },
           {
            "bin_start": 2399.8,
            "bin_end": 2799.6,
            "count": 727
           },
           {
            "bin_start": 2799.6,
            "bin_end": 3199.4,
            "count": 725
           },
           {
            "bin_start": 3199.4,
            "bin_end": 3599.2000000000003,
            "count": 770
           },
           {
            "bin_start": 3599.2000000000003,
            "bin_end": 3999,
            "count": 761
           }
          ]
         }
        },
        {
         "name": "MeSH",
         "dtype": "object",
         "stats": {
          "unique_count": 1900,
          "nan_count": 0,
          "categories": [
           {
            "name": "normal",
            "count": 2695
           },
           {
            "name": "No Indexing",
            "count": 172
           },
           {
            "name": "1898 others",
            "count": 4599
           }
          ]
         }
        },
        {
         "name": "Problems",
         "dtype": "object",
         "stats": {
          "unique_count": 1432,
          "nan_count": 0,
          "categories": [
           {
            "name": "normal",
            "count": 2695
           },
           {
            "name": "Lung",
            "count": 173
           },
           {
            "name": "1430 others",
            "count": 4598
           }
          ]
         }
        },
        {
         "name": "image",
         "dtype": "object",
         "stats": {
          "unique_count": 697,
          "nan_count": 0,
          "categories": [
           {
            "name": "Xray Chest PA and Lateral",
            "count": 2363
           },
           {
            "name": "CHEST 2V FRONTAL/LATERAL ",
            "count": 175
           },
           {
            "name": "695 others",
            "count": 4928
           }
          ]
         }
        },
        {
         "name": "indication",
         "dtype": "object",
         "stats": {
          "unique_count": 2454,
          "nan_count": 159,
          "categories": [
           {
            "name": "Chest pain",
            "count": 253
           },
           {
            "name": "2453 others",
            "count": 7054
           },
           {
            "name": "Missing",
            "count": 159
           }
          ]
         }
        },
        {
         "name": "comparison",
         "dtype": "object",
         "stats": {
          "unique_count": 394,
          "nan_count": 1157,
          "categories": [
           {
            "name": "None.",
            "count": 1589
           },
           {
            "name": "393 others",
            "count": 4720
           },
           {
            "name": "Missing",
            "count": 1157
           }
          ]
         }
        },
        {
         "name": "findings",
         "dtype": "object",
         "stats": {
          "unique_count": 2553,
          "nan_count": 997,
          "categories": [
           {
            "name": "The heart is normal in size. The mediastinum is unremarkable. The lungs are clear.",
            "count": 98
           },
           {
            "name": "2552 others",
            "count": 6371
           },
           {
            "name": "Missing",
            "count": 997
           }
          ]
         }
        },
        {
         "name": "impression",
         "dtype": "object",
         "stats": {
          "unique_count": 1770,
          "nan_count": 52,
          "categories": [
           {
            "name": "No acute cardiopulmonary abnormality.",
            "count": 585
           },
           {
            "name": "1769 others",
            "count": 6829
           },
           {
            "name": "Missing",
            "count": 52
           }
          ]
         }
        },
        {
         "name": "filename",
         "dtype": "object",
         "stats": {
          "unique_count": 7466,
          "nan_count": 0,
          "categories": [
           {
            "name": "1_IM-0001-4001.dcm.png",
            "count": 1
           },
           {
            "name": "1_IM-0001-3001.dcm.png",
            "count": 1
           },
           {
            "name": "7464 others",
            "count": 7464
           }
          ]
         }
        },
        {
         "name": "projection",
         "dtype": "object",
         "stats": {
          "unique_count": 2,
          "nan_count": 0,
          "categories": [
           {
            "name": "Frontal",
            "count": 3818
           },
           {
            "name": "Lateral",
            "count": 3648
           }
          ]
         }
        },
        {
         "name": "_deepnote_index_column",
         "dtype": "int64"
        }
       ],
       "rows_top": [
        {
         "uid": 1,
         "MeSH": "normal",
         "Problems": "normal",
         "image": "Xray Chest PA and Lateral",
         "indication": "Positive TB test",
         "comparison": "None.",
         "findings": "The cardiac silhouette and mediastinum size are within normal limits. There is no pulmonary edema. …",
         "impression": "Normal chest x-XXXX.",
         "filename": "1_IM-0001-4001.dcm.png",
         "projection": "Frontal",
         "_deepnote_index_column": 0
        },
        {
         "uid": 1,
         "MeSH": "normal",
         "Problems": "normal",
         "image": "Xray Chest PA and Lateral",
         "indication": "Positive TB test",
         "comparison": "None.",
         "findings": "The cardiac silhouette and mediastinum size are within normal limits. There is no pulmonary edema. …",
         "impression": "Normal chest x-XXXX.",
         "filename": "1_IM-0001-3001.dcm.png",
         "projection": "Lateral",
         "_deepnote_index_column": 1
        },
        {
         "uid": 2,
         "MeSH": "Cardiomegaly/borderline;Pulmonary Artery/enlarged",
         "Problems": "Cardiomegaly;Pulmonary Artery",
         "image": "Chest, 2 views, frontal and lateral",
         "indication": "Preop bariatric surgery.",
         "comparison": "None.",
         "findings": "Borderline cardiomegaly. Midline sternotomy XXXX. Enlarged pulmonary arteries. Clear lungs. Inferio…",
         "impression": "No acute pulmonary findings.",
         "filename": "2_IM-0652-1001.dcm.png",
         "projection": "Frontal",
         "_deepnote_index_column": 2
        },
        {
         "uid": 2,
         "MeSH": "Cardiomegaly/borderline;Pulmonary Artery/enlarged",
         "Problems": "Cardiomegaly;Pulmonary Artery",
         "image": "Chest, 2 views, frontal and lateral",
         "indication": "Preop bariatric surgery.",
         "comparison": "None.",
         "findings": "Borderline cardiomegaly. Midline sternotomy XXXX. Enlarged pulmonary arteries. Clear lungs. Inferio…",
         "impression": "No acute pulmonary findings.",
         "filename": "2_IM-0652-2001.dcm.png",
         "projection": "Lateral",
         "_deepnote_index_column": 3
        },
        {
         "uid": 3,
         "MeSH": "normal",
         "Problems": "normal",
         "image": "Xray Chest PA and Lateral",
         "indication": "rib pain after a XXXX, XXXX XXXX steps this XXXX. Pain to R back, R elbow and R rib XXXX, no previo…",
         "comparison": "nan",
         "findings": "nan",
         "impression": "No displaced rib fractures, pneumothorax, or pleural effusion identified. Well-expanded and clear l…",
         "filename": "3_IM-1384-1001.dcm.png",
         "projection": "Frontal",
         "_deepnote_index_column": 4
        },
        {
         "uid": 3,
         "MeSH": "normal",
         "Problems": "normal",
         "image": "Xray Chest PA and Lateral",
         "indication": "rib pain after a XXXX, XXXX XXXX steps this XXXX. Pain to R back, R elbow and R rib XXXX, no previo…",
         "comparison": "nan",
         "findings": "nan",
         "impression": "No displaced rib fractures, pneumothorax, or pleural effusion identified. Well-expanded and clear l…",
         "filename": "3_IM-1384-2001.dcm.png",
         "projection": "Lateral",
         "_deepnote_index_column": 5
        },
        {
         "uid": 4,
         "MeSH": "Pulmonary Disease, Chronic Obstructive;Bullous Emphysema;Pulmonary Fibrosis/interstitial;Cicatrix/l…",
         "Problems": "Pulmonary Disease, Chronic Obstructive;Bullous Emphysema;Pulmonary Fibrosis;Cicatrix;Opacity;Opacit…",
         "image": "PA and lateral views of the chest XXXX, XXXX at XXXX hours ",
         "indication": "XXXX-year-old XXXX with XXXX.",
         "comparison": "None available",
         "findings": "There are diffuse bilateral interstitial and alveolar opacities consistent with chronic obstructive…",
         "impression": "1. Bullous emphysema and interstitial fibrosis. 2. Probably scarring in the left apex, although dif…",
         "filename": "4_IM-2050-1001.dcm.png",
         "projection": "Frontal",
         "_deepnote_index_column": 6
        },
        {
         "uid": 4,
         "MeSH": "Pulmonary Disease, Chronic Obstructive;Bullous Emphysema;Pulmonary Fibrosis/interstitial;Cicatrix/l…",
         "Problems": "Pulmonary Disease, Chronic Obstructive;Bullous Emphysema;Pulmonary Fibrosis;Cicatrix;Opacity;Opacit…",
         "image": "PA and lateral views of the chest XXXX, XXXX at XXXX hours ",
         "indication": "XXXX-year-old XXXX with XXXX.",
         "comparison": "None available",
         "findings": "There are diffuse bilateral interstitial and alveolar opacities consistent with chronic obstructive…",
         "impression": "1. Bullous emphysema and interstitial fibrosis. 2. Probably scarring in the left apex, although dif…",
         "filename": "4_IM-2050-2001.dcm.png",
         "projection": "Lateral",
         "_deepnote_index_column": 7
        },
        {
         "uid": 5,
         "MeSH": "Osteophyte/thoracic vertebrae/multiple/small;Thickening/pleura/apex/bilateral;Lung/hyperdistention/…",
         "Problems": "Osteophyte;Thickening;Lung",
         "image": "Xray Chest PA and Lateral",
         "indication": "Chest and nasal congestion.",
         "comparison": "nan",
         "findings": "The cardiomediastinal silhouette and pulmonary vasculature are within normal limits. There is no pn…",
         "impression": "No acute cardiopulmonary abnormality.",
         "filename": "5_IM-2117-1003002.dcm.png",
         "projection": "Frontal",
         "_deepnote_index_column": 8
        },
        {
         "uid": 5,
         "MeSH": "Osteophyte/thoracic vertebrae/multiple/small;Thickening/pleura/apex/bilateral;Lung/hyperdistention/…",
         "Problems": "Osteophyte;Thickening;Lung",
         "image": "Xray Chest PA and Lateral",
         "indication": "Chest and nasal congestion.",
         "comparison": "nan",
         "findings": "The cardiomediastinal silhouette and pulmonary vasculature are within normal limits. There is no pn…",
         "impression": "No acute cardiopulmonary abnormality.",
         "filename": "5_IM-2117-1004003.dcm.png",
         "projection": "Lateral",
         "_deepnote_index_column": 9
        },
        {
         "uid": 6,
         "MeSH": "normal",
         "Problems": "normal",
         "image": "PA and Lateral Chest. XXXX, XXXX at XXXX ",
         "indication": "Evaluate for infection",
         "comparison": "XXXX, XXXX",
         "findings": "Heart size and mediastinal contour are within normal limits. There is no focal airspace consolidati…",
         "impression": "No acute cardiopulmonary findings.",
         "filename": "6_IM-2192-1001.dcm.png",
         "projection": "Frontal",
         "_deepnote_index_column": 10
        },
        {
         "uid": 6,
         "MeSH": "normal",
         "Problems": "normal",
         "image": "PA and Lateral Chest. XXXX, XXXX at XXXX ",
         "indication": "Evaluate for infection",
         "comparison": "XXXX, XXXX",
         "findings": "Heart size and mediastinal contour are within normal limits. There is no focal airspace consolidati…",
         "impression": "No acute cardiopulmonary findings.",
         "filename": "6_IM-2192-2001.dcm.png",
         "projection": "Lateral",
         "_deepnote_index_column": 11
        },
        {
         "uid": 7,
         "MeSH": "Pulmonary Atelectasis/base;Spondylosis/thoracic vertebrae;Arthritis/cervical vertebrae",
         "Problems": "Pulmonary Atelectasis;Spondylosis;Arthritis",
         "image": "Xray Chest PA and Lateral",
         "indication": "Preop lumbar surgery",
         "comparison": "XXXX, XXXX",
         "findings": "The cardiac contours are normal. XXXX basilar atelectasis. The lungs are clear. Thoracic spondylosi…",
         "impression": "Basilar atelectasis. No confluent lobar consolidation or pleural effusion.",
         "filename": "7_IM-2263-1001.dcm.png",
         "projection": "Frontal",
         "_deepnote_index_column": 12
        },
        {
         "uid": 7,
         "MeSH": "Pulmonary Atelectasis/base;Spondylosis/thoracic vertebrae;Arthritis/cervical vertebrae",
         "Problems": "Pulmonary Atelectasis;Spondylosis;Arthritis",
         "image": "Xray Chest PA and Lateral",
         "indication": "Preop lumbar surgery",
         "comparison": "XXXX, XXXX",
         "findings": "The cardiac contours are normal. XXXX basilar atelectasis. The lungs are clear. Thoracic spondylosi…",
         "impression": "Basilar atelectasis. No confluent lobar consolidation or pleural effusion.",
         "filename": "7_IM-2263-2001.dcm.png",
         "projection": "Lateral",
         "_deepnote_index_column": 13
        },
        {
         "uid": 8,
         "MeSH": "normal",
         "Problems": "normal",
         "image": "Xray Chest PA and Lateral",
         "indication": "XXXX-year-old with XXXX on XXXX. Dyspnea. History of mitral valve prolapse.",
         "comparison": "Two views of the chest dated XXXX.",
         "findings": "The heart, pulmonary XXXX and mediastinum are within normal limits. There is no pleural effusion or…",
         "impression": "No acute cardiopulmonary disease.",
         "filename": "8_IM-2333-1001.dcm.png",
         "projection": "Frontal",
         "_deepnote_index_column": 14
        },
        {
         "uid": 8,
         "MeSH": "normal",
         "Problems": "normal",
         "image": "Xray Chest PA and Lateral",
         "indication": "XXXX-year-old with XXXX on XXXX. Dyspnea. History of mitral valve prolapse.",
         "comparison": "Two views of the chest dated XXXX.",
         "findings": "The heart, pulmonary XXXX and mediastinum are within normal limits. There is no pleural effusion or…",
         "impression": "No acute cardiopulmonary disease.",
         "filename": "8_IM-2333-2001.dcm.png",
         "projection": "Lateral",
         "_deepnote_index_column": 15
        },
        {
         "uid": 9,
         "MeSH": "Calcified Granuloma/lung/upper lobe/right;Density/cardiophrenic angle/left",
         "Problems": "Calcified Granuloma;Density",
         "image": "Xray Chest PA and Lateral",
         "indication": "Chest pain today. History of stent placement 7+ years ago.",
         "comparison": "CT XXXX image XXXX, CT abdomen which included the lower thorax XXXX.",
         "findings": "The XXXX examination consists of frontal and lateral radiographs of the chest. The cardiac silhouet…",
         "impression": "Increased size of density in the left cardiophrenic XXXX. Primary differential considerations inclu…",
         "filename": "9_IM-2407-1001.dcm.png",
         "projection": "Frontal",
         "_deepnote_index_column": 16
        },
        {
         "uid": 9,
         "MeSH": "Calcified Granuloma/lung/upper lobe/right;Density/cardiophrenic angle/left",
         "Problems": "Calcified Granuloma;Density",
         "image": "Xray Chest PA and Lateral",
         "indication": "Chest pain today. History of stent placement 7+ years ago.",
         "comparison": "CT XXXX image XXXX, CT abdomen which included the lower thorax XXXX.",
         "findings": "The XXXX examination consists of frontal and lateral radiographs of the chest. The cardiac silhouet…",
         "impression": "Increased size of density in the left cardiophrenic XXXX. Primary differential considerations inclu…",
         "filename": "9_IM-2407-2001.dcm.png",
         "projection": "Lateral",
         "_deepnote_index_column": 17
        },
        {
         "uid": 10,
         "MeSH": "Calcified Granuloma/lung/upper lobe/right",
         "Problems": "Calcified Granuloma",
         "image": "PA and lateral chest x-XXXX XXXX. ",
         "indication": "XXXX-year-old male, chest pain.",
         "comparison": "Chest radiographs XXXX.",
         "findings": "The cardiomediastinal silhouette is within normal limits for size and contour. The lungs are normal…",
         "impression": "No acute cardiopulmonary process.",
         "filename": "10_IM-0002-2001.dcm.png",
         "projection": "Frontal",
         "_deepnote_index_column": 18
        },
        {
         "uid": 10,
         "MeSH": "Calcified Granuloma/lung/upper lobe/right",
         "Problems": "Calcified Granuloma",
         "image": "PA and lateral chest x-XXXX XXXX. ",
         "indication": "XXXX-year-old male, chest pain.",
         "comparison": "Chest radiographs XXXX.",
         "findings": "The cardiomediastinal silhouette is within normal limits for size and contour. The lungs are normal…",
         "impression": "No acute cardiopulmonary process.",
         "filename": "10_IM-0002-1001.dcm.png",
         "projection": "Lateral",
         "_deepnote_index_column": 19
        },
        {
         "uid": 11,
         "MeSH": "normal",
         "Problems": "normal",
         "image": "Xray Chest PA and Lateral",
         "indication": "Fatigue, weakness, anterior chest pain",
         "comparison": "None",
         "findings": "Cardiomediastinal silhouette and pulmonary vasculature are within normal limits. Lungs are clear. N…",
         "impression": "No acute cardiopulmonary findings.",
         "filename": "11_IM-0067-1001.dcm.png",
         "projection": "Frontal",
         "_deepnote_index_column": 20
        },
        {
         "uid": 11,
         "MeSH": "normal",
         "Problems": "normal",
         "image": "Xray Chest PA and Lateral",
         "indication": "Fatigue, weakness, anterior chest pain",
         "comparison": "None",
         "findings": "Cardiomediastinal silhouette and pulmonary vasculature are within normal limits. Lungs are clear. N…",
         "impression": "No acute cardiopulmonary findings.",
         "filename": "11_IM-0067-2001.dcm.png",
         "projection": "Lateral",
         "_deepnote_index_column": 21
        },
        {
         "uid": 12,
         "MeSH": "normal",
         "Problems": "normal",
         "image": "PA and lateral chest radiograph (2 views) (2 images) ",
         "indication": "XXXX",
         "comparison": "None",
         "findings": "Lungs are clear bilaterally. Cardiac and mediastinal silhouettes are normal. Pulmonary vasculature …",
         "impression": "No acute cardiopulmonary abnormality.",
         "filename": "12_IM-0133-1001.dcm.png",
         "projection": "Frontal",
         "_deepnote_index_column": 22
        },
        {
         "uid": 12,
         "MeSH": "normal",
         "Problems": "normal",
         "image": "PA and lateral chest radiograph (2 views) (2 images) ",
         "indication": "XXXX",
         "comparison": "None",
         "findings": "Lungs are clear bilaterally. Cardiac and mediastinal silhouettes are normal. Pulmonary vasculature …",
         "impression": "No acute cardiopulmonary abnormality.",
         "filename": "12_IM-0133-2001.dcm.png",
         "projection": "Lateral",
         "_deepnote_index_column": 23
        },
        {
         "uid": 13,
         "MeSH": "Cardiac Shadow/borderline",
         "Problems": "Cardiac Shadow",
         "image": "PA and lateral chest radiograph (2 views) (2 images) ",
         "indication": "Chest pain.",
         "comparison": "Chest radiograph from XXXX, XXXX.",
         "findings": "The cardiac silhouette is borderline enlarged. Otherwise, there is no focal opacity. Mediastinal co…",
         "impression": "Borderline enlargement of the cardiac silhouette without acute pulmonary disease.",
         "filename": "13_IM-0198-1001.dcm.png",
         "projection": "Frontal",
         "_deepnote_index_column": 24
        },
        {
         "uid": 13,
         "MeSH": "Cardiac Shadow/borderline",
         "Problems": "Cardiac Shadow",
         "image": "PA and lateral chest radiograph (2 views) (2 images) ",
         "indication": "Chest pain.",
         "comparison": "Chest radiograph from XXXX, XXXX.",
         "findings": "The cardiac silhouette is borderline enlarged. Otherwise, there is no focal opacity. Mediastinal co…",
         "impression": "Borderline enlargement of the cardiac silhouette without acute pulmonary disease.",
         "filename": "13_IM-0198-2001.dcm.png",
         "projection": "Lateral",
         "_deepnote_index_column": 25
        },
        {
         "uid": 14,
         "MeSH": "Lung/hyperdistention/mild;Markings/lung/interstitial/scattered/irregular/chronic",
         "Problems": "Lung;Markings",
         "image": "Xray Chest PA and Lateral",
         "indication": "XXXX-year-old female, chest pain",
         "comparison": "nan",
         "findings": "Heart size within normal limits, stable mediastinal and hilar contours. Mild hyperinflation appears…",
         "impression": "No acute findings",
         "filename": "14_IM-0256-1001.dcm.png",
         "projection": "Frontal",
         "_deepnote_index_column": 26
        },
        {
         "uid": 14,
         "MeSH": "Lung/hyperdistention/mild;Markings/lung/interstitial/scattered/irregular/chronic",
         "Problems": "Lung;Markings",
         "image": "Xray Chest PA and Lateral",
         "indication": "XXXX-year-old female, chest pain",
         "comparison": "nan",
         "findings": "Heart size within normal limits, stable mediastinal and hilar contours. Mild hyperinflation appears…",
         "impression": "No acute findings",
         "filename": "14_IM-0256-2001.dcm.png",
         "projection": "Lateral",
         "_deepnote_index_column": 27
        },
        {
         "uid": 15,
         "MeSH": "Granulomatous Disease",
         "Problems": "Granulomatous Disease",
         "image": "Chest, 2 views, XXXX XXXX ComparisXXXX/XXXX ",
         "indication": "Dyspnea",
         "comparison": "nan",
         "findings": "Cardiomediastinal silhouette and pulmonary vasculature are within normal limits. Lungs are clear. N…",
         "impression": "No acute cardiopulmonary findings.",
         "filename": "15_IM-0324-1001.dcm.png",
         "projection": "Frontal",
         "_deepnote_index_column": 28
        },
        {
         "uid": 15,
         "MeSH": "Granulomatous Disease",
         "Problems": "Granulomatous Disease",
         "image": "Chest, 2 views, XXXX XXXX ComparisXXXX/XXXX ",
         "indication": "Dyspnea",
         "comparison": "nan",
         "findings": "Cardiomediastinal silhouette and pulmonary vasculature are within normal limits. Lungs are clear. N…",
         "impression": "No acute cardiopulmonary findings.",
         "filename": "15_IM-0324-2001.dcm.png",
         "projection": "Lateral",
         "_deepnote_index_column": 29
        },
        {
         "uid": 16,
         "MeSH": "normal",
         "Problems": "normal",
         "image": "Xray Chest PA and Lateral",
         "indication": "nan",
         "comparison": "nan",
         "findings": "nan",
         "impression": "nan",
         "filename": "16_IM-0389-1001.dcm.png",
         "projection": "Frontal",
         "_deepnote_index_column": 30
        },
        {
         "uid": 16,
         "MeSH": "normal",
         "Problems": "normal",
         "image": "Xray Chest PA and Lateral",
         "indication": "nan",
         "comparison": "nan",
         "findings": "nan",
         "impression": "nan",
         "filename": "16_IM-0389-2001.dcm.png",
         "projection": "Lateral",
         "_deepnote_index_column": 31
        },
        {
         "uid": 17,
         "MeSH": "normal",
         "Problems": "normal",
         "image": "PA and lateral views of the chest dated XXXX. ",
         "indication": "XXXX-year-old female, chest pain.",
         "comparison": "XXXX films of the chest dated XXXX.",
         "findings": "No focal areas of consolidation. No suspicious pulmonary opacities. Heart size within normal limits…",
         "impression": "No acute cardiopulmonary abnormality.",
         "filename": "17_IM-0460-2001.dcm.png",
         "projection": "Frontal",
         "_deepnote_index_column": 32
        },
        {
         "uid": 17,
         "MeSH": "normal",
         "Problems": "normal",
         "image": "PA and lateral views of the chest dated XXXX. ",
         "indication": "XXXX-year-old female, chest pain.",
         "comparison": "XXXX films of the chest dated XXXX.",
         "findings": "No focal areas of consolidation. No suspicious pulmonary opacities. Heart size within normal limits…",
         "impression": "No acute cardiopulmonary abnormality.",
         "filename": "17_IM-0460-1001.dcm.png",
         "projection": "Lateral",
         "_deepnote_index_column": 33
        },
        {
         "uid": 18,
         "MeSH": "Pleural Effusion/borderline",
         "Problems": "Pleural Effusion",
         "image": "Xray Chest PA and Lateral",
         "indication": "XXXX-year-old male, pain",
         "comparison": "None",
         "findings": "Heart size within normal limits. No focal alveolar consolidation, no definite pleural effusion seen…",
         "impression": "No acute cardiopulmonary findings",
         "filename": "18_IM-0520-1001.dcm.png",
         "projection": "Frontal",
         "_deepnote_index_column": 34
        },
        {
         "uid": 18,
         "MeSH": "Pleural Effusion/borderline",
         "Problems": "Pleural Effusion",
         "image": "Xray Chest PA and Lateral",
         "indication": "XXXX-year-old male, pain",
         "comparison": "None",
         "findings": "Heart size within normal limits. No focal alveolar consolidation, no definite pleural effusion seen…",
         "impression": "No acute cardiopulmonary findings",
         "filename": "18_IM-0520-2001.dcm.png",
         "projection": "Lateral",
         "_deepnote_index_column": 35
        },
        {
         "uid": 19,
         "MeSH": "Aorta, Thoracic/tortuous;Thoracic Vertebrae/degenerative",
         "Problems": "Aorta, Thoracic;Thoracic Vertebrae",
         "image": "PA and LAT view CHEST XXXX, XXXX XXXX PM",
         "indication": "XXXX, preop for abdominal aortic aneurysm repair",
         "comparison": "CT chest angiography, XXXX",
         "findings": "Heart size is normal. There is tortuosity of the thoracic aorta, stable compared with prior. No foc…",
         "impression": "No acute cardiopulmonary process.",
         "filename": "19_IM-0583-1001.dcm.png",
         "projection": "Frontal",
         "_deepnote_index_column": 36
        },
        {
         "uid": 19,
         "MeSH": "Aorta, Thoracic/tortuous;Thoracic Vertebrae/degenerative",
         "Problems": "Aorta, Thoracic;Thoracic Vertebrae",
         "image": "PA and LAT view CHEST XXXX, XXXX XXXX PM",
         "indication": "XXXX, preop for abdominal aortic aneurysm repair",
         "comparison": "CT chest angiography, XXXX",
         "findings": "Heart size is normal. There is tortuosity of the thoracic aorta, stable compared with prior. No foc…",
         "impression": "No acute cardiopulmonary process.",
         "filename": "19_IM-0583-3003.dcm.png",
         "projection": "Lateral",
         "_deepnote_index_column": 37
        },
        {
         "uid": 20,
         "MeSH": "normal",
         "Problems": "normal",
         "image": "PA and lateral chest radiograph, XXXX at XXXX hours. ",
         "indication": "XXXX-year-old female with XXXX.",
         "comparison": "PA lateral chest radiograph, XXXX.",
         "findings": "The cardiac and mediastinal silhouettes are unremarkable. The lungs are well expanded and clear. Th…",
         "impression": "No evidence of acute cardiopulmonary process. Stable appearance of the chest.",
         "filename": "20_IM-0653-1001.dcm.png",
         "projection": "Frontal",
         "_deepnote_index_column": 38
        },
        {
         "uid": 20,
         "MeSH": "normal",
         "Problems": "normal",
         "image": "PA and lateral chest radiograph, XXXX at XXXX hours. ",
         "indication": "XXXX-year-old female with XXXX.",
         "comparison": "PA lateral chest radiograph, XXXX.",
         "findings": "The cardiac and mediastinal silhouettes are unremarkable. The lungs are well expanded and clear. Th…",
         "impression": "No evidence of acute cardiopulmonary process. Stable appearance of the chest.",
         "filename": "20_IM-0653-1002.dcm.png",
         "projection": "Lateral",
         "_deepnote_index_column": 39
        },
        {
         "uid": 21,
         "MeSH": "Calcified Granuloma/lung/lingula;Breast Implants;Deformity/thoracic vertebrae/moderate",
         "Problems": "Calcified Granuloma;Breast Implants;Deformity",
         "image": "2 VIEW CHEST: XXXX, XXXX at XXXX hours.",
         "indication": "Patient confused. Possible head injury.",
         "comparison": "None",
         "findings": "nan",
         "impression": "Heart size normal. Mediastinal silhouettes and pulmonary vascularity are within normal limits. Calc…",
         "filename": "21_IM-0729-1001-0001.dcm.png",
         "projection": "Frontal",
         "_deepnote_index_column": 40
        },
        {
         "uid": 21,
         "MeSH": "Calcified Granuloma/lung/lingula;Breast Implants;Deformity/thoracic vertebrae/moderate",
         "Problems": "Calcified Granuloma;Breast Implants;Deformity",
         "image": "2 VIEW CHEST: XXXX, XXXX at XXXX hours.",
         "indication": "Patient confused. Possible head injury.",
         "comparison": "None",
         "findings": "nan",
         "impression": "Heart size normal. Mediastinal silhouettes and pulmonary vascularity are within normal limits. Calc…",
         "filename": "21_IM-0729-1001-0002.dcm.png",
         "projection": "Lateral",
         "_deepnote_index_column": 41
        },
        {
         "uid": 22,
         "MeSH": "normal",
         "Problems": "normal",
         "image": "PA and lateral views of the chest XXXX, XXXX at XXXX hours ",
         "indication": "XXXX-year-old woman with XXXX for 3 weeks.",
         "comparison": "None available",
         "findings": "The lungs are clear, and without focal air space opacity. The cardiomediastinal silhouette is norma…",
         "impression": "No acute cardiopulmonary abnormality.",
         "filename": "22_IM-0810-1001.dcm.png",
         "projection": "Frontal",
         "_deepnote_index_column": 42
        },
        {
         "uid": 22,
         "MeSH": "normal",
         "Problems": "normal",
         "image": "PA and lateral views of the chest XXXX, XXXX at XXXX hours ",
         "indication": "XXXX-year-old woman with XXXX for 3 weeks.",
         "comparison": "None available",
         "findings": "The lungs are clear, and without focal air space opacity. The cardiomediastinal silhouette is norma…",
         "impression": "No acute cardiopulmonary abnormality.",
         "filename": "22_IM-0810-2001.dcm.png",
         "projection": "Lateral",
         "_deepnote_index_column": 43
        },
        {
         "uid": 23,
         "MeSH": "normal",
         "Problems": "normal",
         "image": "Xray Chest PA and Lateral",
         "indication": "Nausea, vomiting, preop for surgery",
         "comparison": "None",
         "findings": "The heart size and pulmonary vascularity appear within normal limits. The lungs are free of focal a…",
         "impression": "No evidence of active disease.",
         "filename": "23_IM-0879-1001.dcm.png",
         "projection": "Frontal",
         "_deepnote_index_column": 44
        },
        {
         "uid": 23,
         "MeSH": "normal",
         "Problems": "normal",
         "image": "Xray Chest PA and Lateral",
         "indication": "Nausea, vomiting, preop for surgery",
         "comparison": "None",
         "findings": "The heart size and pulmonary vascularity appear within normal limits. The lungs are free of focal a…",
         "impression": "No evidence of active disease.",
         "filename": "23_IM-0879-2001.dcm.png",
         "projection": "Lateral",
         "_deepnote_index_column": 45
        },
        {
         "uid": 24,
         "MeSH": "normal",
         "Problems": "normal",
         "image": "PA AND LATERAL VIEWS OF THE CHEST dated XXXX XXXX hours ",
         "indication": "XXXX, dyspnea",
         "comparison": "None.",
         "findings": "Cardiomediastinal silhouette is within normal limits of size and appearance. The pulmonary vascular…",
         "impression": "No acute cardiopulmonary abnormality.",
         "filename": "24_IM-0949-1001.dcm.png",
         "projection": "Frontal",
         "_deepnote_index_column": 46
        },
        {
         "uid": 24,
         "MeSH": "normal",
         "Problems": "normal",
         "image": "PA AND LATERAL VIEWS OF THE CHEST dated XXXX XXXX hours ",
         "indication": "XXXX, dyspnea",
         "comparison": "None.",
         "findings": "Cardiomediastinal silhouette is within normal limits of size and appearance. The pulmonary vascular…",
         "impression": "No acute cardiopulmonary abnormality.",
         "filename": "24_IM-0949-2001.dcm.png",
         "projection": "Lateral",
         "_deepnote_index_column": 47
        },
        {
         "uid": 25,
         "MeSH": "Sutures/lung/apex/right;Lung, Hyperlucent;Lung/hyperdistention;Pulmonary Emphysema;Airspace Disease…",
         "Problems": "Sutures;Lung, Hyperlucent;Lung;Pulmonary Emphysema;Airspace Disease;Pleural Effusion;Pleural Effusi…",
         "image": "Xray Chest PA and Lateral",
         "indication": "XXXX year old smoking on oxygen and nasal cannula caught XXXX. XXXX to the cheek and inside of nose.",
         "comparison": "PA and lateral chest XXXX and CTA XXXX.",
         "findings": "The heart is within normal limits in size. Surgical suture material projects over the right lung ap…",
         "impression": "1. Left lower lobe airspace disease and bilateral pleural effusions, left greater than right. This …",
         "filename": "25_IM-1024-2001.dcm.png",
         "projection": "Frontal",
         "_deepnote_index_column": 48
        },
        {
         "uid": 25,
         "MeSH": "Sutures/lung/apex/right;Lung, Hyperlucent;Lung/hyperdistention;Pulmonary Emphysema;Airspace Disease…",
         "Problems": "Sutures;Lung, Hyperlucent;Lung;Pulmonary Emphysema;Airspace Disease;Pleural Effusion;Pleural Effusi…",
         "image": "Xray Chest PA and Lateral",
         "indication": "XXXX year old smoking on oxygen and nasal cannula caught XXXX. XXXX to the cheek and inside of nose.",
         "comparison": "PA and lateral chest XXXX and CTA XXXX.",
         "findings": "The heart is within normal limits in size. Surgical suture material projects over the right lung ap…",
         "impression": "1. Left lower lobe airspace disease and bilateral pleural effusions, left greater than right. This …",
         "filename": "25_IM-1024-3001.dcm.png",
         "projection": "Lateral",
         "_deepnote_index_column": 49
        }
       ],
       "rows_bottom": [
        {
         "uid": 3974,
         "MeSH": "Lung/hyperdistention;Pulmonary Emphysema;Airspace Disease/lung/middle lobe/right/patchy;Spine/degen…",
         "Problems": "Lung;Pulmonary Emphysema;Airspace Disease;Spine",
         "image": "PA and lateral chest x-XXXX XXXX",
         "indication": "XXXX",
         "comparison": "None available for review",
         "findings": "The lungs are hyperexpanded consistent with emphysema. The heart size and pulmonary vascularity app…",
         "impression": "1. Hyperexpanded lungs suggesting emphysema. 2. Patchy right middle lobe airspace disease. May repr…",
         "filename": "3974_IM-2034-3003.dcm.png",
         "projection": "Lateral",
         "_deepnote_index_column": 7416
        },
        {
         "uid": 3975,
         "MeSH": "No Indexing",
         "Problems": "No Indexing",
         "image": "PA and lateral of the chest ",
         "indication": "XXXX-year-old with XXXX and XXXX for one XXXX.",
         "comparison": "Chest radiograph XXXX, XXXX.",
         "findings": "No focal consolidation. No visualized pneumothorax. No large pleural effusions. Heart size normal. …",
         "impression": "1. No acute cardiopulmonary findings.",
         "filename": "3975_IM-2035-1001.dcm.png",
         "projection": "Frontal",
         "_deepnote_index_column": 7417
        },
        {
         "uid": 3975,
         "MeSH": "No Indexing",
         "Problems": "No Indexing",
         "image": "PA and lateral of the chest ",
         "indication": "XXXX-year-old with XXXX and XXXX for one XXXX.",
         "comparison": "Chest radiograph XXXX, XXXX.",
         "findings": "No focal consolidation. No visualized pneumothorax. No large pleural effusions. Heart size normal. …",
         "impression": "1. No acute cardiopulmonary findings.",
         "filename": "3975_IM-2035-2001.dcm.png",
         "projection": "Lateral",
         "_deepnote_index_column": 7418
        },
        {
         "uid": 3976,
         "MeSH": "normal",
         "Problems": "normal",
         "image": "Xray Chest PA and Lateral",
         "indication": "Upper back pain, hoarseness, history of chronic pancreatitis and asthma",
         "comparison": "None.",
         "findings": "Heart size and mediastinal contour are normal. Pulmonary vascularity is normal. Lungs are clear. No…",
         "impression": "No acute cardiopulmonary process.",
         "filename": "3976_IM-2035-1001.dcm.png",
         "projection": "Frontal",
         "_deepnote_index_column": 7419
        },
        {
         "uid": 3976,
         "MeSH": "normal",
         "Problems": "normal",
         "image": "Xray Chest PA and Lateral",
         "indication": "Upper back pain, hoarseness, history of chronic pancreatitis and asthma",
         "comparison": "None.",
         "findings": "Heart size and mediastinal contour are normal. Pulmonary vascularity is normal. Lungs are clear. No…",
         "impression": "No acute cardiopulmonary process.",
         "filename": "3976_IM-2035-2001.dcm.png",
         "projection": "Lateral",
         "_deepnote_index_column": 7420
        },
        {
         "uid": 3977,
         "MeSH": "Aorta, Thoracic/tortuous;Calcified Granuloma/lung/lower lobe/left",
         "Problems": "Aorta, Thoracic;Calcified Granuloma",
         "image": "PA and lateral chest x-XXXX XXXX, XXXX XXXX hours ",
         "indication": "XXXX-year-old male, hypertension, chest pain",
         "comparison": "Chest x-XXXX XXXX, XXXX",
         "findings": "Normal heart size. Stable unfolding the thoracic aorta. No focal air space consolidation. No pleura…",
         "impression": "No acute cardiopulmonary abnormality.",
         "filename": "3977_IM-2036-1001.dcm.png",
         "projection": "Frontal",
         "_deepnote_index_column": 7421
        },
        {
         "uid": 3977,
         "MeSH": "Aorta, Thoracic/tortuous;Calcified Granuloma/lung/lower lobe/left",
         "Problems": "Aorta, Thoracic;Calcified Granuloma",
         "image": "PA and lateral chest x-XXXX XXXX, XXXX XXXX hours ",
         "indication": "XXXX-year-old male, hypertension, chest pain",
         "comparison": "Chest x-XXXX XXXX, XXXX",
         "findings": "Normal heart size. Stable unfolding the thoracic aorta. No focal air space consolidation. No pleura…",
         "impression": "No acute cardiopulmonary abnormality.",
         "filename": "3977_IM-2036-2001.dcm.png",
         "projection": "Lateral",
         "_deepnote_index_column": 7422
        },
        {
         "uid": 3978,
         "MeSH": "normal",
         "Problems": "normal",
         "image": "Radiograph chest PA and Lateral XXXX, XXXX.",
         "indication": "786.50 hypertension.",
         "comparison": "Radiograph chest PA and Lateral XXXX, XXXX.",
         "findings": "The heart is normal in size and contour. There is no mediastinal widening. The lungs are clear bila…",
         "impression": "No acute cardiopulmonary abnormalities.",
         "filename": "3978_IM-2037-0001-0001.dcm.png",
         "projection": "Frontal",
         "_deepnote_index_column": 7423
        },
        {
         "uid": 3978,
         "MeSH": "normal",
         "Problems": "normal",
         "image": "Radiograph chest PA and Lateral XXXX, XXXX.",
         "indication": "786.50 hypertension.",
         "comparison": "Radiograph chest PA and Lateral XXXX, XXXX.",
         "findings": "The heart is normal in size and contour. There is no mediastinal widening. The lungs are clear bila…",
         "impression": "No acute cardiopulmonary abnormalities.",
         "filename": "3978_IM-2037-0001-0002.dcm.png",
         "projection": "Lateral",
         "_deepnote_index_column": 7424
        },
        {
         "uid": 3979,
         "MeSH": "Aorta/tortuous/mild;Atherosclerosis/aorta/mild",
         "Problems": "Aorta;Atherosclerosis",
         "image": "PA and lateral chest x-XXXX XXXX, XXXX XXXX hours ",
         "indication": "XXXX-year-old female, dizziness, headache.",
         "comparison": "Chest 2 views XXXX, XXXX",
         "findings": "Normal heart size. Mild unfolding and atherosclerotic calcification of the aorta. No focal air spac…",
         "impression": "No acute cardiopulmonary abnormalities.",
         "filename": "3979_IM-2038-1001.dcm.png",
         "projection": "Frontal",
         "_deepnote_index_column": 7425
        },
        {
         "uid": 3979,
         "MeSH": "Aorta/tortuous/mild;Atherosclerosis/aorta/mild",
         "Problems": "Aorta;Atherosclerosis",
         "image": "PA and lateral chest x-XXXX XXXX, XXXX XXXX hours ",
         "indication": "XXXX-year-old female, dizziness, headache.",
         "comparison": "Chest 2 views XXXX, XXXX",
         "findings": "Normal heart size. Mild unfolding and atherosclerotic calcification of the aorta. No focal air spac…",
         "impression": "No acute cardiopulmonary abnormalities.",
         "filename": "3979_IM-2038-2001.dcm.png",
         "projection": "Lateral",
         "_deepnote_index_column": 7426
        },
        {
         "uid": 3980,
         "MeSH": "Cardiomegaly/moderate;Pleural Effusion/left/small;Thickening/pleura/left;Opacity/lung/base/bilatera…",
         "Problems": "Cardiomegaly;Pleural Effusion;Thickening;Opacity;Costophrenic Angle;Diaphragmatic Eventration",
         "image": "Xray Chest PA and Lateral",
         "indication": "XXXX-year-old female, chest pain",
         "comparison": "None",
         "findings": "Heart size moderately enlarged. Mild left costophrenic XXXX blunting. Streaky and patchy bibasilar …",
         "impression": "1. Cardiomegaly and small left pleural effusion versus pleural thickening 2. Streaky and patchy bib…",
         "filename": "3980_IM-2039-1001.dcm.png",
         "projection": "Frontal",
         "_deepnote_index_column": 7427
        },
        {
         "uid": 3980,
         "MeSH": "Cardiomegaly/moderate;Pleural Effusion/left/small;Thickening/pleura/left;Opacity/lung/base/bilatera…",
         "Problems": "Cardiomegaly;Pleural Effusion;Thickening;Opacity;Costophrenic Angle;Diaphragmatic Eventration",
         "image": "Xray Chest PA and Lateral",
         "indication": "XXXX-year-old female, chest pain",
         "comparison": "None",
         "findings": "Heart size moderately enlarged. Mild left costophrenic XXXX blunting. Streaky and patchy bibasilar …",
         "impression": "1. Cardiomegaly and small left pleural effusion versus pleural thickening 2. Streaky and patchy bib…",
         "filename": "3980_IM-2039-2001.dcm.png",
         "projection": "Lateral",
         "_deepnote_index_column": 7428
        },
        {
         "uid": 3981,
         "MeSH": "normal",
         "Problems": "normal",
         "image": "Xray Chest PA and Lateral",
         "indication": "XXXX vehicle accident with left shoulder pain.",
         "comparison": "None",
         "findings": "The lungs are clear. There is no pleural effusion or pneumothorax. The heart and mediastinum are no…",
         "impression": "No acute pulmonary disease.",
         "filename": "3981_IM-2039-1001.dcm.png",
         "projection": "Frontal",
         "_deepnote_index_column": 7429
        },
        {
         "uid": 3981,
         "MeSH": "normal",
         "Problems": "normal",
         "image": "Xray Chest PA and Lateral",
         "indication": "XXXX vehicle accident with left shoulder pain.",
         "comparison": "None",
         "findings": "The lungs are clear. There is no pleural effusion or pneumothorax. The heart and mediastinum are no…",
         "impression": "No acute pulmonary disease.",
         "filename": "3981_IM-2039-2001.dcm.png",
         "projection": "Lateral",
         "_deepnote_index_column": 7430
        },
        {
         "uid": 3982,
         "MeSH": "normal",
         "Problems": "normal",
         "image": "PA lateral chest x-XXXX dated XXXX, XXXX a XXXX. ",
         "indication": "XXXX-year-old male with epigastric pain.",
         "comparison": "8 XXXX 08.",
         "findings": "Normal heart size. No focal airspace consolidation, pneumothorax, pleural effusion, or pulmonary ed…",
         "impression": "No acute cardiothoracic abnormality.",
         "filename": "3982_IM-2039-1001.dcm.png",
         "projection": "Frontal",
         "_deepnote_index_column": 7431
        },
        {
         "uid": 3982,
         "MeSH": "normal",
         "Problems": "normal",
         "image": "PA lateral chest x-XXXX dated XXXX, XXXX a XXXX. ",
         "indication": "XXXX-year-old male with epigastric pain.",
         "comparison": "8 XXXX 08.",
         "findings": "Normal heart size. No focal airspace consolidation, pneumothorax, pleural effusion, or pulmonary ed…",
         "impression": "No acute cardiothoracic abnormality.",
         "filename": "3982_IM-2039-2001.dcm.png",
         "projection": "Lateral",
         "_deepnote_index_column": 7432
        },
        {
         "uid": 3983,
         "MeSH": "Opacity/lung/base/left;Pulmonary Atelectasis/base/right",
         "Problems": "Opacity;Pulmonary Atelectasis",
         "image": "Chest x-XXXX XXXX and lateral on XXXX at XXXX hours. ",
         "indication": "XXXX-year-old male with XXXX and XXXX.",
         "comparison": "None.",
         "findings": "There is a left basilar airspace opacity. Right basilar atelectasis. The heart size and mediastinal…",
         "impression": "1.There is a left basilar airspace opacity, which is concerning for pneumonia. 2. Right basilar ate…",
         "filename": "3983_IM-2039-1001.dcm.png",
         "projection": "Frontal",
         "_deepnote_index_column": 7433
        },
        {
         "uid": 3983,
         "MeSH": "Opacity/lung/base/left;Pulmonary Atelectasis/base/right",
         "Problems": "Opacity;Pulmonary Atelectasis",
         "image": "Chest x-XXXX XXXX and lateral on XXXX at XXXX hours. ",
         "indication": "XXXX-year-old male with XXXX and XXXX.",
         "comparison": "None.",
         "findings": "There is a left basilar airspace opacity. Right basilar atelectasis. The heart size and mediastinal…",
         "impression": "1.There is a left basilar airspace opacity, which is concerning for pneumonia. 2. Right basilar ate…",
         "filename": "3983_IM-2039-2001.dcm.png",
         "projection": "Lateral",
         "_deepnote_index_column": 7434
        },
        {
         "uid": 3984,
         "MeSH": "Aorta, Thoracic/tortuous;Calcinosis/lung/hilum/lymph nodes;Calcinosis/mediastinum/lymph nodes",
         "Problems": "Aorta, Thoracic;Calcinosis;Calcinosis",
         "image": "PA and lateral views of the chest, XXXX, XXXX XXXX XXXX",
         "indication": ",786.2",
         "comparison": "XXXX at XXXX",
         "findings": "The lungs appear clear. The thoracic aorta remains tortuous. The presence of an aortic aneurysm can…",
         "impression": "1. Stable tortuosity of the thoracic aorta. The presence of an underlying aneurysm cannot be exclud…",
         "filename": "3984_IM-2040-1001.dcm.png",
         "projection": "Frontal",
         "_deepnote_index_column": 7435
        },
        {
         "uid": 3984,
         "MeSH": "Aorta, Thoracic/tortuous;Calcinosis/lung/hilum/lymph nodes;Calcinosis/mediastinum/lymph nodes",
         "Problems": "Aorta, Thoracic;Calcinosis;Calcinosis",
         "image": "PA and lateral views of the chest, XXXX, XXXX XXXX XXXX",
         "indication": ",786.2",
         "comparison": "XXXX at XXXX",
         "findings": "The lungs appear clear. The thoracic aorta remains tortuous. The presence of an aortic aneurysm can…",
         "impression": "1. Stable tortuosity of the thoracic aorta. The presence of an underlying aneurysm cannot be exclud…",
         "filename": "3984_IM-2040-3003.dcm.png",
         "projection": "Lateral",
         "_deepnote_index_column": 7436
        },
        {
         "uid": 3985,
         "MeSH": "Calcified Granuloma/lung/lower lobe/left/anterior",
         "Problems": "Calcified Granuloma",
         "image": "Xray Chest PA and Lateral",
         "indication": "The patient is a XXXX-year-old male with kidney transplant evaluation.",
         "comparison": "None.",
         "findings": "No pneumothorax, pleural effusion or airspace consolidation. Heart size and pulmonary vasculature a…",
         "impression": "No acute cardiopulmonary abnormality. .",
         "filename": "3985_IM-2041-1001.dcm.png",
         "projection": "Frontal",
         "_deepnote_index_column": 7437
        },
        {
         "uid": 3985,
         "MeSH": "Calcified Granuloma/lung/lower lobe/left/anterior",
         "Problems": "Calcified Granuloma",
         "image": "Xray Chest PA and Lateral",
         "indication": "The patient is a XXXX-year-old male with kidney transplant evaluation.",
         "comparison": "None.",
         "findings": "No pneumothorax, pleural effusion or airspace consolidation. Heart size and pulmonary vasculature a…",
         "impression": "No acute cardiopulmonary abnormality. .",
         "filename": "3985_IM-2041-2001.dcm.png",
         "projection": "Lateral",
         "_deepnote_index_column": 7438
        },
        {
         "uid": 3986,
         "MeSH": "normal",
         "Problems": "normal",
         "image": "Frontal and Lateral view of the chest on XXXX, XXXX at 146 hours.",
         "indication": "Anxiety and difficulty breathing",
         "comparison": "None available.",
         "findings": "The cardiomediastinal silhouette and vasculature are within normal limits for size and contour. The…",
         "impression": "1. No acute radiographic cardiopulmonary process.",
         "filename": "3986_IM-2041-1001.dcm.png",
         "projection": "Frontal",
         "_deepnote_index_column": 7439
        },
        {
         "uid": 3986,
         "MeSH": "normal",
         "Problems": "normal",
         "image": "Frontal and Lateral view of the chest on XXXX, XXXX at 146 hours.",
         "indication": "Anxiety and difficulty breathing",
         "comparison": "None available.",
         "findings": "The cardiomediastinal silhouette and vasculature are within normal limits for size and contour. The…",
         "impression": "1. No acute radiographic cardiopulmonary process.",
         "filename": "3986_IM-2041-3001.dcm.png",
         "projection": "Frontal",
         "_deepnote_index_column": 7440
        },
        {
         "uid": 3986,
         "MeSH": "normal",
         "Problems": "normal",
         "image": "Frontal and Lateral view of the chest on XXXX, XXXX at 146 hours.",
         "indication": "Anxiety and difficulty breathing",
         "comparison": "None available.",
         "findings": "The cardiomediastinal silhouette and vasculature are within normal limits for size and contour. The…",
         "impression": "1. No acute radiographic cardiopulmonary process.",
         "filename": "3986_IM-2041-2001.dcm.png",
         "projection": "Lateral",
         "_deepnote_index_column": 7441
        },
        {
         "uid": 3987,
         "MeSH": "Thoracic Vertebrae/scattered/degenerative;Osteophyte/thoracic vertebrae/multiple",
         "Problems": "Thoracic Vertebrae;Osteophyte",
         "image": "PA and lateral chest x-XXXX XXXX at XXXX hours. ",
         "indication": "XXXX-year-old woman with back pain",
         "comparison": "Chest radiograph on XXXX",
         "findings": "No acute osseous abnormality. Stable scattered endplate degenerative changes and osteophyte formati…",
         "impression": "1. No acute radiographic cardiopulmonary or osseous process.",
         "filename": "3987_IM-2041-1001.dcm.png",
         "projection": "Frontal",
         "_deepnote_index_column": 7442
        },
        {
         "uid": 3987,
         "MeSH": "Thoracic Vertebrae/scattered/degenerative;Osteophyte/thoracic vertebrae/multiple",
         "Problems": "Thoracic Vertebrae;Osteophyte",
         "image": "PA and lateral chest x-XXXX XXXX at XXXX hours. ",
         "indication": "XXXX-year-old woman with back pain",
         "comparison": "Chest radiograph on XXXX",
         "findings": "No acute osseous abnormality. Stable scattered endplate degenerative changes and osteophyte formati…",
         "impression": "1. No acute radiographic cardiopulmonary or osseous process.",
         "filename": "3987_IM-2041-2001.dcm.png",
         "projection": "Lateral",
         "_deepnote_index_column": 7443
        },
        {
         "uid": 3988,
         "MeSH": "Opacity/lung/lingula/streaky;Opacity/lung/base/left/streaky;Diaphragm/left/elevated;Calcified Granu…",
         "Problems": "Opacity;Opacity;Diaphragm;Calcified Granuloma",
         "image": "PA and lateral chest radiograph (2 views) (2 images) ",
         "indication": "XXXX, rib pain.",
         "comparison": "None.",
         "findings": "No acute osseous abnormalities. Left midlung, and basilar streaky opacity. There is elevation of th…",
         "impression": "No acute osseous abnormalities. If continued clinical concern for rib fracture dedicated rib films …",
         "filename": "3988_IM-2041-1001.dcm.png",
         "projection": "Frontal",
         "_deepnote_index_column": 7444
        },
        {
         "uid": 3988,
         "MeSH": "Opacity/lung/lingula/streaky;Opacity/lung/base/left/streaky;Diaphragm/left/elevated;Calcified Granu…",
         "Problems": "Opacity;Opacity;Diaphragm;Calcified Granuloma",
         "image": "PA and lateral chest radiograph (2 views) (2 images) ",
         "indication": "XXXX, rib pain.",
         "comparison": "None.",
         "findings": "No acute osseous abnormalities. Left midlung, and basilar streaky opacity. There is elevation of th…",
         "impression": "No acute osseous abnormalities. If continued clinical concern for rib fracture dedicated rib films …",
         "filename": "3988_IM-2041-2001.dcm.png",
         "projection": "Lateral",
         "_deepnote_index_column": 7445
        },
        {
         "uid": 3989,
         "MeSH": "Diaphragmatic Eventration/right",
         "Problems": "Diaphragmatic Eventration",
         "image": "Xray Chest PA and Lateral",
         "indication": "XXXX-year-old male, pain",
         "comparison": "None",
         "findings": "Heart size within normal limits. Right hemidiaphragm eventration noted. No focal alveolar consolida…",
         "impression": "No acute cardiopulmonary findings",
         "filename": "3989_IM-2042-1001.dcm.png",
         "projection": "Frontal",
         "_deepnote_index_column": 7446
        },
        {
         "uid": 3989,
         "MeSH": "Diaphragmatic Eventration/right",
         "Problems": "Diaphragmatic Eventration",
         "image": "Xray Chest PA and Lateral",
         "indication": "XXXX-year-old male, pain",
         "comparison": "None",
         "findings": "Heart size within normal limits. Right hemidiaphragm eventration noted. No focal alveolar consolida…",
         "impression": "No acute cardiopulmonary findings",
         "filename": "3989_IM-2042-2001.dcm.png",
         "projection": "Lateral",
         "_deepnote_index_column": 7447
        },
        {
         "uid": 3991,
         "MeSH": "Spondylosis/thoracic vertebrae",
         "Problems": "Spondylosis",
         "image": "Xray Chest PA and Lateral",
         "indication": "Preop bariatric surgery",
         "comparison": "None.",
         "findings": "The cardiac contours are normal. The lungs are clear. Thoracic spondylosis.",
         "impression": "No acute preoperative findings.",
         "filename": "3991_IM-2044-1001.dcm.png",
         "projection": "Frontal",
         "_deepnote_index_column": 7448
        },
        {
         "uid": 3991,
         "MeSH": "Spondylosis/thoracic vertebrae",
         "Problems": "Spondylosis",
         "image": "Xray Chest PA and Lateral",
         "indication": "Preop bariatric surgery",
         "comparison": "None.",
         "findings": "The cardiac contours are normal. The lungs are clear. Thoracic spondylosis.",
         "impression": "No acute preoperative findings.",
         "filename": "3991_IM-2044-2001.dcm.png",
         "projection": "Lateral",
         "_deepnote_index_column": 7449
        },
        {
         "uid": 3992,
         "MeSH": "Pulmonary Congestion",
         "Problems": "Pulmonary Congestion",
         "image": "Xray Chest PA and Lateral",
         "indication": "XXXX.",
         "comparison": "XXXX, XXXX",
         "findings": "nan",
         "impression": "Prior sternotomy. Midline sternotomy XXXX. Normal heart size. Vascular congestion. No overt edema o…",
         "filename": "3992_IM-2044-1001.dcm.png",
         "projection": "Frontal",
         "_deepnote_index_column": 7450
        },
        {
         "uid": 3992,
         "MeSH": "Pulmonary Congestion",
         "Problems": "Pulmonary Congestion",
         "image": "Xray Chest PA and Lateral",
         "indication": "XXXX.",
         "comparison": "XXXX, XXXX",
         "findings": "nan",
         "impression": "Prior sternotomy. Midline sternotomy XXXX. Normal heart size. Vascular congestion. No overt edema o…",
         "filename": "3992_IM-2044-2001.dcm.png",
         "projection": "Lateral",
         "_deepnote_index_column": 7451
        },
        {
         "uid": 3993,
         "MeSH": "Cardiomegaly/mild;Diaphragm/left/elevated",
         "Problems": "Cardiomegaly;Diaphragm",
         "image": "CHEST 2V FRONTAL/LATERAL ",
         "indication": "Edema",
         "comparison": "None",
         "findings": "The heart is mildly enlarged. Left hemidiaphragm is elevated. There is no acute infiltrate or pleur…",
         "impression": "Borderline cardiomegaly without acute disease.",
         "filename": "3993_IM-2044-1001.dcm.png",
         "projection": "Frontal",
         "_deepnote_index_column": 7452
        },
        {
         "uid": 3993,
         "MeSH": "Cardiomegaly/mild;Diaphragm/left/elevated",
         "Problems": "Cardiomegaly;Diaphragm",
         "image": "CHEST 2V FRONTAL/LATERAL ",
         "indication": "Edema",
         "comparison": "None",
         "findings": "The heart is mildly enlarged. Left hemidiaphragm is elevated. There is no acute infiltrate or pleur…",
         "impression": "Borderline cardiomegaly without acute disease.",
         "filename": "3993_IM-2044-1002.dcm.png",
         "projection": "Lateral",
         "_deepnote_index_column": 7453
        },
        {
         "uid": 3994,
         "MeSH": "Cardiomegaly/mild;Pulmonary Congestion;Heart Failure/mild",
         "Problems": "Cardiomegaly;Pulmonary Congestion;Heart Failure",
         "image": "2 view ( PA and lateral) chest radiograph dated XXXX, XXXX ",
         "indication": "XXXX-year-old male with chest pain, positive troponin",
         "comparison": "Portable chest x-XXXX XXXX, XXXX",
         "findings": "Similar mild cardiomegaly. Of the pulmonary vascularity is prominent. No focal consolidations or ef…",
         "impression": "Mild cardiomegaly with XXXX of early failure.",
         "filename": "3994_IM-2045-2001.dcm.png",
         "projection": "Frontal",
         "_deepnote_index_column": 7454
        },
        {
         "uid": 3994,
         "MeSH": "Cardiomegaly/mild;Pulmonary Congestion;Heart Failure/mild",
         "Problems": "Cardiomegaly;Pulmonary Congestion;Heart Failure",
         "image": "2 view ( PA and lateral) chest radiograph dated XXXX, XXXX ",
         "indication": "XXXX-year-old male with chest pain, positive troponin",
         "comparison": "Portable chest x-XXXX XXXX, XXXX",
         "findings": "Similar mild cardiomegaly. Of the pulmonary vascularity is prominent. No focal consolidations or ef…",
         "impression": "Mild cardiomegaly with XXXX of early failure.",
         "filename": "3994_IM-2045-1001.dcm.png",
         "projection": "Lateral",
         "_deepnote_index_column": 7455
        },
        {
         "uid": 3995,
         "MeSH": "Lung/hyperdistention/mild;Diaphragm/bilateral/flattened;Cicatrix/lung/middle lobe/right/mild;Pulmon…",
         "Problems": "Lung;Diaphragm;Cicatrix;Pulmonary Atelectasis;Pulmonary Emphysema",
         "image": "Xray Chest PA and Lateral",
         "indication": "Nausea, vomiting x2 weeks. Dialysis patient.",
         "comparison": "XXXX, XXXX.",
         "findings": "The cardiomediastinal silhouette and pulmonary vasculature are within normal limits in size. The lu…",
         "impression": "1. Interval resolution of bibasilar airspace disease. 2. Hyperinflation with chronic changes of emp…",
         "filename": "3995_IM-2046-1001.dcm.png",
         "projection": "Frontal",
         "_deepnote_index_column": 7456
        },
        {
         "uid": 3995,
         "MeSH": "Lung/hyperdistention/mild;Diaphragm/bilateral/flattened;Cicatrix/lung/middle lobe/right/mild;Pulmon…",
         "Problems": "Lung;Diaphragm;Cicatrix;Pulmonary Atelectasis;Pulmonary Emphysema",
         "image": "Xray Chest PA and Lateral",
         "indication": "Nausea, vomiting x2 weeks. Dialysis patient.",
         "comparison": "XXXX, XXXX.",
         "findings": "The cardiomediastinal silhouette and pulmonary vasculature are within normal limits in size. The lu…",
         "impression": "1. Interval resolution of bibasilar airspace disease. 2. Hyperinflation with chronic changes of emp…",
         "filename": "3995_IM-2046-2001.dcm.png",
         "projection": "Lateral",
         "_deepnote_index_column": 7457
        },
        {
         "uid": 3996,
         "MeSH": "Spine/degenerative",
         "Problems": "Spine",
         "image": "Xray Chest PA and Lateral",
         "indication": "nan",
         "comparison": "None.",
         "findings": "The lungs are clear. Heart size is normal. No pneumothorax. There are endplate changes in the spine.",
         "impression": "Clear lungs. No acute cardiopulmonary abnormality. .",
         "filename": "3996_IM-2047-1001.dcm.png",
         "projection": "Frontal",
         "_deepnote_index_column": 7458
        },
        {
         "uid": 3996,
         "MeSH": "Spine/degenerative",
         "Problems": "Spine",
         "image": "Xray Chest PA and Lateral",
         "indication": "nan",
         "comparison": "None.",
         "findings": "The lungs are clear. Heart size is normal. No pneumothorax. There are endplate changes in the spine.",
         "impression": "Clear lungs. No acute cardiopulmonary abnormality. .",
         "filename": "3996_IM-2047-3001.dcm.png",
         "projection": "Lateral",
         "_deepnote_index_column": 7459
        },
        {
         "uid": 3997,
         "MeSH": "Opacity/lung/upper lobe/right/round/small;Granuloma/lung/upper lobe/right/round/small",
         "Problems": "Opacity;Granuloma",
         "image": "PA and lateral views of the chest. ",
         "indication": "XXXX-year-old male with positive PPD.",
         "comparison": "None available.",
         "findings": "Heart size within normal limits. Small, nodular opacity in the right upper lobe. This does not look…",
         "impression": "No acute findings, no evidence for active TB.",
         "filename": "3997_IM-2048-1001.dcm.png",
         "projection": "Frontal",
         "_deepnote_index_column": 7460
        },
        {
         "uid": 3997,
         "MeSH": "Opacity/lung/upper lobe/right/round/small;Granuloma/lung/upper lobe/right/round/small",
         "Problems": "Opacity;Granuloma",
         "image": "PA and lateral views of the chest. ",
         "indication": "XXXX-year-old male with positive PPD.",
         "comparison": "None available.",
         "findings": "Heart size within normal limits. Small, nodular opacity in the right upper lobe. This does not look…",
         "impression": "No acute findings, no evidence for active TB.",
         "filename": "3997_IM-2048-1002.dcm.png",
         "projection": "Lateral",
         "_deepnote_index_column": 7461
        },
        {
         "uid": 3998,
         "MeSH": "normal",
         "Problems": "normal",
         "image": " PA and lateral chest XXXX, XXXX XXXX comparison from XXXX XXXX ",
         "indication": "tuberculosis positive PPD",
         "comparison": "nan",
         "findings": "nan",
         "impression": "Heart size is normal and the lungs are clear.",
         "filename": "3998_IM-2048-1001.dcm.png",
         "projection": "Frontal",
         "_deepnote_index_column": 7462
        },
        {
         "uid": 3998,
         "MeSH": "normal",
         "Problems": "normal",
         "image": " PA and lateral chest XXXX, XXXX XXXX comparison from XXXX XXXX ",
         "indication": "tuberculosis positive PPD",
         "comparison": "nan",
         "findings": "nan",
         "impression": "Heart size is normal and the lungs are clear.",
         "filename": "3998_IM-2048-1002.dcm.png",
         "projection": "Lateral",
         "_deepnote_index_column": 7463
        },
        {
         "uid": 3999,
         "MeSH": "normal",
         "Problems": "normal",
         "image": "CHEST PA and LATERAL: on XXXX, XXXX. ",
         "indication": "This is a XXXX-year-old female patient with shortness of breath.",
         "comparison": "Chest x-XXXX, XXXX, XXXX.",
         "findings": "nan",
         "impression": "The cardiac silhouette is normal in size and configuration. The mediastinum and perihilar structure…",
         "filename": "3999_IM-2049-1001.dcm.png",
         "projection": "Frontal",
         "_deepnote_index_column": 7464
        },
        {
         "uid": 3999,
         "MeSH": "normal",
         "Problems": "normal",
         "image": "CHEST PA and LATERAL: on XXXX, XXXX. ",
         "indication": "This is a XXXX-year-old female patient with shortness of breath.",
         "comparison": "Chest x-XXXX, XXXX, XXXX.",
         "findings": "nan",
         "impression": "The cardiac silhouette is normal in size and configuration. The mediastinum and perihilar structure…",
         "filename": "3999_IM-2049-2001.dcm.png",
         "projection": "Lateral",
         "_deepnote_index_column": 7465
        }
       ]
      },
      "text/plain": "       uid                                               MeSH  \\\n0        1                                             normal   \n1        1                                             normal   \n2        2  Cardiomegaly/borderline;Pulmonary Artery/enlarged   \n3        2  Cardiomegaly/borderline;Pulmonary Artery/enlarged   \n4        3                                             normal   \n...    ...                                                ...   \n7461  3997  Opacity/lung/upper lobe/right/round/small;Gran...   \n7462  3998                                             normal   \n7463  3998                                             normal   \n7464  3999                                             normal   \n7465  3999                                             normal   \n\n                           Problems  \\\n0                            normal   \n1                            normal   \n2     Cardiomegaly;Pulmonary Artery   \n3     Cardiomegaly;Pulmonary Artery   \n4                            normal   \n...                             ...   \n7461              Opacity;Granuloma   \n7462                         normal   \n7463                         normal   \n7464                         normal   \n7465                         normal   \n\n                                                  image  \\\n0                             Xray Chest PA and Lateral   \n1                             Xray Chest PA and Lateral   \n2                   Chest, 2 views, frontal and lateral   \n3                   Chest, 2 views, frontal and lateral   \n4                             Xray Chest PA and Lateral   \n...                                                 ...   \n7461                PA and lateral views of the chest.    \n7462   PA and lateral chest XXXX, XXXX XXXX comparis...   \n7463   PA and lateral chest XXXX, XXXX XXXX comparis...   \n7464              CHEST PA and LATERAL: on XXXX, XXXX.    \n7465              CHEST PA and LATERAL: on XXXX, XXXX.    \n\n                                             indication  \\\n0                                      Positive TB test   \n1                                      Positive TB test   \n2                              Preop bariatric surgery.   \n3                              Preop bariatric surgery.   \n4     rib pain after a XXXX, XXXX XXXX steps this XX...   \n...                                                 ...   \n7461              XXXX-year-old male with positive PPD.   \n7462                          tuberculosis positive PPD   \n7463                          tuberculosis positive PPD   \n7464  This is a XXXX-year-old female patient with sh...   \n7465  This is a XXXX-year-old female patient with sh...   \n\n                     comparison  \\\n0                         None.   \n1                         None.   \n2                         None.   \n3                         None.   \n4                           NaN   \n...                         ...   \n7461            None available.   \n7462                        NaN   \n7463                        NaN   \n7464  Chest x-XXXX, XXXX, XXXX.   \n7465  Chest x-XXXX, XXXX, XXXX.   \n\n                                               findings  \\\n0     The cardiac silhouette and mediastinum size ar...   \n1     The cardiac silhouette and mediastinum size ar...   \n2     Borderline cardiomegaly. Midline sternotomy XX...   \n3     Borderline cardiomegaly. Midline sternotomy XX...   \n4                                                   NaN   \n...                                                 ...   \n7461  Heart size within normal limits. Small, nodula...   \n7462                                                NaN   \n7463                                                NaN   \n7464                                                NaN   \n7465                                                NaN   \n\n                                             impression  \\\n0                                  Normal chest x-XXXX.   \n1                                  Normal chest x-XXXX.   \n2                          No acute pulmonary findings.   \n3                          No acute pulmonary findings.   \n4     No displaced rib fractures, pneumothorax, or p...   \n...                                                 ...   \n7461      No acute findings, no evidence for active TB.   \n7462      Heart size is normal and the lungs are clear.   \n7463      Heart size is normal and the lungs are clear.   \n7464  The cardiac silhouette is normal in size and c...   \n7465  The cardiac silhouette is normal in size and c...   \n\n                       filename projection  \n0        1_IM-0001-4001.dcm.png    Frontal  \n1        1_IM-0001-3001.dcm.png    Lateral  \n2        2_IM-0652-1001.dcm.png    Frontal  \n3        2_IM-0652-2001.dcm.png    Lateral  \n4        3_IM-1384-1001.dcm.png    Frontal  \n...                         ...        ...  \n7461  3997_IM-2048-1002.dcm.png    Lateral  \n7462  3998_IM-2048-1001.dcm.png    Frontal  \n7463  3998_IM-2048-1002.dcm.png    Lateral  \n7464  3999_IM-2049-1001.dcm.png    Frontal  \n7465  3999_IM-2049-2001.dcm.png    Lateral  \n\n[7466 rows x 10 columns]",
      "text/html": "<div>\n<style scoped>\n    .dataframe tbody tr th:only-of-type {\n        vertical-align: middle;\n    }\n\n    .dataframe tbody tr th {\n        vertical-align: top;\n    }\n\n    .dataframe thead th {\n        text-align: right;\n    }\n</style>\n<table border=\"1\" class=\"dataframe\">\n  <thead>\n    <tr style=\"text-align: right;\">\n      <th></th>\n      <th>uid</th>\n      <th>MeSH</th>\n      <th>Problems</th>\n      <th>image</th>\n      <th>indication</th>\n      <th>comparison</th>\n      <th>findings</th>\n      <th>impression</th>\n      <th>filename</th>\n      <th>projection</th>\n    </tr>\n  </thead>\n  <tbody>\n    <tr>\n      <th>0</th>\n      <td>1</td>\n      <td>normal</td>\n      <td>normal</td>\n      <td>Xray Chest PA and Lateral</td>\n      <td>Positive TB test</td>\n      <td>None.</td>\n      <td>The cardiac silhouette and mediastinum size ar...</td>\n      <td>Normal chest x-XXXX.</td>\n      <td>1_IM-0001-4001.dcm.png</td>\n      <td>Frontal</td>\n    </tr>\n    <tr>\n      <th>1</th>\n      <td>1</td>\n      <td>normal</td>\n      <td>normal</td>\n      <td>Xray Chest PA and Lateral</td>\n      <td>Positive TB test</td>\n      <td>None.</td>\n      <td>The cardiac silhouette and mediastinum size ar...</td>\n      <td>Normal chest x-XXXX.</td>\n      <td>1_IM-0001-3001.dcm.png</td>\n      <td>Lateral</td>\n    </tr>\n    <tr>\n      <th>2</th>\n      <td>2</td>\n      <td>Cardiomegaly/borderline;Pulmonary Artery/enlarged</td>\n      <td>Cardiomegaly;Pulmonary Artery</td>\n      <td>Chest, 2 views, frontal and lateral</td>\n      <td>Preop bariatric surgery.</td>\n      <td>None.</td>\n      <td>Borderline cardiomegaly. Midline sternotomy XX...</td>\n      <td>No acute pulmonary findings.</td>\n      <td>2_IM-0652-1001.dcm.png</td>\n      <td>Frontal</td>\n    </tr>\n    <tr>\n      <th>3</th>\n      <td>2</td>\n      <td>Cardiomegaly/borderline;Pulmonary Artery/enlarged</td>\n      <td>Cardiomegaly;Pulmonary Artery</td>\n      <td>Chest, 2 views, frontal and lateral</td>\n      <td>Preop bariatric surgery.</td>\n      <td>None.</td>\n      <td>Borderline cardiomegaly. Midline sternotomy XX...</td>\n      <td>No acute pulmonary findings.</td>\n      <td>2_IM-0652-2001.dcm.png</td>\n      <td>Lateral</td>\n    </tr>\n    <tr>\n      <th>4</th>\n      <td>3</td>\n      <td>normal</td>\n      <td>normal</td>\n      <td>Xray Chest PA and Lateral</td>\n      <td>rib pain after a XXXX, XXXX XXXX steps this XX...</td>\n      <td>NaN</td>\n      <td>NaN</td>\n      <td>No displaced rib fractures, pneumothorax, or p...</td>\n      <td>3_IM-1384-1001.dcm.png</td>\n      <td>Frontal</td>\n    </tr>\n    <tr>\n      <th>...</th>\n      <td>...</td>\n      <td>...</td>\n      <td>...</td>\n      <td>...</td>\n      <td>...</td>\n      <td>...</td>\n      <td>...</td>\n      <td>...</td>\n      <td>...</td>\n      <td>...</td>\n    </tr>\n    <tr>\n      <th>7461</th>\n      <td>3997</td>\n      <td>Opacity/lung/upper lobe/right/round/small;Gran...</td>\n      <td>Opacity;Granuloma</td>\n      <td>PA and lateral views of the chest.</td>\n      <td>XXXX-year-old male with positive PPD.</td>\n      <td>None available.</td>\n      <td>Heart size within normal limits. Small, nodula...</td>\n      <td>No acute findings, no evidence for active TB.</td>\n      <td>3997_IM-2048-1002.dcm.png</td>\n      <td>Lateral</td>\n    </tr>\n    <tr>\n      <th>7462</th>\n      <td>3998</td>\n      <td>normal</td>\n      <td>normal</td>\n      <td>PA and lateral chest XXXX, XXXX XXXX comparis...</td>\n      <td>tuberculosis positive PPD</td>\n      <td>NaN</td>\n      <td>NaN</td>\n      <td>Heart size is normal and the lungs are clear.</td>\n      <td>3998_IM-2048-1001.dcm.png</td>\n      <td>Frontal</td>\n    </tr>\n    <tr>\n      <th>7463</th>\n      <td>3998</td>\n      <td>normal</td>\n      <td>normal</td>\n      <td>PA and lateral chest XXXX, XXXX XXXX comparis...</td>\n      <td>tuberculosis positive PPD</td>\n      <td>NaN</td>\n      <td>NaN</td>\n      <td>Heart size is normal and the lungs are clear.</td>\n      <td>3998_IM-2048-1002.dcm.png</td>\n      <td>Lateral</td>\n    </tr>\n    <tr>\n      <th>7464</th>\n      <td>3999</td>\n      <td>normal</td>\n      <td>normal</td>\n      <td>CHEST PA and LATERAL: on XXXX, XXXX.</td>\n      <td>This is a XXXX-year-old female patient with sh...</td>\n      <td>Chest x-XXXX, XXXX, XXXX.</td>\n      <td>NaN</td>\n      <td>The cardiac silhouette is normal in size and c...</td>\n      <td>3999_IM-2049-1001.dcm.png</td>\n      <td>Frontal</td>\n    </tr>\n    <tr>\n      <th>7465</th>\n      <td>3999</td>\n      <td>normal</td>\n      <td>normal</td>\n      <td>CHEST PA and LATERAL: on XXXX, XXXX.</td>\n      <td>This is a XXXX-year-old female patient with sh...</td>\n      <td>Chest x-XXXX, XXXX, XXXX.</td>\n      <td>NaN</td>\n      <td>The cardiac silhouette is normal in size and c...</td>\n      <td>3999_IM-2049-2001.dcm.png</td>\n      <td>Lateral</td>\n    </tr>\n  </tbody>\n</table>\n<p>7466 rows × 10 columns</p>\n</div>"
     },
     "metadata": {}
    }
   ]
  },
  {
   "cell_type": "code",
   "metadata": {
    "tags": [],
    "cell_id": "00008-0979240d-8aa9-4033-81cb-0f6d27332592",
    "deepnote_to_be_reexecuted": false,
    "source_hash": "6ff85c98",
    "execution_start": 1637593019297,
    "execution_millis": 4,
    "deepnote_output_heights": [
     97
    ],
    "deepnote_cell_type": "code"
   },
   "source": "images_file_names[0:5]",
   "execution_count": 6,
   "outputs": [
    {
     "output_type": "execute_result",
     "execution_count": 6,
     "data": {
      "text/plain": "['/datasets/gdrive/XRay-AKAKI/images_normalized/596_IM-2188-25001.dcm.png',\n '/datasets/gdrive/XRay-AKAKI/images_normalized/680_IM-2251-1001.dcm.png',\n '/datasets/gdrive/XRay-AKAKI/images_normalized/932_IM-2430-2001.dcm.png',\n '/datasets/gdrive/XRay-AKAKI/images_normalized/3523_IM-1721-1002.dcm.png',\n '/datasets/gdrive/XRay-AKAKI/images_normalized/3022_IM-1397-2001.dcm.png']"
     },
     "metadata": {}
    }
   ]
  },
  {
   "cell_type": "code",
   "metadata": {
    "tags": [],
    "cell_id": "00009-eb294b1f-5049-4312-a809-97a3b834825a",
    "deepnote_to_be_reexecuted": false,
    "source_hash": "26917b47",
    "execution_start": 1637593028591,
    "execution_millis": 13,
    "deepnote_output_heights": [
     78
    ],
    "deepnote_cell_type": "code"
   },
   "source": "# see distinct values in image column\ndata['image'].unique()[:5]",
   "execution_count": 7,
   "outputs": [
    {
     "output_type": "execute_result",
     "execution_count": 7,
     "data": {
      "text/plain": "array(['Xray Chest PA and Lateral', 'Chest, 2 views, frontal and lateral',\n       'PA and lateral views of the chest XXXX, XXXX at XXXX hours ',\n       'PA and Lateral Chest. XXXX, XXXX at XXXX ',\n       'PA and lateral chest x-XXXX XXXX. '], dtype=object)"
     },
     "metadata": {}
    }
   ]
  },
  {
   "cell_type": "code",
   "metadata": {
    "tags": [],
    "cell_id": "00010-37e6f912-fa6b-4ac1-95b8-8552194df63a",
    "deepnote_to_be_reexecuted": false,
    "source_hash": "c477e815",
    "execution_start": 1637593045011,
    "execution_millis": 4,
    "deepnote_output_heights": [
     40
    ],
    "deepnote_cell_type": "code"
   },
   "source": "# see distinct values in comparison column\ndata['comparison'].unique()[:5]",
   "execution_count": 8,
   "outputs": [
    {
     "output_type": "execute_result",
     "execution_count": 8,
     "data": {
      "text/plain": "array(['None.', nan, 'None available', 'XXXX, XXXX',\n       'Two views of the chest dated XXXX.'], dtype=object)"
     },
     "metadata": {}
    }
   ]
  },
  {
   "cell_type": "code",
   "metadata": {
    "tags": [],
    "cell_id": "00011-12dc0006-1737-46de-b202-080218835ef2",
    "deepnote_to_be_reexecuted": false,
    "source_hash": "5a188089",
    "execution_start": 1637593058298,
    "execution_millis": 3,
    "deepnote_output_heights": [
     78
    ],
    "deepnote_cell_type": "code"
   },
   "source": "# see distinct values in impression column\ndata['impression'].unique()[:5]",
   "execution_count": 10,
   "outputs": [
    {
     "output_type": "execute_result",
     "execution_count": 10,
     "data": {
      "text/plain": "array(['Normal chest x-XXXX.', 'No acute pulmonary findings.',\n       'No displaced rib fractures, pneumothorax, or pleural effusion identified. Well-expanded and clear lungs. Mediastinal contour within normal limits. No acute cardiopulmonary abnormality identified.',\n       '1. Bullous emphysema and interstitial fibrosis. 2. Probably scarring in the left apex, although difficult to exclude a cavitary lesion. 3. Opacities in the bilateral upper lobes could represent scarring, however the absence of comparison exam, recommend short interval followup radiograph or CT thorax to document resolution.',\n       'No acute cardiopulmonary abnormality.'], dtype=object)"
     },
     "metadata": {}
    }
   ]
  },
  {
   "cell_type": "markdown",
   "source": "By examining the unique values in the columns above, it helped us gather more of an understanding of what they are. These descriptions of the columns are stored in the reference.txt file.",
   "metadata": {
    "tags": [],
    "cell_id": "00014-75de6e00-ab10-4070-98fa-eacc5acda179",
    "deepnote_cell_type": "markdown"
   }
  },
  {
   "cell_type": "markdown",
   "source": "---",
   "metadata": {
    "tags": [],
    "cell_id": "00003-e30ba3c3-0e03-455b-974b-9af7f3cd0ca6",
    "deepnote_cell_type": "markdown"
   }
  },
  {
   "cell_type": "markdown",
   "source": "## 4. Data Cleaning & Pre-Processing",
   "metadata": {
    "tags": [],
    "cell_id": "00003-18344973-f1a7-486e-b2b5-efa20d9dff5a",
    "deepnote_cell_type": "markdown"
   }
  },
  {
   "cell_type": "markdown",
   "source": "### a. Drop unimportant rows and columns\nDrop rows with `NaNs` on both findings and impressions as these will be difficult to train and predict captions for",
   "metadata": {
    "tags": [],
    "cell_id": "00017-c2a44b04-555b-4a3a-9970-ad147be49058",
    "deepnote_cell_type": "markdown"
   }
  },
  {
   "cell_type": "code",
   "source": "#Drop unnecessary columns – image and comparison\n#projection already tells us what type of image – so image unncessary\ndata_dropped_cols = data.drop(columns=['image','comparison','indication'])\n\n#Drop rows with NaNs on both findings and impressions\ndata_dropped_nans = data_dropped_cols.dropna(subset=['findings','impression'], how='all')",
   "metadata": {
    "tags": [],
    "cell_id": "00018-67246a17-7ccb-40f2-8db0-3482f31d0cfe",
    "deepnote_cell_type": "code"
   },
   "outputs": [],
   "execution_count": null
  },
  {
   "cell_type": "markdown",
   "source": "### b. Fuse the findings and impression columns to get richer outcome variable `caption`",
   "metadata": {
    "tags": [],
    "cell_id": "00020-fece49df-930f-43ce-8f1c-2c59d1fa6dd8",
    "deepnote_cell_type": "markdown"
   },
   "outputs": [],
   "execution_count": null
  },
  {
   "cell_type": "code",
   "metadata": {
    "tags": [],
    "cell_id": "00017-f5b506e2-541b-44ae-a95b-3480783b07b2",
    "deepnote_to_be_reexecuted": false,
    "source_hash": "eddbd785",
    "execution_start": 1637514009306,
    "execution_millis": 856,
    "deepnote_cell_type": "code"
   },
   "source": "#Append the impression to findings to make new caption column\ndata_dropped_nans['caption'] = data_dropped_nans[['findings','impression']].astype('str').agg(' '.join, axis=1)\n\nprint(f\"Dropped {len(data)-len(data_dropped_nans)} rows from {len(data)} rows. New row count: {len(data_dropped_nans)}\")",
   "execution_count": null,
   "outputs": [
    {
     "name": "stdout",
     "text": "Dropped 40 rows from 7466 rows. New row count: 7426\n/shared-libs/python3.7/py-core/lib/python3.7/site-packages/ipykernel_launcher.py:9: SettingWithCopyWarning: \nA value is trying to be set on a copy of a slice from a DataFrame.\nTry using .loc[row_indexer,col_indexer] = value instead\n\nSee the caveats in the documentation: https://pandas.pydata.org/pandas-docs/stable/user_guide/indexing.html#returning-a-view-versus-a-copy\n  if __name__ == '__main__':\n",
     "output_type": "stream"
    }
   ]
  },
  {
   "cell_type": "code",
   "metadata": {
    "tags": [],
    "cell_id": "00020-82899d5b-5815-4cab-b91d-0786a3ca8960",
    "deepnote_to_be_reexecuted": false,
    "source_hash": "db57a531",
    "execution_start": 1637514010182,
    "execution_millis": 14,
    "deepnote_cell_type": "code"
   },
   "source": "data_dropped_nans.head()",
   "execution_count": null,
   "outputs": [
    {
     "output_type": "execute_result",
     "execution_count": 14,
     "data": {
      "application/vnd.deepnote.dataframe.v2+json": {
       "row_count": 5,
       "column_count": 8,
       "columns": [
        {
         "name": "uid",
         "dtype": "int64",
         "stats": {
          "unique_count": 3,
          "nan_count": 0,
          "min": "1",
          "max": "3",
          "histogram": [
           {
            "bin_start": 1,
            "bin_end": 1.2,
            "count": 2
           },
           {
            "bin_start": 1.2,
            "bin_end": 1.4,
            "count": 0
           },
           {
            "bin_start": 1.4,
            "bin_end": 1.6,
            "count": 0
           },
           {
            "bin_start": 1.6,
            "bin_end": 1.8,
            "count": 0
           },
           {
            "bin_start": 1.8,
            "bin_end": 2,
            "count": 0
           },
           {
            "bin_start": 2,
            "bin_end": 2.2,
            "count": 2
           },
           {
            "bin_start": 2.2,
            "bin_end": 2.4000000000000004,
            "count": 0
           },
           {
            "bin_start": 2.4000000000000004,
            "bin_end": 2.6,
            "count": 0
           },
           {
            "bin_start": 2.6,
            "bin_end": 2.8,
            "count": 0
           },
           {
            "bin_start": 2.8,
            "bin_end": 3,
            "count": 1
           }
          ]
         }
        },
        {
         "name": "MeSH",
         "dtype": "object",
         "stats": {
          "unique_count": 2,
          "nan_count": 0,
          "categories": [
           {
            "name": "normal",
            "count": 3
           },
           {
            "name": "Cardiomegaly/borderline;Pulmonary Artery/enlarged",
            "count": 2
           }
          ]
         }
        },
        {
         "name": "Problems",
         "dtype": "object",
         "stats": {
          "unique_count": 2,
          "nan_count": 0,
          "categories": [
           {
            "name": "normal",
            "count": 3
           },
           {
            "name": "Cardiomegaly;Pulmonary Artery",
            "count": 2
           }
          ]
         }
        },
        {
         "name": "findings",
         "dtype": "object",
         "stats": {
          "unique_count": 2,
          "nan_count": 1,
          "categories": [
           {
            "name": "The cardiac silhouette and mediastinum size are within normal limits. There is no pulmonary edema. There is no focal consolidation. There are no XXXX of a pleural effusion. There is no evidence of pneumothorax.",
            "count": 2
           },
           {
            "name": "Borderline cardiomegaly. Midline sternotomy XXXX. Enlarged pulmonary arteries. Clear lungs. Inferior XXXX XXXX XXXX.",
            "count": 2
           },
           {
            "name": "Missing",
            "count": 1
           }
          ]
         }
        },
        {
         "name": "impression",
         "dtype": "object",
         "stats": {
          "unique_count": 3,
          "nan_count": 0,
          "categories": [
           {
            "name": "Normal chest x-XXXX.",
            "count": 2
           },
           {
            "name": "No acute pulmonary findings.",
            "count": 2
           },
           {
            "name": "No displaced rib fractures, pneumothorax, or pleural effusion identified. Well-expanded and clear lungs. Mediastinal contour within normal limits. No acute cardiopulmonary abnormality identified.",
            "count": 1
           }
          ]
         }
        },
        {
         "name": "filename",
         "dtype": "object",
         "stats": {
          "unique_count": 5,
          "nan_count": 0,
          "categories": [
           {
            "name": "1_IM-0001-4001.dcm.png",
            "count": 1
           },
           {
            "name": "1_IM-0001-3001.dcm.png",
            "count": 1
           },
           {
            "name": "3 others",
            "count": 3
           }
          ]
         }
        },
        {
         "name": "projection",
         "dtype": "object",
         "stats": {
          "unique_count": 2,
          "nan_count": 0,
          "categories": [
           {
            "name": "Frontal",
            "count": 3
           },
           {
            "name": "Lateral",
            "count": 2
           }
          ]
         }
        },
        {
         "name": "caption",
         "dtype": "object",
         "stats": {
          "unique_count": 3,
          "nan_count": 0,
          "categories": [
           {
            "name": "The cardiac silhouette and mediastinum size are within normal limits. There is no pulmonary edema. There is no focal consolidation. There are no XXXX of a pleural effusion. There is no evidence of pneumothorax. Normal chest x-XXXX.",
            "count": 2
           },
           {
            "name": "Borderline cardiomegaly. Midline sternotomy XXXX. Enlarged pulmonary arteries. Clear lungs. Inferior XXXX XXXX XXXX. No acute pulmonary findings.",
            "count": 2
           },
           {
            "name": "nan No displaced rib fractures, pneumothorax, or pleural effusion identified. Well-expanded and clear lungs. Mediastinal contour within normal limits. No acute cardiopulmonary abnormality identified.",
            "count": 1
           }
          ]
         }
        },
        {
         "name": "_deepnote_index_column",
         "dtype": "int64"
        }
       ],
       "rows_top": [
        {
         "uid": 1,
         "MeSH": "normal",
         "Problems": "normal",
         "findings": "The cardiac silhouette and mediastinum size are within normal limits. There is no pulmonary edema. …",
         "impression": "Normal chest x-XXXX.",
         "filename": "1_IM-0001-4001.dcm.png",
         "projection": "Frontal",
         "caption": "The cardiac silhouette and mediastinum size are within normal limits. There is no pulmonary edema. …",
         "_deepnote_index_column": 0
        },
        {
         "uid": 1,
         "MeSH": "normal",
         "Problems": "normal",
         "findings": "The cardiac silhouette and mediastinum size are within normal limits. There is no pulmonary edema. …",
         "impression": "Normal chest x-XXXX.",
         "filename": "1_IM-0001-3001.dcm.png",
         "projection": "Lateral",
         "caption": "The cardiac silhouette and mediastinum size are within normal limits. There is no pulmonary edema. …",
         "_deepnote_index_column": 1
        },
        {
         "uid": 2,
         "MeSH": "Cardiomegaly/borderline;Pulmonary Artery/enlarged",
         "Problems": "Cardiomegaly;Pulmonary Artery",
         "findings": "Borderline cardiomegaly. Midline sternotomy XXXX. Enlarged pulmonary arteries. Clear lungs. Inferio…",
         "impression": "No acute pulmonary findings.",
         "filename": "2_IM-0652-1001.dcm.png",
         "projection": "Frontal",
         "caption": "Borderline cardiomegaly. Midline sternotomy XXXX. Enlarged pulmonary arteries. Clear lungs. Inferio…",
         "_deepnote_index_column": 2
        },
        {
         "uid": 2,
         "MeSH": "Cardiomegaly/borderline;Pulmonary Artery/enlarged",
         "Problems": "Cardiomegaly;Pulmonary Artery",
         "findings": "Borderline cardiomegaly. Midline sternotomy XXXX. Enlarged pulmonary arteries. Clear lungs. Inferio…",
         "impression": "No acute pulmonary findings.",
         "filename": "2_IM-0652-2001.dcm.png",
         "projection": "Lateral",
         "caption": "Borderline cardiomegaly. Midline sternotomy XXXX. Enlarged pulmonary arteries. Clear lungs. Inferio…",
         "_deepnote_index_column": 3
        },
        {
         "uid": 3,
         "MeSH": "normal",
         "Problems": "normal",
         "findings": "nan",
         "impression": "No displaced rib fractures, pneumothorax, or pleural effusion identified. Well-expanded and clear l…",
         "filename": "3_IM-1384-1001.dcm.png",
         "projection": "Frontal",
         "caption": "nan No displaced rib fractures, pneumothorax, or pleural effusion identified. Well-expanded and cle…",
         "_deepnote_index_column": 4
        }
       ],
       "rows_bottom": null
      },
      "text/plain": "   uid                                               MeSH  \\\n0    1                                             normal   \n1    1                                             normal   \n2    2  Cardiomegaly/borderline;Pulmonary Artery/enlarged   \n3    2  Cardiomegaly/borderline;Pulmonary Artery/enlarged   \n4    3                                             normal   \n\n                        Problems  \\\n0                         normal   \n1                         normal   \n2  Cardiomegaly;Pulmonary Artery   \n3  Cardiomegaly;Pulmonary Artery   \n4                         normal   \n\n                                            findings  \\\n0  The cardiac silhouette and mediastinum size ar...   \n1  The cardiac silhouette and mediastinum size ar...   \n2  Borderline cardiomegaly. Midline sternotomy XX...   \n3  Borderline cardiomegaly. Midline sternotomy XX...   \n4                                                NaN   \n\n                                          impression                filename  \\\n0                               Normal chest x-XXXX.  1_IM-0001-4001.dcm.png   \n1                               Normal chest x-XXXX.  1_IM-0001-3001.dcm.png   \n2                       No acute pulmonary findings.  2_IM-0652-1001.dcm.png   \n3                       No acute pulmonary findings.  2_IM-0652-2001.dcm.png   \n4  No displaced rib fractures, pneumothorax, or p...  3_IM-1384-1001.dcm.png   \n\n  projection                                            caption  \n0    Frontal  The cardiac silhouette and mediastinum size ar...  \n1    Lateral  The cardiac silhouette and mediastinum size ar...  \n2    Frontal  Borderline cardiomegaly. Midline sternotomy XX...  \n3    Lateral  Borderline cardiomegaly. Midline sternotomy XX...  \n4    Frontal  nan No displaced rib fractures, pneumothorax, ...  ",
      "text/html": "<div>\n<style scoped>\n    .dataframe tbody tr th:only-of-type {\n        vertical-align: middle;\n    }\n\n    .dataframe tbody tr th {\n        vertical-align: top;\n    }\n\n    .dataframe thead th {\n        text-align: right;\n    }\n</style>\n<table border=\"1\" class=\"dataframe\">\n  <thead>\n    <tr style=\"text-align: right;\">\n      <th></th>\n      <th>uid</th>\n      <th>MeSH</th>\n      <th>Problems</th>\n      <th>findings</th>\n      <th>impression</th>\n      <th>filename</th>\n      <th>projection</th>\n      <th>caption</th>\n    </tr>\n  </thead>\n  <tbody>\n    <tr>\n      <th>0</th>\n      <td>1</td>\n      <td>normal</td>\n      <td>normal</td>\n      <td>The cardiac silhouette and mediastinum size ar...</td>\n      <td>Normal chest x-XXXX.</td>\n      <td>1_IM-0001-4001.dcm.png</td>\n      <td>Frontal</td>\n      <td>The cardiac silhouette and mediastinum size ar...</td>\n    </tr>\n    <tr>\n      <th>1</th>\n      <td>1</td>\n      <td>normal</td>\n      <td>normal</td>\n      <td>The cardiac silhouette and mediastinum size ar...</td>\n      <td>Normal chest x-XXXX.</td>\n      <td>1_IM-0001-3001.dcm.png</td>\n      <td>Lateral</td>\n      <td>The cardiac silhouette and mediastinum size ar...</td>\n    </tr>\n    <tr>\n      <th>2</th>\n      <td>2</td>\n      <td>Cardiomegaly/borderline;Pulmonary Artery/enlarged</td>\n      <td>Cardiomegaly;Pulmonary Artery</td>\n      <td>Borderline cardiomegaly. Midline sternotomy XX...</td>\n      <td>No acute pulmonary findings.</td>\n      <td>2_IM-0652-1001.dcm.png</td>\n      <td>Frontal</td>\n      <td>Borderline cardiomegaly. Midline sternotomy XX...</td>\n    </tr>\n    <tr>\n      <th>3</th>\n      <td>2</td>\n      <td>Cardiomegaly/borderline;Pulmonary Artery/enlarged</td>\n      <td>Cardiomegaly;Pulmonary Artery</td>\n      <td>Borderline cardiomegaly. Midline sternotomy XX...</td>\n      <td>No acute pulmonary findings.</td>\n      <td>2_IM-0652-2001.dcm.png</td>\n      <td>Lateral</td>\n      <td>Borderline cardiomegaly. Midline sternotomy XX...</td>\n    </tr>\n    <tr>\n      <th>4</th>\n      <td>3</td>\n      <td>normal</td>\n      <td>normal</td>\n      <td>NaN</td>\n      <td>No displaced rib fractures, pneumothorax, or p...</td>\n      <td>3_IM-1384-1001.dcm.png</td>\n      <td>Frontal</td>\n      <td>nan No displaced rib fractures, pneumothorax, ...</td>\n    </tr>\n  </tbody>\n</table>\n</div>"
     },
     "metadata": {}
    }
   ]
  },
  {
   "cell_type": "markdown",
   "source": "### c. Clean out placeholders, trailing punctuations and excess whitespace",
   "metadata": {
    "tags": [],
    "cell_id": "00022-dc8faccf-f7dd-47f9-a3ca-9c4ba2947bd5",
    "deepnote_cell_type": "markdown"
   }
  },
  {
   "cell_type": "code",
   "metadata": {
    "tags": [],
    "cell_id": "00021-d862d725-4d5c-4f31-a717-b8e402505cde",
    "deepnote_to_be_reexecuted": false,
    "source_hash": "43abde15",
    "execution_start": 1637514010206,
    "execution_millis": 1448,
    "deepnote_output_heights": [
     null,
     21
    ],
    "deepnote_cell_type": "code"
   },
   "source": "### MESH AND PROBLEMS COLUMNS\n#Clean MeSH and Problems\ndata_dropped_nans['MeSH'] = data_dropped_nans['MeSH'].str.replace('/',' ').str.replace(';',',')\ndata_dropped_nans['Problems'] = data_dropped_nans['Problems'].str.replace('/',' ').str.replace(';',',')\n\n### CLEAN ALL TEXT COLUMNS EXCEPT FILENAME\ncols_to_clean = ['MeSH','Problems','findings','impression','projection','caption']\n\n#Clean out placeholders of the form xx-year-old, xxxx, x-XXX, etc.\ndata_dropped_nans[cols_to_clean] = data_dropped_nans[cols_to_clean].replace('[xX]+-?\\s?year-?\\s?old\\s?([xX]+|with|w+)?\\s?(with)?|[xX]+ are intact|[xX]+-[xX]+|-[xX]+|[xX]{2,}|nan', '', \n                                              regex=True)\n\n#Remove leading and trailing commas and fullstops, etc.\ndata_dropped_nans[cols_to_clean] = data_dropped_nans[cols_to_clean].replace('(^[.,;/:\\s]+)|([.,;/:\\s]+$)', '', regex=True)\n\n#Clear excess whitespace between words and punctuation \ndata_dropped_nans[cols_to_clean] = data_dropped_nans[cols_to_clean].replace(r'\\s+([,?.!;\"])',r'\\1', regex=True)\n\n#Clean out left over gender with .....\ndata_dropped_nans[cols_to_clean] = data_dropped_nans[cols_to_clean].replace('(male|female)? with','',regex=True)\n\n#Get rid of numbering in impression or findings\ndata_dropped_nans[cols_to_clean] = data_dropped_nans[cols_to_clean].replace('\\d+[.]',\"\", regex=True)\n\ndata_dropped_nans.caption[2]",
   "execution_count": null,
   "outputs": [
    {
     "name": "stderr",
     "text": "/shared-libs/python3.7/py-core/lib/python3.7/site-packages/ipykernel_launcher.py:3: SettingWithCopyWarning: \nA value is trying to be set on a copy of a slice from a DataFrame.\nTry using .loc[row_indexer,col_indexer] = value instead\n\nSee the caveats in the documentation: https://pandas.pydata.org/pandas-docs/stable/user_guide/indexing.html#returning-a-view-versus-a-copy\n  This is separate from the ipykernel package so we can avoid doing imports until\n/shared-libs/python3.7/py-core/lib/python3.7/site-packages/ipykernel_launcher.py:4: SettingWithCopyWarning: \nA value is trying to be set on a copy of a slice from a DataFrame.\nTry using .loc[row_indexer,col_indexer] = value instead\n\nSee the caveats in the documentation: https://pandas.pydata.org/pandas-docs/stable/user_guide/indexing.html#returning-a-view-versus-a-copy\n  after removing the cwd from sys.path.\n/shared-libs/python3.7/py/lib/python3.7/site-packages/pandas/core/frame.py:3191: SettingWithCopyWarning: \nA value is trying to be set on a copy of a slice from a DataFrame.\nTry using .loc[row_indexer,col_indexer] = value instead\n\nSee the caveats in the documentation: https://pandas.pydata.org/pandas-docs/stable/user_guide/indexing.html#returning-a-view-versus-a-copy\n  self[k1] = value[k2]\n",
     "output_type": "stream"
    },
    {
     "output_type": "execute_result",
     "execution_count": 15,
     "data": {
      "text/plain": "'Borderline cardiomegaly. Midline sternotomy. Enlarged pulmonary arteries. Clear lungs. Inferior. No acute pulmonary findings'"
     },
     "metadata": {}
    }
   ]
  },
  {
   "cell_type": "markdown",
   "source": "### d. Replace missing values",
   "metadata": {
    "tags": [],
    "cell_id": "00022-39968b8d-1e78-4c5c-a704-21a1434792b9",
    "deepnote_cell_type": "markdown"
   }
  },
  {
   "cell_type": "code",
   "metadata": {
    "tags": [],
    "cell_id": "00024-bdb2dcf0-451e-45b1-8e75-e3c7c38e23ba",
    "deepnote_to_be_reexecuted": false,
    "source_hash": "9815e14",
    "execution_start": 1637514011658,
    "execution_millis": 36,
    "deepnote_cell_type": "code"
   },
   "source": "#If the MeSH and the problems were recorded as normal, fill findings na with 'no unusual findings\nfilter_q = (data_dropped_nans.MeSH == 'normal') & (data_dropped_nans.Problems == 'normal')\ndata_dropped_nans.loc[filter_q, 'findings'] = data_dropped_nans.loc[filter_q, 'findings'].fillna('no unusual findings')",
   "execution_count": null,
   "outputs": [
    {
     "name": "stderr",
     "text": "/shared-libs/python3.7/py/lib/python3.7/site-packages/pandas/core/indexing.py:1676: SettingWithCopyWarning: \nA value is trying to be set on a copy of a slice from a DataFrame.\nTry using .loc[row_indexer,col_indexer] = value instead\n\nSee the caveats in the documentation: https://pandas.pydata.org/pandas-docs/stable/user_guide/indexing.html#returning-a-view-versus-a-copy\n  self._setitem_single_column(ilocs[0], value, pi)\n",
     "output_type": "stream"
    }
   ]
  },
  {
   "cell_type": "code",
   "metadata": {
    "tags": [],
    "cell_id": "00022-5c6c4fff-5acc-4053-8e6e-5c91c2422571",
    "deepnote_to_be_reexecuted": false,
    "source_hash": "66f8083e",
    "execution_start": 1637514011670,
    "execution_millis": 86,
    "deepnote_cell_type": "code"
   },
   "source": "#Replacing the nan values\ndata_dropped_nans['findings'] = data_dropped_nans['findings'].fillna('no findings')\ndata_dropped_nans['impression'] = data_dropped_nans['impression'].fillna('no impression')",
   "execution_count": null,
   "outputs": [
    {
     "name": "stderr",
     "text": "/shared-libs/python3.7/py-core/lib/python3.7/site-packages/ipykernel_launcher.py:2: SettingWithCopyWarning: \nA value is trying to be set on a copy of a slice from a DataFrame.\nTry using .loc[row_indexer,col_indexer] = value instead\n\nSee the caveats in the documentation: https://pandas.pydata.org/pandas-docs/stable/user_guide/indexing.html#returning-a-view-versus-a-copy\n  \n/shared-libs/python3.7/py-core/lib/python3.7/site-packages/ipykernel_launcher.py:3: SettingWithCopyWarning: \nA value is trying to be set on a copy of a slice from a DataFrame.\nTry using .loc[row_indexer,col_indexer] = value instead\n\nSee the caveats in the documentation: https://pandas.pydata.org/pandas-docs/stable/user_guide/indexing.html#returning-a-view-versus-a-copy\n  This is separate from the ipykernel package so we can avoid doing imports until\n",
     "output_type": "stream"
    }
   ]
  },
  {
   "cell_type": "code",
   "metadata": {
    "tags": [],
    "cell_id": "00020-6619eed8-2ba6-4c5c-8f60-30214e46866c",
    "deepnote_to_be_reexecuted": false,
    "source_hash": "7cbbdd03",
    "execution_start": 1637514011675,
    "execution_millis": 114,
    "deepnote_cell_type": "code"
   },
   "source": "data_dropped_nans",
   "execution_count": null,
   "outputs": [
    {
     "output_type": "execute_result",
     "execution_count": 18,
     "data": {
      "application/vnd.deepnote.dataframe.v2+json": {
       "row_count": 7426,
       "column_count": 8,
       "columns": [
        {
         "name": "uid",
         "dtype": "int64",
         "stats": {
          "unique_count": 3826,
          "nan_count": 0,
          "min": "1",
          "max": "3999",
          "histogram": [
           {
            "bin_start": 1,
            "bin_end": 400.8,
            "count": 748
           },
           {
            "bin_start": 400.8,
            "bin_end": 800.6,
            "count": 746
           },
           {
            "bin_start": 800.6,
            "bin_end": 1200.4,
            "count": 735
           },
           {
            "bin_start": 1200.4,
            "bin_end": 1600.2,
            "count": 752
           },
           {
            "bin_start": 1600.2,
            "bin_end": 2000,
            "count": 728
           },
           {
            "bin_start": 2000,
            "bin_end": 2399.8,
            "count": 747
           },
           {
            "bin_start": 2399.8,
            "bin_end": 2799.6,
            "count": 723
           },
           {
            "bin_start": 2799.6,
            "bin_end": 3199.4,
            "count": 724
           },
           {
            "bin_start": 3199.4,
            "bin_end": 3599.2000000000003,
            "count": 764
           },
           {
            "bin_start": 3599.2000000000003,
            "bin_end": 3999,
            "count": 759
           }
          ]
         }
        },
        {
         "name": "MeSH",
         "dtype": "object",
         "stats": {
          "unique_count": 1900,
          "nan_count": 0,
          "categories": [
           {
            "name": "normal",
            "count": 2655
           },
           {
            "name": "No Indexing",
            "count": 172
           },
           {
            "name": "1898 others",
            "count": 4599
           }
          ]
         }
        },
        {
         "name": "Problems",
         "dtype": "object",
         "stats": {
          "unique_count": 1432,
          "nan_count": 0,
          "categories": [
           {
            "name": "normal",
            "count": 2655
           },
           {
            "name": "Lung",
            "count": 173
           },
           {
            "name": "1430 others",
            "count": 4598
           }
          ]
         }
        },
        {
         "name": "findings",
         "dtype": "object",
         "stats": {
          "unique_count": 2551,
          "nan_count": 0,
          "categories": [
           {
            "name": "no findings",
            "count": 647
           },
           {
            "name": "no unusual findings",
            "count": 310
           },
           {
            "name": "2549 others",
            "count": 6469
           }
          ]
         }
        },
        {
         "name": "impression",
         "dtype": "object",
         "stats": {
          "unique_count": 1721,
          "nan_count": 0,
          "categories": [
           {
            "name": "No acute cardiopulmonary abnormality",
            "count": 763
           },
           {
            "name": "No acute cardiopulmonary findings",
            "count": 325
           },
           {
            "name": "1719 others",
            "count": 6338
           }
          ]
         }
        },
        {
         "name": "filename",
         "dtype": "object",
         "stats": {
          "unique_count": 7426,
          "nan_count": 0,
          "categories": [
           {
            "name": "1_IM-0001-4001.dcm.png",
            "count": 1
           },
           {
            "name": "1_IM-0001-3001.dcm.png",
            "count": 1
           },
           {
            "name": "7424 others",
            "count": 7424
           }
          ]
         }
        },
        {
         "name": "projection",
         "dtype": "object",
         "stats": {
          "unique_count": 2,
          "nan_count": 0,
          "categories": [
           {
            "name": "Frontal",
            "count": 3794
           },
           {
            "name": "Lateral",
            "count": 3632
           }
          ]
         }
        },
        {
         "name": "caption",
         "dtype": "object",
         "stats": {
          "unique_count": 3048,
          "nan_count": 0,
          "categories": [
           {
            "name": "The heart is normal in size. The mediastinum is unremarkable. The lungs are clear. No acute disease",
            "count": 96
           },
           {
            "name": "The heart and lungs have   in the interval. Both lungs are clear and expanded. Heart and mediastinum normal. No active disease",
            "count": 95
           },
           {
            "name": "3046 others",
            "count": 7235
           }
          ]
         }
        },
        {
         "name": "_deepnote_index_column",
         "dtype": "int64"
        }
       ],
       "rows_top": [
        {
         "uid": 1,
         "MeSH": "normal",
         "Problems": "normal",
         "findings": "The cardiac silhouette and mediastinum size arein normal limits. There is no pulmonary edema. There…",
         "impression": "Normal chest",
         "filename": "1_IM-0001-4001.dcm.png",
         "projection": "Frontal",
         "caption": "The cardiac silhouette and mediastinum size arein normal limits. There is no pulmonary edema. There…",
         "_deepnote_index_column": 0
        },
        {
         "uid": 1,
         "MeSH": "normal",
         "Problems": "normal",
         "findings": "The cardiac silhouette and mediastinum size arein normal limits. There is no pulmonary edema. There…",
         "impression": "Normal chest",
         "filename": "1_IM-0001-3001.dcm.png",
         "projection": "Lateral",
         "caption": "The cardiac silhouette and mediastinum size arein normal limits. There is no pulmonary edema. There…",
         "_deepnote_index_column": 1
        },
        {
         "uid": 2,
         "MeSH": "Cardiomegaly borderline,Pulmonary Artery enlarged",
         "Problems": "Cardiomegaly,Pulmonary Artery",
         "findings": "Borderline cardiomegaly. Midline sternotomy. Enlarged pulmonary arteries. Clear lungs. Inferior",
         "impression": "No acute pulmonary findings",
         "filename": "2_IM-0652-1001.dcm.png",
         "projection": "Frontal",
         "caption": "Borderline cardiomegaly. Midline sternotomy. Enlarged pulmonary arteries. Clear lungs. Inferior. No…",
         "_deepnote_index_column": 2
        },
        {
         "uid": 2,
         "MeSH": "Cardiomegaly borderline,Pulmonary Artery enlarged",
         "Problems": "Cardiomegaly,Pulmonary Artery",
         "findings": "Borderline cardiomegaly. Midline sternotomy. Enlarged pulmonary arteries. Clear lungs. Inferior",
         "impression": "No acute pulmonary findings",
         "filename": "2_IM-0652-2001.dcm.png",
         "projection": "Lateral",
         "caption": "Borderline cardiomegaly. Midline sternotomy. Enlarged pulmonary arteries. Clear lungs. Inferior. No…",
         "_deepnote_index_column": 3
        },
        {
         "uid": 3,
         "MeSH": "normal",
         "Problems": "normal",
         "findings": "no unusual findings",
         "impression": "No displaced rib fractures, pneumothorax, or pleural effusion identified. Well-expanded and clear l…",
         "filename": "3_IM-1384-1001.dcm.png",
         "projection": "Frontal",
         "caption": "No displaced rib fractures, pneumothorax, or pleural effusion identified. Well-expanded and clear l…",
         "_deepnote_index_column": 4
        },
        {
         "uid": 3,
         "MeSH": "normal",
         "Problems": "normal",
         "findings": "no unusual findings",
         "impression": "No displaced rib fractures, pneumothorax, or pleural effusion identified. Well-expanded and clear l…",
         "filename": "3_IM-1384-2001.dcm.png",
         "projection": "Lateral",
         "caption": "No displaced rib fractures, pneumothorax, or pleural effusion identified. Well-expanded and clear l…",
         "_deepnote_index_column": 5
        },
        {
         "uid": 4,
         "MeSH": "Pulmonary Disease, Chronic Obstructive,Bullous Emphysema,Pulmonary Fibrosis interstitial,Cicatrix l…",
         "Problems": "Pulmonary Disease, Chronic Obstructive,Bullous Emphysema,Pulmonary Fibrosis,Cicatrix,Opacity,Opacit…",
         "findings": "There are diffuse bilateral interstitial and alveolar opacities consistent chronic obstructive lung…",
         "impression": " Bullous emphysema and interstitial fibrosis.  Probably scarring in the left apex, although difficu…",
         "filename": "4_IM-2050-1001.dcm.png",
         "projection": "Frontal",
         "caption": "There are diffuse bilateral interstitial and alveolar opacities consistent chronic obstructive lung…",
         "_deepnote_index_column": 6
        },
        {
         "uid": 4,
         "MeSH": "Pulmonary Disease, Chronic Obstructive,Bullous Emphysema,Pulmonary Fibrosis interstitial,Cicatrix l…",
         "Problems": "Pulmonary Disease, Chronic Obstructive,Bullous Emphysema,Pulmonary Fibrosis,Cicatrix,Opacity,Opacit…",
         "findings": "There are diffuse bilateral interstitial and alveolar opacities consistent chronic obstructive lung…",
         "impression": " Bullous emphysema and interstitial fibrosis.  Probably scarring in the left apex, although difficu…",
         "filename": "4_IM-2050-2001.dcm.png",
         "projection": "Lateral",
         "caption": "There are diffuse bilateral interstitial and alveolar opacities consistent chronic obstructive lung…",
         "_deepnote_index_column": 7
        },
        {
         "uid": 5,
         "MeSH": "Osteophyte thoracic vertebrae multiple small,Thickening pleura apex bilateral,Lung hyperdistention …",
         "Problems": "Osteophyte,Thickening,Lung",
         "findings": "The cardiomediastinal silhouette and pulmonary vasculature arein normal limits. There is no pneumot…",
         "impression": "No acute cardiopulmonary abnormality",
         "filename": "5_IM-2117-1003002.dcm.png",
         "projection": "Frontal",
         "caption": "The cardiomediastinal silhouette and pulmonary vasculature arein normal limits. There is no pneumot…",
         "_deepnote_index_column": 8
        },
        {
         "uid": 5,
         "MeSH": "Osteophyte thoracic vertebrae multiple small,Thickening pleura apex bilateral,Lung hyperdistention …",
         "Problems": "Osteophyte,Thickening,Lung",
         "findings": "The cardiomediastinal silhouette and pulmonary vasculature arein normal limits. There is no pneumot…",
         "impression": "No acute cardiopulmonary abnormality",
         "filename": "5_IM-2117-1004003.dcm.png",
         "projection": "Lateral",
         "caption": "The cardiomediastinal silhouette and pulmonary vasculature arein normal limits. There is no pneumot…",
         "_deepnote_index_column": 9
        },
        {
         "uid": 6,
         "MeSH": "normal",
         "Problems": "normal",
         "findings": "Heart size and mediastinal contour arein normal limits. There is no focal airspace consolidation or…",
         "impression": "No acute cardiopulmonary findings",
         "filename": "6_IM-2192-1001.dcm.png",
         "projection": "Frontal",
         "caption": "Heart size and mediastinal contour arein normal limits. There is no focal airspace consolidation or…",
         "_deepnote_index_column": 10
        },
        {
         "uid": 6,
         "MeSH": "normal",
         "Problems": "normal",
         "findings": "Heart size and mediastinal contour arein normal limits. There is no focal airspace consolidation or…",
         "impression": "No acute cardiopulmonary findings",
         "filename": "6_IM-2192-2001.dcm.png",
         "projection": "Lateral",
         "caption": "Heart size and mediastinal contour arein normal limits. There is no focal airspace consolidation or…",
         "_deepnote_index_column": 11
        },
        {
         "uid": 7,
         "MeSH": "Pulmonary Atelectasis base,Spondylosis thoracic vertebrae,Arthritis cervical vertebrae",
         "Problems": "Pulmonary Atelectasis,Spondylosis,Arthritis",
         "findings": "The cardiac contours are normal.  basilar atelectasis. The lungs are clear. Thoracic spondylosis. L…",
         "impression": "Basilar atelectasis. No confluent lobar consolidation or pleural effusion",
         "filename": "7_IM-2263-1001.dcm.png",
         "projection": "Frontal",
         "caption": "The cardiac contours are normal.  basilar atelectasis. The lungs are clear. Thoracic spondylosis. L…",
         "_deepnote_index_column": 12
        },
        {
         "uid": 7,
         "MeSH": "Pulmonary Atelectasis base,Spondylosis thoracic vertebrae,Arthritis cervical vertebrae",
         "Problems": "Pulmonary Atelectasis,Spondylosis,Arthritis",
         "findings": "The cardiac contours are normal.  basilar atelectasis. The lungs are clear. Thoracic spondylosis. L…",
         "impression": "Basilar atelectasis. No confluent lobar consolidation or pleural effusion",
         "filename": "7_IM-2263-2001.dcm.png",
         "projection": "Lateral",
         "caption": "The cardiac contours are normal.  basilar atelectasis. The lungs are clear. Thoracic spondylosis. L…",
         "_deepnote_index_column": 13
        },
        {
         "uid": 8,
         "MeSH": "normal",
         "Problems": "normal",
         "findings": "The heart, pulmonary  and mediastinum arein normal limits. There is no pleural effusion or pneumoth…",
         "impression": "No acute cardiopulmonary disease",
         "filename": "8_IM-2333-1001.dcm.png",
         "projection": "Frontal",
         "caption": "The heart, pulmonary  and mediastinum arein normal limits. There is no pleural effusion or pneumoth…",
         "_deepnote_index_column": 14
        },
        {
         "uid": 8,
         "MeSH": "normal",
         "Problems": "normal",
         "findings": "The heart, pulmonary  and mediastinum arein normal limits. There is no pleural effusion or pneumoth…",
         "impression": "No acute cardiopulmonary disease",
         "filename": "8_IM-2333-2001.dcm.png",
         "projection": "Lateral",
         "caption": "The heart, pulmonary  and mediastinum arein normal limits. There is no pleural effusion or pneumoth…",
         "_deepnote_index_column": 15
        },
        {
         "uid": 9,
         "MeSH": "Calcified Granuloma lung upper lobe right,Density cardiophrenic angle left",
         "Problems": "Calcified Granuloma,Density",
         "findings": "The  examination consists of frontal and lateral radiographs of the chest. The cardiac silhouette i…",
         "impression": "Increased size of density in the left cardiophrenic. Primary differential considerations include in…",
         "filename": "9_IM-2407-1001.dcm.png",
         "projection": "Frontal",
         "caption": "The  examination consists of frontal and lateral radiographs of the chest. The cardiac silhouette i…",
         "_deepnote_index_column": 16
        },
        {
         "uid": 9,
         "MeSH": "Calcified Granuloma lung upper lobe right,Density cardiophrenic angle left",
         "Problems": "Calcified Granuloma,Density",
         "findings": "The  examination consists of frontal and lateral radiographs of the chest. The cardiac silhouette i…",
         "impression": "Increased size of density in the left cardiophrenic. Primary differential considerations include in…",
         "filename": "9_IM-2407-2001.dcm.png",
         "projection": "Lateral",
         "caption": "The  examination consists of frontal and lateral radiographs of the chest. The cardiac silhouette i…",
         "_deepnote_index_column": 17
        },
        {
         "uid": 10,
         "MeSH": "Calcified Granuloma lung upper lobe right",
         "Problems": "Calcified Granuloma",
         "findings": "The cardiomediastinal silhouette isin normal limits for size and contour. The lungs are normally in…",
         "impression": "No acute cardiopulmonary process",
         "filename": "10_IM-0002-2001.dcm.png",
         "projection": "Frontal",
         "caption": "The cardiomediastinal silhouette isin normal limits for size and contour. The lungs are normally in…",
         "_deepnote_index_column": 18
        },
        {
         "uid": 10,
         "MeSH": "Calcified Granuloma lung upper lobe right",
         "Problems": "Calcified Granuloma",
         "findings": "The cardiomediastinal silhouette isin normal limits for size and contour. The lungs are normally in…",
         "impression": "No acute cardiopulmonary process",
         "filename": "10_IM-0002-1001.dcm.png",
         "projection": "Lateral",
         "caption": "The cardiomediastinal silhouette isin normal limits for size and contour. The lungs are normally in…",
         "_deepnote_index_column": 19
        },
        {
         "uid": 11,
         "MeSH": "normal",
         "Problems": "normal",
         "findings": "Cardiomediastinal silhouette and pulmonary vasculature arein normal limits. Lungs are clear. No pne…",
         "impression": "No acute cardiopulmonary findings",
         "filename": "11_IM-0067-1001.dcm.png",
         "projection": "Frontal",
         "caption": "Cardiomediastinal silhouette and pulmonary vasculature arein normal limits. Lungs are clear. No pne…",
         "_deepnote_index_column": 20
        },
        {
         "uid": 11,
         "MeSH": "normal",
         "Problems": "normal",
         "findings": "Cardiomediastinal silhouette and pulmonary vasculature arein normal limits. Lungs are clear. No pne…",
         "impression": "No acute cardiopulmonary findings",
         "filename": "11_IM-0067-2001.dcm.png",
         "projection": "Lateral",
         "caption": "Cardiomediastinal silhouette and pulmonary vasculature arein normal limits. Lungs are clear. No pne…",
         "_deepnote_index_column": 21
        },
        {
         "uid": 12,
         "MeSH": "normal",
         "Problems": "normal",
         "findings": "Lungs are clear bilaterally. Cardiac and mediastinal silhouettes are normal. Pulmonary vasculature …",
         "impression": "No acute cardiopulmonary abnormality",
         "filename": "12_IM-0133-1001.dcm.png",
         "projection": "Frontal",
         "caption": "Lungs are clear bilaterally. Cardiac and mediastinal silhouettes are normal. Pulmonary vasculature …",
         "_deepnote_index_column": 22
        },
        {
         "uid": 12,
         "MeSH": "normal",
         "Problems": "normal",
         "findings": "Lungs are clear bilaterally. Cardiac and mediastinal silhouettes are normal. Pulmonary vasculature …",
         "impression": "No acute cardiopulmonary abnormality",
         "filename": "12_IM-0133-2001.dcm.png",
         "projection": "Lateral",
         "caption": "Lungs are clear bilaterally. Cardiac and mediastinal silhouettes are normal. Pulmonary vasculature …",
         "_deepnote_index_column": 23
        },
        {
         "uid": 13,
         "MeSH": "Cardiac Shadow borderline",
         "Problems": "Cardiac Shadow",
         "findings": "The cardiac silhouette is borderline enlarged. Otherwise, there is no focal opacity. Mediastinal co…",
         "impression": "Borderline enlargement of the cardiac silhouetteout acute pulmonary disease",
         "filename": "13_IM-0198-1001.dcm.png",
         "projection": "Frontal",
         "caption": "The cardiac silhouette is borderline enlarged. Otherwise, there is no focal opacity. Mediastinal co…",
         "_deepnote_index_column": 24
        },
        {
         "uid": 13,
         "MeSH": "Cardiac Shadow borderline",
         "Problems": "Cardiac Shadow",
         "findings": "The cardiac silhouette is borderline enlarged. Otherwise, there is no focal opacity. Mediastinal co…",
         "impression": "Borderline enlargement of the cardiac silhouetteout acute pulmonary disease",
         "filename": "13_IM-0198-2001.dcm.png",
         "projection": "Lateral",
         "caption": "The cardiac silhouette is borderline enlarged. Otherwise, there is no focal opacity. Mediastinal co…",
         "_deepnote_index_column": 25
        },
        {
         "uid": 14,
         "MeSH": "Lung hyperdistention mild,Markings lung interstitial scattered irregular chronic",
         "Problems": "Lung,Markings",
         "findings": "Heart sizein normal limits, stable mediastinal and hilar contours. Mild hyperinflation appears simi…",
         "impression": "No acute findings",
         "filename": "14_IM-0256-1001.dcm.png",
         "projection": "Frontal",
         "caption": "Heart sizein normal limits, stable mediastinal and hilar contours. Mild hyperinflation appears simi…",
         "_deepnote_index_column": 26
        },
        {
         "uid": 14,
         "MeSH": "Lung hyperdistention mild,Markings lung interstitial scattered irregular chronic",
         "Problems": "Lung,Markings",
         "findings": "Heart sizein normal limits, stable mediastinal and hilar contours. Mild hyperinflation appears simi…",
         "impression": "No acute findings",
         "filename": "14_IM-0256-2001.dcm.png",
         "projection": "Lateral",
         "caption": "Heart sizein normal limits, stable mediastinal and hilar contours. Mild hyperinflation appears simi…",
         "_deepnote_index_column": 27
        },
        {
         "uid": 15,
         "MeSH": "Granulomatous Disease",
         "Problems": "Granulomatous Disease",
         "findings": "Cardiomediastinal silhouette and pulmonary vasculature arein normal limits. Lungs are clear. No pne…",
         "impression": "No acute cardiopulmonary findings",
         "filename": "15_IM-0324-1001.dcm.png",
         "projection": "Frontal",
         "caption": "Cardiomediastinal silhouette and pulmonary vasculature arein normal limits. Lungs are clear. No pne…",
         "_deepnote_index_column": 28
        },
        {
         "uid": 15,
         "MeSH": "Granulomatous Disease",
         "Problems": "Granulomatous Disease",
         "findings": "Cardiomediastinal silhouette and pulmonary vasculature arein normal limits. Lungs are clear. No pne…",
         "impression": "No acute cardiopulmonary findings",
         "filename": "15_IM-0324-2001.dcm.png",
         "projection": "Lateral",
         "caption": "Cardiomediastinal silhouette and pulmonary vasculature arein normal limits. Lungs are clear. No pne…",
         "_deepnote_index_column": 29
        },
        {
         "uid": 17,
         "MeSH": "normal",
         "Problems": "normal",
         "findings": "No focal areas of consolidation. No suspicious pulmonary opacities. Heart sizein normal limits. No …",
         "impression": "No acute cardiopulmonary abnormality",
         "filename": "17_IM-0460-2001.dcm.png",
         "projection": "Frontal",
         "caption": "No focal areas of consolidation. No suspicious pulmonary opacities. Heart sizein normal limits. No …",
         "_deepnote_index_column": 32
        },
        {
         "uid": 17,
         "MeSH": "normal",
         "Problems": "normal",
         "findings": "No focal areas of consolidation. No suspicious pulmonary opacities. Heart sizein normal limits. No …",
         "impression": "No acute cardiopulmonary abnormality",
         "filename": "17_IM-0460-1001.dcm.png",
         "projection": "Lateral",
         "caption": "No focal areas of consolidation. No suspicious pulmonary opacities. Heart sizein normal limits. No …",
         "_deepnote_index_column": 33
        },
        {
         "uid": 18,
         "MeSH": "Pleural Effusion borderline",
         "Problems": "Pleural Effusion",
         "findings": "Heart sizein normal limits. No focal alveolar consolidation, no definite pleural effusion seen. No …",
         "impression": "No acute cardiopulmonary findings",
         "filename": "18_IM-0520-1001.dcm.png",
         "projection": "Frontal",
         "caption": "Heart sizein normal limits. No focal alveolar consolidation, no definite pleural effusion seen. No …",
         "_deepnote_index_column": 34
        },
        {
         "uid": 18,
         "MeSH": "Pleural Effusion borderline",
         "Problems": "Pleural Effusion",
         "findings": "Heart sizein normal limits. No focal alveolar consolidation, no definite pleural effusion seen. No …",
         "impression": "No acute cardiopulmonary findings",
         "filename": "18_IM-0520-2001.dcm.png",
         "projection": "Lateral",
         "caption": "Heart sizein normal limits. No focal alveolar consolidation, no definite pleural effusion seen. No …",
         "_deepnote_index_column": 35
        },
        {
         "uid": 19,
         "MeSH": "Aorta, Thoracic tortuous,Thoracic Vertebrae degenerative",
         "Problems": "Aorta, Thoracic,Thoracic Vertebrae",
         "findings": "Heart size is normal. There is tortuosity of the thoracic aorta, stable compared prior. No focal ai…",
         "impression": "No acute cardiopulmonary process",
         "filename": "19_IM-0583-1001.dcm.png",
         "projection": "Frontal",
         "caption": "Heart size is normal. There is tortuosity of the thoracic aorta, stable compared prior. No focal ai…",
         "_deepnote_index_column": 36
        },
        {
         "uid": 19,
         "MeSH": "Aorta, Thoracic tortuous,Thoracic Vertebrae degenerative",
         "Problems": "Aorta, Thoracic,Thoracic Vertebrae",
         "findings": "Heart size is normal. There is tortuosity of the thoracic aorta, stable compared prior. No focal ai…",
         "impression": "No acute cardiopulmonary process",
         "filename": "19_IM-0583-3003.dcm.png",
         "projection": "Lateral",
         "caption": "Heart size is normal. There is tortuosity of the thoracic aorta, stable compared prior. No focal ai…",
         "_deepnote_index_column": 37
        },
        {
         "uid": 20,
         "MeSH": "normal",
         "Problems": "normal",
         "findings": "The cardiac and mediastinal silhouettes are unremarkable. The lungs are well expanded and clear. Th…",
         "impression": "No evidence of acute cardiopulmonary process. Stable appearance of the chest",
         "filename": "20_IM-0653-1001.dcm.png",
         "projection": "Frontal",
         "caption": "The cardiac and mediastinal silhouettes are unremarkable. The lungs are well expanded and clear. Th…",
         "_deepnote_index_column": 38
        },
        {
         "uid": 20,
         "MeSH": "normal",
         "Problems": "normal",
         "findings": "The cardiac and mediastinal silhouettes are unremarkable. The lungs are well expanded and clear. Th…",
         "impression": "No evidence of acute cardiopulmonary process. Stable appearance of the chest",
         "filename": "20_IM-0653-1002.dcm.png",
         "projection": "Lateral",
         "caption": "The cardiac and mediastinal silhouettes are unremarkable. The lungs are well expanded and clear. Th…",
         "_deepnote_index_column": 39
        },
        {
         "uid": 21,
         "MeSH": "Calcified Granuloma lung lingula,Breast Implants,Deformity thoracic vertebrae moderate",
         "Problems": "Calcified Granuloma,Breast Implants,Deformity",
         "findings": "no findings",
         "impression": "Heart size normal. Mediastinal silhouettes and pulmonary vascularity arein normal limits. Calcified…",
         "filename": "21_IM-0729-1001-0001.dcm.png",
         "projection": "Frontal",
         "caption": "Heart size normal. Mediastinal silhouettes and pulmonary vascularity arein normal limits. Calcified…",
         "_deepnote_index_column": 40
        },
        {
         "uid": 21,
         "MeSH": "Calcified Granuloma lung lingula,Breast Implants,Deformity thoracic vertebrae moderate",
         "Problems": "Calcified Granuloma,Breast Implants,Deformity",
         "findings": "no findings",
         "impression": "Heart size normal. Mediastinal silhouettes and pulmonary vascularity arein normal limits. Calcified…",
         "filename": "21_IM-0729-1001-0002.dcm.png",
         "projection": "Lateral",
         "caption": "Heart size normal. Mediastinal silhouettes and pulmonary vascularity arein normal limits. Calcified…",
         "_deepnote_index_column": 41
        },
        {
         "uid": 22,
         "MeSH": "normal",
         "Problems": "normal",
         "findings": "The lungs are clear, andout focal air space opacity. The cardiomediastinal silhouette is normal in …",
         "impression": "No acute cardiopulmonary abnormality",
         "filename": "22_IM-0810-1001.dcm.png",
         "projection": "Frontal",
         "caption": "The lungs are clear, andout focal air space opacity. The cardiomediastinal silhouette is normal in …",
         "_deepnote_index_column": 42
        },
        {
         "uid": 22,
         "MeSH": "normal",
         "Problems": "normal",
         "findings": "The lungs are clear, andout focal air space opacity. The cardiomediastinal silhouette is normal in …",
         "impression": "No acute cardiopulmonary abnormality",
         "filename": "22_IM-0810-2001.dcm.png",
         "projection": "Lateral",
         "caption": "The lungs are clear, andout focal air space opacity. The cardiomediastinal silhouette is normal in …",
         "_deepnote_index_column": 43
        },
        {
         "uid": 23,
         "MeSH": "normal",
         "Problems": "normal",
         "findings": "The heart size and pulmonary vascularity appearin normal limits. The lungs are free of focal airspa…",
         "impression": "No evidence of active disease",
         "filename": "23_IM-0879-1001.dcm.png",
         "projection": "Frontal",
         "caption": "The heart size and pulmonary vascularity appearin normal limits. The lungs are free of focal airspa…",
         "_deepnote_index_column": 44
        },
        {
         "uid": 23,
         "MeSH": "normal",
         "Problems": "normal",
         "findings": "The heart size and pulmonary vascularity appearin normal limits. The lungs are free of focal airspa…",
         "impression": "No evidence of active disease",
         "filename": "23_IM-0879-2001.dcm.png",
         "projection": "Lateral",
         "caption": "The heart size and pulmonary vascularity appearin normal limits. The lungs are free of focal airspa…",
         "_deepnote_index_column": 45
        },
        {
         "uid": 24,
         "MeSH": "normal",
         "Problems": "normal",
         "findings": "Cardiomediastinal silhouette isin normal limits of size and appearance. The pulmonary vascularity i…",
         "impression": "No acute cardiopulmonary abnormality",
         "filename": "24_IM-0949-1001.dcm.png",
         "projection": "Frontal",
         "caption": "Cardiomediastinal silhouette isin normal limits of size and appearance. The pulmonary vascularity i…",
         "_deepnote_index_column": 46
        },
        {
         "uid": 24,
         "MeSH": "normal",
         "Problems": "normal",
         "findings": "Cardiomediastinal silhouette isin normal limits of size and appearance. The pulmonary vascularity i…",
         "impression": "No acute cardiopulmonary abnormality",
         "filename": "24_IM-0949-2001.dcm.png",
         "projection": "Lateral",
         "caption": "Cardiomediastinal silhouette isin normal limits of size and appearance. The pulmonary vascularity i…",
         "_deepnote_index_column": 47
        },
        {
         "uid": 25,
         "MeSH": "Sutures lung apex right,Lung, Hyperlucent,Lung hyperdistention,Pulmonary Emphysema,Airspace Disease…",
         "Problems": "Sutures,Lung, Hyperlucent,Lung,Pulmonary Emphysema,Airspace Disease,Pleural Effusion,Pleural Effusi…",
         "findings": "The heart isin normal limits in size. Surgical suture material projects over the right lung apex. T…",
         "impression": " Left lower lobe airspace disease and bilateral pleural effusions, left greater than right. This ma…",
         "filename": "25_IM-1024-2001.dcm.png",
         "projection": "Frontal",
         "caption": "The heart isin normal limits in size. Surgical suture material projects over the right lung apex. T…",
         "_deepnote_index_column": 48
        },
        {
         "uid": 25,
         "MeSH": "Sutures lung apex right,Lung, Hyperlucent,Lung hyperdistention,Pulmonary Emphysema,Airspace Disease…",
         "Problems": "Sutures,Lung, Hyperlucent,Lung,Pulmonary Emphysema,Airspace Disease,Pleural Effusion,Pleural Effusi…",
         "findings": "The heart isin normal limits in size. Surgical suture material projects over the right lung apex. T…",
         "impression": " Left lower lobe airspace disease and bilateral pleural effusions, left greater than right. This ma…",
         "filename": "25_IM-1024-3001.dcm.png",
         "projection": "Lateral",
         "caption": "The heart isin normal limits in size. Surgical suture material projects over the right lung apex. T…",
         "_deepnote_index_column": 49
        },
        {
         "uid": 26,
         "MeSH": "Spondylosis thoracic vertebrae",
         "Problems": "Spondylosis",
         "findings": "The cardiac contours are normal. The lungs are clear. Thoracic spondylosis",
         "impression": "No acute process",
         "filename": "26_IM-1090-1001.dcm.png",
         "projection": "Frontal",
         "caption": "The cardiac contours are normal. The lungs are clear. Thoracic spondylosis. No acute process",
         "_deepnote_index_column": 50
        },
        {
         "uid": 26,
         "MeSH": "Spondylosis thoracic vertebrae",
         "Problems": "Spondylosis",
         "findings": "The cardiac contours are normal. The lungs are clear. Thoracic spondylosis",
         "impression": "No acute process",
         "filename": "26_IM-1090-2001.dcm.png",
         "projection": "Lateral",
         "caption": "The cardiac contours are normal. The lungs are clear. Thoracic spondylosis. No acute process",
         "_deepnote_index_column": 51
        },
        {
         "uid": 27,
         "MeSH": "Lung hyperdistention,Diaphragm flattened,Thoracic Vertebrae degenerative",
         "Problems": "Lung,Diaphragm,Thoracic Vertebrae",
         "findings": "Lungs are overall hyperexpanded flattening of the diaphragms. No focal consolidation. No pleural ef…",
         "impression": "Hyperexpanded but clear lungs",
         "filename": "27_IM-1168-2002.dcm.png",
         "projection": "Frontal",
         "caption": "Lungs are overall hyperexpanded flattening of the diaphragms. No focal consolidation. No pleural ef…",
         "_deepnote_index_column": 52
        },
        {
         "uid": 27,
         "MeSH": "Lung hyperdistention,Diaphragm flattened,Thoracic Vertebrae degenerative",
         "Problems": "Lung,Diaphragm,Thoracic Vertebrae",
         "findings": "Lungs are overall hyperexpanded flattening of the diaphragms. No focal consolidation. No pleural ef…",
         "impression": "Hyperexpanded but clear lungs",
         "filename": "27_IM-1168-3003.dcm.png",
         "projection": "Lateral",
         "caption": "Lungs are overall hyperexpanded flattening of the diaphragms. No focal consolidation. No pleural ef…",
         "_deepnote_index_column": 53
        },
        {
         "uid": 28,
         "MeSH": "Opacity lung base bilateral scattered focal patchy multiple,Pulmonary Atelectasis,Consolidation lun…",
         "Problems": "Opacity,Pulmonary Atelectasis,Consolidation,Pulmonary Congestion,Cardiac Shadow",
         "findings": "Bilateral patchy pulmonary opacities noted. Interval improvement in left base consolidative opacity…",
         "impression": " Interval improvement in consolidative left base opacity. Multifocal scattered bibasilar patchy and…",
         "filename": "28_IM-1231-1001.dcm.png",
         "projection": "Frontal",
         "caption": "Bilateral patchy pulmonary opacities noted. Interval improvement in left base consolidative opacity…",
         "_deepnote_index_column": 54
        },
        {
         "uid": 28,
         "MeSH": "Opacity lung base bilateral scattered focal patchy multiple,Pulmonary Atelectasis,Consolidation lun…",
         "Problems": "Opacity,Pulmonary Atelectasis,Consolidation,Pulmonary Congestion,Cardiac Shadow",
         "findings": "Bilateral patchy pulmonary opacities noted. Interval improvement in left base consolidative opacity…",
         "impression": " Interval improvement in consolidative left base opacity. Multifocal scattered bibasilar patchy and…",
         "filename": "28_IM-1231-2001.dcm.png",
         "projection": "Lateral",
         "caption": "Bilateral patchy pulmonary opacities noted. Interval improvement in left base consolidative opacity…",
         "_deepnote_index_column": 55
        },
        {
         "uid": 29,
         "MeSH": "Cardiomegaly borderline,Diaphragm left elevated,Tube, Inserted trachea, carina,Airspace Disease lun…",
         "Problems": "Cardiomegaly,Diaphragm,Tube, Inserted,Airspace Disease",
         "findings": "no findings",
         "impression": "Borderline heart size. Elevated left diaphragm. Clear right lung. Tracheostomy tube tip above the c…",
         "filename": "29_IM-1302-1001.dcm.png",
         "projection": "Frontal",
         "caption": "Borderline heart size. Elevated left diaphragm. Clear right lung. Tracheostomy tube tip above the c…",
         "_deepnote_index_column": 56
        },
        {
         "uid": 29,
         "MeSH": "Cardiomegaly borderline,Diaphragm left elevated,Tube, Inserted trachea, carina,Airspace Disease lun…",
         "Problems": "Cardiomegaly,Diaphragm,Tube, Inserted,Airspace Disease",
         "findings": "no findings",
         "impression": "Borderline heart size. Elevated left diaphragm. Clear right lung. Tracheostomy tube tip above the c…",
         "filename": "29_IM-1302-2001.dcm.png",
         "projection": "Lateral",
         "caption": "Borderline heart size. Elevated left diaphragm. Clear right lung. Tracheostomy tube tip above the c…",
         "_deepnote_index_column": 57
        },
        {
         "uid": 30,
         "MeSH": "normal",
         "Problems": "normal",
         "findings": "Lungs are clearout focal consolidation, effusion, or pneumothorax. Normal heart size. Negative for …",
         "impression": "Negative acute cardiopulmonary abnormality",
         "filename": "30_IM-1385-1001.dcm.png",
         "projection": "Frontal",
         "caption": "Lungs are clearout focal consolidation, effusion, or pneumothorax. Normal heart size. Negative for …",
         "_deepnote_index_column": 58
        },
        {
         "uid": 30,
         "MeSH": "normal",
         "Problems": "normal",
         "findings": "Lungs are clearout focal consolidation, effusion, or pneumothorax. Normal heart size. Negative for …",
         "impression": "Negative acute cardiopulmonary abnormality",
         "filename": "30_IM-1385-2001.dcm.png",
         "projection": "Lateral",
         "caption": "Lungs are clearout focal consolidation, effusion, or pneumothorax. Normal heart size. Negative for …",
         "_deepnote_index_column": 59
        },
        {
         "uid": 31,
         "MeSH": "Markings lung interstitial",
         "Problems": "Markings",
         "findings": "no findings",
         "impression": "Suggestion of slightly more prominent interstitial markings, which may represent some bronchitic/br…",
         "filename": "31_IM-1450-1001.dcm.png",
         "projection": "Frontal",
         "caption": "Suggestion of slightly more prominent interstitial markings, which may represent some bronchitic/br…",
         "_deepnote_index_column": 60
        },
        {
         "uid": 31,
         "MeSH": "Markings lung interstitial",
         "Problems": "Markings",
         "findings": "no findings",
         "impression": "Suggestion of slightly more prominent interstitial markings, which may represent some bronchitic/br…",
         "filename": "31_IM-1450-3003.dcm.png",
         "projection": "Lateral",
         "caption": "Suggestion of slightly more prominent interstitial markings, which may represent some bronchitic/br…",
         "_deepnote_index_column": 61
        },
        {
         "uid": 32,
         "MeSH": "Costophrenic Angle right blunted mild",
         "Problems": "Costophrenic Angle",
         "findings": "The heart is normal in size. The mediastinum is unremarkable. Mild blunting of right costophrenic. …",
         "impression": "No acute disease",
         "filename": "32_IM-1511-1001.dcm.png",
         "projection": "Frontal",
         "caption": "The heart is normal in size. The mediastinum is unremarkable. Mild blunting of right costophrenic. …",
         "_deepnote_index_column": 62
        },
        {
         "uid": 32,
         "MeSH": "Costophrenic Angle right blunted mild",
         "Problems": "Costophrenic Angle",
         "findings": "The heart is normal in size. The mediastinum is unremarkable. Mild blunting of right costophrenic. …",
         "impression": "No acute disease",
         "filename": "32_IM-1511-4001.dcm.png",
         "projection": "Lateral",
         "caption": "The heart is normal in size. The mediastinum is unremarkable. Mild blunting of right costophrenic. …",
         "_deepnote_index_column": 63
        }
       ],
       "rows_bottom": [
        {
         "uid": 3968,
         "MeSH": "Pneumonia lower lobe left",
         "Problems": "Pneumonia",
         "findings": "no findings",
         "impression": "Left lower lobe  segment pneumonia. Heart size normal. Lungs otherwise clear. No effusion",
         "filename": "3968_IM-2029-1001.dcm.png",
         "projection": "Frontal",
         "caption": "Left lower lobe  segment pneumonia. Heart size normal. Lungs otherwise clear. No effusion",
         "_deepnote_index_column": 7402
        },
        {
         "uid": 3968,
         "MeSH": "Pneumonia lower lobe left",
         "Problems": "Pneumonia",
         "findings": "no findings",
         "impression": "Left lower lobe  segment pneumonia. Heart size normal. Lungs otherwise clear. No effusion",
         "filename": "3968_IM-2029-3001.dcm.png",
         "projection": "Frontal",
         "caption": "Left lower lobe  segment pneumonia. Heart size normal. Lungs otherwise clear. No effusion",
         "_deepnote_index_column": 7403
        },
        {
         "uid": 3968,
         "MeSH": "Pneumonia lower lobe left",
         "Problems": "Pneumonia",
         "findings": "no findings",
         "impression": "Left lower lobe  segment pneumonia. Heart size normal. Lungs otherwise clear. No effusion",
         "filename": "3968_IM-2029-2001.dcm.png",
         "projection": "Lateral",
         "caption": "Left lower lobe  segment pneumonia. Heart size normal. Lungs otherwise clear. No effusion",
         "_deepnote_index_column": 7404
        },
        {
         "uid": 3969,
         "MeSH": "Lung hyperdistention,Spine degenerative,Bone Diseases, Metabolic spine",
         "Problems": "Lung,Spine,Bone Diseases, Metabolic",
         "findings": "The lungs hyperexpanded suggesting emphysema. The heart size and pulmonary vascularity appearin nor…",
         "impression": "No evidence of active disease",
         "filename": "3969_IM-2030-1001.dcm.png",
         "projection": "Frontal",
         "caption": "The lungs hyperexpanded suggesting emphysema. The heart size and pulmonary vascularity appearin nor…",
         "_deepnote_index_column": 7405
        },
        {
         "uid": 3969,
         "MeSH": "Lung hyperdistention,Spine degenerative,Bone Diseases, Metabolic spine",
         "Problems": "Lung,Spine,Bone Diseases, Metabolic",
         "findings": "The lungs hyperexpanded suggesting emphysema. The heart size and pulmonary vascularity appearin nor…",
         "impression": "No evidence of active disease",
         "filename": "3969_IM-2030-2001.dcm.png",
         "projection": "Lateral",
         "caption": "The lungs hyperexpanded suggesting emphysema. The heart size and pulmonary vascularity appearin nor…",
         "_deepnote_index_column": 7406
        },
        {
         "uid": 3970,
         "MeSH": "normal",
         "Problems": "normal",
         "findings": "Lungs are clear bilaterally no focal infiltrate, pleural effusion, or pneumothoraces. Cardiomediast…",
         "impression": "No acute cardiopulmonary abnormality",
         "filename": "3970_IM-2031-1001.dcm.png",
         "projection": "Frontal",
         "caption": "Lungs are clear bilaterally no focal infiltrate, pleural effusion, or pneumothoraces. Cardiomediast…",
         "_deepnote_index_column": 7407
        },
        {
         "uid": 3970,
         "MeSH": "normal",
         "Problems": "normal",
         "findings": "Lungs are clear bilaterally no focal infiltrate, pleural effusion, or pneumothoraces. Cardiomediast…",
         "impression": "No acute cardiopulmonary abnormality",
         "filename": "3970_IM-2031-2001.dcm.png",
         "projection": "Lateral",
         "caption": "Lungs are clear bilaterally no focal infiltrate, pleural effusion, or pneumothoraces. Cardiomediast…",
         "_deepnote_index_column": 7408
        },
        {
         "uid": 3971,
         "MeSH": "normal",
         "Problems": "normal",
         "findings": "The heart size and cardiomediastinal silhouette are normal. There is no focal airspace opacity, ple…",
         "impression": "No acute cardiopulmonary finding",
         "filename": "3971_IM-2031-1001.dcm.png",
         "projection": "Frontal",
         "caption": "The heart size and cardiomediastinal silhouette are normal. There is no focal airspace opacity, ple…",
         "_deepnote_index_column": 7409
        },
        {
         "uid": 3971,
         "MeSH": "normal",
         "Problems": "normal",
         "findings": "The heart size and cardiomediastinal silhouette are normal. There is no focal airspace opacity, ple…",
         "impression": "No acute cardiopulmonary finding",
         "filename": "3971_IM-2031-3001.dcm.png",
         "projection": "Frontal",
         "caption": "The heart size and cardiomediastinal silhouette are normal. There is no focal airspace opacity, ple…",
         "_deepnote_index_column": 7410
        },
        {
         "uid": 3971,
         "MeSH": "normal",
         "Problems": "normal",
         "findings": "The heart size and cardiomediastinal silhouette are normal. There is no focal airspace opacity, ple…",
         "impression": "No acute cardiopulmonary finding",
         "filename": "3971_IM-2031-2001.dcm.png",
         "projection": "Lateral",
         "caption": "The heart size and cardiomediastinal silhouette are normal. There is no focal airspace opacity, ple…",
         "_deepnote_index_column": 7411
        },
        {
         "uid": 3972,
         "MeSH": "Lung hilum lymph nodes bilateral enlarged,Opacity lung bilateral interstitial,Sarcoidosis",
         "Problems": "Lung,Opacity,Sarcoidosis",
         "findings": "Heart size and pulmonary vascularity appearin normal limits. Bilateral hilar fullness is present co…",
         "impression": " Continued hilar fullness consistent adenopathy and bilateral interstitial opacities. Stable as com…",
         "filename": "3972_IM-2032-1001.dcm.png",
         "projection": "Frontal",
         "caption": "Heart size and pulmonary vascularity appearin normal limits. Bilateral hilar fullness is present co…",
         "_deepnote_index_column": 7412
        },
        {
         "uid": 3972,
         "MeSH": "Lung hilum lymph nodes bilateral enlarged,Opacity lung bilateral interstitial,Sarcoidosis",
         "Problems": "Lung,Opacity,Sarcoidosis",
         "findings": "Heart size and pulmonary vascularity appearin normal limits. Bilateral hilar fullness is present co…",
         "impression": " Continued hilar fullness consistent adenopathy and bilateral interstitial opacities. Stable as com…",
         "filename": "3972_IM-2032-2001.dcm.png",
         "projection": "Lateral",
         "caption": "Heart size and pulmonary vascularity appearin normal limits. Bilateral hilar fullness is present co…",
         "_deepnote_index_column": 7413
        },
        {
         "uid": 3974,
         "MeSH": "Lung hyperdistention,Pulmonary Emphysema,Airspace Disease lung middle lobe right patchy,Spine degen…",
         "Problems": "Lung,Pulmonary Emphysema,Airspace Disease,Spine",
         "findings": "The lungs are hyperexpanded consistent emphysema. The heart size and pulmonary vascularity appearin…",
         "impression": " Hyperexpanded lungs suggesting emphysema.  Patchy right middle lobe airspace disease. May represen…",
         "filename": "3974_IM-2034-2002.dcm.png",
         "projection": "Frontal",
         "caption": "The lungs are hyperexpanded consistent emphysema. The heart size and pulmonary vascularity appearin…",
         "_deepnote_index_column": 7415
        },
        {
         "uid": 3974,
         "MeSH": "Lung hyperdistention,Pulmonary Emphysema,Airspace Disease lung middle lobe right patchy,Spine degen…",
         "Problems": "Lung,Pulmonary Emphysema,Airspace Disease,Spine",
         "findings": "The lungs are hyperexpanded consistent emphysema. The heart size and pulmonary vascularity appearin…",
         "impression": " Hyperexpanded lungs suggesting emphysema.  Patchy right middle lobe airspace disease. May represen…",
         "filename": "3974_IM-2034-3003.dcm.png",
         "projection": "Lateral",
         "caption": "The lungs are hyperexpanded consistent emphysema. The heart size and pulmonary vascularity appearin…",
         "_deepnote_index_column": 7416
        },
        {
         "uid": 3975,
         "MeSH": "No Indexing",
         "Problems": "No Indexing",
         "findings": "No focal consolidation. No visualized pneumothorax. No large pleural effusions. Heart size normal. …",
         "impression": " No acute cardiopulmonary findings",
         "filename": "3975_IM-2035-1001.dcm.png",
         "projection": "Frontal",
         "caption": "No focal consolidation. No visualized pneumothorax. No large pleural effusions. Heart size normal. …",
         "_deepnote_index_column": 7417
        },
        {
         "uid": 3975,
         "MeSH": "No Indexing",
         "Problems": "No Indexing",
         "findings": "No focal consolidation. No visualized pneumothorax. No large pleural effusions. Heart size normal. …",
         "impression": " No acute cardiopulmonary findings",
         "filename": "3975_IM-2035-2001.dcm.png",
         "projection": "Lateral",
         "caption": "No focal consolidation. No visualized pneumothorax. No large pleural effusions. Heart size normal. …",
         "_deepnote_index_column": 7418
        },
        {
         "uid": 3976,
         "MeSH": "normal",
         "Problems": "normal",
         "findings": "Heart size and mediastinal contour are normal. Pulmonary vascularity is normal. Lungs are clear. No…",
         "impression": "No acute cardiopulmonary process",
         "filename": "3976_IM-2035-1001.dcm.png",
         "projection": "Frontal",
         "caption": "Heart size and mediastinal contour are normal. Pulmonary vascularity is normal. Lungs are clear. No…",
         "_deepnote_index_column": 7419
        },
        {
         "uid": 3976,
         "MeSH": "normal",
         "Problems": "normal",
         "findings": "Heart size and mediastinal contour are normal. Pulmonary vascularity is normal. Lungs are clear. No…",
         "impression": "No acute cardiopulmonary process",
         "filename": "3976_IM-2035-2001.dcm.png",
         "projection": "Lateral",
         "caption": "Heart size and mediastinal contour are normal. Pulmonary vascularity is normal. Lungs are clear. No…",
         "_deepnote_index_column": 7420
        },
        {
         "uid": 3977,
         "MeSH": "Aorta, Thoracic tortuous,Calcified Granuloma lung lower lobe left",
         "Problems": "Aorta, Thoracic,Calcified Granuloma",
         "findings": "Normal heart size. Stable unfolding the thoracic aorta. No focal air space consolidation. No pleura…",
         "impression": "No acute cardiopulmonary abnormality",
         "filename": "3977_IM-2036-1001.dcm.png",
         "projection": "Frontal",
         "caption": "Normal heart size. Stable unfolding the thoracic aorta. No focal air space consolidation. No pleura…",
         "_deepnote_index_column": 7421
        },
        {
         "uid": 3977,
         "MeSH": "Aorta, Thoracic tortuous,Calcified Granuloma lung lower lobe left",
         "Problems": "Aorta, Thoracic,Calcified Granuloma",
         "findings": "Normal heart size. Stable unfolding the thoracic aorta. No focal air space consolidation. No pleura…",
         "impression": "No acute cardiopulmonary abnormality",
         "filename": "3977_IM-2036-2001.dcm.png",
         "projection": "Lateral",
         "caption": "Normal heart size. Stable unfolding the thoracic aorta. No focal air space consolidation. No pleura…",
         "_deepnote_index_column": 7422
        },
        {
         "uid": 3978,
         "MeSH": "normal",
         "Problems": "normal",
         "findings": "The heart is normal in size and contour. There is no mediastinal widening. The lungs are clear bila…",
         "impression": "No acute cardiopulmonary abnormalities",
         "filename": "3978_IM-2037-0001-0001.dcm.png",
         "projection": "Frontal",
         "caption": "The heart is normal in size and contour. There is no mediastinal widening. The lungs are clear bila…",
         "_deepnote_index_column": 7423
        },
        {
         "uid": 3978,
         "MeSH": "normal",
         "Problems": "normal",
         "findings": "The heart is normal in size and contour. There is no mediastinal widening. The lungs are clear bila…",
         "impression": "No acute cardiopulmonary abnormalities",
         "filename": "3978_IM-2037-0001-0002.dcm.png",
         "projection": "Lateral",
         "caption": "The heart is normal in size and contour. There is no mediastinal widening. The lungs are clear bila…",
         "_deepnote_index_column": 7424
        },
        {
         "uid": 3979,
         "MeSH": "Aorta tortuous mild,Atherosclerosis aorta mild",
         "Problems": "Aorta,Atherosclerosis",
         "findings": "Normal heart size. Mild unfolding and atherosclerotic calcification of the aorta. No focal air spac…",
         "impression": "No acute cardiopulmonary abnormalities",
         "filename": "3979_IM-2038-1001.dcm.png",
         "projection": "Frontal",
         "caption": "Normal heart size. Mild unfolding and atherosclerotic calcification of the aorta. No focal air spac…",
         "_deepnote_index_column": 7425
        },
        {
         "uid": 3979,
         "MeSH": "Aorta tortuous mild,Atherosclerosis aorta mild",
         "Problems": "Aorta,Atherosclerosis",
         "findings": "Normal heart size. Mild unfolding and atherosclerotic calcification of the aorta. No focal air spac…",
         "impression": "No acute cardiopulmonary abnormalities",
         "filename": "3979_IM-2038-2001.dcm.png",
         "projection": "Lateral",
         "caption": "Normal heart size. Mild unfolding and atherosclerotic calcification of the aorta. No focal air spac…",
         "_deepnote_index_column": 7426
        },
        {
         "uid": 3980,
         "MeSH": "Cardiomegaly moderate,Pleural Effusion left small,Thickening pleura left,Opacity lung base bilatera…",
         "Problems": "Cardiomegaly,Pleural Effusion,Thickening,Opacity,Costophrenic Angle,Diaphragmatic Eventration",
         "findings": "Heart size moderately enlarged. Mild left costophrenic  blunting. Streaky and patchy bibasilar opac…",
         "impression": " Cardiomegaly and small left pleural effusion versus pleural thickening  Streaky and patchy bibasil…",
         "filename": "3980_IM-2039-1001.dcm.png",
         "projection": "Frontal",
         "caption": "Heart size moderately enlarged. Mild left costophrenic  blunting. Streaky and patchy bibasilar opac…",
         "_deepnote_index_column": 7427
        },
        {
         "uid": 3980,
         "MeSH": "Cardiomegaly moderate,Pleural Effusion left small,Thickening pleura left,Opacity lung base bilatera…",
         "Problems": "Cardiomegaly,Pleural Effusion,Thickening,Opacity,Costophrenic Angle,Diaphragmatic Eventration",
         "findings": "Heart size moderately enlarged. Mild left costophrenic  blunting. Streaky and patchy bibasilar opac…",
         "impression": " Cardiomegaly and small left pleural effusion versus pleural thickening  Streaky and patchy bibasil…",
         "filename": "3980_IM-2039-2001.dcm.png",
         "projection": "Lateral",
         "caption": "Heart size moderately enlarged. Mild left costophrenic  blunting. Streaky and patchy bibasilar opac…",
         "_deepnote_index_column": 7428
        },
        {
         "uid": 3981,
         "MeSH": "normal",
         "Problems": "normal",
         "findings": "The lungs are clear. There is no pleural effusion or pneumothorax. The heart and mediastinum are no…",
         "impression": "No acute pulmonary disease",
         "filename": "3981_IM-2039-1001.dcm.png",
         "projection": "Frontal",
         "caption": "The lungs are clear. There is no pleural effusion or pneumothorax. The heart and mediastinum are no…",
         "_deepnote_index_column": 7429
        },
        {
         "uid": 3981,
         "MeSH": "normal",
         "Problems": "normal",
         "findings": "The lungs are clear. There is no pleural effusion or pneumothorax. The heart and mediastinum are no…",
         "impression": "No acute pulmonary disease",
         "filename": "3981_IM-2039-2001.dcm.png",
         "projection": "Lateral",
         "caption": "The lungs are clear. There is no pleural effusion or pneumothorax. The heart and mediastinum are no…",
         "_deepnote_index_column": 7430
        },
        {
         "uid": 3982,
         "MeSH": "normal",
         "Problems": "normal",
         "findings": "Normal heart size. No focal airspace consolidation, pneumothorax, pleural effusion, or pulmonary ed…",
         "impression": "No acute cardiothoracic abnormality",
         "filename": "3982_IM-2039-1001.dcm.png",
         "projection": "Frontal",
         "caption": "Normal heart size. No focal airspace consolidation, pneumothorax, pleural effusion, or pulmonary ed…",
         "_deepnote_index_column": 7431
        },
        {
         "uid": 3982,
         "MeSH": "normal",
         "Problems": "normal",
         "findings": "Normal heart size. No focal airspace consolidation, pneumothorax, pleural effusion, or pulmonary ed…",
         "impression": "No acute cardiothoracic abnormality",
         "filename": "3982_IM-2039-2001.dcm.png",
         "projection": "Lateral",
         "caption": "Normal heart size. No focal airspace consolidation, pneumothorax, pleural effusion, or pulmonary ed…",
         "_deepnote_index_column": 7432
        },
        {
         "uid": 3983,
         "MeSH": "Opacity lung base left,Pulmonary Atelectasis base right",
         "Problems": "Opacity,Pulmonary Atelectasis",
         "findings": "There is a left basilar airspace opacity. Right basilar atelectasis. The heart size and mediastinal…",
         "impression": "There is a left basilar airspace opacity, which is concerning for pneumonia.  Right basilar atelect…",
         "filename": "3983_IM-2039-1001.dcm.png",
         "projection": "Frontal",
         "caption": "There is a left basilar airspace opacity. Right basilar atelectasis. The heart size and mediastinal…",
         "_deepnote_index_column": 7433
        },
        {
         "uid": 3983,
         "MeSH": "Opacity lung base left,Pulmonary Atelectasis base right",
         "Problems": "Opacity,Pulmonary Atelectasis",
         "findings": "There is a left basilar airspace opacity. Right basilar atelectasis. The heart size and mediastinal…",
         "impression": "There is a left basilar airspace opacity, which is concerning for pneumonia.  Right basilar atelect…",
         "filename": "3983_IM-2039-2001.dcm.png",
         "projection": "Lateral",
         "caption": "There is a left basilar airspace opacity. Right basilar atelectasis. The heart size and mediastinal…",
         "_deepnote_index_column": 7434
        },
        {
         "uid": 3984,
         "MeSH": "Aorta, Thoracic tortuous,Calcinosis lung hilum lymph nodes,Calcinosis mediastinum lymph nodes",
         "Problems": "Aorta, Thoracic,Calcinosis,Calcinosis",
         "findings": "The lungs appear clear. The thoracic aorta remains tortuous. The presence of an aortic aneurysm can…",
         "impression": " Stable tortuosity of the thoracic aorta. The presence of an underlying aneurysm cannot be excluded…",
         "filename": "3984_IM-2040-1001.dcm.png",
         "projection": "Frontal",
         "caption": "The lungs appear clear. The thoracic aorta remains tortuous. The presence of an aortic aneurysm can…",
         "_deepnote_index_column": 7435
        },
        {
         "uid": 3984,
         "MeSH": "Aorta, Thoracic tortuous,Calcinosis lung hilum lymph nodes,Calcinosis mediastinum lymph nodes",
         "Problems": "Aorta, Thoracic,Calcinosis,Calcinosis",
         "findings": "The lungs appear clear. The thoracic aorta remains tortuous. The presence of an aortic aneurysm can…",
         "impression": " Stable tortuosity of the thoracic aorta. The presence of an underlying aneurysm cannot be excluded…",
         "filename": "3984_IM-2040-3003.dcm.png",
         "projection": "Lateral",
         "caption": "The lungs appear clear. The thoracic aorta remains tortuous. The presence of an aortic aneurysm can…",
         "_deepnote_index_column": 7436
        },
        {
         "uid": 3985,
         "MeSH": "Calcified Granuloma lung lower lobe left anterior",
         "Problems": "Calcified Granuloma",
         "findings": "No pneumothorax, pleural effusion or airspace consolidation. Heart size and pulmonary vasculature a…",
         "impression": "No acute cardiopulmonary abnormality",
         "filename": "3985_IM-2041-1001.dcm.png",
         "projection": "Frontal",
         "caption": "No pneumothorax, pleural effusion or airspace consolidation. Heart size and pulmonary vasculature a…",
         "_deepnote_index_column": 7437
        },
        {
         "uid": 3985,
         "MeSH": "Calcified Granuloma lung lower lobe left anterior",
         "Problems": "Calcified Granuloma",
         "findings": "No pneumothorax, pleural effusion or airspace consolidation. Heart size and pulmonary vasculature a…",
         "impression": "No acute cardiopulmonary abnormality",
         "filename": "3985_IM-2041-2001.dcm.png",
         "projection": "Lateral",
         "caption": "No pneumothorax, pleural effusion or airspace consolidation. Heart size and pulmonary vasculature a…",
         "_deepnote_index_column": 7438
        },
        {
         "uid": 3986,
         "MeSH": "normal",
         "Problems": "normal",
         "findings": "The cardiomediastinal silhouette and vasculature arein normal limits for size and contour. The lung…",
         "impression": " No acute radiographic cardiopulmonary process",
         "filename": "3986_IM-2041-1001.dcm.png",
         "projection": "Frontal",
         "caption": "The cardiomediastinal silhouette and vasculature arein normal limits for size and contour. The lung…",
         "_deepnote_index_column": 7439
        },
        {
         "uid": 3986,
         "MeSH": "normal",
         "Problems": "normal",
         "findings": "The cardiomediastinal silhouette and vasculature arein normal limits for size and contour. The lung…",
         "impression": " No acute radiographic cardiopulmonary process",
         "filename": "3986_IM-2041-3001.dcm.png",
         "projection": "Frontal",
         "caption": "The cardiomediastinal silhouette and vasculature arein normal limits for size and contour. The lung…",
         "_deepnote_index_column": 7440
        },
        {
         "uid": 3986,
         "MeSH": "normal",
         "Problems": "normal",
         "findings": "The cardiomediastinal silhouette and vasculature arein normal limits for size and contour. The lung…",
         "impression": " No acute radiographic cardiopulmonary process",
         "filename": "3986_IM-2041-2001.dcm.png",
         "projection": "Lateral",
         "caption": "The cardiomediastinal silhouette and vasculature arein normal limits for size and contour. The lung…",
         "_deepnote_index_column": 7441
        },
        {
         "uid": 3987,
         "MeSH": "Thoracic Vertebrae scattered degenerative,Osteophyte thoracic vertebrae multiple",
         "Problems": "Thoracic Vertebrae,Osteophyte",
         "findings": "No acute osseous abnormality. Stable scattered endplate degenerative changes and osteophyte formati…",
         "impression": " No acute radiographic cardiopulmonary or osseous process",
         "filename": "3987_IM-2041-1001.dcm.png",
         "projection": "Frontal",
         "caption": "No acute osseous abnormality. Stable scattered endplate degenerative changes and osteophyte formati…",
         "_deepnote_index_column": 7442
        },
        {
         "uid": 3987,
         "MeSH": "Thoracic Vertebrae scattered degenerative,Osteophyte thoracic vertebrae multiple",
         "Problems": "Thoracic Vertebrae,Osteophyte",
         "findings": "No acute osseous abnormality. Stable scattered endplate degenerative changes and osteophyte formati…",
         "impression": " No acute radiographic cardiopulmonary or osseous process",
         "filename": "3987_IM-2041-2001.dcm.png",
         "projection": "Lateral",
         "caption": "No acute osseous abnormality. Stable scattered endplate degenerative changes and osteophyte formati…",
         "_deepnote_index_column": 7443
        },
        {
         "uid": 3988,
         "MeSH": "Opacity lung lingula streaky,Opacity lung base left streaky,Diaphragm left elevated,Calcified Granu…",
         "Problems": "Opacity,Opacity,Diaphragm,Calcified Granuloma",
         "findings": "No acute osseous abnormalities. Left midlung, and basilar streaky opacity. There is elevation of th…",
         "impression": "No acute osseous abnormalities. If continued clinical concern for rib fracture dedicated rib films …",
         "filename": "3988_IM-2041-1001.dcm.png",
         "projection": "Frontal",
         "caption": "No acute osseous abnormalities. Left midlung, and basilar streaky opacity. There is elevation of th…",
         "_deepnote_index_column": 7444
        },
        {
         "uid": 3988,
         "MeSH": "Opacity lung lingula streaky,Opacity lung base left streaky,Diaphragm left elevated,Calcified Granu…",
         "Problems": "Opacity,Opacity,Diaphragm,Calcified Granuloma",
         "findings": "No acute osseous abnormalities. Left midlung, and basilar streaky opacity. There is elevation of th…",
         "impression": "No acute osseous abnormalities. If continued clinical concern for rib fracture dedicated rib films …",
         "filename": "3988_IM-2041-2001.dcm.png",
         "projection": "Lateral",
         "caption": "No acute osseous abnormalities. Left midlung, and basilar streaky opacity. There is elevation of th…",
         "_deepnote_index_column": 7445
        },
        {
         "uid": 3989,
         "MeSH": "Diaphragmatic Eventration right",
         "Problems": "Diaphragmatic Eventration",
         "findings": "Heart sizein normal limits. Right hemidiaphragm eventration noted. No focal alveolar consolidation,…",
         "impression": "No acute cardiopulmonary findings",
         "filename": "3989_IM-2042-1001.dcm.png",
         "projection": "Frontal",
         "caption": "Heart sizein normal limits. Right hemidiaphragm eventration noted. No focal alveolar consolidation,…",
         "_deepnote_index_column": 7446
        },
        {
         "uid": 3989,
         "MeSH": "Diaphragmatic Eventration right",
         "Problems": "Diaphragmatic Eventration",
         "findings": "Heart sizein normal limits. Right hemidiaphragm eventration noted. No focal alveolar consolidation,…",
         "impression": "No acute cardiopulmonary findings",
         "filename": "3989_IM-2042-2001.dcm.png",
         "projection": "Lateral",
         "caption": "Heart sizein normal limits. Right hemidiaphragm eventration noted. No focal alveolar consolidation,…",
         "_deepnote_index_column": 7447
        },
        {
         "uid": 3991,
         "MeSH": "Spondylosis thoracic vertebrae",
         "Problems": "Spondylosis",
         "findings": "The cardiac contours are normal. The lungs are clear. Thoracic spondylosis",
         "impression": "No acute preoperative findings",
         "filename": "3991_IM-2044-1001.dcm.png",
         "projection": "Frontal",
         "caption": "The cardiac contours are normal. The lungs are clear. Thoracic spondylosis. No acute preoperative f…",
         "_deepnote_index_column": 7448
        },
        {
         "uid": 3991,
         "MeSH": "Spondylosis thoracic vertebrae",
         "Problems": "Spondylosis",
         "findings": "The cardiac contours are normal. The lungs are clear. Thoracic spondylosis",
         "impression": "No acute preoperative findings",
         "filename": "3991_IM-2044-2001.dcm.png",
         "projection": "Lateral",
         "caption": "The cardiac contours are normal. The lungs are clear. Thoracic spondylosis. No acute preoperative f…",
         "_deepnote_index_column": 7449
        },
        {
         "uid": 3992,
         "MeSH": "Pulmonary Congestion",
         "Problems": "Pulmonary Congestion",
         "findings": "no findings",
         "impression": "Prior sternotomy. Midline sternotomy. Normal heart size. Vascular congestion. No overt edema or lob…",
         "filename": "3992_IM-2044-1001.dcm.png",
         "projection": "Frontal",
         "caption": "Prior sternotomy. Midline sternotomy. Normal heart size. Vascular congestion. No overt edema or lob…",
         "_deepnote_index_column": 7450
        },
        {
         "uid": 3992,
         "MeSH": "Pulmonary Congestion",
         "Problems": "Pulmonary Congestion",
         "findings": "no findings",
         "impression": "Prior sternotomy. Midline sternotomy. Normal heart size. Vascular congestion. No overt edema or lob…",
         "filename": "3992_IM-2044-2001.dcm.png",
         "projection": "Lateral",
         "caption": "Prior sternotomy. Midline sternotomy. Normal heart size. Vascular congestion. No overt edema or lob…",
         "_deepnote_index_column": 7451
        },
        {
         "uid": 3993,
         "MeSH": "Cardiomegaly mild,Diaphragm left elevated",
         "Problems": "Cardiomegaly,Diaphragm",
         "findings": "The heart is mildly enlarged. Left hemidiaphragm is elevated. There is no acute infiltrate or pleur…",
         "impression": "Borderline cardiomegalyout acute disease",
         "filename": "3993_IM-2044-1001.dcm.png",
         "projection": "Frontal",
         "caption": "The heart is mildly enlarged. Left hemidiaphragm is elevated. There is no acute infiltrate or pleur…",
         "_deepnote_index_column": 7452
        },
        {
         "uid": 3993,
         "MeSH": "Cardiomegaly mild,Diaphragm left elevated",
         "Problems": "Cardiomegaly,Diaphragm",
         "findings": "The heart is mildly enlarged. Left hemidiaphragm is elevated. There is no acute infiltrate or pleur…",
         "impression": "Borderline cardiomegalyout acute disease",
         "filename": "3993_IM-2044-1002.dcm.png",
         "projection": "Lateral",
         "caption": "The heart is mildly enlarged. Left hemidiaphragm is elevated. There is no acute infiltrate or pleur…",
         "_deepnote_index_column": 7453
        },
        {
         "uid": 3994,
         "MeSH": "Cardiomegaly mild,Pulmonary Congestion,Heart Failure mild",
         "Problems": "Cardiomegaly,Pulmonary Congestion,Heart Failure",
         "findings": "Similar mild cardiomegaly. Of the pulmonary vascularity is prominent. No focal consolidations or ef…",
         "impression": "Mild cardiomegaly  of early failure",
         "filename": "3994_IM-2045-2001.dcm.png",
         "projection": "Frontal",
         "caption": "Similar mild cardiomegaly. Of the pulmonary vascularity is prominent. No focal consolidations or ef…",
         "_deepnote_index_column": 7454
        },
        {
         "uid": 3994,
         "MeSH": "Cardiomegaly mild,Pulmonary Congestion,Heart Failure mild",
         "Problems": "Cardiomegaly,Pulmonary Congestion,Heart Failure",
         "findings": "Similar mild cardiomegaly. Of the pulmonary vascularity is prominent. No focal consolidations or ef…",
         "impression": "Mild cardiomegaly  of early failure",
         "filename": "3994_IM-2045-1001.dcm.png",
         "projection": "Lateral",
         "caption": "Similar mild cardiomegaly. Of the pulmonary vascularity is prominent. No focal consolidations or ef…",
         "_deepnote_index_column": 7455
        },
        {
         "uid": 3995,
         "MeSH": "Lung hyperdistention mild,Diaphragm bilateral flattened,Cicatrix lung middle lobe right mild,Pulmon…",
         "Problems": "Lung,Diaphragm,Cicatrix,Pulmonary Atelectasis,Pulmonary Emphysema",
         "findings": "The cardiomediastinal silhouette and pulmonary vasculature arein normal limits in size. The lungs a…",
         "impression": " Interval resolution of bibasilar airspace disease.  Hyperinflation chronic changes of emphysema",
         "filename": "3995_IM-2046-1001.dcm.png",
         "projection": "Frontal",
         "caption": "The cardiomediastinal silhouette and pulmonary vasculature arein normal limits in size. The lungs a…",
         "_deepnote_index_column": 7456
        },
        {
         "uid": 3995,
         "MeSH": "Lung hyperdistention mild,Diaphragm bilateral flattened,Cicatrix lung middle lobe right mild,Pulmon…",
         "Problems": "Lung,Diaphragm,Cicatrix,Pulmonary Atelectasis,Pulmonary Emphysema",
         "findings": "The cardiomediastinal silhouette and pulmonary vasculature arein normal limits in size. The lungs a…",
         "impression": " Interval resolution of bibasilar airspace disease.  Hyperinflation chronic changes of emphysema",
         "filename": "3995_IM-2046-2001.dcm.png",
         "projection": "Lateral",
         "caption": "The cardiomediastinal silhouette and pulmonary vasculature arein normal limits in size. The lungs a…",
         "_deepnote_index_column": 7457
        },
        {
         "uid": 3996,
         "MeSH": "Spine degenerative",
         "Problems": "Spine",
         "findings": "The lungs are clear. Heart size is normal. No pneumothorax. There are endplate changes in the spine",
         "impression": "Clear lungs. No acute cardiopulmonary abnormality",
         "filename": "3996_IM-2047-1001.dcm.png",
         "projection": "Frontal",
         "caption": "The lungs are clear. Heart size is normal. No pneumothorax. There are endplate changes in the spine…",
         "_deepnote_index_column": 7458
        },
        {
         "uid": 3996,
         "MeSH": "Spine degenerative",
         "Problems": "Spine",
         "findings": "The lungs are clear. Heart size is normal. No pneumothorax. There are endplate changes in the spine",
         "impression": "Clear lungs. No acute cardiopulmonary abnormality",
         "filename": "3996_IM-2047-3001.dcm.png",
         "projection": "Lateral",
         "caption": "The lungs are clear. Heart size is normal. No pneumothorax. There are endplate changes in the spine…",
         "_deepnote_index_column": 7459
        },
        {
         "uid": 3997,
         "MeSH": "Opacity lung upper lobe right round small,Granuloma lung upper lobe right round small",
         "Problems": "Opacity,Granuloma",
         "findings": "Heart sizein normal limits. Small, nodular opacity in the right upper lobe. This does not look like…",
         "impression": "No acute findings, no evidence for active TB",
         "filename": "3997_IM-2048-1001.dcm.png",
         "projection": "Frontal",
         "caption": "Heart sizein normal limits. Small, nodular opacity in the right upper lobe. This does not look like…",
         "_deepnote_index_column": 7460
        },
        {
         "uid": 3997,
         "MeSH": "Opacity lung upper lobe right round small,Granuloma lung upper lobe right round small",
         "Problems": "Opacity,Granuloma",
         "findings": "Heart sizein normal limits. Small, nodular opacity in the right upper lobe. This does not look like…",
         "impression": "No acute findings, no evidence for active TB",
         "filename": "3997_IM-2048-1002.dcm.png",
         "projection": "Lateral",
         "caption": "Heart sizein normal limits. Small, nodular opacity in the right upper lobe. This does not look like…",
         "_deepnote_index_column": 7461
        },
        {
         "uid": 3998,
         "MeSH": "normal",
         "Problems": "normal",
         "findings": "no unusual findings",
         "impression": "Heart size is normal and the lungs are clear",
         "filename": "3998_IM-2048-1001.dcm.png",
         "projection": "Frontal",
         "caption": "Heart size is normal and the lungs are clear",
         "_deepnote_index_column": 7462
        },
        {
         "uid": 3998,
         "MeSH": "normal",
         "Problems": "normal",
         "findings": "no unusual findings",
         "impression": "Heart size is normal and the lungs are clear",
         "filename": "3998_IM-2048-1002.dcm.png",
         "projection": "Lateral",
         "caption": "Heart size is normal and the lungs are clear",
         "_deepnote_index_column": 7463
        },
        {
         "uid": 3999,
         "MeSH": "normal",
         "Problems": "normal",
         "findings": "no unusual findings",
         "impression": "The cardiac silhouette is normal in size and configuration. The mediastinum and perihilar structure…",
         "filename": "3999_IM-2049-1001.dcm.png",
         "projection": "Frontal",
         "caption": "The cardiac silhouette is normal in size and configuration. The mediastinum and perihilar structure…",
         "_deepnote_index_column": 7464
        },
        {
         "uid": 3999,
         "MeSH": "normal",
         "Problems": "normal",
         "findings": "no unusual findings",
         "impression": "The cardiac silhouette is normal in size and configuration. The mediastinum and perihilar structure…",
         "filename": "3999_IM-2049-2001.dcm.png",
         "projection": "Lateral",
         "caption": "The cardiac silhouette is normal in size and configuration. The mediastinum and perihilar structure…",
         "_deepnote_index_column": 7465
        }
       ]
      },
      "text/plain": "       uid                                               MeSH  \\\n0        1                                             normal   \n1        1                                             normal   \n2        2  Cardiomegaly borderline,Pulmonary Artery enlarged   \n3        2  Cardiomegaly borderline,Pulmonary Artery enlarged   \n4        3                                             normal   \n...    ...                                                ...   \n7461  3997  Opacity lung upper lobe right round small,Gran...   \n7462  3998                                             normal   \n7463  3998                                             normal   \n7464  3999                                             normal   \n7465  3999                                             normal   \n\n                           Problems  \\\n0                            normal   \n1                            normal   \n2     Cardiomegaly,Pulmonary Artery   \n3     Cardiomegaly,Pulmonary Artery   \n4                            normal   \n...                             ...   \n7461              Opacity,Granuloma   \n7462                         normal   \n7463                         normal   \n7464                         normal   \n7465                         normal   \n\n                                               findings  \\\n0     The cardiac silhouette and mediastinum size ar...   \n1     The cardiac silhouette and mediastinum size ar...   \n2     Borderline cardiomegaly. Midline sternotomy. E...   \n3     Borderline cardiomegaly. Midline sternotomy. E...   \n4                                   no unusual findings   \n...                                                 ...   \n7461  Heart sizein normal limits. Small, nodular opa...   \n7462                                no unusual findings   \n7463                                no unusual findings   \n7464                                no unusual findings   \n7465                                no unusual findings   \n\n                                             impression  \\\n0                                          Normal chest   \n1                                          Normal chest   \n2                           No acute pulmonary findings   \n3                           No acute pulmonary findings   \n4     No displaced rib fractures, pneumothorax, or p...   \n...                                                 ...   \n7461       No acute findings, no evidence for active TB   \n7462       Heart size is normal and the lungs are clear   \n7463       Heart size is normal and the lungs are clear   \n7464  The cardiac silhouette is normal in size and c...   \n7465  The cardiac silhouette is normal in size and c...   \n\n                       filename projection  \\\n0        1_IM-0001-4001.dcm.png    Frontal   \n1        1_IM-0001-3001.dcm.png    Lateral   \n2        2_IM-0652-1001.dcm.png    Frontal   \n3        2_IM-0652-2001.dcm.png    Lateral   \n4        3_IM-1384-1001.dcm.png    Frontal   \n...                         ...        ...   \n7461  3997_IM-2048-1002.dcm.png    Lateral   \n7462  3998_IM-2048-1001.dcm.png    Frontal   \n7463  3998_IM-2048-1002.dcm.png    Lateral   \n7464  3999_IM-2049-1001.dcm.png    Frontal   \n7465  3999_IM-2049-2001.dcm.png    Lateral   \n\n                                                caption  \n0     The cardiac silhouette and mediastinum size ar...  \n1     The cardiac silhouette and mediastinum size ar...  \n2     Borderline cardiomegaly. Midline sternotomy. E...  \n3     Borderline cardiomegaly. Midline sternotomy. E...  \n4     No displaced rib fractures, pneumothorax, or p...  \n...                                                 ...  \n7461  Heart sizein normal limits. Small, nodular opa...  \n7462       Heart size is normal and the lungs are clear  \n7463       Heart size is normal and the lungs are clear  \n7464  The cardiac silhouette is normal in size and c...  \n7465  The cardiac silhouette is normal in size and c...  \n\n[7426 rows x 8 columns]",
      "text/html": "<div>\n<style scoped>\n    .dataframe tbody tr th:only-of-type {\n        vertical-align: middle;\n    }\n\n    .dataframe tbody tr th {\n        vertical-align: top;\n    }\n\n    .dataframe thead th {\n        text-align: right;\n    }\n</style>\n<table border=\"1\" class=\"dataframe\">\n  <thead>\n    <tr style=\"text-align: right;\">\n      <th></th>\n      <th>uid</th>\n      <th>MeSH</th>\n      <th>Problems</th>\n      <th>findings</th>\n      <th>impression</th>\n      <th>filename</th>\n      <th>projection</th>\n      <th>caption</th>\n    </tr>\n  </thead>\n  <tbody>\n    <tr>\n      <th>0</th>\n      <td>1</td>\n      <td>normal</td>\n      <td>normal</td>\n      <td>The cardiac silhouette and mediastinum size ar...</td>\n      <td>Normal chest</td>\n      <td>1_IM-0001-4001.dcm.png</td>\n      <td>Frontal</td>\n      <td>The cardiac silhouette and mediastinum size ar...</td>\n    </tr>\n    <tr>\n      <th>1</th>\n      <td>1</td>\n      <td>normal</td>\n      <td>normal</td>\n      <td>The cardiac silhouette and mediastinum size ar...</td>\n      <td>Normal chest</td>\n      <td>1_IM-0001-3001.dcm.png</td>\n      <td>Lateral</td>\n      <td>The cardiac silhouette and mediastinum size ar...</td>\n    </tr>\n    <tr>\n      <th>2</th>\n      <td>2</td>\n      <td>Cardiomegaly borderline,Pulmonary Artery enlarged</td>\n      <td>Cardiomegaly,Pulmonary Artery</td>\n      <td>Borderline cardiomegaly. Midline sternotomy. E...</td>\n      <td>No acute pulmonary findings</td>\n      <td>2_IM-0652-1001.dcm.png</td>\n      <td>Frontal</td>\n      <td>Borderline cardiomegaly. Midline sternotomy. E...</td>\n    </tr>\n    <tr>\n      <th>3</th>\n      <td>2</td>\n      <td>Cardiomegaly borderline,Pulmonary Artery enlarged</td>\n      <td>Cardiomegaly,Pulmonary Artery</td>\n      <td>Borderline cardiomegaly. Midline sternotomy. E...</td>\n      <td>No acute pulmonary findings</td>\n      <td>2_IM-0652-2001.dcm.png</td>\n      <td>Lateral</td>\n      <td>Borderline cardiomegaly. Midline sternotomy. E...</td>\n    </tr>\n    <tr>\n      <th>4</th>\n      <td>3</td>\n      <td>normal</td>\n      <td>normal</td>\n      <td>no unusual findings</td>\n      <td>No displaced rib fractures, pneumothorax, or p...</td>\n      <td>3_IM-1384-1001.dcm.png</td>\n      <td>Frontal</td>\n      <td>No displaced rib fractures, pneumothorax, or p...</td>\n    </tr>\n    <tr>\n      <th>...</th>\n      <td>...</td>\n      <td>...</td>\n      <td>...</td>\n      <td>...</td>\n      <td>...</td>\n      <td>...</td>\n      <td>...</td>\n      <td>...</td>\n    </tr>\n    <tr>\n      <th>7461</th>\n      <td>3997</td>\n      <td>Opacity lung upper lobe right round small,Gran...</td>\n      <td>Opacity,Granuloma</td>\n      <td>Heart sizein normal limits. Small, nodular opa...</td>\n      <td>No acute findings, no evidence for active TB</td>\n      <td>3997_IM-2048-1002.dcm.png</td>\n      <td>Lateral</td>\n      <td>Heart sizein normal limits. Small, nodular opa...</td>\n    </tr>\n    <tr>\n      <th>7462</th>\n      <td>3998</td>\n      <td>normal</td>\n      <td>normal</td>\n      <td>no unusual findings</td>\n      <td>Heart size is normal and the lungs are clear</td>\n      <td>3998_IM-2048-1001.dcm.png</td>\n      <td>Frontal</td>\n      <td>Heart size is normal and the lungs are clear</td>\n    </tr>\n    <tr>\n      <th>7463</th>\n      <td>3998</td>\n      <td>normal</td>\n      <td>normal</td>\n      <td>no unusual findings</td>\n      <td>Heart size is normal and the lungs are clear</td>\n      <td>3998_IM-2048-1002.dcm.png</td>\n      <td>Lateral</td>\n      <td>Heart size is normal and the lungs are clear</td>\n    </tr>\n    <tr>\n      <th>7464</th>\n      <td>3999</td>\n      <td>normal</td>\n      <td>normal</td>\n      <td>no unusual findings</td>\n      <td>The cardiac silhouette is normal in size and c...</td>\n      <td>3999_IM-2049-1001.dcm.png</td>\n      <td>Frontal</td>\n      <td>The cardiac silhouette is normal in size and c...</td>\n    </tr>\n    <tr>\n      <th>7465</th>\n      <td>3999</td>\n      <td>normal</td>\n      <td>normal</td>\n      <td>no unusual findings</td>\n      <td>The cardiac silhouette is normal in size and c...</td>\n      <td>3999_IM-2049-2001.dcm.png</td>\n      <td>Lateral</td>\n      <td>The cardiac silhouette is normal in size and c...</td>\n    </tr>\n  </tbody>\n</table>\n<p>7426 rows × 8 columns</p>\n</div>"
     },
     "metadata": {}
    }
   ]
  },
  {
   "cell_type": "markdown",
   "source": "### e. Additional text cleaning\n- Case folding\n- Fixing unicode\n- Replace contractions, etc.",
   "metadata": {
    "tags": [],
    "cell_id": "00025-bc112c24-435e-44bb-a02a-5fefaf0344da",
    "deepnote_cell_type": "markdown"
   }
  },
  {
   "cell_type": "code",
   "metadata": {
    "tags": [],
    "cell_id": "00022-7a7556de-0308-4a86-9fb7-2ca54b44a790",
    "deepnote_to_be_reexecuted": false,
    "source_hash": "a95d7dcc",
    "execution_start": 1637514011791,
    "execution_millis": 0,
    "deepnote_cell_type": "code"
   },
   "source": "#Get all punctuations except fullstop \npunct_with_fullstop = string.punctuation.replace('.','')\n\ndef clean_text(text,clean_all=True, clean_with_clean_txt=False, clean_punc=False, \n               clean_contractions = False):\n    \n    \"\"\"\n    Function to clean text leveraging the cleantext, string and contractions packages\n    \n    Input:\n        - text (str): Uncleaned tweet\n        - clean_all (bool): Perform all cleaning operations\n        - clean_with_clean_txt (bool): Perform cleaning with clean-text package\n        - clean_punc (bool): Remove punctuations except fullstop\n        - clean_contractions (bool): Replace contractions with their full words\n        \n    Output:\n        - cleaned_text (str): Cleaned tweet\n    \"\"\"\n\n    #Perform all cleaning operations\n    if clean_all:\n        clean_with_clean_txt = True\n        clean_punc = True\n        clean_contractions = True\n\n    #Use clean-text package to fix unicode, case fold, etc.\n    if clean_with_clean_txt:\n        cleaned_text=clean(text,\n                        fix_unicode=True, # fix various unicode errors\n                        to_ascii=True,    # transliterate to closest ASCII representation\n                        lower=True,       # lowercase text\n                        no_line_breaks=True, # fully strip line breaks\n                        no_urls=True,      # replace all URLs with ''\n                        no_emails=True,   # replace all email addresses with ''\n                        no_phone_numbers=True, # replace all phone numbers with ''\n                        no_currency_symbols= True, # replace all currency symbols with ''\n                        )\n    \n    if clean_punc:\n        #Remove punctuations except fullstop\n        #We don't remove fullstops because it helps separate sentences\n        cleaned_text = cleaned_text.translate(str.maketrans('', '', punct_with_fullstop))\n\n\n    if clean_contractions:\n        #Replace contractions with full words\n        cleaned_text = contractions.fix(cleaned_text)\n\n    \n    return cleaned_text",
   "execution_count": null,
   "outputs": []
  },
  {
   "cell_type": "code",
   "metadata": {
    "tags": [],
    "cell_id": "00023-8362820f-0512-4a2f-af59-d2fb9b5b81e2",
    "deepnote_to_be_reexecuted": false,
    "source_hash": "ae3c636d",
    "execution_start": 1637514011819,
    "execution_millis": 33724,
    "deepnote_cell_type": "code"
   },
   "source": "#Perform full clean on findings,impression, and captions column using the function above\nfor col in ['findings','impression','caption']:\n    data_dropped_nans[col] = data_dropped_nans[col].apply(clean_text)\n\n#Partial cleaning on MeSH and Problem\nfor col in ['MeSH','Problems']:\n    data_dropped_nans[col] = data_dropped_nans[col].apply(clean_text, args=(False,True,False,True))",
   "execution_count": null,
   "outputs": [
    {
     "name": "stderr",
     "text": "/shared-libs/python3.7/py-core/lib/python3.7/site-packages/ipykernel_launcher.py:3: SettingWithCopyWarning: \nA value is trying to be set on a copy of a slice from a DataFrame.\nTry using .loc[row_indexer,col_indexer] = value instead\n\nSee the caveats in the documentation: https://pandas.pydata.org/pandas-docs/stable/user_guide/indexing.html#returning-a-view-versus-a-copy\n  This is separate from the ipykernel package so we can avoid doing imports until\n/shared-libs/python3.7/py-core/lib/python3.7/site-packages/ipykernel_launcher.py:7: SettingWithCopyWarning: \nA value is trying to be set on a copy of a slice from a DataFrame.\nTry using .loc[row_indexer,col_indexer] = value instead\n\nSee the caveats in the documentation: https://pandas.pydata.org/pandas-docs/stable/user_guide/indexing.html#returning-a-view-versus-a-copy\n  import sys\n",
     "output_type": "stream"
    }
   ]
  },
  {
   "cell_type": "code",
   "metadata": {
    "tags": [],
    "cell_id": "00029-93512a84-ddb5-4148-ad4f-2289e3d07c68",
    "deepnote_to_be_reexecuted": false,
    "source_hash": "3b4f6952",
    "execution_start": 1637514045550,
    "execution_millis": 10,
    "deepnote_cell_type": "code"
   },
   "source": "#Random sample from the different columns to visualize output of cleaning process\nfor col in ['MeSH','Problems','findings','impression','caption']:\n    print(col.capitalize())\n    print('------------------')\n    for idx,txt in enumerate(data_dropped_nans[col].sample(5)):\n        print(str(idx+1)+')',txt)\n    print('\\n')",
   "execution_count": null,
   "outputs": [
    {
     "name": "stdout",
     "text": "Mesh\n------------------\n1) pleural effusion right small,pulmonary atelectasis base right scattered,surgical instruments\n2) technical quality of image unsatisfactory,cardiomegaly severe\n3) normal\n4) opacity lung base left patchy,lucency diaphragm right,pleural effusion left small,atherosclerosis aorta,arthritis,pulmonary atelectasis base left,pneumonia base left\n5) lung, hyperlucent,lung hyperdistention,technical quality of image unsatisfactory\n\n\nProblems\n------------------\n1) normal\n2) catheters, indwelling,thoracic vertebrae\n3) granuloma\n4) normal\n5) aorta,aortic aneurysm,cicatrix,spondylosis,aorta,medical device\n\n\nFindings\n------------------\n1) heart size moderately enlarged stable mediastinal contours. lateral view curvilinear densities over the heart suggestive of coronary artery stents. diaphragm eventration. no focal alveolar consolidation no definite pleural effusion seen. no typical findings of pulmonary edema\n2) there is chronic asymmetric elevation of the right hemidiaphragm. compared the prior study there is mildly increased streaky airspace disease in the right lung base. hilar prominence appears stable. there is no pneumothorax or large pleural effusion. heart size is stable and grossly normal. there no acute bony findings\n3) the cardiac contours are normal. the lungs are clear. thoracic spondylosis\n4) the lungs and pleural spaces show no acute abnormality. heart size and pulmonary vascularityin normal limits\n5) borderline enlarged heart. pulmonary vasculature appearsin normal limits. no focal pulmonary opacity pleural effusion or pneumothorax. no acute bony abnormality. possible right shoulder calcific tendinitis. calcifications of the abdominal aorta are seen\n\n\nImpression\n------------------\n1) right upper lobe pneumonia\n2) no acute pulmonary disease\n3) negative for acute abnormality\n4) no acute pulmonary disease\n5) no acute cardiopulmonary findings\n\n\nCaption\n------------------\n1) the lungs are hyperexpanded. the heart is normal in size. the pulmonary vascularity isin normal limits in appearance. no focal airspace opacities pneumothorax or pleural effusion. a calcific density in the left midlung zone represents old granulomatous disease. no acute bony abnormalities. hyperexpanded lungs no focal airspace disease\n2) the cardiomediastinal silhouette is normal in size and contour. no focal consolidation pneumothorax or large pleural effusion. normal. negative for acute abnormality\n3) the heart is significantly enlarged. prominent pulmonary vascularity. no focal airspace consolidation suspicious pulmonary opacity or definite pleural effusion. no pneumothorax. visualized osseous structures appear intact. cardiomegaly central pulmonary vascular congestion. no edema\n4) the lungs are clear bilaterally. specifically no evidence of focal consolidation pneumothorax or pleural effusion.. cardio mediastinal silhouette is unremarkable. visualized osseous structures of the thorax areout acute abnormality. gastrostomy tube is noted. no acute cardiopulmonary abnormality\n5) stable slight cardiomegaly. sternotomy. lungs clear. no destructive lesions of the ribs. no masses or nodules. stable resection of distal left clavicle. no fractures of the thoracic spine. aortic calcification\n\n\n",
     "output_type": "stream"
    }
   ]
  },
  {
   "cell_type": "markdown",
   "source": "## 5. Data Exportation",
   "metadata": {
    "tags": [],
    "cell_id": "00031-c43eee58-786c-4e37-b121-687c29aa9a6d",
    "deepnote_cell_type": "markdown"
   }
  },
  {
   "cell_type": "markdown",
   "source": "### a. Split Dataset into Frontal and Lateral, and Train and Test",
   "metadata": {
    "tags": [],
    "cell_id": "00027-703564b3-a2ea-40c3-900c-505d643c51de",
    "deepnote_cell_type": "markdown"
   }
  },
  {
   "cell_type": "code",
   "metadata": {
    "tags": [],
    "cell_id": "00018-22048409-c104-424c-8008-06d07a75e301",
    "deepnote_to_be_reexecuted": false,
    "source_hash": "d711778d",
    "execution_start": 1637514045567,
    "execution_millis": 16,
    "deepnote_cell_type": "code"
   },
   "source": "# Split into frontal and lateral datasets\nfrontal_df = data_dropped_nans.query(\"projection == 'Frontal' \")\nlateral_df = data_dropped_nans.query(\"projection == 'Lateral' \")\n\nprint(frontal_df.shape[0], lateral_df.shape[0])",
   "execution_count": null,
   "outputs": [
    {
     "name": "stdout",
     "text": "3794 3632\n",
     "output_type": "stream"
    }
   ]
  },
  {
   "cell_type": "code",
   "metadata": {
    "tags": [],
    "cell_id": "00016-20b1c51e-5954-4e3b-806d-be1a1ec7392b",
    "deepnote_to_be_reexecuted": false,
    "source_hash": "cc0301cc",
    "execution_start": 1637514045580,
    "execution_millis": 5,
    "deepnote_cell_type": "code"
   },
   "source": "#Split into train and test set for frontal dataset\nfrontal_train,frontal_test = train_test_split(frontal_df, test_size=0.25, random_state=42, shuffle=True)\n\n#Split into train and test set for lateral dataset\nlateral_train,lateral_test = train_test_split(lateral_df, test_size=0.25, random_state=1, shuffle=True)\n\nprint('frontal train size:',frontal_train.shape[0], 'frontal test size:',frontal_test.shape[0])\nprint('lateral train size:',lateral_train.shape[0], 'lateral test size:',lateral_test.shape[0])",
   "execution_count": null,
   "outputs": [
    {
     "name": "stdout",
     "text": "frontal train size: 2845 frontal test size: 949\nlateral train size: 2724 lateral test size: 908\n",
     "output_type": "stream"
    }
   ]
  },
  {
   "cell_type": "markdown",
   "source": "### b. Write dataframes to pickles\n\nWe use pickles here as a way of easily storing our dataframes without using too much data.",
   "metadata": {
    "tags": [],
    "cell_id": "00030-286dc6d8-0fad-4612-905e-5c032cc24257",
    "deepnote_cell_type": "markdown"
   }
  },
  {
   "cell_type": "code",
   "metadata": {
    "tags": [],
    "cell_id": "00034-de312d94-1aae-48eb-9435-c072203eab0d",
    "deepnote_to_be_reexecuted": false,
    "source_hash": "d2546be7",
    "execution_start": 1637514236760,
    "execution_millis": 45,
    "deepnote_cell_type": "code"
   },
   "source": "#Write full cleaned dataset to pickle\ndata_dropped_nans.to_pickle('../data/interim/full_cleaned_data.pickle')\n\n#Write full frontal and laterals datasets to pickle\nfrontal_df.to_pickle('../data/interim/full_frontal.pickle')\nlateral_df.to_pickle('../data/interim/full_lateral.pickle')\n\n#Write train datasets to pickle\nfrontal_train.to_pickle('../data/train/frontal_train.pickle')\nlateral_train.to_pickle('../data/train/lateral_train.pickle')\n\n#Write test datasets to pickle\nfrontal_test.to_pickle('../data/test/frontal_test.pickle')\nlateral_test.to_pickle('../data/test/lateral_test.pickle')",
   "execution_count": null,
   "outputs": []
  },
  {
   "cell_type": "markdown",
   "source": "<a style='text-decoration:none;line-height:16px;display:flex;color:#5B5B62;padding:10px;justify-content:end;' href='https://deepnote.com?utm_source=created-in-deepnote-cell&projectId=d67d5ca8-f99a-4baf-8748-4aa99efbd09b' target=\"_blank\">\n<img alt='Created in deepnote.com' style='display:inline;max-height:16px;margin:0px;margin-right:7.5px;' src='data:image/svg+xml;base64,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' > </img>\nCreated in <span style='font-weight:600;margin-left:4px;'>Deepnote</span></a>",
   "metadata": {
    "tags": [],
    "created_in_deepnote_cell": true,
    "deepnote_cell_type": "markdown"
   }
  }
 ],
 "nbformat": 4,
 "nbformat_minor": 2,
 "metadata": {
  "orig_nbformat": 2,
  "deepnote": {
   "is_reactive": false
  },
  "deepnote_notebook_id": "9d0af06f-68e0-4176-a171-5852372ddd7c",
  "deepnote_execution_queue": []
 }
}