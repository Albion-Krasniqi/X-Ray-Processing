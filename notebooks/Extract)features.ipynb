{
 "cells": [
  {
   "cell_type": "code",
   "metadata": {
    "tags": [],
    "cell_id": "00000-1397e720-3aa9-4e11-bb29-9828c46f2bfc",
    "deepnote_cell_type": "code"
   },
   "source": "def extract_data():\n    all_findings = []\n    all_impressions = []\n    all_img_names = []\n    rids = []\n    \n    total_count = 0 # Count of reports available in the dataset\n    no_image_count = 0 # Count of reports having no associated chest image\n    no_impression_count = 0 # Count of reports having an empty \"Impression\" section\n    no_findings_count = 0 # Count of reports having an empty \"Findings\" section\n\n    # Storing impressions, findings and the image names in vectors\n    for file in tqdm(os.listdir(annotation_folder)):\n    # for file in tqdm(annotation_folder):\n        total_count += 1\n        file = os.path.abspath(annotation_folder) + '/' + file\n        e = xml.etree.ElementTree.parse(file).getroot()\n\n        rid = e.find('pmcId').get('id') # Report Id\n        # We choose to ignore reports having no associated image\n        image_id = e.find('parentImage')\n        if image_id is None:\n            no_image_count += 1\n            continue\n\n        image_id = image_id.get('id')\n#         image_name = os.path.abspath('.') + '/' + image_id + '.png'\n        image_name = image_folder + '/' + image_id + '.png'\n        findings = ''\n        impression = ''\n\n        # Parsing \"Impression\" and \"Findings\"\n        for element in e.findall('MedlineCitation/Article/Abstract/AbstractText'):\n            if element.get('Label') == 'FINDINGS':\n                findings = element.text\n            if element.get('Label') == 'IMPRESSION':\n                impression = element.text\n\n        # Sanity check: Skip this report if it has an empty \"Impression\" section\n        if findings is None:\n            no_findings_count += 1\n            #findings = 'No finding'\n            continue\n        if impression is None:\n            no_impression_count += 1\n            continue\n        \n        # Transforming findings and impressions into lists of sentences\n        # https://stackoverflow.com/questions/21840389/python-regular-expression-remove-period-from-number-at-end-of-sentence\n        findings = findings.replace(\"XXXX\", \"\") #\"XXXX\" represents information anonymized\n        findings=re.sub('((\\d+)[\\.])(?!([\\d]+))','\\g<2>',findings)\n        findings = re.sub(\" \\d+\", \" \", findings)\n#         sentences = findings.split('.')\n        sentences = findings\n#         del sentences[-1]\n#         sentences = ['<start> ' + sentence + ' <end>' for sentence in sentences]\n        # sentences = ['<start> ' + sentences + ' <end>']\n        findings = sentences\n\n        impression = impression.replace(\"XXXX\", \"\") #\"XXXX\" represents information anonymized\n        impression=re.sub('((\\d+)[\\.])(?!([\\d]+))','\\g<2>',impression)\n        impression = re.sub(\" \\d+\", \" \", impression)\n#https://www.tutorialspoint.com/How-to-remove-specific-characters-from-a-string-in-Python\n        impression=impression.replace(\"1\", \"\")\n#         sentences = impression.split('.')\n#         del sentences[-1]\n        sentences = impression\n#         sentences = ['<start> ' + sentence + ' <end>' for sentence in sentences]\n        sentences = ['<start> ' + sentences + ' <end>' ]\n        impression = sentences\n\n        #appending to vectors\n        all_img_names.append(image_name)\n        all_findings.append(findings)\n        all_impressions.append(impression)\n        rids.append(rid)\n\n    print(\"Number of reports available:\", total_count)\n    print(\"Number of reports selected:\", len(all_img_names))\n    print(\"Number of reports not having images (skipped):\", no_image_count)\n    print(\"Number of reports with Impression section empty (skipped):\", no_impression_count)\n    print(\"Number of reports with Findings section empty:\", no_findings_count)\n    print(\"Total skipped:\", no_image_count + no_impression_count + no_findings_count)\n\n    return all_findings, all_impressions, all_img_names, rids\n\nall_findings, all_impressions, all_img_names, report_id = extract_data()",
   "outputs": [],
   "execution_count": null
  },
  {
   "cell_type": "code",
   "metadata": {
    "tags": [],
    "cell_id": "00001-49af628a-eee4-40f8-9108-d3f80956dec7",
    "deepnote_cell_type": "code"
   },
   "source": "",
   "execution_count": null,
   "outputs": []
  },
  {
   "cell_type": "markdown",
   "source": "<a style='text-decoration:none;line-height:16px;display:flex;color:#5B5B62;padding:10px;justify-content:end;' href='https://deepnote.com?utm_source=created-in-deepnote-cell&projectId=d67d5ca8-f99a-4baf-8748-4aa99efbd09b' target=\"_blank\">\n<img alt='Created in deepnote.com' style='display:inline;max-height:16px;margin:0px;margin-right:7.5px;' src='data:image/svg+xml;base64,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' > </img>\nCreated in <span style='font-weight:600;margin-left:4px;'>Deepnote</span></a>",
   "metadata": {
    "tags": [],
    "created_in_deepnote_cell": true,
    "deepnote_cell_type": "markdown"
   }
  }
 ],
 "nbformat": 4,
 "nbformat_minor": 2,
 "metadata": {
  "orig_nbformat": 2,
  "deepnote": {
   "is_reactive": false
  },
  "deepnote_notebook_id": "c5260edd-ca7c-4b0a-9a03-c5e8e3b3f495",
  "deepnote_execution_queue": []
 }
}