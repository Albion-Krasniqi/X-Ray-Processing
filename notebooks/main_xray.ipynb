{
 "cells": [
  {
   "cell_type": "markdown",
   "source": "# X-Ray Image Labelling & Reporting\n**`Team AKAKI!` | `Minerva University`**\n\n---",
   "metadata": {
    "tags": [],
    "cell_id": "00001-e039789c-d3a9-4b35-afc9-4a8413b11aad",
    "deepnote_cell_type": "markdown"
   }
  },
  {
   "cell_type": "markdown",
   "source": "## Project Overview\n\nIn summary, we are measuring the similarity of predicted captions to the actual captions provided by doctors.\n\nThis is broken down into multiple steps:\n- Clean Indiana X-Ray imaging data.\n- Explore ways to increase and engineer features for better results.\n- Use machine learning, NLP, computer vision, and other methods to label the chest X-Rays.\n- Compare the labels we generate against the actual label provided by the doctors.\n\nFor example,\n- **Real Caption:** the lungs are hyperinflated with coarse interstitial markings compatible with obstructive pulmonary disease and emphysema periodseq there is chronic pleuralparenchymal scarring within the lung bases periodseq no lobar consolidation is seen periodseq no pleural effusion or pneumothorax periodseq heart size is normal period.\n- **Prediction Caption:** typical findings of pulmonary consolidation periodseq no pneumothorax periodseq there is no evidence for effusion.\n\n---",
   "metadata": {
    "tags": [],
    "cell_id": "00002-10f27a77-a20a-40b2-8565-b8d3c1ede368",
    "deepnote_cell_type": "markdown"
   }
  },
  {
   "cell_type": "markdown",
   "source": "## Import Libraries and Data",
   "metadata": {
    "tags": [],
    "cell_id": "00002-a57dda81-16d7-4ebb-b880-92a8f7f19fe9",
    "deepnote_cell_type": "markdown"
   }
  },
  {
   "cell_type": "code",
   "metadata": {
    "tags": [],
    "cell_id": "00003-208916ae-64e9-43f3-84e4-ceab0323b0fe",
    "deepnote_to_be_reexecuted": false,
    "source_hash": "57709460",
    "execution_start": 1636046521186,
    "execution_millis": 3020,
    "deepnote_cell_type": "code"
   },
   "source": "# import libraries\nimport pandas as pd\nimport string\nimport contractions\nimport matplotlib.pyplot as plt\nfrom cleantext import clean\nfrom sklearn.model_selection import train_test_split\n\nfrom glob import glob\n\n!ls /datasets/gdrive/XRay-AKAKI",
   "execution_count": 3,
   "outputs": [
    {
     "name": "stdout",
     "text": "images_normalized\t indiana_reports.csv\r\nindiana_projections.csv  radiology_vocabulary_final.xlsx\r\n",
     "output_type": "stream"
    }
   ]
  },
  {
   "cell_type": "code",
   "metadata": {
    "tags": [],
    "cell_id": "00004-e99b0653-e734-4ff9-b105-d094f306b682",
    "deepnote_to_be_reexecuted": false,
    "source_hash": "51edf0fa",
    "execution_start": 1636046527112,
    "execution_millis": 3,
    "deepnote_cell_type": "code"
   },
   "source": "# projections = pd.read_csv(\"/datasets/gdrive/XRay-AKAKI/indiana_projections.csv\")\n# print(projections.shape[0])\n# projections.head()",
   "execution_count": 4,
   "outputs": []
  },
  {
   "cell_type": "code",
   "metadata": {
    "tags": [],
    "cell_id": "00005-1cbbbcad-4f3a-4a38-9eb2-d84e66ef1efb",
    "deepnote_to_be_reexecuted": false,
    "source_hash": "ed684e92",
    "execution_start": 1636046527663,
    "execution_millis": 0,
    "deepnote_cell_type": "code"
   },
   "source": "# reports = pd.read_csv(\"/datasets/gdrive/XRay-AKAKI/indiana_reports.csv\")\n# print(reports.shape[0])\n# reports.head()",
   "execution_count": 5,
   "outputs": []
  },
  {
   "cell_type": "code",
   "metadata": {
    "tags": [],
    "cell_id": "00006-0543bb99-6b81-43c8-8028-e5572cdad2fc",
    "deepnote_to_be_reexecuted": false,
    "source_hash": "50fbaf25",
    "execution_start": 1636046529650,
    "execution_millis": 3,
    "deepnote_cell_type": "code"
   },
   "source": "# # Concatenates both tables using the uid as primary\n# data = pd.merge(reports, projections, how=\"left\", on=\"uid\")\n# print(data.shape[0])\n# data\n\n# #Write the dataset to a csv file\n#data.to_csv('../data/raw/raw_merged_xray_data.csv', index=False)",
   "execution_count": 6,
   "outputs": []
  },
  {
   "cell_type": "code",
   "metadata": {
    "tags": [],
    "cell_id": "00007-0d2b8630-a50e-4b12-8b92-26172eb59305",
    "deepnote_to_be_reexecuted": false,
    "source_hash": "4eaecd75",
    "execution_start": 1636046530406,
    "execution_millis": 66,
    "deepnote_cell_type": "code"
   },
   "source": "data = pd.read_csv('../data/raw/raw_merged_xray_data.csv')",
   "execution_count": 7,
   "outputs": []
  },
  {
   "cell_type": "code",
   "metadata": {
    "tags": [],
    "cell_id": "00007-b58ae564-38d3-4d90-909c-1b56c1589a27",
    "deepnote_to_be_reexecuted": false,
    "source_hash": "6962de3c",
    "execution_start": 1636042911793,
    "execution_millis": 56896,
    "deepnote_cell_type": "code"
   },
   "source": "# defines image path\nimages_path = \"/datasets/gdrive/XRay-AKAKI/images_normalized\"\n\n# Use glob to grab images from path .jpg or jpeg\nimages_file_names = glob(images_path + '/*')\n\nprint(len(images_file_names))",
   "outputs": [
    {
     "name": "stdout",
     "text": "7470\n",
     "output_type": "stream"
    }
   ],
   "execution_count": null
  },
  {
   "cell_type": "code",
   "metadata": {
    "tags": [],
    "cell_id": "00011-2ad3f032-097e-41c3-b06e-394478a2f7b1",
    "deepnote_to_be_reexecuted": false,
    "source_hash": "e6928a8f",
    "execution_start": 1636046543552,
    "execution_millis": 104,
    "deepnote_cell_type": "code"
   },
   "source": "data",
   "execution_count": 8,
   "outputs": [
    {
     "output_type": "execute_result",
     "execution_count": 8,
     "data": {
      "application/vnd.deepnote.dataframe.v2+json": {
       "row_count": 7466,
       "column_count": 10,
       "columns": [
        {
         "name": "uid",
         "dtype": "int64",
         "stats": {
          "unique_count": 3851,
          "nan_count": 0,
          "min": "1",
          "max": "3999",
          "histogram": [
           {
            "bin_start": 1,
            "bin_end": 400.8,
            "count": 750
           },
           {
            "bin_start": 400.8,
            "bin_end": 800.6,
            "count": 749
           },
           {
            "bin_start": 800.6,
            "bin_end": 1200.4,
            "count": 742
           },
           {
            "bin_start": 1200.4,
            "bin_end": 1600.2,
            "count": 759
           },
           {
            "bin_start": 1600.2,
            "bin_end": 2000,
            "count": 734
           },
           {
            "bin_start": 2000,
            "bin_end": 2399.8,
            "count": 749
           },
           {
            "bin_start": 2399.8,
            "bin_end": 2799.6,
            "count": 727
           },
           {
            "bin_start": 2799.6,
            "bin_end": 3199.4,
            "count": 725
           },
           {
            "bin_start": 3199.4,
            "bin_end": 3599.2000000000003,
            "count": 770
           },
           {
            "bin_start": 3599.2000000000003,
            "bin_end": 3999,
            "count": 761
           }
          ]
         }
        },
        {
         "name": "MeSH",
         "dtype": "object",
         "stats": {
          "unique_count": 1900,
          "nan_count": 0,
          "categories": [
           {
            "name": "normal",
            "count": 2695
           },
           {
            "name": "No Indexing",
            "count": 172
           },
           {
            "name": "1898 others",
            "count": 4599
           }
          ]
         }
        },
        {
         "name": "Problems",
         "dtype": "object",
         "stats": {
          "unique_count": 1432,
          "nan_count": 0,
          "categories": [
           {
            "name": "normal",
            "count": 2695
           },
           {
            "name": "Lung",
            "count": 173
           },
           {
            "name": "1430 others",
            "count": 4598
           }
          ]
         }
        },
        {
         "name": "image",
         "dtype": "object",
         "stats": {
          "unique_count": 697,
          "nan_count": 0,
          "categories": [
           {
            "name": "Xray Chest PA and Lateral",
            "count": 2363
           },
           {
            "name": "CHEST 2V FRONTAL/LATERAL ",
            "count": 175
           },
           {
            "name": "695 others",
            "count": 4928
           }
          ]
         }
        },
        {
         "name": "indication",
         "dtype": "object",
         "stats": {
          "unique_count": 2454,
          "nan_count": 159,
          "categories": [
           {
            "name": "Chest pain",
            "count": 253
           },
           {
            "name": "2453 others",
            "count": 7054
           },
           {
            "name": "Missing",
            "count": 159
           }
          ]
         }
        },
        {
         "name": "comparison",
         "dtype": "object",
         "stats": {
          "unique_count": 394,
          "nan_count": 1157,
          "categories": [
           {
            "name": "None.",
            "count": 1589
           },
           {
            "name": "393 others",
            "count": 4720
           },
           {
            "name": "Missing",
            "count": 1157
           }
          ]
         }
        },
        {
         "name": "findings",
         "dtype": "object",
         "stats": {
          "unique_count": 2553,
          "nan_count": 997,
          "categories": [
           {
            "name": "The heart is normal in size. The mediastinum is unremarkable. The lungs are clear.",
            "count": 98
           },
           {
            "name": "2552 others",
            "count": 6371
           },
           {
            "name": "Missing",
            "count": 997
           }
          ]
         }
        },
        {
         "name": "impression",
         "dtype": "object",
         "stats": {
          "unique_count": 1770,
          "nan_count": 52,
          "categories": [
           {
            "name": "No acute cardiopulmonary abnormality.",
            "count": 585
           },
           {
            "name": "1769 others",
            "count": 6829
           },
           {
            "name": "Missing",
            "count": 52
           }
          ]
         }
        },
        {
         "name": "filename",
         "dtype": "object",
         "stats": {
          "unique_count": 7466,
          "nan_count": 0,
          "categories": [
           {
            "name": "1_IM-0001-4001.dcm.png",
            "count": 1
           },
           {
            "name": "1_IM-0001-3001.dcm.png",
            "count": 1
           },
           {
            "name": "7464 others",
            "count": 7464
           }
          ]
         }
        },
        {
         "name": "projection",
         "dtype": "object",
         "stats": {
          "unique_count": 2,
          "nan_count": 0,
          "categories": [
           {
            "name": "Frontal",
            "count": 3818
           },
           {
            "name": "Lateral",
            "count": 3648
           }
          ]
         }
        },
        {
         "name": "_deepnote_index_column",
         "dtype": "int64"
        }
       ],
       "rows_top": [
        {
         "uid": 1,
         "MeSH": "normal",
         "Problems": "normal",
         "image": "Xray Chest PA and Lateral",
         "indication": "Positive TB test",
         "comparison": "None.",
         "findings": "The cardiac silhouette and mediastinum size are within normal limits. There is no pulmonary edema. …",
         "impression": "Normal chest x-XXXX.",
         "filename": "1_IM-0001-4001.dcm.png",
         "projection": "Frontal",
         "_deepnote_index_column": 0
        },
        {
         "uid": 1,
         "MeSH": "normal",
         "Problems": "normal",
         "image": "Xray Chest PA and Lateral",
         "indication": "Positive TB test",
         "comparison": "None.",
         "findings": "The cardiac silhouette and mediastinum size are within normal limits. There is no pulmonary edema. …",
         "impression": "Normal chest x-XXXX.",
         "filename": "1_IM-0001-3001.dcm.png",
         "projection": "Lateral",
         "_deepnote_index_column": 1
        },
        {
         "uid": 2,
         "MeSH": "Cardiomegaly/borderline;Pulmonary Artery/enlarged",
         "Problems": "Cardiomegaly;Pulmonary Artery",
         "image": "Chest, 2 views, frontal and lateral",
         "indication": "Preop bariatric surgery.",
         "comparison": "None.",
         "findings": "Borderline cardiomegaly. Midline sternotomy XXXX. Enlarged pulmonary arteries. Clear lungs. Inferio…",
         "impression": "No acute pulmonary findings.",
         "filename": "2_IM-0652-1001.dcm.png",
         "projection": "Frontal",
         "_deepnote_index_column": 2
        },
        {
         "uid": 2,
         "MeSH": "Cardiomegaly/borderline;Pulmonary Artery/enlarged",
         "Problems": "Cardiomegaly;Pulmonary Artery",
         "image": "Chest, 2 views, frontal and lateral",
         "indication": "Preop bariatric surgery.",
         "comparison": "None.",
         "findings": "Borderline cardiomegaly. Midline sternotomy XXXX. Enlarged pulmonary arteries. Clear lungs. Inferio…",
         "impression": "No acute pulmonary findings.",
         "filename": "2_IM-0652-2001.dcm.png",
         "projection": "Lateral",
         "_deepnote_index_column": 3
        },
        {
         "uid": 3,
         "MeSH": "normal",
         "Problems": "normal",
         "image": "Xray Chest PA and Lateral",
         "indication": "rib pain after a XXXX, XXXX XXXX steps this XXXX. Pain to R back, R elbow and R rib XXXX, no previo…",
         "comparison": "nan",
         "findings": "nan",
         "impression": "No displaced rib fractures, pneumothorax, or pleural effusion identified. Well-expanded and clear l…",
         "filename": "3_IM-1384-1001.dcm.png",
         "projection": "Frontal",
         "_deepnote_index_column": 4
        },
        {
         "uid": 3,
         "MeSH": "normal",
         "Problems": "normal",
         "image": "Xray Chest PA and Lateral",
         "indication": "rib pain after a XXXX, XXXX XXXX steps this XXXX. Pain to R back, R elbow and R rib XXXX, no previo…",
         "comparison": "nan",
         "findings": "nan",
         "impression": "No displaced rib fractures, pneumothorax, or pleural effusion identified. Well-expanded and clear l…",
         "filename": "3_IM-1384-2001.dcm.png",
         "projection": "Lateral",
         "_deepnote_index_column": 5
        },
        {
         "uid": 4,
         "MeSH": "Pulmonary Disease, Chronic Obstructive;Bullous Emphysema;Pulmonary Fibrosis/interstitial;Cicatrix/l…",
         "Problems": "Pulmonary Disease, Chronic Obstructive;Bullous Emphysema;Pulmonary Fibrosis;Cicatrix;Opacity;Opacit…",
         "image": "PA and lateral views of the chest XXXX, XXXX at XXXX hours ",
         "indication": "XXXX-year-old XXXX with XXXX.",
         "comparison": "None available",
         "findings": "There are diffuse bilateral interstitial and alveolar opacities consistent with chronic obstructive…",
         "impression": "1. Bullous emphysema and interstitial fibrosis. 2. Probably scarring in the left apex, although dif…",
         "filename": "4_IM-2050-1001.dcm.png",
         "projection": "Frontal",
         "_deepnote_index_column": 6
        },
        {
         "uid": 4,
         "MeSH": "Pulmonary Disease, Chronic Obstructive;Bullous Emphysema;Pulmonary Fibrosis/interstitial;Cicatrix/l…",
         "Problems": "Pulmonary Disease, Chronic Obstructive;Bullous Emphysema;Pulmonary Fibrosis;Cicatrix;Opacity;Opacit…",
         "image": "PA and lateral views of the chest XXXX, XXXX at XXXX hours ",
         "indication": "XXXX-year-old XXXX with XXXX.",
         "comparison": "None available",
         "findings": "There are diffuse bilateral interstitial and alveolar opacities consistent with chronic obstructive…",
         "impression": "1. Bullous emphysema and interstitial fibrosis. 2. Probably scarring in the left apex, although dif…",
         "filename": "4_IM-2050-2001.dcm.png",
         "projection": "Lateral",
         "_deepnote_index_column": 7
        },
        {
         "uid": 5,
         "MeSH": "Osteophyte/thoracic vertebrae/multiple/small;Thickening/pleura/apex/bilateral;Lung/hyperdistention/…",
         "Problems": "Osteophyte;Thickening;Lung",
         "image": "Xray Chest PA and Lateral",
         "indication": "Chest and nasal congestion.",
         "comparison": "nan",
         "findings": "The cardiomediastinal silhouette and pulmonary vasculature are within normal limits. There is no pn…",
         "impression": "No acute cardiopulmonary abnormality.",
         "filename": "5_IM-2117-1003002.dcm.png",
         "projection": "Frontal",
         "_deepnote_index_column": 8
        },
        {
         "uid": 5,
         "MeSH": "Osteophyte/thoracic vertebrae/multiple/small;Thickening/pleura/apex/bilateral;Lung/hyperdistention/…",
         "Problems": "Osteophyte;Thickening;Lung",
         "image": "Xray Chest PA and Lateral",
         "indication": "Chest and nasal congestion.",
         "comparison": "nan",
         "findings": "The cardiomediastinal silhouette and pulmonary vasculature are within normal limits. There is no pn…",
         "impression": "No acute cardiopulmonary abnormality.",
         "filename": "5_IM-2117-1004003.dcm.png",
         "projection": "Lateral",
         "_deepnote_index_column": 9
        },
        {
         "uid": 6,
         "MeSH": "normal",
         "Problems": "normal",
         "image": "PA and Lateral Chest. XXXX, XXXX at XXXX ",
         "indication": "Evaluate for infection",
         "comparison": "XXXX, XXXX",
         "findings": "Heart size and mediastinal contour are within normal limits. There is no focal airspace consolidati…",
         "impression": "No acute cardiopulmonary findings.",
         "filename": "6_IM-2192-1001.dcm.png",
         "projection": "Frontal",
         "_deepnote_index_column": 10
        },
        {
         "uid": 6,
         "MeSH": "normal",
         "Problems": "normal",
         "image": "PA and Lateral Chest. XXXX, XXXX at XXXX ",
         "indication": "Evaluate for infection",
         "comparison": "XXXX, XXXX",
         "findings": "Heart size and mediastinal contour are within normal limits. There is no focal airspace consolidati…",
         "impression": "No acute cardiopulmonary findings.",
         "filename": "6_IM-2192-2001.dcm.png",
         "projection": "Lateral",
         "_deepnote_index_column": 11
        },
        {
         "uid": 7,
         "MeSH": "Pulmonary Atelectasis/base;Spondylosis/thoracic vertebrae;Arthritis/cervical vertebrae",
         "Problems": "Pulmonary Atelectasis;Spondylosis;Arthritis",
         "image": "Xray Chest PA and Lateral",
         "indication": "Preop lumbar surgery",
         "comparison": "XXXX, XXXX",
         "findings": "The cardiac contours are normal. XXXX basilar atelectasis. The lungs are clear. Thoracic spondylosi…",
         "impression": "Basilar atelectasis. No confluent lobar consolidation or pleural effusion.",
         "filename": "7_IM-2263-1001.dcm.png",
         "projection": "Frontal",
         "_deepnote_index_column": 12
        },
        {
         "uid": 7,
         "MeSH": "Pulmonary Atelectasis/base;Spondylosis/thoracic vertebrae;Arthritis/cervical vertebrae",
         "Problems": "Pulmonary Atelectasis;Spondylosis;Arthritis",
         "image": "Xray Chest PA and Lateral",
         "indication": "Preop lumbar surgery",
         "comparison": "XXXX, XXXX",
         "findings": "The cardiac contours are normal. XXXX basilar atelectasis. The lungs are clear. Thoracic spondylosi…",
         "impression": "Basilar atelectasis. No confluent lobar consolidation or pleural effusion.",
         "filename": "7_IM-2263-2001.dcm.png",
         "projection": "Lateral",
         "_deepnote_index_column": 13
        },
        {
         "uid": 8,
         "MeSH": "normal",
         "Problems": "normal",
         "image": "Xray Chest PA and Lateral",
         "indication": "XXXX-year-old with XXXX on XXXX. Dyspnea. History of mitral valve prolapse.",
         "comparison": "Two views of the chest dated XXXX.",
         "findings": "The heart, pulmonary XXXX and mediastinum are within normal limits. There is no pleural effusion or…",
         "impression": "No acute cardiopulmonary disease.",
         "filename": "8_IM-2333-1001.dcm.png",
         "projection": "Frontal",
         "_deepnote_index_column": 14
        },
        {
         "uid": 8,
         "MeSH": "normal",
         "Problems": "normal",
         "image": "Xray Chest PA and Lateral",
         "indication": "XXXX-year-old with XXXX on XXXX. Dyspnea. History of mitral valve prolapse.",
         "comparison": "Two views of the chest dated XXXX.",
         "findings": "The heart, pulmonary XXXX and mediastinum are within normal limits. There is no pleural effusion or…",
         "impression": "No acute cardiopulmonary disease.",
         "filename": "8_IM-2333-2001.dcm.png",
         "projection": "Lateral",
         "_deepnote_index_column": 15
        },
        {
         "uid": 9,
         "MeSH": "Calcified Granuloma/lung/upper lobe/right;Density/cardiophrenic angle/left",
         "Problems": "Calcified Granuloma;Density",
         "image": "Xray Chest PA and Lateral",
         "indication": "Chest pain today. History of stent placement 7+ years ago.",
         "comparison": "CT XXXX image XXXX, CT abdomen which included the lower thorax XXXX.",
         "findings": "The XXXX examination consists of frontal and lateral radiographs of the chest. The cardiac silhouet…",
         "impression": "Increased size of density in the left cardiophrenic XXXX. Primary differential considerations inclu…",
         "filename": "9_IM-2407-1001.dcm.png",
         "projection": "Frontal",
         "_deepnote_index_column": 16
        },
        {
         "uid": 9,
         "MeSH": "Calcified Granuloma/lung/upper lobe/right;Density/cardiophrenic angle/left",
         "Problems": "Calcified Granuloma;Density",
         "image": "Xray Chest PA and Lateral",
         "indication": "Chest pain today. History of stent placement 7+ years ago.",
         "comparison": "CT XXXX image XXXX, CT abdomen which included the lower thorax XXXX.",
         "findings": "The XXXX examination consists of frontal and lateral radiographs of the chest. The cardiac silhouet…",
         "impression": "Increased size of density in the left cardiophrenic XXXX. Primary differential considerations inclu…",
         "filename": "9_IM-2407-2001.dcm.png",
         "projection": "Lateral",
         "_deepnote_index_column": 17
        },
        {
         "uid": 10,
         "MeSH": "Calcified Granuloma/lung/upper lobe/right",
         "Problems": "Calcified Granuloma",
         "image": "PA and lateral chest x-XXXX XXXX. ",
         "indication": "XXXX-year-old male, chest pain.",
         "comparison": "Chest radiographs XXXX.",
         "findings": "The cardiomediastinal silhouette is within normal limits for size and contour. The lungs are normal…",
         "impression": "No acute cardiopulmonary process.",
         "filename": "10_IM-0002-2001.dcm.png",
         "projection": "Frontal",
         "_deepnote_index_column": 18
        },
        {
         "uid": 10,
         "MeSH": "Calcified Granuloma/lung/upper lobe/right",
         "Problems": "Calcified Granuloma",
         "image": "PA and lateral chest x-XXXX XXXX. ",
         "indication": "XXXX-year-old male, chest pain.",
         "comparison": "Chest radiographs XXXX.",
         "findings": "The cardiomediastinal silhouette is within normal limits for size and contour. The lungs are normal…",
         "impression": "No acute cardiopulmonary process.",
         "filename": "10_IM-0002-1001.dcm.png",
         "projection": "Lateral",
         "_deepnote_index_column": 19
        },
        {
         "uid": 11,
         "MeSH": "normal",
         "Problems": "normal",
         "image": "Xray Chest PA and Lateral",
         "indication": "Fatigue, weakness, anterior chest pain",
         "comparison": "None",
         "findings": "Cardiomediastinal silhouette and pulmonary vasculature are within normal limits. Lungs are clear. N…",
         "impression": "No acute cardiopulmonary findings.",
         "filename": "11_IM-0067-1001.dcm.png",
         "projection": "Frontal",
         "_deepnote_index_column": 20
        },
        {
         "uid": 11,
         "MeSH": "normal",
         "Problems": "normal",
         "image": "Xray Chest PA and Lateral",
         "indication": "Fatigue, weakness, anterior chest pain",
         "comparison": "None",
         "findings": "Cardiomediastinal silhouette and pulmonary vasculature are within normal limits. Lungs are clear. N…",
         "impression": "No acute cardiopulmonary findings.",
         "filename": "11_IM-0067-2001.dcm.png",
         "projection": "Lateral",
         "_deepnote_index_column": 21
        },
        {
         "uid": 12,
         "MeSH": "normal",
         "Problems": "normal",
         "image": "PA and lateral chest radiograph (2 views) (2 images) ",
         "indication": "XXXX",
         "comparison": "None",
         "findings": "Lungs are clear bilaterally. Cardiac and mediastinal silhouettes are normal. Pulmonary vasculature …",
         "impression": "No acute cardiopulmonary abnormality.",
         "filename": "12_IM-0133-1001.dcm.png",
         "projection": "Frontal",
         "_deepnote_index_column": 22
        },
        {
         "uid": 12,
         "MeSH": "normal",
         "Problems": "normal",
         "image": "PA and lateral chest radiograph (2 views) (2 images) ",
         "indication": "XXXX",
         "comparison": "None",
         "findings": "Lungs are clear bilaterally. Cardiac and mediastinal silhouettes are normal. Pulmonary vasculature …",
         "impression": "No acute cardiopulmonary abnormality.",
         "filename": "12_IM-0133-2001.dcm.png",
         "projection": "Lateral",
         "_deepnote_index_column": 23
        },
        {
         "uid": 13,
         "MeSH": "Cardiac Shadow/borderline",
         "Problems": "Cardiac Shadow",
         "image": "PA and lateral chest radiograph (2 views) (2 images) ",
         "indication": "Chest pain.",
         "comparison": "Chest radiograph from XXXX, XXXX.",
         "findings": "The cardiac silhouette is borderline enlarged. Otherwise, there is no focal opacity. Mediastinal co…",
         "impression": "Borderline enlargement of the cardiac silhouette without acute pulmonary disease.",
         "filename": "13_IM-0198-1001.dcm.png",
         "projection": "Frontal",
         "_deepnote_index_column": 24
        },
        {
         "uid": 13,
         "MeSH": "Cardiac Shadow/borderline",
         "Problems": "Cardiac Shadow",
         "image": "PA and lateral chest radiograph (2 views) (2 images) ",
         "indication": "Chest pain.",
         "comparison": "Chest radiograph from XXXX, XXXX.",
         "findings": "The cardiac silhouette is borderline enlarged. Otherwise, there is no focal opacity. Mediastinal co…",
         "impression": "Borderline enlargement of the cardiac silhouette without acute pulmonary disease.",
         "filename": "13_IM-0198-2001.dcm.png",
         "projection": "Lateral",
         "_deepnote_index_column": 25
        },
        {
         "uid": 14,
         "MeSH": "Lung/hyperdistention/mild;Markings/lung/interstitial/scattered/irregular/chronic",
         "Problems": "Lung;Markings",
         "image": "Xray Chest PA and Lateral",
         "indication": "XXXX-year-old female, chest pain",
         "comparison": "nan",
         "findings": "Heart size within normal limits, stable mediastinal and hilar contours. Mild hyperinflation appears…",
         "impression": "No acute findings",
         "filename": "14_IM-0256-1001.dcm.png",
         "projection": "Frontal",
         "_deepnote_index_column": 26
        },
        {
         "uid": 14,
         "MeSH": "Lung/hyperdistention/mild;Markings/lung/interstitial/scattered/irregular/chronic",
         "Problems": "Lung;Markings",
         "image": "Xray Chest PA and Lateral",
         "indication": "XXXX-year-old female, chest pain",
         "comparison": "nan",
         "findings": "Heart size within normal limits, stable mediastinal and hilar contours. Mild hyperinflation appears…",
         "impression": "No acute findings",
         "filename": "14_IM-0256-2001.dcm.png",
         "projection": "Lateral",
         "_deepnote_index_column": 27
        },
        {
         "uid": 15,
         "MeSH": "Granulomatous Disease",
         "Problems": "Granulomatous Disease",
         "image": "Chest, 2 views, XXXX XXXX ComparisXXXX/XXXX ",
         "indication": "Dyspnea",
         "comparison": "nan",
         "findings": "Cardiomediastinal silhouette and pulmonary vasculature are within normal limits. Lungs are clear. N…",
         "impression": "No acute cardiopulmonary findings.",
         "filename": "15_IM-0324-1001.dcm.png",
         "projection": "Frontal",
         "_deepnote_index_column": 28
        },
        {
         "uid": 15,
         "MeSH": "Granulomatous Disease",
         "Problems": "Granulomatous Disease",
         "image": "Chest, 2 views, XXXX XXXX ComparisXXXX/XXXX ",
         "indication": "Dyspnea",
         "comparison": "nan",
         "findings": "Cardiomediastinal silhouette and pulmonary vasculature are within normal limits. Lungs are clear. N…",
         "impression": "No acute cardiopulmonary findings.",
         "filename": "15_IM-0324-2001.dcm.png",
         "projection": "Lateral",
         "_deepnote_index_column": 29
        },
        {
         "uid": 16,
         "MeSH": "normal",
         "Problems": "normal",
         "image": "Xray Chest PA and Lateral",
         "indication": "nan",
         "comparison": "nan",
         "findings": "nan",
         "impression": "nan",
         "filename": "16_IM-0389-1001.dcm.png",
         "projection": "Frontal",
         "_deepnote_index_column": 30
        },
        {
         "uid": 16,
         "MeSH": "normal",
         "Problems": "normal",
         "image": "Xray Chest PA and Lateral",
         "indication": "nan",
         "comparison": "nan",
         "findings": "nan",
         "impression": "nan",
         "filename": "16_IM-0389-2001.dcm.png",
         "projection": "Lateral",
         "_deepnote_index_column": 31
        },
        {
         "uid": 17,
         "MeSH": "normal",
         "Problems": "normal",
         "image": "PA and lateral views of the chest dated XXXX. ",
         "indication": "XXXX-year-old female, chest pain.",
         "comparison": "XXXX films of the chest dated XXXX.",
         "findings": "No focal areas of consolidation. No suspicious pulmonary opacities. Heart size within normal limits…",
         "impression": "No acute cardiopulmonary abnormality.",
         "filename": "17_IM-0460-2001.dcm.png",
         "projection": "Frontal",
         "_deepnote_index_column": 32
        },
        {
         "uid": 17,
         "MeSH": "normal",
         "Problems": "normal",
         "image": "PA and lateral views of the chest dated XXXX. ",
         "indication": "XXXX-year-old female, chest pain.",
         "comparison": "XXXX films of the chest dated XXXX.",
         "findings": "No focal areas of consolidation. No suspicious pulmonary opacities. Heart size within normal limits…",
         "impression": "No acute cardiopulmonary abnormality.",
         "filename": "17_IM-0460-1001.dcm.png",
         "projection": "Lateral",
         "_deepnote_index_column": 33
        },
        {
         "uid": 18,
         "MeSH": "Pleural Effusion/borderline",
         "Problems": "Pleural Effusion",
         "image": "Xray Chest PA and Lateral",
         "indication": "XXXX-year-old male, pain",
         "comparison": "None",
         "findings": "Heart size within normal limits. No focal alveolar consolidation, no definite pleural effusion seen…",
         "impression": "No acute cardiopulmonary findings",
         "filename": "18_IM-0520-1001.dcm.png",
         "projection": "Frontal",
         "_deepnote_index_column": 34
        },
        {
         "uid": 18,
         "MeSH": "Pleural Effusion/borderline",
         "Problems": "Pleural Effusion",
         "image": "Xray Chest PA and Lateral",
         "indication": "XXXX-year-old male, pain",
         "comparison": "None",
         "findings": "Heart size within normal limits. No focal alveolar consolidation, no definite pleural effusion seen…",
         "impression": "No acute cardiopulmonary findings",
         "filename": "18_IM-0520-2001.dcm.png",
         "projection": "Lateral",
         "_deepnote_index_column": 35
        },
        {
         "uid": 19,
         "MeSH": "Aorta, Thoracic/tortuous;Thoracic Vertebrae/degenerative",
         "Problems": "Aorta, Thoracic;Thoracic Vertebrae",
         "image": "PA and LAT view CHEST XXXX, XXXX XXXX PM",
         "indication": "XXXX, preop for abdominal aortic aneurysm repair",
         "comparison": "CT chest angiography, XXXX",
         "findings": "Heart size is normal. There is tortuosity of the thoracic aorta, stable compared with prior. No foc…",
         "impression": "No acute cardiopulmonary process.",
         "filename": "19_IM-0583-1001.dcm.png",
         "projection": "Frontal",
         "_deepnote_index_column": 36
        },
        {
         "uid": 19,
         "MeSH": "Aorta, Thoracic/tortuous;Thoracic Vertebrae/degenerative",
         "Problems": "Aorta, Thoracic;Thoracic Vertebrae",
         "image": "PA and LAT view CHEST XXXX, XXXX XXXX PM",
         "indication": "XXXX, preop for abdominal aortic aneurysm repair",
         "comparison": "CT chest angiography, XXXX",
         "findings": "Heart size is normal. There is tortuosity of the thoracic aorta, stable compared with prior. No foc…",
         "impression": "No acute cardiopulmonary process.",
         "filename": "19_IM-0583-3003.dcm.png",
         "projection": "Lateral",
         "_deepnote_index_column": 37
        },
        {
         "uid": 20,
         "MeSH": "normal",
         "Problems": "normal",
         "image": "PA and lateral chest radiograph, XXXX at XXXX hours. ",
         "indication": "XXXX-year-old female with XXXX.",
         "comparison": "PA lateral chest radiograph, XXXX.",
         "findings": "The cardiac and mediastinal silhouettes are unremarkable. The lungs are well expanded and clear. Th…",
         "impression": "No evidence of acute cardiopulmonary process. Stable appearance of the chest.",
         "filename": "20_IM-0653-1001.dcm.png",
         "projection": "Frontal",
         "_deepnote_index_column": 38
        },
        {
         "uid": 20,
         "MeSH": "normal",
         "Problems": "normal",
         "image": "PA and lateral chest radiograph, XXXX at XXXX hours. ",
         "indication": "XXXX-year-old female with XXXX.",
         "comparison": "PA lateral chest radiograph, XXXX.",
         "findings": "The cardiac and mediastinal silhouettes are unremarkable. The lungs are well expanded and clear. Th…",
         "impression": "No evidence of acute cardiopulmonary process. Stable appearance of the chest.",
         "filename": "20_IM-0653-1002.dcm.png",
         "projection": "Lateral",
         "_deepnote_index_column": 39
        },
        {
         "uid": 21,
         "MeSH": "Calcified Granuloma/lung/lingula;Breast Implants;Deformity/thoracic vertebrae/moderate",
         "Problems": "Calcified Granuloma;Breast Implants;Deformity",
         "image": "2 VIEW CHEST: XXXX, XXXX at XXXX hours.",
         "indication": "Patient confused. Possible head injury.",
         "comparison": "None",
         "findings": "nan",
         "impression": "Heart size normal. Mediastinal silhouettes and pulmonary vascularity are within normal limits. Calc…",
         "filename": "21_IM-0729-1001-0001.dcm.png",
         "projection": "Frontal",
         "_deepnote_index_column": 40
        },
        {
         "uid": 21,
         "MeSH": "Calcified Granuloma/lung/lingula;Breast Implants;Deformity/thoracic vertebrae/moderate",
         "Problems": "Calcified Granuloma;Breast Implants;Deformity",
         "image": "2 VIEW CHEST: XXXX, XXXX at XXXX hours.",
         "indication": "Patient confused. Possible head injury.",
         "comparison": "None",
         "findings": "nan",
         "impression": "Heart size normal. Mediastinal silhouettes and pulmonary vascularity are within normal limits. Calc…",
         "filename": "21_IM-0729-1001-0002.dcm.png",
         "projection": "Lateral",
         "_deepnote_index_column": 41
        },
        {
         "uid": 22,
         "MeSH": "normal",
         "Problems": "normal",
         "image": "PA and lateral views of the chest XXXX, XXXX at XXXX hours ",
         "indication": "XXXX-year-old woman with XXXX for 3 weeks.",
         "comparison": "None available",
         "findings": "The lungs are clear, and without focal air space opacity. The cardiomediastinal silhouette is norma…",
         "impression": "No acute cardiopulmonary abnormality.",
         "filename": "22_IM-0810-1001.dcm.png",
         "projection": "Frontal",
         "_deepnote_index_column": 42
        },
        {
         "uid": 22,
         "MeSH": "normal",
         "Problems": "normal",
         "image": "PA and lateral views of the chest XXXX, XXXX at XXXX hours ",
         "indication": "XXXX-year-old woman with XXXX for 3 weeks.",
         "comparison": "None available",
         "findings": "The lungs are clear, and without focal air space opacity. The cardiomediastinal silhouette is norma…",
         "impression": "No acute cardiopulmonary abnormality.",
         "filename": "22_IM-0810-2001.dcm.png",
         "projection": "Lateral",
         "_deepnote_index_column": 43
        },
        {
         "uid": 23,
         "MeSH": "normal",
         "Problems": "normal",
         "image": "Xray Chest PA and Lateral",
         "indication": "Nausea, vomiting, preop for surgery",
         "comparison": "None",
         "findings": "The heart size and pulmonary vascularity appear within normal limits. The lungs are free of focal a…",
         "impression": "No evidence of active disease.",
         "filename": "23_IM-0879-1001.dcm.png",
         "projection": "Frontal",
         "_deepnote_index_column": 44
        },
        {
         "uid": 23,
         "MeSH": "normal",
         "Problems": "normal",
         "image": "Xray Chest PA and Lateral",
         "indication": "Nausea, vomiting, preop for surgery",
         "comparison": "None",
         "findings": "The heart size and pulmonary vascularity appear within normal limits. The lungs are free of focal a…",
         "impression": "No evidence of active disease.",
         "filename": "23_IM-0879-2001.dcm.png",
         "projection": "Lateral",
         "_deepnote_index_column": 45
        },
        {
         "uid": 24,
         "MeSH": "normal",
         "Problems": "normal",
         "image": "PA AND LATERAL VIEWS OF THE CHEST dated XXXX XXXX hours ",
         "indication": "XXXX, dyspnea",
         "comparison": "None.",
         "findings": "Cardiomediastinal silhouette is within normal limits of size and appearance. The pulmonary vascular…",
         "impression": "No acute cardiopulmonary abnormality.",
         "filename": "24_IM-0949-1001.dcm.png",
         "projection": "Frontal",
         "_deepnote_index_column": 46
        },
        {
         "uid": 24,
         "MeSH": "normal",
         "Problems": "normal",
         "image": "PA AND LATERAL VIEWS OF THE CHEST dated XXXX XXXX hours ",
         "indication": "XXXX, dyspnea",
         "comparison": "None.",
         "findings": "Cardiomediastinal silhouette is within normal limits of size and appearance. The pulmonary vascular…",
         "impression": "No acute cardiopulmonary abnormality.",
         "filename": "24_IM-0949-2001.dcm.png",
         "projection": "Lateral",
         "_deepnote_index_column": 47
        },
        {
         "uid": 25,
         "MeSH": "Sutures/lung/apex/right;Lung, Hyperlucent;Lung/hyperdistention;Pulmonary Emphysema;Airspace Disease…",
         "Problems": "Sutures;Lung, Hyperlucent;Lung;Pulmonary Emphysema;Airspace Disease;Pleural Effusion;Pleural Effusi…",
         "image": "Xray Chest PA and Lateral",
         "indication": "XXXX year old smoking on oxygen and nasal cannula caught XXXX. XXXX to the cheek and inside of nose.",
         "comparison": "PA and lateral chest XXXX and CTA XXXX.",
         "findings": "The heart is within normal limits in size. Surgical suture material projects over the right lung ap…",
         "impression": "1. Left lower lobe airspace disease and bilateral pleural effusions, left greater than right. This …",
         "filename": "25_IM-1024-2001.dcm.png",
         "projection": "Frontal",
         "_deepnote_index_column": 48
        },
        {
         "uid": 25,
         "MeSH": "Sutures/lung/apex/right;Lung, Hyperlucent;Lung/hyperdistention;Pulmonary Emphysema;Airspace Disease…",
         "Problems": "Sutures;Lung, Hyperlucent;Lung;Pulmonary Emphysema;Airspace Disease;Pleural Effusion;Pleural Effusi…",
         "image": "Xray Chest PA and Lateral",
         "indication": "XXXX year old smoking on oxygen and nasal cannula caught XXXX. XXXX to the cheek and inside of nose.",
         "comparison": "PA and lateral chest XXXX and CTA XXXX.",
         "findings": "The heart is within normal limits in size. Surgical suture material projects over the right lung ap…",
         "impression": "1. Left lower lobe airspace disease and bilateral pleural effusions, left greater than right. This …",
         "filename": "25_IM-1024-3001.dcm.png",
         "projection": "Lateral",
         "_deepnote_index_column": 49
        }
       ],
       "rows_bottom": [
        {
         "uid": 3974,
         "MeSH": "Lung/hyperdistention;Pulmonary Emphysema;Airspace Disease/lung/middle lobe/right/patchy;Spine/degen…",
         "Problems": "Lung;Pulmonary Emphysema;Airspace Disease;Spine",
         "image": "PA and lateral chest x-XXXX XXXX",
         "indication": "XXXX",
         "comparison": "None available for review",
         "findings": "The lungs are hyperexpanded consistent with emphysema. The heart size and pulmonary vascularity app…",
         "impression": "1. Hyperexpanded lungs suggesting emphysema. 2. Patchy right middle lobe airspace disease. May repr…",
         "filename": "3974_IM-2034-3003.dcm.png",
         "projection": "Lateral",
         "_deepnote_index_column": 7416
        },
        {
         "uid": 3975,
         "MeSH": "No Indexing",
         "Problems": "No Indexing",
         "image": "PA and lateral of the chest ",
         "indication": "XXXX-year-old with XXXX and XXXX for one XXXX.",
         "comparison": "Chest radiograph XXXX, XXXX.",
         "findings": "No focal consolidation. No visualized pneumothorax. No large pleural effusions. Heart size normal. …",
         "impression": "1. No acute cardiopulmonary findings.",
         "filename": "3975_IM-2035-1001.dcm.png",
         "projection": "Frontal",
         "_deepnote_index_column": 7417
        },
        {
         "uid": 3975,
         "MeSH": "No Indexing",
         "Problems": "No Indexing",
         "image": "PA and lateral of the chest ",
         "indication": "XXXX-year-old with XXXX and XXXX for one XXXX.",
         "comparison": "Chest radiograph XXXX, XXXX.",
         "findings": "No focal consolidation. No visualized pneumothorax. No large pleural effusions. Heart size normal. …",
         "impression": "1. No acute cardiopulmonary findings.",
         "filename": "3975_IM-2035-2001.dcm.png",
         "projection": "Lateral",
         "_deepnote_index_column": 7418
        },
        {
         "uid": 3976,
         "MeSH": "normal",
         "Problems": "normal",
         "image": "Xray Chest PA and Lateral",
         "indication": "Upper back pain, hoarseness, history of chronic pancreatitis and asthma",
         "comparison": "None.",
         "findings": "Heart size and mediastinal contour are normal. Pulmonary vascularity is normal. Lungs are clear. No…",
         "impression": "No acute cardiopulmonary process.",
         "filename": "3976_IM-2035-1001.dcm.png",
         "projection": "Frontal",
         "_deepnote_index_column": 7419
        },
        {
         "uid": 3976,
         "MeSH": "normal",
         "Problems": "normal",
         "image": "Xray Chest PA and Lateral",
         "indication": "Upper back pain, hoarseness, history of chronic pancreatitis and asthma",
         "comparison": "None.",
         "findings": "Heart size and mediastinal contour are normal. Pulmonary vascularity is normal. Lungs are clear. No…",
         "impression": "No acute cardiopulmonary process.",
         "filename": "3976_IM-2035-2001.dcm.png",
         "projection": "Lateral",
         "_deepnote_index_column": 7420
        },
        {
         "uid": 3977,
         "MeSH": "Aorta, Thoracic/tortuous;Calcified Granuloma/lung/lower lobe/left",
         "Problems": "Aorta, Thoracic;Calcified Granuloma",
         "image": "PA and lateral chest x-XXXX XXXX, XXXX XXXX hours ",
         "indication": "XXXX-year-old male, hypertension, chest pain",
         "comparison": "Chest x-XXXX XXXX, XXXX",
         "findings": "Normal heart size. Stable unfolding the thoracic aorta. No focal air space consolidation. No pleura…",
         "impression": "No acute cardiopulmonary abnormality.",
         "filename": "3977_IM-2036-1001.dcm.png",
         "projection": "Frontal",
         "_deepnote_index_column": 7421
        },
        {
         "uid": 3977,
         "MeSH": "Aorta, Thoracic/tortuous;Calcified Granuloma/lung/lower lobe/left",
         "Problems": "Aorta, Thoracic;Calcified Granuloma",
         "image": "PA and lateral chest x-XXXX XXXX, XXXX XXXX hours ",
         "indication": "XXXX-year-old male, hypertension, chest pain",
         "comparison": "Chest x-XXXX XXXX, XXXX",
         "findings": "Normal heart size. Stable unfolding the thoracic aorta. No focal air space consolidation. No pleura…",
         "impression": "No acute cardiopulmonary abnormality.",
         "filename": "3977_IM-2036-2001.dcm.png",
         "projection": "Lateral",
         "_deepnote_index_column": 7422
        },
        {
         "uid": 3978,
         "MeSH": "normal",
         "Problems": "normal",
         "image": "Radiograph chest PA and Lateral XXXX, XXXX.",
         "indication": "786.50 hypertension.",
         "comparison": "Radiograph chest PA and Lateral XXXX, XXXX.",
         "findings": "The heart is normal in size and contour. There is no mediastinal widening. The lungs are clear bila…",
         "impression": "No acute cardiopulmonary abnormalities.",
         "filename": "3978_IM-2037-0001-0001.dcm.png",
         "projection": "Frontal",
         "_deepnote_index_column": 7423
        },
        {
         "uid": 3978,
         "MeSH": "normal",
         "Problems": "normal",
         "image": "Radiograph chest PA and Lateral XXXX, XXXX.",
         "indication": "786.50 hypertension.",
         "comparison": "Radiograph chest PA and Lateral XXXX, XXXX.",
         "findings": "The heart is normal in size and contour. There is no mediastinal widening. The lungs are clear bila…",
         "impression": "No acute cardiopulmonary abnormalities.",
         "filename": "3978_IM-2037-0001-0002.dcm.png",
         "projection": "Lateral",
         "_deepnote_index_column": 7424
        },
        {
         "uid": 3979,
         "MeSH": "Aorta/tortuous/mild;Atherosclerosis/aorta/mild",
         "Problems": "Aorta;Atherosclerosis",
         "image": "PA and lateral chest x-XXXX XXXX, XXXX XXXX hours ",
         "indication": "XXXX-year-old female, dizziness, headache.",
         "comparison": "Chest 2 views XXXX, XXXX",
         "findings": "Normal heart size. Mild unfolding and atherosclerotic calcification of the aorta. No focal air spac…",
         "impression": "No acute cardiopulmonary abnormalities.",
         "filename": "3979_IM-2038-1001.dcm.png",
         "projection": "Frontal",
         "_deepnote_index_column": 7425
        },
        {
         "uid": 3979,
         "MeSH": "Aorta/tortuous/mild;Atherosclerosis/aorta/mild",
         "Problems": "Aorta;Atherosclerosis",
         "image": "PA and lateral chest x-XXXX XXXX, XXXX XXXX hours ",
         "indication": "XXXX-year-old female, dizziness, headache.",
         "comparison": "Chest 2 views XXXX, XXXX",
         "findings": "Normal heart size. Mild unfolding and atherosclerotic calcification of the aorta. No focal air spac…",
         "impression": "No acute cardiopulmonary abnormalities.",
         "filename": "3979_IM-2038-2001.dcm.png",
         "projection": "Lateral",
         "_deepnote_index_column": 7426
        },
        {
         "uid": 3980,
         "MeSH": "Cardiomegaly/moderate;Pleural Effusion/left/small;Thickening/pleura/left;Opacity/lung/base/bilatera…",
         "Problems": "Cardiomegaly;Pleural Effusion;Thickening;Opacity;Costophrenic Angle;Diaphragmatic Eventration",
         "image": "Xray Chest PA and Lateral",
         "indication": "XXXX-year-old female, chest pain",
         "comparison": "None",
         "findings": "Heart size moderately enlarged. Mild left costophrenic XXXX blunting. Streaky and patchy bibasilar …",
         "impression": "1. Cardiomegaly and small left pleural effusion versus pleural thickening 2. Streaky and patchy bib…",
         "filename": "3980_IM-2039-1001.dcm.png",
         "projection": "Frontal",
         "_deepnote_index_column": 7427
        },
        {
         "uid": 3980,
         "MeSH": "Cardiomegaly/moderate;Pleural Effusion/left/small;Thickening/pleura/left;Opacity/lung/base/bilatera…",
         "Problems": "Cardiomegaly;Pleural Effusion;Thickening;Opacity;Costophrenic Angle;Diaphragmatic Eventration",
         "image": "Xray Chest PA and Lateral",
         "indication": "XXXX-year-old female, chest pain",
         "comparison": "None",
         "findings": "Heart size moderately enlarged. Mild left costophrenic XXXX blunting. Streaky and patchy bibasilar …",
         "impression": "1. Cardiomegaly and small left pleural effusion versus pleural thickening 2. Streaky and patchy bib…",
         "filename": "3980_IM-2039-2001.dcm.png",
         "projection": "Lateral",
         "_deepnote_index_column": 7428
        },
        {
         "uid": 3981,
         "MeSH": "normal",
         "Problems": "normal",
         "image": "Xray Chest PA and Lateral",
         "indication": "XXXX vehicle accident with left shoulder pain.",
         "comparison": "None",
         "findings": "The lungs are clear. There is no pleural effusion or pneumothorax. The heart and mediastinum are no…",
         "impression": "No acute pulmonary disease.",
         "filename": "3981_IM-2039-1001.dcm.png",
         "projection": "Frontal",
         "_deepnote_index_column": 7429
        },
        {
         "uid": 3981,
         "MeSH": "normal",
         "Problems": "normal",
         "image": "Xray Chest PA and Lateral",
         "indication": "XXXX vehicle accident with left shoulder pain.",
         "comparison": "None",
         "findings": "The lungs are clear. There is no pleural effusion or pneumothorax. The heart and mediastinum are no…",
         "impression": "No acute pulmonary disease.",
         "filename": "3981_IM-2039-2001.dcm.png",
         "projection": "Lateral",
         "_deepnote_index_column": 7430
        },
        {
         "uid": 3982,
         "MeSH": "normal",
         "Problems": "normal",
         "image": "PA lateral chest x-XXXX dated XXXX, XXXX a XXXX. ",
         "indication": "XXXX-year-old male with epigastric pain.",
         "comparison": "8 XXXX 08.",
         "findings": "Normal heart size. No focal airspace consolidation, pneumothorax, pleural effusion, or pulmonary ed…",
         "impression": "No acute cardiothoracic abnormality.",
         "filename": "3982_IM-2039-1001.dcm.png",
         "projection": "Frontal",
         "_deepnote_index_column": 7431
        },
        {
         "uid": 3982,
         "MeSH": "normal",
         "Problems": "normal",
         "image": "PA lateral chest x-XXXX dated XXXX, XXXX a XXXX. ",
         "indication": "XXXX-year-old male with epigastric pain.",
         "comparison": "8 XXXX 08.",
         "findings": "Normal heart size. No focal airspace consolidation, pneumothorax, pleural effusion, or pulmonary ed…",
         "impression": "No acute cardiothoracic abnormality.",
         "filename": "3982_IM-2039-2001.dcm.png",
         "projection": "Lateral",
         "_deepnote_index_column": 7432
        },
        {
         "uid": 3983,
         "MeSH": "Opacity/lung/base/left;Pulmonary Atelectasis/base/right",
         "Problems": "Opacity;Pulmonary Atelectasis",
         "image": "Chest x-XXXX XXXX and lateral on XXXX at XXXX hours. ",
         "indication": "XXXX-year-old male with XXXX and XXXX.",
         "comparison": "None.",
         "findings": "There is a left basilar airspace opacity. Right basilar atelectasis. The heart size and mediastinal…",
         "impression": "1.There is a left basilar airspace opacity, which is concerning for pneumonia. 2. Right basilar ate…",
         "filename": "3983_IM-2039-1001.dcm.png",
         "projection": "Frontal",
         "_deepnote_index_column": 7433
        },
        {
         "uid": 3983,
         "MeSH": "Opacity/lung/base/left;Pulmonary Atelectasis/base/right",
         "Problems": "Opacity;Pulmonary Atelectasis",
         "image": "Chest x-XXXX XXXX and lateral on XXXX at XXXX hours. ",
         "indication": "XXXX-year-old male with XXXX and XXXX.",
         "comparison": "None.",
         "findings": "There is a left basilar airspace opacity. Right basilar atelectasis. The heart size and mediastinal…",
         "impression": "1.There is a left basilar airspace opacity, which is concerning for pneumonia. 2. Right basilar ate…",
         "filename": "3983_IM-2039-2001.dcm.png",
         "projection": "Lateral",
         "_deepnote_index_column": 7434
        },
        {
         "uid": 3984,
         "MeSH": "Aorta, Thoracic/tortuous;Calcinosis/lung/hilum/lymph nodes;Calcinosis/mediastinum/lymph nodes",
         "Problems": "Aorta, Thoracic;Calcinosis;Calcinosis",
         "image": "PA and lateral views of the chest, XXXX, XXXX XXXX XXXX",
         "indication": ",786.2",
         "comparison": "XXXX at XXXX",
         "findings": "The lungs appear clear. The thoracic aorta remains tortuous. The presence of an aortic aneurysm can…",
         "impression": "1. Stable tortuosity of the thoracic aorta. The presence of an underlying aneurysm cannot be exclud…",
         "filename": "3984_IM-2040-1001.dcm.png",
         "projection": "Frontal",
         "_deepnote_index_column": 7435
        },
        {
         "uid": 3984,
         "MeSH": "Aorta, Thoracic/tortuous;Calcinosis/lung/hilum/lymph nodes;Calcinosis/mediastinum/lymph nodes",
         "Problems": "Aorta, Thoracic;Calcinosis;Calcinosis",
         "image": "PA and lateral views of the chest, XXXX, XXXX XXXX XXXX",
         "indication": ",786.2",
         "comparison": "XXXX at XXXX",
         "findings": "The lungs appear clear. The thoracic aorta remains tortuous. The presence of an aortic aneurysm can…",
         "impression": "1. Stable tortuosity of the thoracic aorta. The presence of an underlying aneurysm cannot be exclud…",
         "filename": "3984_IM-2040-3003.dcm.png",
         "projection": "Lateral",
         "_deepnote_index_column": 7436
        },
        {
         "uid": 3985,
         "MeSH": "Calcified Granuloma/lung/lower lobe/left/anterior",
         "Problems": "Calcified Granuloma",
         "image": "Xray Chest PA and Lateral",
         "indication": "The patient is a XXXX-year-old male with kidney transplant evaluation.",
         "comparison": "None.",
         "findings": "No pneumothorax, pleural effusion or airspace consolidation. Heart size and pulmonary vasculature a…",
         "impression": "No acute cardiopulmonary abnormality. .",
         "filename": "3985_IM-2041-1001.dcm.png",
         "projection": "Frontal",
         "_deepnote_index_column": 7437
        },
        {
         "uid": 3985,
         "MeSH": "Calcified Granuloma/lung/lower lobe/left/anterior",
         "Problems": "Calcified Granuloma",
         "image": "Xray Chest PA and Lateral",
         "indication": "The patient is a XXXX-year-old male with kidney transplant evaluation.",
         "comparison": "None.",
         "findings": "No pneumothorax, pleural effusion or airspace consolidation. Heart size and pulmonary vasculature a…",
         "impression": "No acute cardiopulmonary abnormality. .",
         "filename": "3985_IM-2041-2001.dcm.png",
         "projection": "Lateral",
         "_deepnote_index_column": 7438
        },
        {
         "uid": 3986,
         "MeSH": "normal",
         "Problems": "normal",
         "image": "Frontal and Lateral view of the chest on XXXX, XXXX at 146 hours.",
         "indication": "Anxiety and difficulty breathing",
         "comparison": "None available.",
         "findings": "The cardiomediastinal silhouette and vasculature are within normal limits for size and contour. The…",
         "impression": "1. No acute radiographic cardiopulmonary process.",
         "filename": "3986_IM-2041-1001.dcm.png",
         "projection": "Frontal",
         "_deepnote_index_column": 7439
        },
        {
         "uid": 3986,
         "MeSH": "normal",
         "Problems": "normal",
         "image": "Frontal and Lateral view of the chest on XXXX, XXXX at 146 hours.",
         "indication": "Anxiety and difficulty breathing",
         "comparison": "None available.",
         "findings": "The cardiomediastinal silhouette and vasculature are within normal limits for size and contour. The…",
         "impression": "1. No acute radiographic cardiopulmonary process.",
         "filename": "3986_IM-2041-3001.dcm.png",
         "projection": "Frontal",
         "_deepnote_index_column": 7440
        },
        {
         "uid": 3986,
         "MeSH": "normal",
         "Problems": "normal",
         "image": "Frontal and Lateral view of the chest on XXXX, XXXX at 146 hours.",
         "indication": "Anxiety and difficulty breathing",
         "comparison": "None available.",
         "findings": "The cardiomediastinal silhouette and vasculature are within normal limits for size and contour. The…",
         "impression": "1. No acute radiographic cardiopulmonary process.",
         "filename": "3986_IM-2041-2001.dcm.png",
         "projection": "Lateral",
         "_deepnote_index_column": 7441
        },
        {
         "uid": 3987,
         "MeSH": "Thoracic Vertebrae/scattered/degenerative;Osteophyte/thoracic vertebrae/multiple",
         "Problems": "Thoracic Vertebrae;Osteophyte",
         "image": "PA and lateral chest x-XXXX XXXX at XXXX hours. ",
         "indication": "XXXX-year-old woman with back pain",
         "comparison": "Chest radiograph on XXXX",
         "findings": "No acute osseous abnormality. Stable scattered endplate degenerative changes and osteophyte formati…",
         "impression": "1. No acute radiographic cardiopulmonary or osseous process.",
         "filename": "3987_IM-2041-1001.dcm.png",
         "projection": "Frontal",
         "_deepnote_index_column": 7442
        },
        {
         "uid": 3987,
         "MeSH": "Thoracic Vertebrae/scattered/degenerative;Osteophyte/thoracic vertebrae/multiple",
         "Problems": "Thoracic Vertebrae;Osteophyte",
         "image": "PA and lateral chest x-XXXX XXXX at XXXX hours. ",
         "indication": "XXXX-year-old woman with back pain",
         "comparison": "Chest radiograph on XXXX",
         "findings": "No acute osseous abnormality. Stable scattered endplate degenerative changes and osteophyte formati…",
         "impression": "1. No acute radiographic cardiopulmonary or osseous process.",
         "filename": "3987_IM-2041-2001.dcm.png",
         "projection": "Lateral",
         "_deepnote_index_column": 7443
        },
        {
         "uid": 3988,
         "MeSH": "Opacity/lung/lingula/streaky;Opacity/lung/base/left/streaky;Diaphragm/left/elevated;Calcified Granu…",
         "Problems": "Opacity;Opacity;Diaphragm;Calcified Granuloma",
         "image": "PA and lateral chest radiograph (2 views) (2 images) ",
         "indication": "XXXX, rib pain.",
         "comparison": "None.",
         "findings": "No acute osseous abnormalities. Left midlung, and basilar streaky opacity. There is elevation of th…",
         "impression": "No acute osseous abnormalities. If continued clinical concern for rib fracture dedicated rib films …",
         "filename": "3988_IM-2041-1001.dcm.png",
         "projection": "Frontal",
         "_deepnote_index_column": 7444
        },
        {
         "uid": 3988,
         "MeSH": "Opacity/lung/lingula/streaky;Opacity/lung/base/left/streaky;Diaphragm/left/elevated;Calcified Granu…",
         "Problems": "Opacity;Opacity;Diaphragm;Calcified Granuloma",
         "image": "PA and lateral chest radiograph (2 views) (2 images) ",
         "indication": "XXXX, rib pain.",
         "comparison": "None.",
         "findings": "No acute osseous abnormalities. Left midlung, and basilar streaky opacity. There is elevation of th…",
         "impression": "No acute osseous abnormalities. If continued clinical concern for rib fracture dedicated rib films …",
         "filename": "3988_IM-2041-2001.dcm.png",
         "projection": "Lateral",
         "_deepnote_index_column": 7445
        },
        {
         "uid": 3989,
         "MeSH": "Diaphragmatic Eventration/right",
         "Problems": "Diaphragmatic Eventration",
         "image": "Xray Chest PA and Lateral",
         "indication": "XXXX-year-old male, pain",
         "comparison": "None",
         "findings": "Heart size within normal limits. Right hemidiaphragm eventration noted. No focal alveolar consolida…",
         "impression": "No acute cardiopulmonary findings",
         "filename": "3989_IM-2042-1001.dcm.png",
         "projection": "Frontal",
         "_deepnote_index_column": 7446
        },
        {
         "uid": 3989,
         "MeSH": "Diaphragmatic Eventration/right",
         "Problems": "Diaphragmatic Eventration",
         "image": "Xray Chest PA and Lateral",
         "indication": "XXXX-year-old male, pain",
         "comparison": "None",
         "findings": "Heart size within normal limits. Right hemidiaphragm eventration noted. No focal alveolar consolida…",
         "impression": "No acute cardiopulmonary findings",
         "filename": "3989_IM-2042-2001.dcm.png",
         "projection": "Lateral",
         "_deepnote_index_column": 7447
        },
        {
         "uid": 3991,
         "MeSH": "Spondylosis/thoracic vertebrae",
         "Problems": "Spondylosis",
         "image": "Xray Chest PA and Lateral",
         "indication": "Preop bariatric surgery",
         "comparison": "None.",
         "findings": "The cardiac contours are normal. The lungs are clear. Thoracic spondylosis.",
         "impression": "No acute preoperative findings.",
         "filename": "3991_IM-2044-1001.dcm.png",
         "projection": "Frontal",
         "_deepnote_index_column": 7448
        },
        {
         "uid": 3991,
         "MeSH": "Spondylosis/thoracic vertebrae",
         "Problems": "Spondylosis",
         "image": "Xray Chest PA and Lateral",
         "indication": "Preop bariatric surgery",
         "comparison": "None.",
         "findings": "The cardiac contours are normal. The lungs are clear. Thoracic spondylosis.",
         "impression": "No acute preoperative findings.",
         "filename": "3991_IM-2044-2001.dcm.png",
         "projection": "Lateral",
         "_deepnote_index_column": 7449
        },
        {
         "uid": 3992,
         "MeSH": "Pulmonary Congestion",
         "Problems": "Pulmonary Congestion",
         "image": "Xray Chest PA and Lateral",
         "indication": "XXXX.",
         "comparison": "XXXX, XXXX",
         "findings": "nan",
         "impression": "Prior sternotomy. Midline sternotomy XXXX. Normal heart size. Vascular congestion. No overt edema o…",
         "filename": "3992_IM-2044-1001.dcm.png",
         "projection": "Frontal",
         "_deepnote_index_column": 7450
        },
        {
         "uid": 3992,
         "MeSH": "Pulmonary Congestion",
         "Problems": "Pulmonary Congestion",
         "image": "Xray Chest PA and Lateral",
         "indication": "XXXX.",
         "comparison": "XXXX, XXXX",
         "findings": "nan",
         "impression": "Prior sternotomy. Midline sternotomy XXXX. Normal heart size. Vascular congestion. No overt edema o…",
         "filename": "3992_IM-2044-2001.dcm.png",
         "projection": "Lateral",
         "_deepnote_index_column": 7451
        },
        {
         "uid": 3993,
         "MeSH": "Cardiomegaly/mild;Diaphragm/left/elevated",
         "Problems": "Cardiomegaly;Diaphragm",
         "image": "CHEST 2V FRONTAL/LATERAL ",
         "indication": "Edema",
         "comparison": "None",
         "findings": "The heart is mildly enlarged. Left hemidiaphragm is elevated. There is no acute infiltrate or pleur…",
         "impression": "Borderline cardiomegaly without acute disease.",
         "filename": "3993_IM-2044-1001.dcm.png",
         "projection": "Frontal",
         "_deepnote_index_column": 7452
        },
        {
         "uid": 3993,
         "MeSH": "Cardiomegaly/mild;Diaphragm/left/elevated",
         "Problems": "Cardiomegaly;Diaphragm",
         "image": "CHEST 2V FRONTAL/LATERAL ",
         "indication": "Edema",
         "comparison": "None",
         "findings": "The heart is mildly enlarged. Left hemidiaphragm is elevated. There is no acute infiltrate or pleur…",
         "impression": "Borderline cardiomegaly without acute disease.",
         "filename": "3993_IM-2044-1002.dcm.png",
         "projection": "Lateral",
         "_deepnote_index_column": 7453
        },
        {
         "uid": 3994,
         "MeSH": "Cardiomegaly/mild;Pulmonary Congestion;Heart Failure/mild",
         "Problems": "Cardiomegaly;Pulmonary Congestion;Heart Failure",
         "image": "2 view ( PA and lateral) chest radiograph dated XXXX, XXXX ",
         "indication": "XXXX-year-old male with chest pain, positive troponin",
         "comparison": "Portable chest x-XXXX XXXX, XXXX",
         "findings": "Similar mild cardiomegaly. Of the pulmonary vascularity is prominent. No focal consolidations or ef…",
         "impression": "Mild cardiomegaly with XXXX of early failure.",
         "filename": "3994_IM-2045-2001.dcm.png",
         "projection": "Frontal",
         "_deepnote_index_column": 7454
        },
        {
         "uid": 3994,
         "MeSH": "Cardiomegaly/mild;Pulmonary Congestion;Heart Failure/mild",
         "Problems": "Cardiomegaly;Pulmonary Congestion;Heart Failure",
         "image": "2 view ( PA and lateral) chest radiograph dated XXXX, XXXX ",
         "indication": "XXXX-year-old male with chest pain, positive troponin",
         "comparison": "Portable chest x-XXXX XXXX, XXXX",
         "findings": "Similar mild cardiomegaly. Of the pulmonary vascularity is prominent. No focal consolidations or ef…",
         "impression": "Mild cardiomegaly with XXXX of early failure.",
         "filename": "3994_IM-2045-1001.dcm.png",
         "projection": "Lateral",
         "_deepnote_index_column": 7455
        },
        {
         "uid": 3995,
         "MeSH": "Lung/hyperdistention/mild;Diaphragm/bilateral/flattened;Cicatrix/lung/middle lobe/right/mild;Pulmon…",
         "Problems": "Lung;Diaphragm;Cicatrix;Pulmonary Atelectasis;Pulmonary Emphysema",
         "image": "Xray Chest PA and Lateral",
         "indication": "Nausea, vomiting x2 weeks. Dialysis patient.",
         "comparison": "XXXX, XXXX.",
         "findings": "The cardiomediastinal silhouette and pulmonary vasculature are within normal limits in size. The lu…",
         "impression": "1. Interval resolution of bibasilar airspace disease. 2. Hyperinflation with chronic changes of emp…",
         "filename": "3995_IM-2046-1001.dcm.png",
         "projection": "Frontal",
         "_deepnote_index_column": 7456
        },
        {
         "uid": 3995,
         "MeSH": "Lung/hyperdistention/mild;Diaphragm/bilateral/flattened;Cicatrix/lung/middle lobe/right/mild;Pulmon…",
         "Problems": "Lung;Diaphragm;Cicatrix;Pulmonary Atelectasis;Pulmonary Emphysema",
         "image": "Xray Chest PA and Lateral",
         "indication": "Nausea, vomiting x2 weeks. Dialysis patient.",
         "comparison": "XXXX, XXXX.",
         "findings": "The cardiomediastinal silhouette and pulmonary vasculature are within normal limits in size. The lu…",
         "impression": "1. Interval resolution of bibasilar airspace disease. 2. Hyperinflation with chronic changes of emp…",
         "filename": "3995_IM-2046-2001.dcm.png",
         "projection": "Lateral",
         "_deepnote_index_column": 7457
        },
        {
         "uid": 3996,
         "MeSH": "Spine/degenerative",
         "Problems": "Spine",
         "image": "Xray Chest PA and Lateral",
         "indication": "nan",
         "comparison": "None.",
         "findings": "The lungs are clear. Heart size is normal. No pneumothorax. There are endplate changes in the spine.",
         "impression": "Clear lungs. No acute cardiopulmonary abnormality. .",
         "filename": "3996_IM-2047-1001.dcm.png",
         "projection": "Frontal",
         "_deepnote_index_column": 7458
        },
        {
         "uid": 3996,
         "MeSH": "Spine/degenerative",
         "Problems": "Spine",
         "image": "Xray Chest PA and Lateral",
         "indication": "nan",
         "comparison": "None.",
         "findings": "The lungs are clear. Heart size is normal. No pneumothorax. There are endplate changes in the spine.",
         "impression": "Clear lungs. No acute cardiopulmonary abnormality. .",
         "filename": "3996_IM-2047-3001.dcm.png",
         "projection": "Lateral",
         "_deepnote_index_column": 7459
        },
        {
         "uid": 3997,
         "MeSH": "Opacity/lung/upper lobe/right/round/small;Granuloma/lung/upper lobe/right/round/small",
         "Problems": "Opacity;Granuloma",
         "image": "PA and lateral views of the chest. ",
         "indication": "XXXX-year-old male with positive PPD.",
         "comparison": "None available.",
         "findings": "Heart size within normal limits. Small, nodular opacity in the right upper lobe. This does not look…",
         "impression": "No acute findings, no evidence for active TB.",
         "filename": "3997_IM-2048-1001.dcm.png",
         "projection": "Frontal",
         "_deepnote_index_column": 7460
        },
        {
         "uid": 3997,
         "MeSH": "Opacity/lung/upper lobe/right/round/small;Granuloma/lung/upper lobe/right/round/small",
         "Problems": "Opacity;Granuloma",
         "image": "PA and lateral views of the chest. ",
         "indication": "XXXX-year-old male with positive PPD.",
         "comparison": "None available.",
         "findings": "Heart size within normal limits. Small, nodular opacity in the right upper lobe. This does not look…",
         "impression": "No acute findings, no evidence for active TB.",
         "filename": "3997_IM-2048-1002.dcm.png",
         "projection": "Lateral",
         "_deepnote_index_column": 7461
        },
        {
         "uid": 3998,
         "MeSH": "normal",
         "Problems": "normal",
         "image": " PA and lateral chest XXXX, XXXX XXXX comparison from XXXX XXXX ",
         "indication": "tuberculosis positive PPD",
         "comparison": "nan",
         "findings": "nan",
         "impression": "Heart size is normal and the lungs are clear.",
         "filename": "3998_IM-2048-1001.dcm.png",
         "projection": "Frontal",
         "_deepnote_index_column": 7462
        },
        {
         "uid": 3998,
         "MeSH": "normal",
         "Problems": "normal",
         "image": " PA and lateral chest XXXX, XXXX XXXX comparison from XXXX XXXX ",
         "indication": "tuberculosis positive PPD",
         "comparison": "nan",
         "findings": "nan",
         "impression": "Heart size is normal and the lungs are clear.",
         "filename": "3998_IM-2048-1002.dcm.png",
         "projection": "Lateral",
         "_deepnote_index_column": 7463
        },
        {
         "uid": 3999,
         "MeSH": "normal",
         "Problems": "normal",
         "image": "CHEST PA and LATERAL: on XXXX, XXXX. ",
         "indication": "This is a XXXX-year-old female patient with shortness of breath.",
         "comparison": "Chest x-XXXX, XXXX, XXXX.",
         "findings": "nan",
         "impression": "The cardiac silhouette is normal in size and configuration. The mediastinum and perihilar structure…",
         "filename": "3999_IM-2049-1001.dcm.png",
         "projection": "Frontal",
         "_deepnote_index_column": 7464
        },
        {
         "uid": 3999,
         "MeSH": "normal",
         "Problems": "normal",
         "image": "CHEST PA and LATERAL: on XXXX, XXXX. ",
         "indication": "This is a XXXX-year-old female patient with shortness of breath.",
         "comparison": "Chest x-XXXX, XXXX, XXXX.",
         "findings": "nan",
         "impression": "The cardiac silhouette is normal in size and configuration. The mediastinum and perihilar structure…",
         "filename": "3999_IM-2049-2001.dcm.png",
         "projection": "Lateral",
         "_deepnote_index_column": 7465
        }
       ]
      },
      "text/plain": "       uid                                               MeSH  \\\n0        1                                             normal   \n1        1                                             normal   \n2        2  Cardiomegaly/borderline;Pulmonary Artery/enlarged   \n3        2  Cardiomegaly/borderline;Pulmonary Artery/enlarged   \n4        3                                             normal   \n...    ...                                                ...   \n7461  3997  Opacity/lung/upper lobe/right/round/small;Gran...   \n7462  3998                                             normal   \n7463  3998                                             normal   \n7464  3999                                             normal   \n7465  3999                                             normal   \n\n                           Problems  \\\n0                            normal   \n1                            normal   \n2     Cardiomegaly;Pulmonary Artery   \n3     Cardiomegaly;Pulmonary Artery   \n4                            normal   \n...                             ...   \n7461              Opacity;Granuloma   \n7462                         normal   \n7463                         normal   \n7464                         normal   \n7465                         normal   \n\n                                                  image  \\\n0                             Xray Chest PA and Lateral   \n1                             Xray Chest PA and Lateral   \n2                   Chest, 2 views, frontal and lateral   \n3                   Chest, 2 views, frontal and lateral   \n4                             Xray Chest PA and Lateral   \n...                                                 ...   \n7461                PA and lateral views of the chest.    \n7462   PA and lateral chest XXXX, XXXX XXXX comparis...   \n7463   PA and lateral chest XXXX, XXXX XXXX comparis...   \n7464              CHEST PA and LATERAL: on XXXX, XXXX.    \n7465              CHEST PA and LATERAL: on XXXX, XXXX.    \n\n                                             indication  \\\n0                                      Positive TB test   \n1                                      Positive TB test   \n2                              Preop bariatric surgery.   \n3                              Preop bariatric surgery.   \n4     rib pain after a XXXX, XXXX XXXX steps this XX...   \n...                                                 ...   \n7461              XXXX-year-old male with positive PPD.   \n7462                          tuberculosis positive PPD   \n7463                          tuberculosis positive PPD   \n7464  This is a XXXX-year-old female patient with sh...   \n7465  This is a XXXX-year-old female patient with sh...   \n\n                     comparison  \\\n0                         None.   \n1                         None.   \n2                         None.   \n3                         None.   \n4                           NaN   \n...                         ...   \n7461            None available.   \n7462                        NaN   \n7463                        NaN   \n7464  Chest x-XXXX, XXXX, XXXX.   \n7465  Chest x-XXXX, XXXX, XXXX.   \n\n                                               findings  \\\n0     The cardiac silhouette and mediastinum size ar...   \n1     The cardiac silhouette and mediastinum size ar...   \n2     Borderline cardiomegaly. Midline sternotomy XX...   \n3     Borderline cardiomegaly. Midline sternotomy XX...   \n4                                                   NaN   \n...                                                 ...   \n7461  Heart size within normal limits. Small, nodula...   \n7462                                                NaN   \n7463                                                NaN   \n7464                                                NaN   \n7465                                                NaN   \n\n                                             impression  \\\n0                                  Normal chest x-XXXX.   \n1                                  Normal chest x-XXXX.   \n2                          No acute pulmonary findings.   \n3                          No acute pulmonary findings.   \n4     No displaced rib fractures, pneumothorax, or p...   \n...                                                 ...   \n7461      No acute findings, no evidence for active TB.   \n7462      Heart size is normal and the lungs are clear.   \n7463      Heart size is normal and the lungs are clear.   \n7464  The cardiac silhouette is normal in size and c...   \n7465  The cardiac silhouette is normal in size and c...   \n\n                       filename projection  \n0        1_IM-0001-4001.dcm.png    Frontal  \n1        1_IM-0001-3001.dcm.png    Lateral  \n2        2_IM-0652-1001.dcm.png    Frontal  \n3        2_IM-0652-2001.dcm.png    Lateral  \n4        3_IM-1384-1001.dcm.png    Frontal  \n...                         ...        ...  \n7461  3997_IM-2048-1002.dcm.png    Lateral  \n7462  3998_IM-2048-1001.dcm.png    Frontal  \n7463  3998_IM-2048-1002.dcm.png    Lateral  \n7464  3999_IM-2049-1001.dcm.png    Frontal  \n7465  3999_IM-2049-2001.dcm.png    Lateral  \n\n[7466 rows x 10 columns]",
      "text/html": "<div>\n<style scoped>\n    .dataframe tbody tr th:only-of-type {\n        vertical-align: middle;\n    }\n\n    .dataframe tbody tr th {\n        vertical-align: top;\n    }\n\n    .dataframe thead th {\n        text-align: right;\n    }\n</style>\n<table border=\"1\" class=\"dataframe\">\n  <thead>\n    <tr style=\"text-align: right;\">\n      <th></th>\n      <th>uid</th>\n      <th>MeSH</th>\n      <th>Problems</th>\n      <th>image</th>\n      <th>indication</th>\n      <th>comparison</th>\n      <th>findings</th>\n      <th>impression</th>\n      <th>filename</th>\n      <th>projection</th>\n    </tr>\n  </thead>\n  <tbody>\n    <tr>\n      <th>0</th>\n      <td>1</td>\n      <td>normal</td>\n      <td>normal</td>\n      <td>Xray Chest PA and Lateral</td>\n      <td>Positive TB test</td>\n      <td>None.</td>\n      <td>The cardiac silhouette and mediastinum size ar...</td>\n      <td>Normal chest x-XXXX.</td>\n      <td>1_IM-0001-4001.dcm.png</td>\n      <td>Frontal</td>\n    </tr>\n    <tr>\n      <th>1</th>\n      <td>1</td>\n      <td>normal</td>\n      <td>normal</td>\n      <td>Xray Chest PA and Lateral</td>\n      <td>Positive TB test</td>\n      <td>None.</td>\n      <td>The cardiac silhouette and mediastinum size ar...</td>\n      <td>Normal chest x-XXXX.</td>\n      <td>1_IM-0001-3001.dcm.png</td>\n      <td>Lateral</td>\n    </tr>\n    <tr>\n      <th>2</th>\n      <td>2</td>\n      <td>Cardiomegaly/borderline;Pulmonary Artery/enlarged</td>\n      <td>Cardiomegaly;Pulmonary Artery</td>\n      <td>Chest, 2 views, frontal and lateral</td>\n      <td>Preop bariatric surgery.</td>\n      <td>None.</td>\n      <td>Borderline cardiomegaly. Midline sternotomy XX...</td>\n      <td>No acute pulmonary findings.</td>\n      <td>2_IM-0652-1001.dcm.png</td>\n      <td>Frontal</td>\n    </tr>\n    <tr>\n      <th>3</th>\n      <td>2</td>\n      <td>Cardiomegaly/borderline;Pulmonary Artery/enlarged</td>\n      <td>Cardiomegaly;Pulmonary Artery</td>\n      <td>Chest, 2 views, frontal and lateral</td>\n      <td>Preop bariatric surgery.</td>\n      <td>None.</td>\n      <td>Borderline cardiomegaly. Midline sternotomy XX...</td>\n      <td>No acute pulmonary findings.</td>\n      <td>2_IM-0652-2001.dcm.png</td>\n      <td>Lateral</td>\n    </tr>\n    <tr>\n      <th>4</th>\n      <td>3</td>\n      <td>normal</td>\n      <td>normal</td>\n      <td>Xray Chest PA and Lateral</td>\n      <td>rib pain after a XXXX, XXXX XXXX steps this XX...</td>\n      <td>NaN</td>\n      <td>NaN</td>\n      <td>No displaced rib fractures, pneumothorax, or p...</td>\n      <td>3_IM-1384-1001.dcm.png</td>\n      <td>Frontal</td>\n    </tr>\n    <tr>\n      <th>...</th>\n      <td>...</td>\n      <td>...</td>\n      <td>...</td>\n      <td>...</td>\n      <td>...</td>\n      <td>...</td>\n      <td>...</td>\n      <td>...</td>\n      <td>...</td>\n      <td>...</td>\n    </tr>\n    <tr>\n      <th>7461</th>\n      <td>3997</td>\n      <td>Opacity/lung/upper lobe/right/round/small;Gran...</td>\n      <td>Opacity;Granuloma</td>\n      <td>PA and lateral views of the chest.</td>\n      <td>XXXX-year-old male with positive PPD.</td>\n      <td>None available.</td>\n      <td>Heart size within normal limits. Small, nodula...</td>\n      <td>No acute findings, no evidence for active TB.</td>\n      <td>3997_IM-2048-1002.dcm.png</td>\n      <td>Lateral</td>\n    </tr>\n    <tr>\n      <th>7462</th>\n      <td>3998</td>\n      <td>normal</td>\n      <td>normal</td>\n      <td>PA and lateral chest XXXX, XXXX XXXX comparis...</td>\n      <td>tuberculosis positive PPD</td>\n      <td>NaN</td>\n      <td>NaN</td>\n      <td>Heart size is normal and the lungs are clear.</td>\n      <td>3998_IM-2048-1001.dcm.png</td>\n      <td>Frontal</td>\n    </tr>\n    <tr>\n      <th>7463</th>\n      <td>3998</td>\n      <td>normal</td>\n      <td>normal</td>\n      <td>PA and lateral chest XXXX, XXXX XXXX comparis...</td>\n      <td>tuberculosis positive PPD</td>\n      <td>NaN</td>\n      <td>NaN</td>\n      <td>Heart size is normal and the lungs are clear.</td>\n      <td>3998_IM-2048-1002.dcm.png</td>\n      <td>Lateral</td>\n    </tr>\n    <tr>\n      <th>7464</th>\n      <td>3999</td>\n      <td>normal</td>\n      <td>normal</td>\n      <td>CHEST PA and LATERAL: on XXXX, XXXX.</td>\n      <td>This is a XXXX-year-old female patient with sh...</td>\n      <td>Chest x-XXXX, XXXX, XXXX.</td>\n      <td>NaN</td>\n      <td>The cardiac silhouette is normal in size and c...</td>\n      <td>3999_IM-2049-1001.dcm.png</td>\n      <td>Frontal</td>\n    </tr>\n    <tr>\n      <th>7465</th>\n      <td>3999</td>\n      <td>normal</td>\n      <td>normal</td>\n      <td>CHEST PA and LATERAL: on XXXX, XXXX.</td>\n      <td>This is a XXXX-year-old female patient with sh...</td>\n      <td>Chest x-XXXX, XXXX, XXXX.</td>\n      <td>NaN</td>\n      <td>The cardiac silhouette is normal in size and c...</td>\n      <td>3999_IM-2049-2001.dcm.png</td>\n      <td>Lateral</td>\n    </tr>\n  </tbody>\n</table>\n<p>7466 rows × 10 columns</p>\n</div>"
     },
     "metadata": {}
    }
   ]
  },
  {
   "cell_type": "code",
   "metadata": {
    "tags": [],
    "cell_id": "00008-0979240d-8aa9-4033-81cb-0f6d27332592",
    "deepnote_to_be_reexecuted": false,
    "source_hash": "6ff85c98",
    "execution_start": 1636042985547,
    "execution_millis": 3,
    "deepnote_cell_type": "code"
   },
   "source": "images_file_names[0:5]",
   "outputs": [
    {
     "output_type": "execute_result",
     "execution_count": 5,
     "data": {
      "text/plain": "['/datasets/gdrive/XRay-AKAKI/images_normalized/953_IM-2447-1001.dcm.png',\n '/datasets/gdrive/XRay-AKAKI/images_normalized/959_IM-2449-1001.dcm.png',\n '/datasets/gdrive/XRay-AKAKI/images_normalized/957_IM-2449-2001.dcm.png',\n '/datasets/gdrive/XRay-AKAKI/images_normalized/956_IM-2449-1001.dcm.png',\n '/datasets/gdrive/XRay-AKAKI/images_normalized/957_IM-2449-1001.dcm.png']"
     },
     "metadata": {}
    }
   ],
   "execution_count": null
  },
  {
   "cell_type": "code",
   "metadata": {
    "tags": [],
    "cell_id": "00009-eb294b1f-5049-4312-a809-97a3b834825a",
    "deepnote_to_be_reexecuted": false,
    "source_hash": "62abebe",
    "execution_start": 1636042996063,
    "execution_millis": 44,
    "deepnote_cell_type": "code"
   },
   "source": "# see distinct values in image column\ndata['image'].unique()",
   "outputs": [
    {
     "output_type": "execute_result",
     "execution_count": 7,
     "data": {
      "text/plain": "array(['Xray Chest PA and Lateral', 'Chest, 2 views, frontal and lateral',\n       'PA and lateral views of the chest XXXX, XXXX at XXXX hours ',\n       'PA and Lateral Chest. XXXX, XXXX at XXXX ',\n       'PA and lateral chest x-XXXX XXXX. ',\n       'PA and lateral chest radiograph (2 views) (2 images) ',\n       'Chest, 2 views, XXXX XXXX ComparisXXXX/XXXX ',\n       'PA and lateral views of the chest dated XXXX. ',\n       'PA and LAT view CHEST XXXX, XXXX XXXX PM',\n       'PA and lateral chest radiograph, XXXX at XXXX hours. ',\n       '2 VIEW CHEST: XXXX, XXXX at XXXX hours.',\n       'PA AND LATERAL VIEWS OF THE CHEST dated XXXX XXXX hours ',\n       'Chest x-XXXX XXXX and lateral, XXXX ',\n       'PA and lateral views of the Chest performed XXXX/XXXX.',\n       'PA and lateral chest radiographs XXXX at XXXX hours. ',\n       'PA and lateral chest x-XXXX dated XXXX, XXXX at XXXX p.m.. ',\n       'Chest x-XXXX XXXX ',\n       ' CHEST 2V FRONTAL/LATERAL XXXX, XXXX XXXX PM ',\n       'PA and lateral views of the chest. ',\n       'Radiograph Chest PA and Lateral XXXX, XXXX. ',\n       'PA and lateral chest radiographs dated XXXX at XXXX hours.',\n       'PA and lateral views of the chest XXXX, XXXX XXXX PM ',\n       'CHEST 2V FRONTAL/LATERAL XXXX, XXXX XXXX XXXX ',\n       'PA and Lateral Chest Radiograph XXXX, XXXX at XXXX p.m. ',\n       'CHEST (PA AND LATERAL) on XXXX, XXXX.',\n       'CHEST 2V FRONTAL/LATERAL XXXX, XXXX XXXX PM ',\n       'CHEST 2V FRONTAL/LATERAL ',\n       'Chest radiograph PA and lateral XXXX/XXXX at XXXX. ',\n       'PA and lateral chest', 'PA and Lateral Chest',\n       'Chest 2 views dated XXXX, XXXX.',\n       ' Chest, 2 views; SPINE LUMBAR 3 VIEWS XXXX, XXXX XXXX PM ',\n       'CHEST AP and lateral at XXXX XXXX/XXXX',\n       ' PA and lateral chest XXXX, XXXX at XXXX for comparisXXXX/XXXX. Additional rib films were taken to seen the left side ribs. Three views. ',\n       'Chest x-XXXX XXXX and lateral, XXXX. ',\n       'PA and lateral chest XXXX, XXXX.',\n       'XXXX PA and lateral chest 3 images XXXX, XXXX there comparison 20 XXXX ',\n       'PA and Lateral Chest Radiograph ',\n       ' PA and lateral chest, thoracic spine 3 views, and lumbar spine 3 views. ',\n       'PA and Lateral views of the Chest performed on XXXX, XXXX. ',\n       'Chest x-XXXX XXXX and lateral on XXXX XXXX hours. ',\n       'PA and lateral chest radiograph on XXXX at 02: 33 hours. ',\n       'Chest 2 views. ', 'Xray Chest PA and Lateral ',\n       'Chest 2 views dated XXXX at XXXX hours. ', 'Not Available.',\n       'PA and lateral views of the chest XXXX, XXXX XXXX XXXX ',\n       'PA and lateral views of chest performed on XXXX at XXXX. ',\n       'Chest x-XXXX XXXX and lateral, XXXX',\n       'Chest x-XXXX AP and lateral, 2 views. ',\n       'PA and lateral chest x-XXXX, XXXX, XXXX p.m.',\n       'PA and LAT view CHEST XXXX',\n       'PA and lateral chest x-XXXX XXXX at XXXX hours. ',\n       'PA and lateral chest x-XXXX dated XXXX, XXXX at XXXX a.m. ',\n       'Chest 2 views XXXX, XXXX', ' PA and lateral chest. ',\n       'Chest, 2 views. ',\n       'Chest radiograph examination 2 views performed XXXX, XXXX at XXXX.',\n       'PA and lateral chest radiograph on XXXX at 20: 26 hours. ',\n       'Chest, 2 views, XXXX XXXX ',\n       'PA and lateral chest XXXX, XXXX and T no 2 hours.',\n       'XR Chest PA and Lateral',\n       'PA and lateral views of the chest, XXXX, XXXX XXXX PM',\n       'PA and Lateral Chest: XXXX, XXXX at 952 XXXX',\n       ' CHEST 2V FRONTAL/LATERAL XXXX', 'Supine AP and lateral chest',\n       'Frontal and lateral views of the chest obtained at XXXX hours on XXXX, XXXX. ',\n       ' Chest radiograph, frontal and lateral views',\n       'PA and lateral chest XXXX, XXXX at XXXX comparison available from XXXX ',\n       ' CHEST 2V FRONTAL/LATERAL; THREE-VIEW LEFT AND RIGHT XXXX. ',\n       'PA and Lateral Chest X-XXXX dated XXXX.',\n       'PA and Lateral of the chest ',\n       'PA and lateral chest x-XXXX dated XXXX, XXXX at XXXX a.m.. ',\n       '2 views Chest: XXXX', '2 views chest, XXXX hours, XXXX, XXXX ',\n       'PA and lateral chest, XXXX, XXXX XXXX XXXX ',\n       'AP and lateral chest x-XXXX dated XXXX, XXXX at XXXX p.m. ',\n       'PA and lateral chest x-XXXX XXXX, XXXX XXXX hours ',\n       'PA and Lateral Chest. XXXX, XXXX XXXX PM . ',\n       'PA and lateral chest radiograph on XXXX at 00:46 hours. ',\n       'Frontal and lateral chest on XXXX XXXX. ',\n       'Two-view chest x-XXXX, XXXX, 16: 27 hours ',\n       'Chest x-XXXX XXXX and lateral performed on XXXX ',\n       'Chest x-XXXX, frontal and lateral. XXXX. XXXX a.m. ',\n       'Two-view chest. ', 'AP and lateral view chest, XXXX',\n       ' XXXX PA and lateral chest. ',\n       'PA and lateral chest XXXX, XXXX at XXXX with comparison XXXX.',\n       'PA and lateral chest XXXX, XXXX at XXXX hours. Pelvis and left hip XXXX at XXXX hours. Left femur XXXX. Left knee 4 views XXXX, XXXX.',\n       'PA and lateral chest, XXXX, XXXX XXXX PM ',\n       'PA and lateral chest XXXX, XXXX at XXXX ',\n       'Chest radiographs, 2 images. ',\n       'PA AND LATERAL VIEWS OF THE CHEST, RIGHT SHOULDER 3 VIEWS dated XXXX at XXXX hours ',\n       'Radiographs of chest PA and lateral, two views. ',\n       'PA and lateral chest radiographs. ',\n       'PA and Lateral Chest. XXXX, XXXX XXXX XXXX . ',\n       ' XXXX PA and lateral chest XXXX, XXXX XXXX comparison XXXX XXXX ',\n       'SPINE LUMBAR 2 OR 3 VIEWS; two-view chest. XXXX, XXXX XXXX PM ',\n       ' PA and lateral chest XXXX, XXXX XXXX comparison XXXX XXXX ',\n       'Chest PA and lateral views. XXXX, XXXX XXXX PM ',\n       'PA and Lateral Chest: XXXX at XXXX hours.',\n       'PA and lateral views of the chest XXXX hours &lt;XXXX, XXXX&gt;. ',\n       'PA AND LATERAL CHEST X-XXXX at XXXX XXXX/XXXX ',\n       'PA and lateral chest radiographs. XXXX/XXXX at XXXX hours. ',\n       'PA and lateral views of the chest XXXX',\n       'PA and lateral views of the chest XXXX hours XXXX, XXXX. ',\n       'Radiographs of the chest, 2 views, PA and lateral views.',\n       'Chest x-XXXX and Lateral views, dated XXXX, XXXX XXXX PM ',\n       'Chest radiograph examination 2 views performed XXXX, XXXX at XXXX. ',\n       'Chest 2 views PA and lateral XXXX, XXXX XXXX a.m. ',\n       'Chest XXXX and lateral ',\n       ' CHEST 2V FRONTAL/LATERAL XXXX, XXXX XXXX XXXX ',\n       ' CHEST 2V FRONTAL/LATERAL ',\n       'PA and lateral views of the chest, 3 images. ',\n       'CHEST- PA AND LATERAL ',\n       'Radiographs of the chest, 2 views, AP and lateral views.',\n       'Chest x-XXXX. XXXX ',\n       ' Frontal and lateral views of the chest dated XXXX',\n       'PA and Lateral Chest. XXXX, XXXX. &gt;] ',\n       'XXXX and lateral chest XXXX, XXXX at XXXX hours.',\n       'PA and lateral chest XXXX, XXXX at XXXX with comparison 12 XXXX ',\n       'Chest x-XXXX, 2 views, XXXX, XXXX XXXX PM',\n       'Chest x-XXXX, 2 views, XXXX, XXXX at XXXX PM',\n       ' PA and lateral chest XXXX, XXXX at time XXXX comparison available from XXXX ',\n       'PA and lateral chest XXXX, XXXX at XXXX with comparison 6 XXXX ',\n       'Frontal and lateral chest on XXXX XXXX.',\n       ' PA and lateral chest XXXX, XXXX at XXXX with comparison XXXX ',\n       'PA and LATERAL views of the chest, dated XXXX, XXXX XXXX XXXX',\n       'Frontal and Lateral view of the chest XXXX/XXXX at 418 hours.',\n       'CHEST 2V FRONTAL/LATERAL Sept 21, XXXX XXXX XXXX ',\n       'PA and Lateral Chest: XXXX at 01: 50 hours.',\n       'Chest x-XXXX XXXX and lateral on XXXX. ',\n       'PA and lateral chest XXXX, XXXX at XXXX comparison XXXX XXXX and CT from the same time. ',\n       'CHEST (PA AND LATERAL) on XXXX, XXXX',\n       'CHEST 2V FRONTAL/LATERAL ; Three-view right foot.',\n       'Chest, 2 XXXX and Lateral ',\n       'PA and lateral chest radiograph on XXXX at 01: 28 hours. ',\n       'History of cancer. Evaluate for metastatic disease Examination PA and lateral chest XXXX, XXXX at XXXX no comparison',\n       ' Two-view chest. XXXX hours XXXX, XXXX compared to XXXX, XXXX. XXXX change. ',\n       ' PA and lateral chest',\n       'PA and lateral views of the chest dated XXXX, XXXX.',\n       'Chest, 2 views, XXXX XXXX',\n       'Exam PA and lateral chest XXXX, XXXX at XXXX hours.',\n       'AP and lateral chest XXXX, XXXX at time XXXX with comparison XXXX XXXX ',\n       'Two view chest radiograph dated XXXX, XXXX ',\n       'AP and lateral chest XXXX, XXXX at XXXX',\n       'Chest radiographs (PA and lateral views), dated XXXX. ',\n       'PA and lateral chest x-XXXX dated XXXX, XXXX at XXXX. ',\n       'CHEST 2V FRONTAL/LATERAL RADXXXX XXXX, XXXX XXXX PM ',\n       'PA and lateral chest x-XXXX ',\n       'PA AND LATERAL CHEST X-XXXX at XXXX on XXXX ',\n       'PA lateral chest x-XXXX dated XXXX ',\n       'PA and lateral chest radiograph, XXXX XXXX hours. ',\n       'PA and LATERAL views of the chest, dated XXXX, XXXX XXXX PM',\n       'PA and LAT view CHEST XXXX, XXXX XXXX XXXX',\n       'PA and lateral chest x-XXXX dated XXXX, XXXX at XXXX p.m. ',\n       'PA and lateral views of the chest ',\n       '2 views of the Chest XXXX/11. ',\n       'PA and lateral views of chest performed XXXX/XXXX at XXXX. ',\n       'PA lateral views of the chest dated XXXX. ',\n       ' PA and lateral chest XXXX, XXXX at XXXX comparison XXXX. ',\n       'Chest X XXXX 2 XXXX PA and lateral ',\n       'PA and Lateral Chest X-XXXX XXXX at XXXX ',\n       'CHEST 2V FRONTAL/LATERAL Sept 15, XXXX XXXX XXXX ',\n       'CHEST PA and LATERAL at XXXX p.m. XXXX/XXXX',\n       'PA and lateral chest XXXX, XXXX at XXXX comparison 14 XXXX ',\n       ' PA and lateral chest XXXX, XXXX XXXX comparison XXXX ',\n       'Xray Chest PA and Lateral .',\n       ' PA and lateral chest XXXX, XXXX at time XXXX ',\n       'PA and lateral of the chest ',\n       'Pelvis with bilateral hips, AP femur with PA and lateral chest XXXX, XXXX.',\n       'PA and lateral views of the chest, XXXX, XXXX XXXX XXXX',\n       'Chest radiograph PA and lateral. ',\n       'PA and Lateral Chest Radiograph XXXX, XXXX XXXX XXXX',\n       'PA and Lateral Chest: XXXX, XXXX at XXXX p.m.',\n       'PA lateral chest x-XXXX XXXX, XXXX XXXX hours ',\n       'Frontal and lateral chest on XXXX at XXXX.',\n       'PA and lateral chest radiographs dated XXXX at XXXX hours. ',\n       ' PA and lateral chest.',\n       '2 view CHEST: XXXX, XXXX at XXXX hours. ',\n       '2 view chest dated XXXX XXXX',\n       'PA and lateral chest, XXXX at XXXX',\n       'KNEE 1-2 VIEWS XXXX, XXXX XXXX PM ', 'Two-view chest, XXXX ',\n       'Chest X XXXX 2 XXXX PA and lateral, Abdomen X XXXX 2 XXXX AP supine and XXXX. ',\n       'PA and Lateral Chest. XXXX, XXXX. ',\n       'PA lateral chest radiograph XXXX, XXXX XXXX hours ',\n       'Chest Two views PA and lateral XXXX, XXXX XXXX p.m. ',\n       ' PA and lateral chest. XXXX. ',\n       'XXXX and lateral chest XXXX, XXXX at time XXXX ',\n       'PA and lateral chest XXXX, XXXX at XXXX',\n       ' PA and lateral views. ',\n       'CHEST, Two (2) Views XXXX, XXXX at XXXX hours.',\n       'Chest Radiograph Frontal and Lateral Views dated XXXX. ',\n       ' CHEST 2V FRONTAL/LATERAL XXXX, XXXX XXXX PM',\n       'Two views of the chest XXXX ', 'Two views of the chest ',\n       'PA and Lateral Chest ',\n       'Two view chest x-XXXX dated XXXX XXXX hours ',\n       'Frontal and Lateral view of the chest XXXX/XXXX at 507 hours.',\n       ' Two-view chest. XXXX hours XXXX, XXXX. ',\n       'Chest x-XXXX XXXX and lateral on XXXX at XXXX hours. ',\n       'PA and Lateral Chest. XXXX, XXXX XXXX hours ',\n       'CHEST ( FRONTAL AND LATERAL): XXXX, XXXX XXXX PM',\n       'PA and lateral chest XXXX, XXXX XXXX comparison XXXX',\n       ' is PA and lateral chest XXXX, XXXX at XXXX with comparison XXXX ',\n       'PA AND LATERAL VIEWS OF THE CHEST dated XXXX at XXXX hours ',\n       'Chest radiograph examination performed XXXX, XXXX at XXXX. ',\n       'PA and Lateral Chest x-XXXX on XXXX, XXXX at XXXX a.m..',\n       'Two views chest. XXXX hours XXXX, XXXX. ',\n       'Chest 2 views PA and lateral XXXX, XXXX XXXX p.m. ',\n       ' Two-view chest. ',\n       'Two views of the chest XXXX, XXXX XXXX hours. ',\n       'CHEST X-XXXX XXXX and LATERAL dated XXXX, XXXX at XXXX hours. ',\n       'PA and lateral chest XXXX, XXXX XXXX comparison 19 XXXX. ',\n       'PA lateral chest 3 images XXXX, XXXX time XXXX ',\n       ' PA and lateral chest 3 images XXXX, XXXX XXXX comparison 17 XXXX ',\n       'CHEST (PA AND LATERAL)',\n       'Chest x-XXXX, 2 views dated XXXX COMPARISXXXX/XXXX ',\n       'PA lateral chest x-XXXX, XXXX',\n       'PA and lateral chest, XXXX at XXXX ',\n       'PA and lateral chest XXXX, XXXX at XXXX comparison XXXX XXXX ',\n       ' Two views of chest dated XXXX',\n       'Chest 2 XXXX and lateral XXXX, XXXX, XXXX a.m.',\n       'PA and lateral chest XXXX, XXXX XXXX with comparisXXXX/XXXX',\n       'CHEST 2V FRONTAL/LATERAL Sept 21, XXXX XXXX PM ',\n       'CHEST 2V FRONTAL/LATERAL XXXX, XXXX XXXX PM',\n       'PA and lateral chest XXXX XXXX hours.',\n       'PA lateral chest x-XXXX, XXXX at XXXX p.m.',\n       'Radiographs of the chest, 2 views, dated XXXX, XXXX, at XXXX hours. ',\n       'AP and lateral chest',\n       'PA and lateral views of the Chest on XXXX ',\n       'PA and lateral chest. XXXX. ',\n       'Frontal and lateral view of the chest on XXXX, XXXX at XXXX hours. ',\n       'PA and lateral chest XXXX, XXXX XXXX comparison 03 XXXX',\n       'PA and lateral chest XXXX, XXXX at XXXX with comparison XXXX XXXX ',\n       'PA and lateral views of the chest XXXX, XXXX a XXXX hours ',\n       'PA and lateral chest x-XXXX dated XXXX at XXXX hours.',\n       'PA and lateral chest x-XXXX dated XXXX',\n       ' Two views of the chest XXXX, XXXX XXXX hours. ',\n       'TWO-VIEW CHEST (AP/PA and lateral): XXXX.',\n       'Two-view chest. XXXX hours XXXX, XXXX compared to XXXX, XXXX. ',\n       'PA and lateral views of the chest XXXX hours XXXX, XXXX ',\n       'PA lateral chest x-XXXX, 3 images, dated XXXX, XXXX at XXXX p.m. ',\n       'Frontal and lateral views of the chest dated XXXX ',\n       ' PA and lateral views of the chest. ',\n       'Chest radiographs, 2 XXXX and lateral ',\n       'PA and lateral chest radiograph on XXXX at 02: 51 hours. ',\n       ' PA and lateral views of the Chest on XXXX ',\n       'PA and lateral chest XXXX, XXXX at XXXX hours.',\n       '2 views of the Chest XXXX/11. ComparisXXXX/XXXX ',\n       'CHEST 2V FRONTAL/LATERAL', 'CHEST 2V FRONTAL/LATERAL - RADXXXX ',\n       'PA and Lateral Chest Xray dated XXXX.',\n       'Frontal lateral chest x-XXXX XXXX, XXXX XXXX',\n       'AP and lateral chest: XXXX',\n       'PA and Lateral Chest Radiograph XXXX, XXXX at XXXX a.m. ',\n       ' PA and lateral chest ',\n       'Radiographs of the chest, 2 views, dated XXXX, XXXX, at XXXX hours.',\n       'PA and lateral chest XXXX, XXXX at XXXX comparison 23 XXXX ',\n       'PA and lateral chest, XXXX, XXXX XXXX XXXX. ',\n       'Chest 2 views dated XXXX, XXXX',\n       'Chest x-XXXX, 2 views, XXXX, XXXX XXXX XXXX',\n       'PA and lateral chest x-XXXX dated XXXX ',\n       'AP chest PA and lateral chest XXXX, XXXX XXXX ',\n       'CHEST 2V FRONTAL/LATERAL Sept 9, XXXX XXXX PM ',\n       'Frontal and Lateral view of the chest XXXX/XXXX at 516 hours.',\n       'Frontal and lateral chest on XXXX at XXXX. ',\n       'PA and lateral chest XXXX, XXXX at XXXX with comparison XXXX 10 ',\n       '1. PA and lateral views of the chest. 2. AP pelvis with frogleg lateral views of the hips. ',\n       'Two-view chest; left KNEE 1-2 VIEWS XXXX, XXXX XXXX XXXX ',\n       'PA and lateral views of the chest The XXXX XXXX at XXXX hours ',\n       'History heart failure Examination PA and lateral chest XXXX, XXXX at XXXX no comparisons.',\n       'PA and lateral chest radiograph on XXXX at 03: 46 hours. ',\n       'Two-view chest dated XXXX XXXX hours ',\n       'PA and lateral chest x-XXXX XXXX',\n       'AP and lateral chest radiographs dated XXXX at XXXX hours.',\n       'Chest XXXX and lateral', 'PA lateral chest XXXX, XXXX XXXX. ',\n       ' CHEST, Two (2) Views XXXX, XXXX at XXXX hours. ',\n       'PA lateral chest XXXX, XXXX at XXXX',\n       ' Two-view chest. XXXX hours XXXX, XXXX compared to XXXX, XXXX. ',\n       'AP and lateral chest X-ray',\n       'PA and lateral views of the chest dated XXXX, XXXX XXXX XXXX.',\n       'AP and lateral chest radiographs. XXXX/XXXX at XXXX hours. ',\n       'Radiographs of the chest, 2 views, AP supine and lateral views.',\n       '2 views chest PA and Lateral XXXX ',\n       'Chest radiograph, 2 images. ',\n       'Frontal and lateral views of the chest dated XXXX, XXXX ',\n       'CHEST X-XXXX XXXX XXXX and LATERAL DATED XXXX . ',\n       'PA and lateral views of chest performed on XXXX. ',\n       ' Two view chest. XXXX hours XXXX, XXXX compared to XXXX, XXXX. ',\n       'CHEST PA and LATERAL: on XXXX, XXXX. ',\n       'PA AND LATERAL VIEWS OF THE CHEST dated XXXX, XXXX XXXX hours ',\n       'PA and lateral chest XXXX, XXXX at XXXX comparison XXXX 10 ',\n       ' PA and lateral chest XXXX, XXXX at XXXX with comparison 13 XXXX ',\n       'Chest X-XXXX 2 XXXX ',\n       ' PA and lateral chest XXXX, XXXX XXXX with comparisXXXX/XXXX ',\n       'PA and lateral chest XXXX, XXXX XXXX comparison XXXX XXXX ',\n       'CHEST 2V FRONTAL/LATERAL Sept 19, XXXX XXXX XXXX ',\n       ' PA and lateral chest XXXX, XXXX and XXXX comparisXXXX/XXXX ',\n       '2 view ( PA and lateral) chest radiograph dated XXXX, XXXX ',\n       'PA and lateral chest. ',\n       'Chest radiograph PA and lateral XXXX/XXXX XXXX. ',\n       'PA and Lateral Chest: XXXX at 13: 07 hours.',\n       'PA and Lateral Chest: XXXX at XXXX a.m.',\n       'Chest x-XXXX, 2 views. XXXX at XXXX p.m. ',\n       'PA and Lateral Chest. XXXX, XXXX ',\n       'Chest PA and lateral views. ',\n       'Chest x-XXXX XXXX and lateral performed on XXXX, XXXX at XXXX hours. ',\n       'Xray Chest PA and Lateral - XRXXXX ',\n       ' Frontal and lateral views of the chest was obtained on XXXX, XXXX at XXXX a.m. There are no prior studies for comparison. ',\n       ' PA and lateral chest XXXX, XXXX at XXXX comparison XXXX XXXX ',\n       'AP and lateral views of the chest dated XXXX, XXXX.',\n       'PA and lateral chest, XXXX at XXXX. ',\n       'PA and lateral chest radiograph on XXXX at 21: 06 hours. ',\n       'CHEST 2V FRONTAL/LATERAL XXXX ',\n       'Two-view chest x-XXXX XXXX at XXXX hours. ',\n       'PA and Lateral Chest: XXXX, XXXX at XXXX a.m.',\n       'Chest radiograph PA and lateral on XXXX at XXXX. ',\n       ' CHEST 2V FRONTAL/LATERAL. ', 'Chest 2 views ',\n       'Chest radiograph, 2 views. ',\n       'CHEST PA and Lateral on XXXX, XXXX ',\n       'PA lateral chest x-XXXX dated XXXX, XXXX XXXX a.m. ',\n       'CHEST ( FRONTAL AND LATERAL): XXXX, XXXX. ',\n       'XR PA and lateral chest. ',\n       'A lateral chest x-XXXX XXXX, XXXX XXXX hours ',\n       'PA and Lateral Chest. XXXXth, XXXX XXXX hours ',\n       'PA and lateral chest x-XXXX dated XXXX, XXXX at XXXX p.m. Three total images. ',\n       'CHEST 2V FRONTAL/LATERAL XXXX', 'PA lateral chest x-XXXX XXXX',\n       'The chest 2 views PA and lateral. ',\n       'PA and lateral chest 3 images',\n       'CHEST (PA AND LATERAL). XXXX, XXXX XXXX PM', 'AP portable chest',\n       'PA and Lateral of the Chest', '2 views of the chest XXXX/XXXX.',\n       'AP and lateral chest x-XXXX XXXX, XXXX XXXX hours ',\n       'PA and Lateral Chest Radiographs : XXXX, XXXX XXXX XXXX',\n       '2 views chest XXXX',\n       'PA and lateral chest XXXX, XXXX at XXXX with comparison 20 XXXX ',\n       'And lateral chest XXXX, XXXX XXXX hours.',\n       ' XXXX and lateral chest. ', 'CHEST 2V FRONTAL/LATERAL RADXXXX ',\n       ' PA and lateral chest XXXX, XXXX at 13 minutes after XXXX p.m. ',\n       'Two-view XXXX and lateral, XXXX ',\n       'Chest radiograph AP and left lateral decubitus XXXX/XXXX at XXXX. ',\n       ' PA and lateral chest XXXX, XXXX XXXX comparison XXXX 10 ',\n       'Portable radiograph of the chest, single view, Portable AP view.',\n       'PA and lateral chest XXXX, XXXX at XXXX with comparison 23 XXXX ',\n       'PA and lateral chest radiographs XXXX XXXX hours. ',\n       'Two-view CHEST: XXXX, XXXX at XXXX hours.',\n       'PA and lateral chest dated XXXX ',\n       '2 view CHEST: XXXX, XXXX XXXX hours. ',\n       'PA and Lateral Chest Radiographs : XXXX, XXXX XXXX PM',\n       'PA lateral views the chest. ',\n       ' Frontal and lateral views of the chest were obtained on XXXX, XXXX at XXXX a.m. and compared to prior study performed XXXX, XXXX ',\n       'PA and lateral chest 3 images XXXX, XXXX at XXXX comparisXXXX/XXXX ',\n       'PA and lateral chest XXXX, XXXX at XXXX comparison CT from XXXX ',\n       'Radiographs of chest PA and lateral, two views. Examination date XXXX, XXXX ',\n       'PA and lateral chest XXXX, XXXX at XXXX comparison XXXX ',\n       ' PA and lateral chest XXXX, XXXX at XXXX comparison XXXX ',\n       'Two views, XXXX and lateral ',\n       ' XXXX CHEST 2V FRONTAL/LATERAL XXXX, XXXX XXXX PM. ',\n       'Diminution PA and lateral chest XXXX, XXXX 12 level with comparison chest x-XXXX XXXX comparison CT from XXXX ',\n       'TWO-VIEW CHEST (AP/PA and lateral): 02/010/XXXX.',\n       'PA and lateral chest ', ' Adequate. ',\n       'Chest 2 views dated XXXX at XXXX hours.',\n       'Chest x-XXXX, 2 views dated XXXX ',\n       'Two-view chest. XXXX hours XXXX, XXXX. ',\n       'Chest PA and lateral. XXXX, XXXX at XXXX.',\n       'Examination and lateral chest XXXX, XXXX XXXX with comparison XXXX ',\n       'AP and Lateral Chest',\n       'Two-view chest: Three-view right shoulder; two-view right clavicle. ',\n       'Two-view chest, XXXX Soft tissue neck, XXXX',\n       'Chest, 2 views, supine and crosstable lateral',\n       'Chest radiograph 2 image. ',\n       '2 view ( PA and lateral) chest radiograph dated XXXX, XXXX at XXXX a.m.',\n       'Single view chest. XXXX hours XXXX, XXXX compared to XXXX, XXXX. ',\n       'PA and lateral views of the chest dated XXXX, XXXX XXXX PM.',\n       'Frontal and lateral views of the chest XXXX at XXXX hours.',\n       'Frontal and Lateral view of the chest XXXX/XXXX at 600 hours.',\n       'PA and Lateral Chest. XXXX, XXXX &gt;]. ',\n       'CHEST, Two (2) Views XXXX, XXXX at XXXX hours. ',\n       'Chest x-XXXX XXXX and lateral on XXXX ',\n       ' AP and lateral chest XXXX, XXXX XXXX comparison XXXX ',\n       'PA and lateral chest and left shoulder 3 views XXXX, XXXX at XXXX ',\n       ' PA and lateral chest XXXX, XXXX at XXXX. ',\n       'Chest radiograph PA and lateral XXXX at XXXX. ',\n       ' (XXXX) XXXX CHEST 2V FRONTAL/LATERAL ACCESSION NO: XXXX ',\n       'Two-view chest radiograph dated from today ',\n       'XR frontal and lateral chest ',\n       '1. Two views of the chest frontal and lateral views 2. Two views of the ribs frontal and oblique views ',\n       ' PA and lateral chest XXXX, XXXX at XXXX comparisXXXX/XXXX ',\n       'Chest 2 views XXXX, XXXX XXXX PM ',\n       'PA and lateral chest XXXX, XXXX at XXXX with comparison XXXX ',\n       ' Two-view chest; right SHOULDER COMPLETE XXXX 2V XXXX, XXXX XXXX XXXX ',\n       'PA and lateral chest radiograph on XXXX at 02: 45 hours. ',\n       'PA and lateral chest radiograph, XXXX at XXXX hours.',\n       ' PA and lateral chest XXXX, XXXX at XXXX with comparison XXXX 10 ',\n       'PA and lateral chest XXXX, XXXX at XXXX with comparison available from XXXX XXXX ',\n       'Chest x-XXXX XXXX and lateral performed on XXXX. ',\n       'PA and lateral chest XXXX, XXXX at XXXX with comparison 3 XXXX ',\n       'Chest PA and lateral dated XXXX, XXXX at XXXX hours ',\n       'Portable AP chest radiograph (1 view) ',\n       '2 view ( PA and lateral) chest radiograph dated XXXX, XXXX at XXXX a.m. ',\n       '2 views of the chest XXXX, XXXX XXXX hours. ',\n       ' CHEST 2V FRONTAL/LATERAL XXXX, XXXX XXXX PM. ',\n       'CHEST 2V FRONTAL/LATERAL Sept 8, XXXX XXXX XXXX ',\n       'Chest radiograph 2 views on XXXX, XXXX XXXX XXXX ',\n       'Frontal and lateral view of the chest, 2 views of the sternum on XXXX, XXXX at XXXX hours. ',\n       ' PA chest XXXX, XXXX XXXX comparison outside films from XXXX, XXXX ',\n       'PA and lateral views of the chest, XXXX ',\n       'CHEST 2V FRONTAL/LATERAL dated XXXX, XXXX XXXX XXXX ',\n       'PA and Lateral Chest Radiographs XXXX XXXX hours',\n       'Chest radiograph PA and lateral XXXX/XXXX XXXX, right foot radiograph XXXX/XXXX at XXXX. ',\n       'Chest PA and lateral',\n       ' PA and lateral chest XXXX, XXXX time XXXX. ',\n       'AP and lateral chest XXXX, XXXX XXXX comparison XXXX XXXX ',\n       'PA and lateral chest X-ray', 'PA and lateral chest XXXX',\n       'PA and lateral chest 3 images XXXX, XXXX at XXXX ',\n       'PA and Lateral Chest: XXXX at 14: 18 hours.',\n       ' XXXX PA and lateral chest.',\n       'Chest PA and lateral views. XXXX, XXXX XXXX PM',\n       'PA lateral chest radiograph, XXXX XXXX hours. ',\n       'CHEST 2V FRONTAL/LATERAL Sept 12, XXXX XXXX PM ',\n       '2 views of the Chest on XXXX. ',\n       'XXXX CHEST 2V FRONTAL/LATERAL XXXX, XXXX XXXX PM ',\n       'Chest radiograph PA and lateral and XXXX at XXXX. ',\n       ' PA and lateral chest XXXX, XXXX at XXXX comparison available from XXXX 10 ',\n       'Chest PA and lateral views. XXXX, XXXX XXXX PM ComparisXXXX/XXXX ',\n       'PA lateral views of the chest XXXX hours XXXX, XXXX. ',\n       'Chest x-XXXX 2 views, XXXX, XXXX XXXX PM ',\n       'Chest 2 views PA and lateral. ',\n       'PA and lateral chest x-XXXX dated XXXX, XXXX at XXXX a.m. 3 total images. ',\n       'Chest XXXX and Lateral', 'Chest 2 views. XXXX, XXXX at XXXX.',\n       'Chest 2 views PA and Lateral XXXX , XXXX at XXXX .',\n       'AP and lateral chest x-XXXX dated XXXX, XXXX at XXXX p.m.. ',\n       ' CHEST 2V FRONTAL/LATERAL XXXX, XXXX XXXX PM No comparison. Both lungs are clear and expanded. Heart and mediastinum normal. ',\n       'PA lateral chest XXXX, XXXX at XXXX comparison XXXX XXXX ',\n       'Two-view chest XXXX, XXXX. ',\n       'AP and lateral chest XXXX 11 XXXX comparison 01 XXXX',\n       'PA and Lateral Chest. ',\n       ' PA and lateral chest 2 views right knee 2 views XXXX, XXXX XXXX comparison the available from XXXX comparison chest available from XXXX ',\n       'PA and lateral chest XXXX, XXXX XXXX with comparison available from XXXX 28 ',\n       'PA and lateral chest XXXX, XXXX XXXX with comparison XXXX ',\n       'Chest x-XXXX, 2 views dated XXXX COMPARISXXXX/XXXX, outside film ',\n       'PA and lateral chest XXXX, XXXX at XXXX comparison 02 XXXX ',\n       'Eburnation PA and lateral chest XXXX, XXXX time XXXX comparison XXXX ',\n       'Chest x-XXXX AP and lateral on XXXX ',\n       'Xray Chest PA and Lateral XXXX',\n       'Chest radiograph PA and lateral XXXX. ',\n       'Two-view chest. 30 hours XXXX, XXXX. Comparison XXXX, XXXX. ',\n       'Chest, single portable AP view',\n       'a PA and lateral chest XXXX, XXXX XXXX comparison XXXX 10 ',\n       'CHEST FRONTAL AND LATERAL VIEWS dated XXXX at XXXX.',\n       'Chest Two views PA and lateral XXXX, XXXX XXXX a.m. ',\n       'Chest x-XXXX, AP and lateral. XXXX. XXXX a.m. ',\n       'Two-view. XXXX hours XXXX, XXXX. Comparison XXXX, XXXX. ',\n       'Chest 2 XXXX and lateral ', 'Two views of the chest dated XXXX ',\n       'PA and lateral chest XXXX, XXXX XXXX comparison 13 XXXX',\n       'PA and lateral chest radiograph on XXXX at 03: 21 hours. ',\n       'Chest x-XXXX AP and lateral on XXXX at XXXX hours. ',\n       'PA and lateral chest XXXX, XXXX XXXX comparison 14 XXXX ',\n       'PA lateral chest radiograph from today XXXX hours ',\n       '2 views chest XXXX hours, XXXX, XXXX ',\n       'PA lateral chest XXXX, XXXX XXXX compressed and XXXX 10 ',\n       'Chest 2 views PA and lateral XXXX, XXXX. XXXX a.m. ',\n       'Right forearm 2 views, right elbow 2 XXXX and lateral views of the chest, left ankle 3 views of XXXX, XXXX. ',\n       ' PA lateral chest. ',\n       'PA and lateral chest, XXXX, XXXX XXXX PM. ',\n       'PA and lateral chest XXXX, XXXX XXXX comparison 20 XXXX and XXXX XXXX ',\n       'PA and lateral chest XXXX, XXXX at XXXX with comparison 5 XXXX',\n       'PA lateral chest x-XXXX dated XXXX, XXXX at XXXX p.m. ',\n       'CHEST 2V FRONTAL/LATERAL Sept 12, XXXX XXXX XXXX ',\n       'PA and lateral radiographs of the chest',\n       'Chest 2 views dated XXXX. History and ',\n       'PA and Lateral views of the chest on XXXX.',\n       'XR AP and lateral views. ',\n       'PA and lateral chest XXXX, XXXX at XXXX with XXXX',\n       'PA and lateral views of the chest XXXX ', ' AP chest on XXXX. ',\n       ' XXXX PA and lateral chest 3 images XXXX, XXXX XXXX ',\n       'PA and lateral chest, ', 'Chest, 2 views, XXXX, XXXX. ',\n       'PA and lateral chest x-XXXX, XXXX at XXXX',\n       ' Single view chest; ABDOMEN,SINGLE VIEW XXXX, XXXX XXXX PM ',\n       'PA and lateral chest XXXX, XXXX at time XXXX ',\n       ' An PA and lateral chest. ',\n       'PA and lateral chest radiographs XXXX, XXXX. ',\n       'Radiographs of chest PA and lateral, two views.',\n       'CHEST ( FRONTAL AND LATERAL): XXXX, XXXX at XXXX hours. CLINICAL ',\n       'PA AND LATERAL VIEWS OF THE CHEST dated XXXX, XXXX at XXXX hours ',\n       ' PA and lateral chest XXXX, XXXX at XXXX with comparisXXXX/XXXX ',\n       'PA and lateral chest XXXX, XXXX at XXXX comparisXXXX/XXXX ',\n       'PA and lateral chest XXXX, XXXX XXXX hours.',\n       'Two-view chest x-XXXX, XXXX at XXXX. ',\n       'Chest x-XXXX XXXX and lateral, XXXX.',\n       'PA and lateral chest XXXX, XXXX XXXX ',\n       'CHEST 2V FRONTAL/LATERAL Sept 22, XXXX XXXX PM ',\n       ' CHEST 2V FRONTAL/LATERAL XXXX, XXXX XXXX XXXX No comparison. Both lungs are clear and expanded. Heart and mediastinum normal. ',\n       ' PA lateral chest XXXX, XXXX at XXXX. ',\n       '2 views chest, XXXX hours, XXXX, XXXX. ',\n       '2 views chest, XXXX hours on XXXX, XXXX ',\n       '1. PA and lateral views of the chest. 2. Two views of the right knee. ',\n       'PA and lateral chest XXXX, XXXX XXXX prior comparison 17 XXXX ',\n       'Chest, 2 views, frontal and lateral. ',\n       'CHEST 2V FRONTAL/LATERAL Sept 22, XXXX XXXX XXXX ',\n       'PA lateral chest XXXX, XXXX XXXX ',\n       'PA and lateral chest XXXX, XXXX XXXX',\n       'PA and lateral chest XXXX at XXXX hours.',\n       'PA and lateral chest x-XXXX, AP lateral views thoracic spine, and 3 views lumbar spine XXXX at XXXX hours. ',\n       'PA and lateral chest XXXX, XXXX XXXX comparison XXXX, XXXX ',\n       'Chest PA and lateral, XXXX, XXXX',\n       'PA and lateral chest radiograph on XXXX at 05: 05 hours. ',\n       'Frontal and lateral views of the chest XXXX at XXXX hours. ',\n       'AP lateral views of the chest dated XXXX. ',\n       'PA and lateral views of the Chest XXXX/XXXX ComparisXXXX/XXXX ',\n       'Frontal and Lateral view of the chest XXXX/XXXX at XXXX hours.',\n       '2 views of the chest XXXX, XXXX. ',\n       'Chest x-XXXX 2 views, XXXX, XXXX XXXX XXXX ',\n       'Chest 2 views dated XXXX. ',\n       'XXXX PA lateral chest 3 images XXXX, XXXX XXXX comparison XXXX XXXX. ',\n       'Chest x-XXXX, 2 views. XXXX. XXXX a.m. ',\n       ' Chest. Two views. XXXX. ',\n       'PA lateral chest XXXX, XXXX XXXX comparison XXXX XXXX ',\n       'CHEST PA and Lateral on XXXX, XXXX COMPARISXXXX/XXXX ',\n       ' CHEST 2V FRONTAL/LATERAL XXXX ',\n       ' CHEST 2V FRONTAL/LATERAL XXXX, XXXX XXXX XXXX No comparison.. Both lungs are clear and expanded. Heart and mediastinum normal. ',\n       'Chest single view. XXXX, XXXX XXXX PM ',\n       'Chest X-XXXX portable, AP 1 view, XXXX, XXXX XXXX PM',\n       'PA and lateral chest XXXX, XXXX XXXX CT chest XXXX ',\n       'Two views of the chest dated XXXX at XXXX hours.',\n       'Frontal lateral chest x-XXXX dated XXXX, XXXX XXXX',\n       'TWO VIEWS OF THE XXXX AND LATERAL dated XXXX, XXXX at XXXX hours',\n       'Two-view chest dated XXXX at XXXX p.m.',\n       'PA and lateral chest radiograph on XXXX at 21: 28 hours. ',\n       'PA and Lateral Chest on XXXX, XXXX XXXX XXXX.', 'Chest x-XXXX',\n       ' PA and lateral chest XXXX, XXXX XXXX with comparison XXXX XXXX ',\n       'AP and lateral views of the Chest performed XXXX/XXXX.',\n       'AP and Lateral Chest: XXXX',\n       'PA and lateral chest XXXX, XXXX XXXX with comparison 8 XXXX ',\n       'Two views of the chest XXXX/XXXX.',\n       ' PA lateral chest XXXX, XXXX XXXX ',\n       'Chest PA and lateral views. XXXX, XXXX XXXX PM ComparisXXXX/XXXX. ',\n       ' Two-view chest. Three-view left ankle. XXXX hours XXXX, XXXX. ',\n       'History preop transplant evaluation Exam PA and lateral chest XXXX with comparison XXXX XXXX',\n       'PA and lateral chest on XXXX. ', 'Chest x-XXXX 2 views',\n       'PA and lateral chest XXXX, XXXX XXXX with comparison 26 XXXX ',\n       ' Frontal and lateral views of the chest were obtained at XXXX, XXXX at XXXX p.m. Comparison was XXXX to a prior study performed XXXX, XXXX ',\n       ' AP and lateral chest XXXX, XXXX XXXX comparison XXXX 10 ',\n       'Chest X-XXXX:2. XXXX ',\n       'PA AND LATERAL VIEWS OF THE CHEST 3 total images dated XXXX XXXX hours ',\n       ' Frontal lateral views of the chest are obtained XXXX, XXXX at XXXX p.m. and compared to prior study performed XXXX, XXXX ',\n       'Portable chest x-XXXX dated XXXX at XXXX.',\n       '2 PA views and lateral views of chest performed on XXXX at XXXX. ',\n       ' PA and lateral chest XXXX, XXXX XXXX comparisXXXX/XXXX ',\n       'PA lateral chest x-XXXX dated XXXX, XXXX at XXXX. ',\n       'XXXX and lateral chest x-XXXX XXXX at XXXX hours. ',\n       '2 view chest radiograph, dated XXXX, XXXX XXXX hours',\n       'PA and Lateral Chest: XXXX, XXXX',\n       'Chest 2 views dated XXXX, XXXX ',\n       'FRONTAL and LATERAL CHEST dated XXXX, XXXX at XXXX hours',\n       'Two-view chest. Two-view right hip. XXXX hours XXXX, XXXX. XXXX. ',\n       'XXXX PA and lateral chest XXXX, XXXX XXXX comparison XXXX XXXX ',\n       'Frontal and Lateral Chest Radiograph',\n       'Frontal and Lateral view of the chest XXXX/XXXX at 434 hours.',\n       'PA and lateral chest XXXX, XXXX at XXXX with no XXXX comparison available ',\n       'PA lateral chest x-XXXX dated XXXX, XXXX at XXXX a.m. ',\n       'PA lateral chest XXXX, XXXX XXXX comparison XXXX. ',\n       ' Two-view chest. XXXX, XXXX XXXX PM. ',\n       'PA lateral chest radiograph XXXXth, XXXX XXXX hours ',\n       'PA and Lateral views of the chest on XXXX, XXXX.',\n       ' PA and lateral chest XXXX, XXXX and XXXX with comparison XXXX ',\n       ' the PA and lateral chest XXXX, XXXX at time XXXX with comparison XXXX XXXX ',\n       'Chest x-XXXX AP and lateral, XXXX. ',\n       ' PA and lateral chest XXXX, XXXX at XXXX with comparison report from XXXX which is normal in the comparison film from XXXX ',\n       'Chest radiograph PA and lateral. XXXX/XXXX XXXX hours. ',\n       'PA lateral chest radiographs XXXX, XXXX.',\n       ' PA and lateral chest XXXX, XXXX XXXX chest for XXXX XXXX/XXXX ',\n       'CHEST RADIOGRAPH PA LATERAL on XXXX, XXXX',\n       'PA and lateral chest Radiograph',\n       'Chest radiograph PA and lateral on XXXX XXXX. ',\n       'Chest radiograph XXXX/XXXX XXXX. ',\n       ' CHEST 2V FRONTAL/LATERAL XXXX, XXXX XXXX XXXX',\n       'PA and lateral chest XXXX, XXXX. Apical lordotic view XXXX, XXXX.',\n       'Chest 2 views, XXXX, XXXX.', 'PA and Lateral of the Chest ',\n       ' AP chest XXXX, XXXX at XXXX comparison XXXX ',\n       'PA and lateral chest radiograph on XXXX at 02: 57 hours. ',\n       ' Frontal and lateral views of the chest was obtained on XXXX, XXXX at XXXX p.m. and compared to a prior study dated XXXX, XXXX ',\n       'Chest 2 views PA and lateral XXXX, XXXX. XXXX p.m. ',\n       ' px CHEST 2V FRONTAL/LATERAL XXXX, XXXX XXXX PM. ',\n       'Two views of the chest dated XXXX XXXX hours ',\n       'Chest xray, 2 views XXXX, XXXX ',\n       'Chest 2 views dated XXXX, XXXX. History and ',\n       'Chest PA and lateral dated XXXX, XXXX at XXXX hours. ',\n       'PA and lateral chest radiographs',\n       ' PA and lateral chest XXXX, XXXX XXXX with comparison 5 XXXX ',\n       'Chest 20 to PA and lateral ', 'PA and lateral chest radiograph. ',\n       'Chest, 2 views dated XXXX.',\n       'Frontal and Lateral view of the chest XXXX/XXXX at 401 hours.',\n       'AP and lateral chest radiograph dated XXXX XXXX hours',\n       ' and lateral chest. ',\n       '1. PA and lateral chest radiographs. 2. Left knee radiographs, 3 views AP, oblique, and lateral.',\n       'Frontal and Lateral view of the chest XXXX/XXXX at 135 hours.',\n       'PA lateral chest x-XXXX XXXX at XXXX p.m.',\n       'Chest radiograph (frontal and lateral) from XXXX, XXXX at XXXX hours. ',\n       ' XXXX and lateral chest XXXX, XXXX XXXX comparison XXXX ',\n       ' right knee 2 views, chest 2 views XXXX, XXXX at XXXX with comparison XXXX ',\n       'Portable chest XXXX XXXX at time XXXX',\n       'CHEST 2V FRONTAL/LATERAL; to the left and right knees. XXXX, XXXX XXXX PM',\n       'TWO-VIEW CHEST FILM, XXXX, XXXX HOURS',\n       'XXXX. Two-view chest. XXXX hours XXXX, XXXX. ',\n       'PA and lateral chest radiograph. Three views of the left shoulder. All exams XXXX, XXXX',\n       'CHEST ( FRONTAL AND LATERAL)',\n       ' CHEST 2V FRONTAL/LATERAL XXXX, XXXX XXXX PM No comparison. The right scapula is winged with respect to the appearance of the left side. However, no definite fractures are visible. The right ribs are intact. Both lungs are clear and expanded with no contusions or pleural air collections. Heart and mediastinum normal. ',\n       'AP chest XXXX, XXXX XXXX ',\n       'AP and lateral views of the chest XXXX hours XXXX, XXXX. ',\n       'History preop XXXX for bariatric surgery Examination PA and lateral chest XXXX, XXXX at XXXX with no comparisons.',\n       'PA and Lateral Chest: XXXX at 15: 09 hours.',\n       ' SOFT TISSUE OF THE NECK; two-view chest. XXXX, XXXX XXXX PM',\n       'CHEST ( FRONTAL AND LATERAL): XXXX, XXXX XXXX XXXX',\n       'Frontal and Lateral view of the chest XXXX/XXXX at 653 hours.',\n       'Two-view chest; three-view right shoulder; two-view right humerus. XXXX, XXXX XXXX PM ',\n       'Two-view chest x-XXXX, XXXX ',\n       'CHEST AP and Lateral on XXXX, XXXX ',\n       'PA and Lateral Chest: XXXX, XXXX at XXXX a.m. ',\n       'CHEST X-XXXX XXXX XXXX and LATERAL DATED XXXX .',\n       'Chest 2 views PA and lateral XXXX, XXXX, XXXX p.m. ',\n       'Frontal and Lateral view of the chest XXXX/XXXX at 310 hours.',\n       'Xray Chest PA XXXX Lateral',\n       ' and lateral chest XXXX, XXXX at XXXX for comparison XXXX XXXX ',\n       'Chest PA and lateral data XXXX, XXXX at XXXX hours ',\n       'AP Portable Chest X-XXXX dated XXXX.',\n       '2 views PA and lateral, of the chest on XXXX, XXXX at XXXX hours. ',\n       'Two view chest dated XXXX XXXX ',\n       ' CHEST 2V FRONTAL/LATERAL XXXX, XXXX XXXX PM No comparison.. Both lungs are clear and expanded. Heart and mediastinum normal. ',\n       'PA lateral dated XXXX ', 'PORTABLE AP CHEST',\n       'Chest Radiograph Frontal and Lateral Views dated 8/14//XXXX. ',\n       'PA and lateral chest, XXXX, XXXX XXXX XXXX',\n       '2 views chest performed at XXXX hours on XXXX, XXXX ',\n       'Chest radiograph PA and lateral XXXX',\n       'Chest x-XXXX, 2 views. XXXX. XXXX p.m. ',\n       'PA and lateral chest radiograph XXXX, XXXX. ',\n       'PA and lateral view of the chest on XXXX, XXXX at XXXX hours. ',\n       ' PA and lateral chest XXXX, XXXX XXXX with comparison XXXX ',\n       ' PA lateral chest XXXX, XXXX XXXX with comparison radiograph from XXXX XXXX ',\n       'Two-view chest.',\n       'PA and lateral chest x-XXXX dated XXXX at XXXX. ',\n       'PA and lateral chest, XXXX, XXXX', 'Chest 2 view XXXX, XXXX',\n       'Two views of the chest XXXX XXXX p.m.',\n       'Chest radiographs examination 2 views performed XXXX, XXXX at XXXX. ',\n       ' the PA and lateral chest XXXX, XXXX at XXXX. ',\n       'Chest 2 views XXXX',\n       ' PA and lateral chest and left knee 2 views.',\n       'Chest PA and lateral views. XXXX, XXXX XXXX XXXX',\n       'AP and lateral chest XXXX, XXXX at XXXX ',\n       'AP and lateral radiograph of the chest XXXX/201.',\n       \"History bone marrow transplant workup in patient with Hodgkin's lymphoma Examination PA and lateral chest XXXX, XXXX at XXXX with comparison XXXX XXXX\",\n       'PA and lateral chest x-XXXX XXXX, XXXX at XXXX hours. ',\n       'PA and lateral chest XXXX, XXXX at XXXX comparison 20 XXXX ',\n       'PORTABLE CHEST: XXXX, XXXX at XXXX hours.',\n       'PA lateral chest AP and lateral chest at XXXX 45 comparison 24 XXXX ',\n       'PA and lateral chest XXXX, XXXX at XXXX comparison chest CT from XXXX ',\n       'Chest x-XXXX XXXX and lateral, XXXX . ',\n       'Chest X XXXX 2 XXXX PA and lateral',\n       'PA and lateral chest Single view of the abdomen, 2 images ',\n       'Chest radiograph PA and lateral XXXX/ XXXX at XXXX. ',\n       'Chest 2 views dated XXXX, XXXX. ',\n       ' Frontal and lateral radiographs of the chest were obtained on XXXX, XXXX at XXXX p.m. Comparison is XXXX to prior study performed XXXX, XXXX ',\n       'AP and lateral chest x-XXXX dated XXXX, XXXX at XXXX a.m.. ',\n       'Xray Chest PA and Lateral XXXX.',\n       'PA and Lateral Chest: XXXX, XXXX at 908XXXX',\n       'PA and Lateral chest radiograph (2 views) ',\n       ' PA and lateral chest XXXX, XXXX XXXX comparison 13 XXXX ',\n       ' XXXX. ', 'Chest x-XXXX dated XXXX. ',\n       'PA and lateral chest XXXX, XXXX at XXXX comparison 18 XXXX ',\n       ' Left HIP UNILAT COMPLETE XXXX 2V ; 2 view chest. XXXX, XXXX XXXX PM ',\n       ' PA and lateral chest XXXX, XXXX at XXXX with comparison 17 XXXX ',\n       '1. PA and lateral chest radiographs. 2. Right knee radiographs, 2 views, AP and lateral. 3. Left knee radiograph, single AP view. ',\n       'the PA lateral chest 3 images XXXX, XXXX XXXX ',\n       'Radiograph chest PA and Lateral XXXX, XXXX.',\n       'PA lateral chest x-XXXX dated XXXX, XXXX a XXXX. ',\n       'Frontal and Lateral view of the chest on XXXX, XXXX at 146 hours.',\n       ' PA and lateral chest XXXX, XXXX XXXX comparison from XXXX XXXX '],\n      dtype=object)"
     },
     "metadata": {}
    }
   ],
   "execution_count": null
  },
  {
   "cell_type": "code",
   "metadata": {
    "tags": [],
    "cell_id": "00010-37e6f912-fa6b-4ac1-95b8-8552194df63a",
    "deepnote_to_be_reexecuted": false,
    "source_hash": "4e888935",
    "execution_start": 1636043000205,
    "execution_millis": 3,
    "deepnote_cell_type": "code"
   },
   "source": "# see distinct values in comparison column\ndata['comparison'].unique()",
   "outputs": [
    {
     "output_type": "execute_result",
     "execution_count": 8,
     "data": {
      "text/plain": "array(['None.', nan, 'None available', 'XXXX, XXXX',\n       'Two views of the chest dated XXXX.',\n       'CT XXXX image XXXX, CT abdomen which included the lower thorax XXXX.',\n       'Chest radiographs XXXX.', 'None',\n       'Chest radiograph from XXXX, XXXX.',\n       'XXXX films of the chest dated XXXX.',\n       'CT chest angiography, XXXX', 'PA lateral chest radiograph, XXXX.',\n       'PA and lateral chest XXXX and CTA XXXX.', 'XXXX',\n       'Portable chest dated XXXX.', 'Comparison XXXX, XXXX.',\n       'PA and lateral chest redressed XXXX',\n       'Two-view chest radiograph dated XXXX, XXXX..', 'XXXX, XXXX.',\n       'PA and lateral views of the chest from XXXX.',\n       'Comparison is XXXX to chest radiograph examination dated XXXX.',\n       'None available.', 'Radiograph Chest PA and Lateral XXXX, XXXX.',\n       'Chest 2 views from XXXX, XXXX. .',\n       'PA and lateral views of the chest on XXXX, XXXX.',\n       'Chest radiograph XXXX/XXXX.', 'None. Clinical', 'XXXX.',\n       'PA and lateral chest XXXX.', 'Chest x-XXXX, XXXX.',\n       'Comparison XXXX.', 'Chest x-XXXX XXXX', 'Chest x-XXXX on XXXX',\n       'Chest CT, XXXX.', 'Chest 2 view dated XXXX.',\n       'Portable chest from XXXX.',\n       'Two-view chest radiograph dated XXXX, XXXX.',\n       'CT chest from 2, 23, XXXX.', 'Chest XXXX.',\n       'No comparison chest x-XXXX.', 'chest x-XXXX XXXX, XXXX.',\n       'CT chest XXXX, chest x-XXXX XXXX. Chest x-XXXX XXXX.',\n       'PA and lateral chest x-XXXX dated XXXX.',\n       'Frontal chest radiograph dated XXXX, XXXX.',\n       'Radiograph from XXXX.', 'Chest x-XXXX XXXX, XXXX',\n       'Chest x-XXXX, XXXX', 'Two-view chest from XXXX.',\n       'Two-view chest x-XXXX from XXXX.', 'AP chest dated XXXX',\n       'Chest x-XXXX XXXX and lateral from XXXX.', 'XXXX, XXXX 10',\n       'Chest XXXX', 'Chest x-XXXX, 2 views PA and lateral from XXXX.',\n       'none', 'XXXX, XXXX at XXXX hours',\n       'CT thorax with intravenous contrast XXXX.',\n       'Chest x-XXXX dated XXXX.',\n       'Chest 2 views PA and lateral XXXX, XXXX a.m.',\n       'Radiograph from XXXX',\n       'PA and lateral views of the chest on XXXX.',\n       'chest x-XXXX, 2 views PA and lateral from XXXX.',\n       'No comparisons are available',\n       'AP and lateral view the chest on XXXX, XXXX.',\n       'Chest x-XXXX of XXXX.', 'XXXX, XXXX at XXXX', 'Chest CT on XXXX.',\n       'Portable chest x-XXXX dated XXXX.', '11/7/ XXXX',\n       'Chest radiograph XXXX.', 'AP and lateral chest XXXX.',\n       'CT chest with contrast, dated XXXX.',\n       'PA and lateral chest x-XXXX dated XXXX',\n       'Two-view chest rehabilitation dated XXXX, XXXX.',\n       'None Indication Cirrhosis Evaluate pre liver transplant',\n       'PA lateral views of the chest dated XXXX.', 'None ,786.2 XXXX',\n       'Portable chest XXXX, XXXX.',\n       'chest x-XXXX and lateral from XXXX.',\n       'chest 2 views from XXXX, XXXX.',\n       'CT chest XXXX (part of XXXX/CT scan)', 'XXXX at XXXX',\n       'Chest radiograph XXXX, XXXX', 'Chest 2 views. XXXX, XXXX.',\n       'PA and lateral chest radiograph, XXXX.', 'CT chest XXXX, XXXX',\n       'Chest on XXXX', 'CT chest with contrast dated XXXX.',\n       'Single view chest radiograph dated XXXX, XXXX..',\n       'Portable chest radiograph dated XXXX, XXXX.',\n       'left knee radiograph XXXX, XXXX.',\n       'PA and lateral views of the chest dated XXXX.',\n       'Chest CT dated XXXX', 'XXXX chest, XXXX abdominal CT.',\n       'Left shoulder XXXX.', 'CT chest, dated XXXX, XXXX.',\n       'PA and lateral chest radiographs XXXX and CT chest without contrast XXXX.',\n       'CBD exacerbation, XXXX x1 month', 'CT chest XXXX', 'XXXX XXXX.',\n       'XXXX XXXX, chest x-XXXX XXXX', 'CT abdomen and pelvis XXXX, XXXX',\n       'CT chest on XXXX. Portable chest on XXXX.',\n       'XXXX pa/lat cxr,V76.10 BREAST SCREENING UNSPEC,no hx ca or implants',\n       'Comparison is XXXX to chest radiograph examination dated XXXX at XXXX.',\n       'CT chest on XXXX.', 'Chest radiograph on XXXX.',\n       'PA and lateral chest radiographs XXXX.',\n       'Two views of the chest XXXX.',\n       'Chest 2 views PA and lateral XXXX, XXXX p.m.',\n       'Chest x-XXXX dated XXXX, XXXX.',\n       'PA and lateral chest radiograph of XXXX.',\n       'None Indication PRE LIVER TRANSPLANT- XXXX STUDY',\n       'Chest x-XXXX and XXXX.', 'and XXXX, XXXX.', 'XXXX XXXX, XXXX.',\n       'CT chest XXXX.', 'Chest x-XXXX, single view PA from XXXX.',\n       'XXXX at 743', 'chest x-XXXX, 2 views PA and lateral on XXXX.',\n       'CT abdomen pelvis from XXXX dated yesterday.',\n       'PA and lateral chest radiograph XXXX.', 'CT scan XXXX, XXXX',\n       'AP portable chest XXXX.',\n       'CT of the chest and two-view chest radiograph dated XXXX, XXXX..',\n       'AP chest dated XXXX.',\n       'Multiple chest x-XXXX, the most recent dated XXXX.',\n       'Two view chest XXXX.',\n       'Portable chest radiograph dated XXXX, XXXX..',\n       'Chest 2 views XXXX, XXXX',\n       'Chest x-XXXX, 2 views PA and lateral from XXXX, XXXX.',\n       'The none.', 'Yesterday.', 'chest XXXX, XXXX.',\n       'CT of the chest dated XXXX', 'Chest single view from XXXX, XXXX.',\n       'Chest x-XXXX XXXX.',\n       'CTA angiography abdomen and pelvis with lower extremity runoff XXXX.',\n       'CT thorax and chest radiograph from XXXX and XXXX, respectively.',\n       'XXXX. XXXX', 'Two view chest radiograph dated XXXX, XXXX..',\n       'AP chest XXXX.', 'Chest x-XXXX, XXXX, XXXX.',\n       'PA and lateral chest dated XXXX, XXXX',\n       'Rib radiographs dated XXXX.',\n       'Chest x-XXXX dated XXXX at XXXX hours.',\n       'XXXX PA and lateral chest radiographs', 'XXXX, congestion.',\n       'AP chest dated XXXX. Two views of the chest dated XXXX.',\n       'Chest 2 views. XXXX.', 'Chest x-XXXX XXXX XXXX',\n       'Chest x-XXXX XXXX, XXXX.', 'XXXX,009',\n       'XXXX of the chest dated XXXX, XXXX 11 from XXXX.',\n       'CT Abdomen and Pelvis XXXX.',\n       'Immigration radiograph dated XXXX, XXXX.',\n       'AP chest XXXX with contrast XXXX', 'Chest radiograph XXXX XXXX',\n       'Right rib films from XXXX.', 'None Available.',\n       'Portable chest radiograph XXXX', 'PA and lateral on XXXX.',\n       'Images from chest x-XXXX performed on XXXX are not available at this time for comparison.',\n       'PA and lateral views the chest dated XXXX.',\n       'XXXX, vomiting, blood',\n       'Two views of the chest from XXXX from XXXX.',\n       'Two-view chest XXXX.', 'Chest AP portable. XXXX.', 'XXXX XXXX',\n       'CT from XXXX, XXXX', 'Chest radiograph on XXXX at XXXX.',\n       'Chest radiographs XXXX 10 and CT chest with contrast XXXX.',\n       'No prior', 'No comparison studies are currently available.',\n       'XXXX at XXXX p.m.', 'Two views of the chest dated XXXX and XXXX.',\n       'Chest x-XXXX XXXX and lateral XXXX.',\n       'Chest radiograph XXXX, XXXX.',\n       'Radiograph Chest PA and Lateral XXXX, XXXX',\n       'Chest radiograph from XXXX and XXXX from XXXX..', 'None XXXX',\n       '2 days prior', 'XXXX hours XXXX, XXXX.',\n       'A portable chest radiograph from XXXX.',\n       'CT the chest dated XXXX, XXXX..',\n       'Intermittent radiation to left arm and neck.',\n       'Two view chest radiograph XXXX, XXXX..',\n       'CT thorax from XXXX and chest radiographs from XXXX.',\n       'Chest x-XXXX, 8 XXXX',\n       'PA and lateral view of the chest on XXXX, XXXX.',\n       'XXXX portable chest', 'Two-view chest graft dated XXXX, XXXX.',\n       'XXXX, XXXX. XXXX, XXXX.',\n       'CT chest XXXX, XXXX, chest x-XXXX XXXX',\n       'CT chest dated XXXX. Chest x-XXXX dated XXXX.',\n       'Chest x-XXXX XXXX, CT chest XXXX', 'XXXX chest x-XXXX, XXXX scan',\n       'XXXX-year-old female. XXXX and chest congestion.',\n       'None ,786.09 XXXX ABNORMALITY XXXX',\n       'XXXX, XXXX. Chest. Both lungs remain in clear and expanded. Heart and mediastinum are normal. Right shoulder. The glenohumeral joint show slight narrowing. Fracture line in the scapula is less distinct than previously. XXXX change in the XXXX XXXX alignment of the scapula XXXX and spine.',\n       'PA and lateral chest from XXXX.', 'Chest radiograph XXXX',\n       'AP chest radiograph XXXX', 'XXXX common XXXX.',\n       'CT of the chest with high-resolution from XXXX.',\n       'chest x-XXXX and lateral from XXXX, XXXX.',\n       'Comparison XXXX, XXXX', 'chest x-XXXX, 2 views from XXXX.',\n       'Chest x-XXXX 11//15/XXXX.', 'None available this institution.',\n       'None .', 'Chest x-XXXX for a 7 XXXX',\n       'Chest radiograph XXXX/XXXX, right foot radiograph XXXX/XXXX.',\n       'No comparisons were available at the time of this dictation. If outside comparisons become available, an addendum will be XXXX at the time of comparison.',\n       'Two view chest radiograph dated XXXX, XXXX.',\n       'Two-view chest dated XXXX, XXXX.',\n       'PA lateral views the chest from XXXX.',\n       'Chest single frontal portable AP XXXX XXXX a.m.',\n       'CT of the chest with contrast XXXX.',\n       'Radiograph Chest PA and Lateral None.', 'None. INDICATION /',\n       'Xray of the ribs 3 views dated XXXX XXXX p.m.',\n       'XXXX ,780.60 XXXX congestion; previous XXXX',\n       'Chest radiographs from XXXX.',\n       'Outside chest radiograph earlier XXXX',\n       'Chest 2 views, XXXX at 23: 56', 'AP portable chest from XXXX.',\n       'Chest radiograph, XXXX.',\n       'AP chest dated XXXX. AP chest dated XXXX.', 'None available .',\n       'Thoracic spine series XXXX, chest series XXXX',\n       'PA and lateral chest from XXXX 73', 'Comparison to XXXX, XXXX.',\n       'CT chest dated XXXX.',\n       'CT abdomen and pelvis with intravenous contrast XXXX',\n       'CT scan of the thorax on XXXX.',\n       'AP portable chest, XXXX at XXXX', 'correlation with XXXX XXXX',\n       'XXXX with contrast dated XXXX',\n       'Chest x-XXXX XXXX, XXXX. CT chest XXXX, XXXX.',\n       'AP chest radiograph dated XXXX, XXXX.',\n       'chest x-XXXX, single view frontal from XXXX XXXX a.m.',\n       'Two views chest XXXX, XXXX; CT chest XXXX, XXXX .', 'XXXX hours',\n       'Chest single portable AP XXXX, XXXX p.m.',\n       'Comparison is XXXX to chest repeat examination dated XXXX.',\n       'PA and lateral chest radiograph XXXX/XXXX the',\n       'CT abdomen and pelvis XXXX', 'PA lateral chest XXXX at XXXX a.m.',\n       'Abdomen and pelvis CT from XXXX.', 'XXXX performed XXXX/XXXX',\n       'XXXX, single view',\n       'Report only from chest x-XXXX dated XXXX is available for review. The images from the study are currently unavailable due to ongoing upgrade of the AGFA PACS XXXX.',\n       'CT chest XXXX XXXX', 'None, correlation with XXXX XXXX',\n       'Chest portable frontal AP XXXX.', 'Ankle XXXX, chest XXXX',\n       'Chest x-XXXX dated XXXX', 'XXXX at XXXX dated XXXX',\n       'Chest radiograph from XXXX.', 'Chest radiograph on XXXX',\n       'Comparison XXXX, XXXX scan XXXX, XXXX.',\n       'a single frontal chest radiograph of earlier the same XXXX.',\n       'AP portable chest x-XXXX dated XXXX.',\n       'PA and lateral views of the chest on XXXX, XXXX CT scan of the thorax on XXXX, XXXX.',\n       'Portable chest XXXX.',\n       'Single view of the chest dated XXXX, XXXX.',\n       'Chest radiograph from XXXX', 'Chest CT XXXX, XXXX',\n       'CT thorax dated XXXX',\n       'PA and lateral chest radiograph dated XXXX, XXXX.',\n       'AP chest XXXX', 'Chest x-XXXX on XXXX.',\n       'Chest 2 views from XXXX, XXXX.', 'Chest x-XXXX XXXX/XXXX',\n       \"with comparison of outside films on CD identified with the patient's name from XXXX.\",\n       'Chest x-XXXX, single view portable from XXXX, XXXX.',\n       'Chest 2 views. XXXX', 'Nones',\n       'CT of the chest dated XXXX, XXXX.',\n       'Radiographs of the right knee from XXXX. PA and lateral views of the chest from XXXX.',\n       'yesterday', 'earlier today at XXXX', '9 XXXX', '24 XXXX',\n       'Single view chest dated XXXX.', 'CT of the thorax on XXXX, XXXX',\n       'Comparison is XXXX to XXXX.', 'None available for',\n       'TIPS revision XXXX, XXXX', 'Single view chest radiograph XXXX.',\n       '127 x 10', 'at XXXX', 'XXXX chest x-XXXX and XXXX scan',\n       'with no comparison XXXX film there is a comparison CT scan XXXX',\n       'Chest radiograph of XXXX.', 'Chest CT in XXXX, XXXX.',\n       'Cervical spine x-XXXX dated XXXX.', 'NONE', 'Gynoid 19, XXXX',\n       '.', 'Chest radiographs from XXXX, XXXX.',\n       'Portable chest x-XXXX XXXX, XXXX. PA and lateral chest x-XXXX XXXX, XXXX.',\n       'AP chest XXXX/XXXX, report only. Image not currently available.',\n       'XXXX and two-view chest radiograph dated XXXX, XXXX.',\n       'XXXX, CT chest XXXX',\n       'XXXX, XXXX. A thoracolumbar dextroscoliosis is present. Both lungs are clear and expanded. Heart size normal.',\n       'XXXX and a chest CT scan from XXXX.', 'XXXX, XXXX chest',\n       'PA single view chest radiograph XXXX.',\n       'CT chest dated XXXX, chest 2 views dated XXXX.', 'in XXXX, XXXX.',\n       'Single view chest XXXX at XXXX.', '10 11 10',\n       'None ; XXXX dated XXXX',\n       'PA and lateral chest x-XXXX dated XXXX a.', 'chest x-XXXX XXXX,',\n       'Chest x-XXXX, single view portable from XXXX at XXXX a.m.',\n       'Chest 2 views PA and lateral XXXX, XXXX p.m., CT chest with contrast XXXX, XXXX p.m.',\n       'CT C-spine on XXXX.', 'CT of the abdomen and pelvis XXXX',\n       'Chest radiograph 2 views XXXX, XXXX', 'AP chest on XXXX, XXXX.',\n       'Portable chest x-XXXX XXXX, XXXX',\n       'PA and lateral chest radiographs XXXX',\n       'Outside study dated XXXX.', 'XXXX chest XXXX',\n       'XXXX XXXX/XXXX, chest radiograph XXXX/XXXX.',\n       'PA lateral chest radiographs XXXX',\n       'PA and lateral chest radiograph from XXXX, XXXX',\n       'CT the abdomen and pelvis dated XXXX.', 'CT thorax from XXXX.',\n       '79 XXXX', 'Chest x-XXXX suture 15 XXXX',\n       'Chest 2 views PA and lateral XXXX, XXXX p.m..',\n       'Upper XXXX study XXXX/XXXX.', 'Chest dated XXXX',\n       'Chest radiographically 26 XXXX.', 'CT chest with contrast XXXX.',\n       'Chest x-XXXX of XXXX', '11 22,007', 'XXXX, XXXX XXXX hours',\n       'No comparison chest x-XXXX', 'Chest XXXX. Clinical',\n       'Single view of the chest on XXXX',\n       'None Indication RENAL CA; CK STATUS; COMPARE TO PREVIOUS',\n       'One XXXX XXXX', 'abdomen CT XXXX.',\n       'Chest x-XXXX, 2 views from XXXX.',\n       'CT thoracic spine XXXX, XXXX; XXXX films of spine XXXX, XXXX .',\n       'Two-view chest x-XXXX dated XXXX, XXXX',\n       'Chest radiograph XXXX, XXXX at XXXX p.m.', 'CT chest XXXX, XXXX.',\n       'Single view chest radiograph dated XXXX, XXXX.',\n       'AP chest radiograph dated XXXX, XXXX..',\n       'Portable chest over 17 XXXX',\n       'Chest 2 views PA and lateral XXXX, XXXX p.m., CT chest without contrast XXXX',\n       'CT chest outside institution : HCH',\n       'Sternum radiograph XXXX, XXXX',\n       'Comparison is no acute chest examination dated XXXX.',\n       'Unavailable',\n       'XXXX, XXXX. No change in the levoscoliosis of the thoracolumbar spine. Both lungs remain clear and expanded. Heart and mediastinum are normal.',\n       'PA and lateral view the chest from XXXX.',\n       'PA and lateral view of the chest from XXXX, XXXX.',\n       'PA and lateral dated XXXX', 'CT urogram XXXX', 'XXXX, XXXX p.m.',\n       'CT chest on XXXX. Chest radiograph XXXX.',\n       'Comparison is XXXX to XXXX examination dated XXXX.',\n       'Portable chest XXXX, XXXX XXXX hours', 'XXXX/CT XXXX',\n       'Radiographs of the chest from XXXX, XXXX.',\n       'chest 2 views from XXXX, XXXX',\n       'Single AP chest radiograph dated XXXX, XXXX..',\n       'Comparison XXXX XXXX and XXXX, XXXX.',\n       'PA and lateral views of the chest dated XXXX. CT abdomen and pelvis dated XXXX.',\n       'Thoracic spine XXXX.', 'Chest x-XXXX single view from XXXX.',\n       'Frontal chest radiograph dated XXXX', 'Chest x-XXXX 6/8 XXXX',\n       'PA and lateral chest radiographs XXXX, XXXX.',\n       'Portable chest on XXXX.',\n       'Comparisons XXXX to chest radiograph examination dated XXXX.',\n       'Ultrasound guided left thoracentesis XXXX, outside XXXX XXXX',\n       'AP portable chest radiograph dated XXXX, XXXX.',\n       'XXXX at XXXX a.m.',\n       'CT chest XXXX, XXXX and chest radiograph XXXX, XXXX.',\n       'PA lateral views the chest dated XXXX.',\n       'Chest PA and lateral XXXX/XXXX.', 'XXXX, XXXX at XXXX p.m..',\n       'chest XXXX, XXXX. Left hip XXXX, XXXX. Chest. Both lungs remain clear and expanded. Heart and mediastinum are normal. The femoral XXXX XXXX has been removed. Two acetabular adaptation plates remain in XXXX. The left hip joint is almost completely obliterated. Large osteophytes are present on the femoral neck and acetabular XXXX.',\n       'AP portable chest radiograph XXXX; PA and lateral chest radiographs XXXX.',\n       'None available for review',\n       'Radiograph chest PA and Lateral XXXX, XXXX.', '8 XXXX 08.'],\n      dtype=object)"
     },
     "metadata": {}
    }
   ],
   "execution_count": null
  },
  {
   "cell_type": "code",
   "metadata": {
    "tags": [],
    "cell_id": "00011-12dc0006-1737-46de-b202-080218835ef2",
    "deepnote_to_be_reexecuted": false,
    "source_hash": "296bddc4",
    "execution_start": 1636043006104,
    "execution_millis": 39,
    "deepnote_cell_type": "code"
   },
   "source": "# see distinct values in impression column\ndata['impression'].unique()",
   "outputs": [
    {
     "output_type": "execute_result",
     "execution_count": 9,
     "data": {
      "text/plain": "array(['Normal chest x-XXXX.', 'No acute pulmonary findings.',\n       'No displaced rib fractures, pneumothorax, or pleural effusion identified. Well-expanded and clear lungs. Mediastinal contour within normal limits. No acute cardiopulmonary abnormality identified.',\n       ...,\n       '1. Interval resolution of bibasilar airspace disease. 2. Hyperinflation with chronic changes of emphysema. .',\n       'No acute findings, no evidence for active TB.',\n       'The cardiac silhouette is normal in size and configuration. The mediastinum and perihilar structures appear unremarkable. The lungs appear clear. The osseous structures are within normal limits.'],\n      dtype=object)"
     },
     "metadata": {}
    }
   ],
   "execution_count": null
  },
  {
   "cell_type": "code",
   "metadata": {
    "tags": [],
    "cell_id": "00012-7fb7d897-001f-454c-9328-25f86b8fa5f3",
    "deepnote_to_be_reexecuted": false,
    "source_hash": "b623e53d",
    "execution_start": 1636037484153,
    "execution_millis": 4,
    "deepnote_cell_type": "code"
   },
   "source": "",
   "execution_count": null,
   "outputs": []
  },
  {
   "cell_type": "markdown",
   "source": "---",
   "metadata": {
    "tags": [],
    "cell_id": "00003-e30ba3c3-0e03-455b-974b-9af7f3cd0ca6",
    "deepnote_cell_type": "markdown"
   }
  },
  {
   "cell_type": "markdown",
   "source": "## Data Cleaning & Pre-Processing",
   "metadata": {
    "tags": [],
    "cell_id": "00003-18344973-f1a7-486e-b2b5-efa20d9dff5a",
    "deepnote_cell_type": "markdown"
   }
  },
  {
   "cell_type": "markdown",
   "source": "1. Drop rows with `NaN`s on both findings and impressions\n2. Fuse the findings and impression columns to get richer outcome variable `caption`\n3. Clean out placeholders and leading and trailing punctuation from the text\n3. Split dataset on whether the X-ray is frontal or lateral view.\n4. Create two different csv files (one for each view) with the data cleaned and pre-processed for reference in DeepNote.\n5. Split each view as train and test to use in the model.",
   "metadata": {
    "tags": [],
    "cell_id": "00003-57fd91d6-99ac-4a87-a62f-b899faa9ebe3",
    "deepnote_cell_type": "markdown"
   }
  },
  {
   "cell_type": "code",
   "metadata": {
    "tags": [],
    "cell_id": "00017-f5b506e2-541b-44ae-a95b-3480783b07b2",
    "deepnote_to_be_reexecuted": false,
    "source_hash": "eddbd785",
    "execution_start": 1636047311110,
    "execution_millis": 301,
    "deepnote_cell_type": "code"
   },
   "source": "#Drop unnecessary columns – image and comparison\n#projection already tells us what type of image – so image unncessary\ndata_dropped_cols = data.drop(columns=['image','comparison','indication'])\n\n#Drop rows with NaNs on both findings and impressions\ndata_dropped_nans = data_dropped_cols.dropna(subset=['findings','impression'], how='all')\n\n#Append the impression to findings to make new caption column\ndata_dropped_nans['caption'] = data_dropped_nans[['findings','impression']].astype('str').agg(' '.join, axis=1)\n\nprint(f\"Dropped {len(data)-len(data_dropped_nans)} rows from {len(data)} rows. New row count: {len(data_dropped_nans)}\")",
   "execution_count": 36,
   "outputs": [
    {
     "name": "stdout",
     "text": "Dropped 40 rows from 7466 rows. New row count: 7426\n/shared-libs/python3.7/py-core/lib/python3.7/site-packages/ipykernel_launcher.py:9: SettingWithCopyWarning: \nA value is trying to be set on a copy of a slice from a DataFrame.\nTry using .loc[row_indexer,col_indexer] = value instead\n\nSee the caveats in the documentation: https://pandas.pydata.org/pandas-docs/stable/user_guide/indexing.html#returning-a-view-versus-a-copy\n  if __name__ == '__main__':\n",
     "output_type": "stream"
    }
   ]
  },
  {
   "cell_type": "code",
   "metadata": {
    "tags": [],
    "cell_id": "00020-82899d5b-5815-4cab-b91d-0786a3ca8960",
    "deepnote_to_be_reexecuted": false,
    "source_hash": "db57a531",
    "execution_start": 1636047311617,
    "execution_millis": 32,
    "deepnote_cell_type": "code"
   },
   "source": "data_dropped_nans.head()",
   "execution_count": 37,
   "outputs": [
    {
     "output_type": "execute_result",
     "execution_count": 37,
     "data": {
      "application/vnd.deepnote.dataframe.v2+json": {
       "row_count": 5,
       "column_count": 8,
       "columns": [
        {
         "name": "uid",
         "dtype": "int64",
         "stats": {
          "unique_count": 3,
          "nan_count": 0,
          "min": "1",
          "max": "3",
          "histogram": [
           {
            "bin_start": 1,
            "bin_end": 1.2,
            "count": 2
           },
           {
            "bin_start": 1.2,
            "bin_end": 1.4,
            "count": 0
           },
           {
            "bin_start": 1.4,
            "bin_end": 1.6,
            "count": 0
           },
           {
            "bin_start": 1.6,
            "bin_end": 1.8,
            "count": 0
           },
           {
            "bin_start": 1.8,
            "bin_end": 2,
            "count": 0
           },
           {
            "bin_start": 2,
            "bin_end": 2.2,
            "count": 2
           },
           {
            "bin_start": 2.2,
            "bin_end": 2.4000000000000004,
            "count": 0
           },
           {
            "bin_start": 2.4000000000000004,
            "bin_end": 2.6,
            "count": 0
           },
           {
            "bin_start": 2.6,
            "bin_end": 2.8,
            "count": 0
           },
           {
            "bin_start": 2.8,
            "bin_end": 3,
            "count": 1
           }
          ]
         }
        },
        {
         "name": "MeSH",
         "dtype": "object",
         "stats": {
          "unique_count": 2,
          "nan_count": 0,
          "categories": [
           {
            "name": "normal",
            "count": 3
           },
           {
            "name": "Cardiomegaly/borderline;Pulmonary Artery/enlarged",
            "count": 2
           }
          ]
         }
        },
        {
         "name": "Problems",
         "dtype": "object",
         "stats": {
          "unique_count": 2,
          "nan_count": 0,
          "categories": [
           {
            "name": "normal",
            "count": 3
           },
           {
            "name": "Cardiomegaly;Pulmonary Artery",
            "count": 2
           }
          ]
         }
        },
        {
         "name": "findings",
         "dtype": "object",
         "stats": {
          "unique_count": 2,
          "nan_count": 1,
          "categories": [
           {
            "name": "The cardiac silhouette and mediastinum size are within normal limits. There is no pulmonary edema. There is no focal consolidation. There are no XXXX of a pleural effusion. There is no evidence of pneumothorax.",
            "count": 2
           },
           {
            "name": "Borderline cardiomegaly. Midline sternotomy XXXX. Enlarged pulmonary arteries. Clear lungs. Inferior XXXX XXXX XXXX.",
            "count": 2
           },
           {
            "name": "Missing",
            "count": 1
           }
          ]
         }
        },
        {
         "name": "impression",
         "dtype": "object",
         "stats": {
          "unique_count": 3,
          "nan_count": 0,
          "categories": [
           {
            "name": "Normal chest x-XXXX.",
            "count": 2
           },
           {
            "name": "No acute pulmonary findings.",
            "count": 2
           },
           {
            "name": "No displaced rib fractures, pneumothorax, or pleural effusion identified. Well-expanded and clear lungs. Mediastinal contour within normal limits. No acute cardiopulmonary abnormality identified.",
            "count": 1
           }
          ]
         }
        },
        {
         "name": "filename",
         "dtype": "object",
         "stats": {
          "unique_count": 5,
          "nan_count": 0,
          "categories": [
           {
            "name": "1_IM-0001-4001.dcm.png",
            "count": 1
           },
           {
            "name": "1_IM-0001-3001.dcm.png",
            "count": 1
           },
           {
            "name": "3 others",
            "count": 3
           }
          ]
         }
        },
        {
         "name": "projection",
         "dtype": "object",
         "stats": {
          "unique_count": 2,
          "nan_count": 0,
          "categories": [
           {
            "name": "Frontal",
            "count": 3
           },
           {
            "name": "Lateral",
            "count": 2
           }
          ]
         }
        },
        {
         "name": "caption",
         "dtype": "object",
         "stats": {
          "unique_count": 3,
          "nan_count": 0,
          "categories": [
           {
            "name": "The cardiac silhouette and mediastinum size are within normal limits. There is no pulmonary edema. There is no focal consolidation. There are no XXXX of a pleural effusion. There is no evidence of pneumothorax. Normal chest x-XXXX.",
            "count": 2
           },
           {
            "name": "Borderline cardiomegaly. Midline sternotomy XXXX. Enlarged pulmonary arteries. Clear lungs. Inferior XXXX XXXX XXXX. No acute pulmonary findings.",
            "count": 2
           },
           {
            "name": "nan No displaced rib fractures, pneumothorax, or pleural effusion identified. Well-expanded and clear lungs. Mediastinal contour within normal limits. No acute cardiopulmonary abnormality identified.",
            "count": 1
           }
          ]
         }
        },
        {
         "name": "_deepnote_index_column",
         "dtype": "int64"
        }
       ],
       "rows_top": [
        {
         "uid": 1,
         "MeSH": "normal",
         "Problems": "normal",
         "findings": "The cardiac silhouette and mediastinum size are within normal limits. There is no pulmonary edema. …",
         "impression": "Normal chest x-XXXX.",
         "filename": "1_IM-0001-4001.dcm.png",
         "projection": "Frontal",
         "caption": "The cardiac silhouette and mediastinum size are within normal limits. There is no pulmonary edema. …",
         "_deepnote_index_column": 0
        },
        {
         "uid": 1,
         "MeSH": "normal",
         "Problems": "normal",
         "findings": "The cardiac silhouette and mediastinum size are within normal limits. There is no pulmonary edema. …",
         "impression": "Normal chest x-XXXX.",
         "filename": "1_IM-0001-3001.dcm.png",
         "projection": "Lateral",
         "caption": "The cardiac silhouette and mediastinum size are within normal limits. There is no pulmonary edema. …",
         "_deepnote_index_column": 1
        },
        {
         "uid": 2,
         "MeSH": "Cardiomegaly/borderline;Pulmonary Artery/enlarged",
         "Problems": "Cardiomegaly;Pulmonary Artery",
         "findings": "Borderline cardiomegaly. Midline sternotomy XXXX. Enlarged pulmonary arteries. Clear lungs. Inferio…",
         "impression": "No acute pulmonary findings.",
         "filename": "2_IM-0652-1001.dcm.png",
         "projection": "Frontal",
         "caption": "Borderline cardiomegaly. Midline sternotomy XXXX. Enlarged pulmonary arteries. Clear lungs. Inferio…",
         "_deepnote_index_column": 2
        },
        {
         "uid": 2,
         "MeSH": "Cardiomegaly/borderline;Pulmonary Artery/enlarged",
         "Problems": "Cardiomegaly;Pulmonary Artery",
         "findings": "Borderline cardiomegaly. Midline sternotomy XXXX. Enlarged pulmonary arteries. Clear lungs. Inferio…",
         "impression": "No acute pulmonary findings.",
         "filename": "2_IM-0652-2001.dcm.png",
         "projection": "Lateral",
         "caption": "Borderline cardiomegaly. Midline sternotomy XXXX. Enlarged pulmonary arteries. Clear lungs. Inferio…",
         "_deepnote_index_column": 3
        },
        {
         "uid": 3,
         "MeSH": "normal",
         "Problems": "normal",
         "findings": "nan",
         "impression": "No displaced rib fractures, pneumothorax, or pleural effusion identified. Well-expanded and clear l…",
         "filename": "3_IM-1384-1001.dcm.png",
         "projection": "Frontal",
         "caption": "nan No displaced rib fractures, pneumothorax, or pleural effusion identified. Well-expanded and cle…",
         "_deepnote_index_column": 4
        }
       ],
       "rows_bottom": null
      },
      "text/plain": "   uid                                               MeSH  \\\n0    1                                             normal   \n1    1                                             normal   \n2    2  Cardiomegaly/borderline;Pulmonary Artery/enlarged   \n3    2  Cardiomegaly/borderline;Pulmonary Artery/enlarged   \n4    3                                             normal   \n\n                        Problems  \\\n0                         normal   \n1                         normal   \n2  Cardiomegaly;Pulmonary Artery   \n3  Cardiomegaly;Pulmonary Artery   \n4                         normal   \n\n                                            findings  \\\n0  The cardiac silhouette and mediastinum size ar...   \n1  The cardiac silhouette and mediastinum size ar...   \n2  Borderline cardiomegaly. Midline sternotomy XX...   \n3  Borderline cardiomegaly. Midline sternotomy XX...   \n4                                                NaN   \n\n                                          impression                filename  \\\n0                               Normal chest x-XXXX.  1_IM-0001-4001.dcm.png   \n1                               Normal chest x-XXXX.  1_IM-0001-3001.dcm.png   \n2                       No acute pulmonary findings.  2_IM-0652-1001.dcm.png   \n3                       No acute pulmonary findings.  2_IM-0652-2001.dcm.png   \n4  No displaced rib fractures, pneumothorax, or p...  3_IM-1384-1001.dcm.png   \n\n  projection                                            caption  \n0    Frontal  The cardiac silhouette and mediastinum size ar...  \n1    Lateral  The cardiac silhouette and mediastinum size ar...  \n2    Frontal  Borderline cardiomegaly. Midline sternotomy XX...  \n3    Lateral  Borderline cardiomegaly. Midline sternotomy XX...  \n4    Frontal  nan No displaced rib fractures, pneumothorax, ...  ",
      "text/html": "<div>\n<style scoped>\n    .dataframe tbody tr th:only-of-type {\n        vertical-align: middle;\n    }\n\n    .dataframe tbody tr th {\n        vertical-align: top;\n    }\n\n    .dataframe thead th {\n        text-align: right;\n    }\n</style>\n<table border=\"1\" class=\"dataframe\">\n  <thead>\n    <tr style=\"text-align: right;\">\n      <th></th>\n      <th>uid</th>\n      <th>MeSH</th>\n      <th>Problems</th>\n      <th>findings</th>\n      <th>impression</th>\n      <th>filename</th>\n      <th>projection</th>\n      <th>caption</th>\n    </tr>\n  </thead>\n  <tbody>\n    <tr>\n      <th>0</th>\n      <td>1</td>\n      <td>normal</td>\n      <td>normal</td>\n      <td>The cardiac silhouette and mediastinum size ar...</td>\n      <td>Normal chest x-XXXX.</td>\n      <td>1_IM-0001-4001.dcm.png</td>\n      <td>Frontal</td>\n      <td>The cardiac silhouette and mediastinum size ar...</td>\n    </tr>\n    <tr>\n      <th>1</th>\n      <td>1</td>\n      <td>normal</td>\n      <td>normal</td>\n      <td>The cardiac silhouette and mediastinum size ar...</td>\n      <td>Normal chest x-XXXX.</td>\n      <td>1_IM-0001-3001.dcm.png</td>\n      <td>Lateral</td>\n      <td>The cardiac silhouette and mediastinum size ar...</td>\n    </tr>\n    <tr>\n      <th>2</th>\n      <td>2</td>\n      <td>Cardiomegaly/borderline;Pulmonary Artery/enlarged</td>\n      <td>Cardiomegaly;Pulmonary Artery</td>\n      <td>Borderline cardiomegaly. Midline sternotomy XX...</td>\n      <td>No acute pulmonary findings.</td>\n      <td>2_IM-0652-1001.dcm.png</td>\n      <td>Frontal</td>\n      <td>Borderline cardiomegaly. Midline sternotomy XX...</td>\n    </tr>\n    <tr>\n      <th>3</th>\n      <td>2</td>\n      <td>Cardiomegaly/borderline;Pulmonary Artery/enlarged</td>\n      <td>Cardiomegaly;Pulmonary Artery</td>\n      <td>Borderline cardiomegaly. Midline sternotomy XX...</td>\n      <td>No acute pulmonary findings.</td>\n      <td>2_IM-0652-2001.dcm.png</td>\n      <td>Lateral</td>\n      <td>Borderline cardiomegaly. Midline sternotomy XX...</td>\n    </tr>\n    <tr>\n      <th>4</th>\n      <td>3</td>\n      <td>normal</td>\n      <td>normal</td>\n      <td>NaN</td>\n      <td>No displaced rib fractures, pneumothorax, or p...</td>\n      <td>3_IM-1384-1001.dcm.png</td>\n      <td>Frontal</td>\n      <td>nan No displaced rib fractures, pneumothorax, ...</td>\n    </tr>\n  </tbody>\n</table>\n</div>"
     },
     "metadata": {}
    }
   ]
  },
  {
   "cell_type": "markdown",
   "source": "### Clean out placeholders, trailing punctuations and excess whitespace",
   "metadata": {
    "tags": [],
    "cell_id": "00022-dc8faccf-f7dd-47f9-a3ca-9c4ba2947bd5",
    "deepnote_cell_type": "markdown"
   }
  },
  {
   "cell_type": "code",
   "source": "### MESH AND PROBLEMS COLUMNS\n#Clean MeSH and Problems\ndata_dropped_nans['MeSH'] = data_dropped_nans['MeSH'].str.replace('/',' ').str.replace(';',',')\ndata_dropped_nans['Problems'] = data_dropped_nans['Problems'].str.replace('/',' ').str.replace(';',',')\n\n### CLEAN ALL TEXT COLUMNS EXCEPT FILENAME\ncols_to_clean = ['MeSH','Problems','findings','impression','projection','caption']\n\n#Clean out placeholders of the form xx-year-old, xxxx, x-XXX, etc.\ndata_dropped_nans[cols_to_clean] = data_dropped_nans[cols_to_clean].replace('[xX]+-?\\s?year-?\\s?old\\s?([xX]+|with|w+)?\\s?(with)?|[xX]+ are intact|[xX]+-[xX]+|-[xX]+|[xX]{2,}|nan', '', \n                                              regex=True)\n\n#Remove leading and trailing commas and fullstops, etc.\ndata_dropped_nans[cols_to_clean] = data_dropped_nans[cols_to_clean].replace('(^[.,;/:\\s]+)|([.,;/:\\s]+$)', '', regex=True)\n\n#Clear excess whitespace between words and punctuation \ndata_dropped_nans[cols_to_clean] = data_dropped_nans[cols_to_clean].replace(r'\\s+([,?.!;\"])',r'\\1', regex=True)\n\n#Clean out left over gender with .....\ndata_dropped_nans[cols_to_clean] = data_dropped_nans[cols_to_clean].replace('(male|female)? with','',regex=True)\n\n#Get rid of numbering in impression or findings\ndata_dropped_nans[cols_to_clean] = data_dropped_nans[cols_to_clean].replace('\\d+[.]',\"\", regex=True)\n\ndata_dropped_nans.caption[2]",
   "metadata": {
    "tags": [],
    "cell_id": "00021-d862d725-4d5c-4f31-a717-b8e402505cde",
    "deepnote_to_be_reexecuted": false,
    "source_hash": "43abde15",
    "execution_start": 1636047312599,
    "execution_millis": 1514,
    "deepnote_cell_type": "code"
   },
   "outputs": [
    {
     "name": "stderr",
     "text": "/shared-libs/python3.7/py-core/lib/python3.7/site-packages/ipykernel_launcher.py:3: SettingWithCopyWarning: \nA value is trying to be set on a copy of a slice from a DataFrame.\nTry using .loc[row_indexer,col_indexer] = value instead\n\nSee the caveats in the documentation: https://pandas.pydata.org/pandas-docs/stable/user_guide/indexing.html#returning-a-view-versus-a-copy\n  This is separate from the ipykernel package so we can avoid doing imports until\n/shared-libs/python3.7/py-core/lib/python3.7/site-packages/ipykernel_launcher.py:4: SettingWithCopyWarning: \nA value is trying to be set on a copy of a slice from a DataFrame.\nTry using .loc[row_indexer,col_indexer] = value instead\n\nSee the caveats in the documentation: https://pandas.pydata.org/pandas-docs/stable/user_guide/indexing.html#returning-a-view-versus-a-copy\n  after removing the cwd from sys.path.\n/shared-libs/python3.7/py/lib/python3.7/site-packages/pandas/core/frame.py:3191: SettingWithCopyWarning: \nA value is trying to be set on a copy of a slice from a DataFrame.\nTry using .loc[row_indexer,col_indexer] = value instead\n\nSee the caveats in the documentation: https://pandas.pydata.org/pandas-docs/stable/user_guide/indexing.html#returning-a-view-versus-a-copy\n  self[k1] = value[k2]\n",
     "output_type": "stream"
    },
    {
     "output_type": "execute_result",
     "execution_count": 38,
     "data": {
      "text/plain": "'Borderline cardiomegaly. Midline sternotomy. Enlarged pulmonary arteries. Clear lungs. Inferior. No acute pulmonary findings'"
     },
     "metadata": {}
    }
   ],
   "execution_count": 38
  },
  {
   "cell_type": "markdown",
   "source": "### Replace missing values",
   "metadata": {
    "tags": [],
    "cell_id": "00022-39968b8d-1e78-4c5c-a704-21a1434792b9",
    "deepnote_cell_type": "markdown"
   }
  },
  {
   "cell_type": "code",
   "metadata": {
    "tags": [],
    "cell_id": "00024-bdb2dcf0-451e-45b1-8e75-e3c7c38e23ba",
    "deepnote_to_be_reexecuted": false,
    "source_hash": "9815e14",
    "execution_start": 1636047316142,
    "execution_millis": 7,
    "deepnote_cell_type": "code"
   },
   "source": "#If the MeSH and the problems were recorded as normal, fill na with 'no unusual findings\nfilter_q = (data_dropped_nans.MeSH == 'normal') & (data_dropped_nans.Problems == 'normal')\ndata_dropped_nans.loc[filter_q, 'findings'] = data_dropped_nans.loc[filter_q, 'findings'].fillna('no unusual findings')",
   "execution_count": 39,
   "outputs": [
    {
     "name": "stderr",
     "text": "/shared-libs/python3.7/py/lib/python3.7/site-packages/pandas/core/indexing.py:1676: SettingWithCopyWarning: \nA value is trying to be set on a copy of a slice from a DataFrame.\nTry using .loc[row_indexer,col_indexer] = value instead\n\nSee the caveats in the documentation: https://pandas.pydata.org/pandas-docs/stable/user_guide/indexing.html#returning-a-view-versus-a-copy\n  self._setitem_single_column(ilocs[0], value, pi)\n",
     "output_type": "stream"
    }
   ]
  },
  {
   "cell_type": "code",
   "metadata": {
    "tags": [],
    "cell_id": "00022-5c6c4fff-5acc-4053-8e6e-5c91c2422571",
    "deepnote_to_be_reexecuted": false,
    "source_hash": "66f8083e",
    "execution_start": 1636047319555,
    "execution_millis": 151,
    "deepnote_cell_type": "code"
   },
   "source": "#Replacing the nan values\ndata_dropped_nans['findings'] = data_dropped_nans['findings'].fillna('no findings')\ndata_dropped_nans['impression'] = data_dropped_nans['impression'].fillna('no impression')",
   "execution_count": 40,
   "outputs": [
    {
     "name": "stderr",
     "text": "/shared-libs/python3.7/py-core/lib/python3.7/site-packages/ipykernel_launcher.py:2: SettingWithCopyWarning: \nA value is trying to be set on a copy of a slice from a DataFrame.\nTry using .loc[row_indexer,col_indexer] = value instead\n\nSee the caveats in the documentation: https://pandas.pydata.org/pandas-docs/stable/user_guide/indexing.html#returning-a-view-versus-a-copy\n  \n/shared-libs/python3.7/py-core/lib/python3.7/site-packages/ipykernel_launcher.py:3: SettingWithCopyWarning: \nA value is trying to be set on a copy of a slice from a DataFrame.\nTry using .loc[row_indexer,col_indexer] = value instead\n\nSee the caveats in the documentation: https://pandas.pydata.org/pandas-docs/stable/user_guide/indexing.html#returning-a-view-versus-a-copy\n  This is separate from the ipykernel package so we can avoid doing imports until\n",
     "output_type": "stream"
    }
   ]
  },
  {
   "cell_type": "code",
   "metadata": {
    "tags": [],
    "cell_id": "00020-6619eed8-2ba6-4c5c-8f60-30214e46866c",
    "deepnote_to_be_reexecuted": false,
    "source_hash": "7cbbdd03",
    "execution_start": 1636047322042,
    "execution_millis": 93,
    "deepnote_cell_type": "code"
   },
   "source": "data_dropped_nans",
   "execution_count": 41,
   "outputs": [
    {
     "output_type": "execute_result",
     "execution_count": 41,
     "data": {
      "application/vnd.deepnote.dataframe.v2+json": {
       "row_count": 7426,
       "column_count": 8,
       "columns": [
        {
         "name": "uid",
         "dtype": "int64",
         "stats": {
          "unique_count": 3826,
          "nan_count": 0,
          "min": "1",
          "max": "3999",
          "histogram": [
           {
            "bin_start": 1,
            "bin_end": 400.8,
            "count": 748
           },
           {
            "bin_start": 400.8,
            "bin_end": 800.6,
            "count": 746
           },
           {
            "bin_start": 800.6,
            "bin_end": 1200.4,
            "count": 735
           },
           {
            "bin_start": 1200.4,
            "bin_end": 1600.2,
            "count": 752
           },
           {
            "bin_start": 1600.2,
            "bin_end": 2000,
            "count": 728
           },
           {
            "bin_start": 2000,
            "bin_end": 2399.8,
            "count": 747
           },
           {
            "bin_start": 2399.8,
            "bin_end": 2799.6,
            "count": 723
           },
           {
            "bin_start": 2799.6,
            "bin_end": 3199.4,
            "count": 724
           },
           {
            "bin_start": 3199.4,
            "bin_end": 3599.2000000000003,
            "count": 764
           },
           {
            "bin_start": 3599.2000000000003,
            "bin_end": 3999,
            "count": 759
           }
          ]
         }
        },
        {
         "name": "MeSH",
         "dtype": "object",
         "stats": {
          "unique_count": 1900,
          "nan_count": 0,
          "categories": [
           {
            "name": "normal",
            "count": 2655
           },
           {
            "name": "No Indexing",
            "count": 172
           },
           {
            "name": "1898 others",
            "count": 4599
           }
          ]
         }
        },
        {
         "name": "Problems",
         "dtype": "object",
         "stats": {
          "unique_count": 1432,
          "nan_count": 0,
          "categories": [
           {
            "name": "normal",
            "count": 2655
           },
           {
            "name": "Lung",
            "count": 173
           },
           {
            "name": "1430 others",
            "count": 4598
           }
          ]
         }
        },
        {
         "name": "findings",
         "dtype": "object",
         "stats": {
          "unique_count": 2551,
          "nan_count": 0,
          "categories": [
           {
            "name": "no findings",
            "count": 647
           },
           {
            "name": "no unusual findings",
            "count": 310
           },
           {
            "name": "2549 others",
            "count": 6469
           }
          ]
         }
        },
        {
         "name": "impression",
         "dtype": "object",
         "stats": {
          "unique_count": 1721,
          "nan_count": 0,
          "categories": [
           {
            "name": "No acute cardiopulmonary abnormality",
            "count": 763
           },
           {
            "name": "No acute cardiopulmonary findings",
            "count": 325
           },
           {
            "name": "1719 others",
            "count": 6338
           }
          ]
         }
        },
        {
         "name": "filename",
         "dtype": "object",
         "stats": {
          "unique_count": 7426,
          "nan_count": 0,
          "categories": [
           {
            "name": "1_IM-0001-4001.dcm.png",
            "count": 1
           },
           {
            "name": "1_IM-0001-3001.dcm.png",
            "count": 1
           },
           {
            "name": "7424 others",
            "count": 7424
           }
          ]
         }
        },
        {
         "name": "projection",
         "dtype": "object",
         "stats": {
          "unique_count": 2,
          "nan_count": 0,
          "categories": [
           {
            "name": "Frontal",
            "count": 3794
           },
           {
            "name": "Lateral",
            "count": 3632
           }
          ]
         }
        },
        {
         "name": "caption",
         "dtype": "object",
         "stats": {
          "unique_count": 3048,
          "nan_count": 0,
          "categories": [
           {
            "name": "The heart is normal in size. The mediastinum is unremarkable. The lungs are clear. No acute disease",
            "count": 96
           },
           {
            "name": "The heart and lungs have   in the interval. Both lungs are clear and expanded. Heart and mediastinum normal. No active disease",
            "count": 95
           },
           {
            "name": "3046 others",
            "count": 7235
           }
          ]
         }
        },
        {
         "name": "_deepnote_index_column",
         "dtype": "int64"
        }
       ],
       "rows_top": [
        {
         "uid": 1,
         "MeSH": "normal",
         "Problems": "normal",
         "findings": "The cardiac silhouette and mediastinum size arein normal limits. There is no pulmonary edema. There…",
         "impression": "Normal chest",
         "filename": "1_IM-0001-4001.dcm.png",
         "projection": "Frontal",
         "caption": "The cardiac silhouette and mediastinum size arein normal limits. There is no pulmonary edema. There…",
         "_deepnote_index_column": 0
        },
        {
         "uid": 1,
         "MeSH": "normal",
         "Problems": "normal",
         "findings": "The cardiac silhouette and mediastinum size arein normal limits. There is no pulmonary edema. There…",
         "impression": "Normal chest",
         "filename": "1_IM-0001-3001.dcm.png",
         "projection": "Lateral",
         "caption": "The cardiac silhouette and mediastinum size arein normal limits. There is no pulmonary edema. There…",
         "_deepnote_index_column": 1
        },
        {
         "uid": 2,
         "MeSH": "Cardiomegaly borderline,Pulmonary Artery enlarged",
         "Problems": "Cardiomegaly,Pulmonary Artery",
         "findings": "Borderline cardiomegaly. Midline sternotomy. Enlarged pulmonary arteries. Clear lungs. Inferior",
         "impression": "No acute pulmonary findings",
         "filename": "2_IM-0652-1001.dcm.png",
         "projection": "Frontal",
         "caption": "Borderline cardiomegaly. Midline sternotomy. Enlarged pulmonary arteries. Clear lungs. Inferior. No…",
         "_deepnote_index_column": 2
        },
        {
         "uid": 2,
         "MeSH": "Cardiomegaly borderline,Pulmonary Artery enlarged",
         "Problems": "Cardiomegaly,Pulmonary Artery",
         "findings": "Borderline cardiomegaly. Midline sternotomy. Enlarged pulmonary arteries. Clear lungs. Inferior",
         "impression": "No acute pulmonary findings",
         "filename": "2_IM-0652-2001.dcm.png",
         "projection": "Lateral",
         "caption": "Borderline cardiomegaly. Midline sternotomy. Enlarged pulmonary arteries. Clear lungs. Inferior. No…",
         "_deepnote_index_column": 3
        },
        {
         "uid": 3,
         "MeSH": "normal",
         "Problems": "normal",
         "findings": "no unusual findings",
         "impression": "No displaced rib fractures, pneumothorax, or pleural effusion identified. Well-expanded and clear l…",
         "filename": "3_IM-1384-1001.dcm.png",
         "projection": "Frontal",
         "caption": "No displaced rib fractures, pneumothorax, or pleural effusion identified. Well-expanded and clear l…",
         "_deepnote_index_column": 4
        },
        {
         "uid": 3,
         "MeSH": "normal",
         "Problems": "normal",
         "findings": "no unusual findings",
         "impression": "No displaced rib fractures, pneumothorax, or pleural effusion identified. Well-expanded and clear l…",
         "filename": "3_IM-1384-2001.dcm.png",
         "projection": "Lateral",
         "caption": "No displaced rib fractures, pneumothorax, or pleural effusion identified. Well-expanded and clear l…",
         "_deepnote_index_column": 5
        },
        {
         "uid": 4,
         "MeSH": "Pulmonary Disease, Chronic Obstructive,Bullous Emphysema,Pulmonary Fibrosis interstitial,Cicatrix l…",
         "Problems": "Pulmonary Disease, Chronic Obstructive,Bullous Emphysema,Pulmonary Fibrosis,Cicatrix,Opacity,Opacit…",
         "findings": "There are diffuse bilateral interstitial and alveolar opacities consistent chronic obstructive lung…",
         "impression": " Bullous emphysema and interstitial fibrosis.  Probably scarring in the left apex, although difficu…",
         "filename": "4_IM-2050-1001.dcm.png",
         "projection": "Frontal",
         "caption": "There are diffuse bilateral interstitial and alveolar opacities consistent chronic obstructive lung…",
         "_deepnote_index_column": 6
        },
        {
         "uid": 4,
         "MeSH": "Pulmonary Disease, Chronic Obstructive,Bullous Emphysema,Pulmonary Fibrosis interstitial,Cicatrix l…",
         "Problems": "Pulmonary Disease, Chronic Obstructive,Bullous Emphysema,Pulmonary Fibrosis,Cicatrix,Opacity,Opacit…",
         "findings": "There are diffuse bilateral interstitial and alveolar opacities consistent chronic obstructive lung…",
         "impression": " Bullous emphysema and interstitial fibrosis.  Probably scarring in the left apex, although difficu…",
         "filename": "4_IM-2050-2001.dcm.png",
         "projection": "Lateral",
         "caption": "There are diffuse bilateral interstitial and alveolar opacities consistent chronic obstructive lung…",
         "_deepnote_index_column": 7
        },
        {
         "uid": 5,
         "MeSH": "Osteophyte thoracic vertebrae multiple small,Thickening pleura apex bilateral,Lung hyperdistention …",
         "Problems": "Osteophyte,Thickening,Lung",
         "findings": "The cardiomediastinal silhouette and pulmonary vasculature arein normal limits. There is no pneumot…",
         "impression": "No acute cardiopulmonary abnormality",
         "filename": "5_IM-2117-1003002.dcm.png",
         "projection": "Frontal",
         "caption": "The cardiomediastinal silhouette and pulmonary vasculature arein normal limits. There is no pneumot…",
         "_deepnote_index_column": 8
        },
        {
         "uid": 5,
         "MeSH": "Osteophyte thoracic vertebrae multiple small,Thickening pleura apex bilateral,Lung hyperdistention …",
         "Problems": "Osteophyte,Thickening,Lung",
         "findings": "The cardiomediastinal silhouette and pulmonary vasculature arein normal limits. There is no pneumot…",
         "impression": "No acute cardiopulmonary abnormality",
         "filename": "5_IM-2117-1004003.dcm.png",
         "projection": "Lateral",
         "caption": "The cardiomediastinal silhouette and pulmonary vasculature arein normal limits. There is no pneumot…",
         "_deepnote_index_column": 9
        },
        {
         "uid": 6,
         "MeSH": "normal",
         "Problems": "normal",
         "findings": "Heart size and mediastinal contour arein normal limits. There is no focal airspace consolidation or…",
         "impression": "No acute cardiopulmonary findings",
         "filename": "6_IM-2192-1001.dcm.png",
         "projection": "Frontal",
         "caption": "Heart size and mediastinal contour arein normal limits. There is no focal airspace consolidation or…",
         "_deepnote_index_column": 10
        },
        {
         "uid": 6,
         "MeSH": "normal",
         "Problems": "normal",
         "findings": "Heart size and mediastinal contour arein normal limits. There is no focal airspace consolidation or…",
         "impression": "No acute cardiopulmonary findings",
         "filename": "6_IM-2192-2001.dcm.png",
         "projection": "Lateral",
         "caption": "Heart size and mediastinal contour arein normal limits. There is no focal airspace consolidation or…",
         "_deepnote_index_column": 11
        },
        {
         "uid": 7,
         "MeSH": "Pulmonary Atelectasis base,Spondylosis thoracic vertebrae,Arthritis cervical vertebrae",
         "Problems": "Pulmonary Atelectasis,Spondylosis,Arthritis",
         "findings": "The cardiac contours are normal.  basilar atelectasis. The lungs are clear. Thoracic spondylosis. L…",
         "impression": "Basilar atelectasis. No confluent lobar consolidation or pleural effusion",
         "filename": "7_IM-2263-1001.dcm.png",
         "projection": "Frontal",
         "caption": "The cardiac contours are normal.  basilar atelectasis. The lungs are clear. Thoracic spondylosis. L…",
         "_deepnote_index_column": 12
        },
        {
         "uid": 7,
         "MeSH": "Pulmonary Atelectasis base,Spondylosis thoracic vertebrae,Arthritis cervical vertebrae",
         "Problems": "Pulmonary Atelectasis,Spondylosis,Arthritis",
         "findings": "The cardiac contours are normal.  basilar atelectasis. The lungs are clear. Thoracic spondylosis. L…",
         "impression": "Basilar atelectasis. No confluent lobar consolidation or pleural effusion",
         "filename": "7_IM-2263-2001.dcm.png",
         "projection": "Lateral",
         "caption": "The cardiac contours are normal.  basilar atelectasis. The lungs are clear. Thoracic spondylosis. L…",
         "_deepnote_index_column": 13
        },
        {
         "uid": 8,
         "MeSH": "normal",
         "Problems": "normal",
         "findings": "The heart, pulmonary  and mediastinum arein normal limits. There is no pleural effusion or pneumoth…",
         "impression": "No acute cardiopulmonary disease",
         "filename": "8_IM-2333-1001.dcm.png",
         "projection": "Frontal",
         "caption": "The heart, pulmonary  and mediastinum arein normal limits. There is no pleural effusion or pneumoth…",
         "_deepnote_index_column": 14
        },
        {
         "uid": 8,
         "MeSH": "normal",
         "Problems": "normal",
         "findings": "The heart, pulmonary  and mediastinum arein normal limits. There is no pleural effusion or pneumoth…",
         "impression": "No acute cardiopulmonary disease",
         "filename": "8_IM-2333-2001.dcm.png",
         "projection": "Lateral",
         "caption": "The heart, pulmonary  and mediastinum arein normal limits. There is no pleural effusion or pneumoth…",
         "_deepnote_index_column": 15
        },
        {
         "uid": 9,
         "MeSH": "Calcified Granuloma lung upper lobe right,Density cardiophrenic angle left",
         "Problems": "Calcified Granuloma,Density",
         "findings": "The  examination consists of frontal and lateral radiographs of the chest. The cardiac silhouette i…",
         "impression": "Increased size of density in the left cardiophrenic. Primary differential considerations include in…",
         "filename": "9_IM-2407-1001.dcm.png",
         "projection": "Frontal",
         "caption": "The  examination consists of frontal and lateral radiographs of the chest. The cardiac silhouette i…",
         "_deepnote_index_column": 16
        },
        {
         "uid": 9,
         "MeSH": "Calcified Granuloma lung upper lobe right,Density cardiophrenic angle left",
         "Problems": "Calcified Granuloma,Density",
         "findings": "The  examination consists of frontal and lateral radiographs of the chest. The cardiac silhouette i…",
         "impression": "Increased size of density in the left cardiophrenic. Primary differential considerations include in…",
         "filename": "9_IM-2407-2001.dcm.png",
         "projection": "Lateral",
         "caption": "The  examination consists of frontal and lateral radiographs of the chest. The cardiac silhouette i…",
         "_deepnote_index_column": 17
        },
        {
         "uid": 10,
         "MeSH": "Calcified Granuloma lung upper lobe right",
         "Problems": "Calcified Granuloma",
         "findings": "The cardiomediastinal silhouette isin normal limits for size and contour. The lungs are normally in…",
         "impression": "No acute cardiopulmonary process",
         "filename": "10_IM-0002-2001.dcm.png",
         "projection": "Frontal",
         "caption": "The cardiomediastinal silhouette isin normal limits for size and contour. The lungs are normally in…",
         "_deepnote_index_column": 18
        },
        {
         "uid": 10,
         "MeSH": "Calcified Granuloma lung upper lobe right",
         "Problems": "Calcified Granuloma",
         "findings": "The cardiomediastinal silhouette isin normal limits for size and contour. The lungs are normally in…",
         "impression": "No acute cardiopulmonary process",
         "filename": "10_IM-0002-1001.dcm.png",
         "projection": "Lateral",
         "caption": "The cardiomediastinal silhouette isin normal limits for size and contour. The lungs are normally in…",
         "_deepnote_index_column": 19
        },
        {
         "uid": 11,
         "MeSH": "normal",
         "Problems": "normal",
         "findings": "Cardiomediastinal silhouette and pulmonary vasculature arein normal limits. Lungs are clear. No pne…",
         "impression": "No acute cardiopulmonary findings",
         "filename": "11_IM-0067-1001.dcm.png",
         "projection": "Frontal",
         "caption": "Cardiomediastinal silhouette and pulmonary vasculature arein normal limits. Lungs are clear. No pne…",
         "_deepnote_index_column": 20
        },
        {
         "uid": 11,
         "MeSH": "normal",
         "Problems": "normal",
         "findings": "Cardiomediastinal silhouette and pulmonary vasculature arein normal limits. Lungs are clear. No pne…",
         "impression": "No acute cardiopulmonary findings",
         "filename": "11_IM-0067-2001.dcm.png",
         "projection": "Lateral",
         "caption": "Cardiomediastinal silhouette and pulmonary vasculature arein normal limits. Lungs are clear. No pne…",
         "_deepnote_index_column": 21
        },
        {
         "uid": 12,
         "MeSH": "normal",
         "Problems": "normal",
         "findings": "Lungs are clear bilaterally. Cardiac and mediastinal silhouettes are normal. Pulmonary vasculature …",
         "impression": "No acute cardiopulmonary abnormality",
         "filename": "12_IM-0133-1001.dcm.png",
         "projection": "Frontal",
         "caption": "Lungs are clear bilaterally. Cardiac and mediastinal silhouettes are normal. Pulmonary vasculature …",
         "_deepnote_index_column": 22
        },
        {
         "uid": 12,
         "MeSH": "normal",
         "Problems": "normal",
         "findings": "Lungs are clear bilaterally. Cardiac and mediastinal silhouettes are normal. Pulmonary vasculature …",
         "impression": "No acute cardiopulmonary abnormality",
         "filename": "12_IM-0133-2001.dcm.png",
         "projection": "Lateral",
         "caption": "Lungs are clear bilaterally. Cardiac and mediastinal silhouettes are normal. Pulmonary vasculature …",
         "_deepnote_index_column": 23
        },
        {
         "uid": 13,
         "MeSH": "Cardiac Shadow borderline",
         "Problems": "Cardiac Shadow",
         "findings": "The cardiac silhouette is borderline enlarged. Otherwise, there is no focal opacity. Mediastinal co…",
         "impression": "Borderline enlargement of the cardiac silhouetteout acute pulmonary disease",
         "filename": "13_IM-0198-1001.dcm.png",
         "projection": "Frontal",
         "caption": "The cardiac silhouette is borderline enlarged. Otherwise, there is no focal opacity. Mediastinal co…",
         "_deepnote_index_column": 24
        },
        {
         "uid": 13,
         "MeSH": "Cardiac Shadow borderline",
         "Problems": "Cardiac Shadow",
         "findings": "The cardiac silhouette is borderline enlarged. Otherwise, there is no focal opacity. Mediastinal co…",
         "impression": "Borderline enlargement of the cardiac silhouetteout acute pulmonary disease",
         "filename": "13_IM-0198-2001.dcm.png",
         "projection": "Lateral",
         "caption": "The cardiac silhouette is borderline enlarged. Otherwise, there is no focal opacity. Mediastinal co…",
         "_deepnote_index_column": 25
        },
        {
         "uid": 14,
         "MeSH": "Lung hyperdistention mild,Markings lung interstitial scattered irregular chronic",
         "Problems": "Lung,Markings",
         "findings": "Heart sizein normal limits, stable mediastinal and hilar contours. Mild hyperinflation appears simi…",
         "impression": "No acute findings",
         "filename": "14_IM-0256-1001.dcm.png",
         "projection": "Frontal",
         "caption": "Heart sizein normal limits, stable mediastinal and hilar contours. Mild hyperinflation appears simi…",
         "_deepnote_index_column": 26
        },
        {
         "uid": 14,
         "MeSH": "Lung hyperdistention mild,Markings lung interstitial scattered irregular chronic",
         "Problems": "Lung,Markings",
         "findings": "Heart sizein normal limits, stable mediastinal and hilar contours. Mild hyperinflation appears simi…",
         "impression": "No acute findings",
         "filename": "14_IM-0256-2001.dcm.png",
         "projection": "Lateral",
         "caption": "Heart sizein normal limits, stable mediastinal and hilar contours. Mild hyperinflation appears simi…",
         "_deepnote_index_column": 27
        },
        {
         "uid": 15,
         "MeSH": "Granulomatous Disease",
         "Problems": "Granulomatous Disease",
         "findings": "Cardiomediastinal silhouette and pulmonary vasculature arein normal limits. Lungs are clear. No pne…",
         "impression": "No acute cardiopulmonary findings",
         "filename": "15_IM-0324-1001.dcm.png",
         "projection": "Frontal",
         "caption": "Cardiomediastinal silhouette and pulmonary vasculature arein normal limits. Lungs are clear. No pne…",
         "_deepnote_index_column": 28
        },
        {
         "uid": 15,
         "MeSH": "Granulomatous Disease",
         "Problems": "Granulomatous Disease",
         "findings": "Cardiomediastinal silhouette and pulmonary vasculature arein normal limits. Lungs are clear. No pne…",
         "impression": "No acute cardiopulmonary findings",
         "filename": "15_IM-0324-2001.dcm.png",
         "projection": "Lateral",
         "caption": "Cardiomediastinal silhouette and pulmonary vasculature arein normal limits. Lungs are clear. No pne…",
         "_deepnote_index_column": 29
        },
        {
         "uid": 17,
         "MeSH": "normal",
         "Problems": "normal",
         "findings": "No focal areas of consolidation. No suspicious pulmonary opacities. Heart sizein normal limits. No …",
         "impression": "No acute cardiopulmonary abnormality",
         "filename": "17_IM-0460-2001.dcm.png",
         "projection": "Frontal",
         "caption": "No focal areas of consolidation. No suspicious pulmonary opacities. Heart sizein normal limits. No …",
         "_deepnote_index_column": 32
        },
        {
         "uid": 17,
         "MeSH": "normal",
         "Problems": "normal",
         "findings": "No focal areas of consolidation. No suspicious pulmonary opacities. Heart sizein normal limits. No …",
         "impression": "No acute cardiopulmonary abnormality",
         "filename": "17_IM-0460-1001.dcm.png",
         "projection": "Lateral",
         "caption": "No focal areas of consolidation. No suspicious pulmonary opacities. Heart sizein normal limits. No …",
         "_deepnote_index_column": 33
        },
        {
         "uid": 18,
         "MeSH": "Pleural Effusion borderline",
         "Problems": "Pleural Effusion",
         "findings": "Heart sizein normal limits. No focal alveolar consolidation, no definite pleural effusion seen. No …",
         "impression": "No acute cardiopulmonary findings",
         "filename": "18_IM-0520-1001.dcm.png",
         "projection": "Frontal",
         "caption": "Heart sizein normal limits. No focal alveolar consolidation, no definite pleural effusion seen. No …",
         "_deepnote_index_column": 34
        },
        {
         "uid": 18,
         "MeSH": "Pleural Effusion borderline",
         "Problems": "Pleural Effusion",
         "findings": "Heart sizein normal limits. No focal alveolar consolidation, no definite pleural effusion seen. No …",
         "impression": "No acute cardiopulmonary findings",
         "filename": "18_IM-0520-2001.dcm.png",
         "projection": "Lateral",
         "caption": "Heart sizein normal limits. No focal alveolar consolidation, no definite pleural effusion seen. No …",
         "_deepnote_index_column": 35
        },
        {
         "uid": 19,
         "MeSH": "Aorta, Thoracic tortuous,Thoracic Vertebrae degenerative",
         "Problems": "Aorta, Thoracic,Thoracic Vertebrae",
         "findings": "Heart size is normal. There is tortuosity of the thoracic aorta, stable compared prior. No focal ai…",
         "impression": "No acute cardiopulmonary process",
         "filename": "19_IM-0583-1001.dcm.png",
         "projection": "Frontal",
         "caption": "Heart size is normal. There is tortuosity of the thoracic aorta, stable compared prior. No focal ai…",
         "_deepnote_index_column": 36
        },
        {
         "uid": 19,
         "MeSH": "Aorta, Thoracic tortuous,Thoracic Vertebrae degenerative",
         "Problems": "Aorta, Thoracic,Thoracic Vertebrae",
         "findings": "Heart size is normal. There is tortuosity of the thoracic aorta, stable compared prior. No focal ai…",
         "impression": "No acute cardiopulmonary process",
         "filename": "19_IM-0583-3003.dcm.png",
         "projection": "Lateral",
         "caption": "Heart size is normal. There is tortuosity of the thoracic aorta, stable compared prior. No focal ai…",
         "_deepnote_index_column": 37
        },
        {
         "uid": 20,
         "MeSH": "normal",
         "Problems": "normal",
         "findings": "The cardiac and mediastinal silhouettes are unremarkable. The lungs are well expanded and clear. Th…",
         "impression": "No evidence of acute cardiopulmonary process. Stable appearance of the chest",
         "filename": "20_IM-0653-1001.dcm.png",
         "projection": "Frontal",
         "caption": "The cardiac and mediastinal silhouettes are unremarkable. The lungs are well expanded and clear. Th…",
         "_deepnote_index_column": 38
        },
        {
         "uid": 20,
         "MeSH": "normal",
         "Problems": "normal",
         "findings": "The cardiac and mediastinal silhouettes are unremarkable. The lungs are well expanded and clear. Th…",
         "impression": "No evidence of acute cardiopulmonary process. Stable appearance of the chest",
         "filename": "20_IM-0653-1002.dcm.png",
         "projection": "Lateral",
         "caption": "The cardiac and mediastinal silhouettes are unremarkable. The lungs are well expanded and clear. Th…",
         "_deepnote_index_column": 39
        },
        {
         "uid": 21,
         "MeSH": "Calcified Granuloma lung lingula,Breast Implants,Deformity thoracic vertebrae moderate",
         "Problems": "Calcified Granuloma,Breast Implants,Deformity",
         "findings": "no findings",
         "impression": "Heart size normal. Mediastinal silhouettes and pulmonary vascularity arein normal limits. Calcified…",
         "filename": "21_IM-0729-1001-0001.dcm.png",
         "projection": "Frontal",
         "caption": "Heart size normal. Mediastinal silhouettes and pulmonary vascularity arein normal limits. Calcified…",
         "_deepnote_index_column": 40
        },
        {
         "uid": 21,
         "MeSH": "Calcified Granuloma lung lingula,Breast Implants,Deformity thoracic vertebrae moderate",
         "Problems": "Calcified Granuloma,Breast Implants,Deformity",
         "findings": "no findings",
         "impression": "Heart size normal. Mediastinal silhouettes and pulmonary vascularity arein normal limits. Calcified…",
         "filename": "21_IM-0729-1001-0002.dcm.png",
         "projection": "Lateral",
         "caption": "Heart size normal. Mediastinal silhouettes and pulmonary vascularity arein normal limits. Calcified…",
         "_deepnote_index_column": 41
        },
        {
         "uid": 22,
         "MeSH": "normal",
         "Problems": "normal",
         "findings": "The lungs are clear, andout focal air space opacity. The cardiomediastinal silhouette is normal in …",
         "impression": "No acute cardiopulmonary abnormality",
         "filename": "22_IM-0810-1001.dcm.png",
         "projection": "Frontal",
         "caption": "The lungs are clear, andout focal air space opacity. The cardiomediastinal silhouette is normal in …",
         "_deepnote_index_column": 42
        },
        {
         "uid": 22,
         "MeSH": "normal",
         "Problems": "normal",
         "findings": "The lungs are clear, andout focal air space opacity. The cardiomediastinal silhouette is normal in …",
         "impression": "No acute cardiopulmonary abnormality",
         "filename": "22_IM-0810-2001.dcm.png",
         "projection": "Lateral",
         "caption": "The lungs are clear, andout focal air space opacity. The cardiomediastinal silhouette is normal in …",
         "_deepnote_index_column": 43
        },
        {
         "uid": 23,
         "MeSH": "normal",
         "Problems": "normal",
         "findings": "The heart size and pulmonary vascularity appearin normal limits. The lungs are free of focal airspa…",
         "impression": "No evidence of active disease",
         "filename": "23_IM-0879-1001.dcm.png",
         "projection": "Frontal",
         "caption": "The heart size and pulmonary vascularity appearin normal limits. The lungs are free of focal airspa…",
         "_deepnote_index_column": 44
        },
        {
         "uid": 23,
         "MeSH": "normal",
         "Problems": "normal",
         "findings": "The heart size and pulmonary vascularity appearin normal limits. The lungs are free of focal airspa…",
         "impression": "No evidence of active disease",
         "filename": "23_IM-0879-2001.dcm.png",
         "projection": "Lateral",
         "caption": "The heart size and pulmonary vascularity appearin normal limits. The lungs are free of focal airspa…",
         "_deepnote_index_column": 45
        },
        {
         "uid": 24,
         "MeSH": "normal",
         "Problems": "normal",
         "findings": "Cardiomediastinal silhouette isin normal limits of size and appearance. The pulmonary vascularity i…",
         "impression": "No acute cardiopulmonary abnormality",
         "filename": "24_IM-0949-1001.dcm.png",
         "projection": "Frontal",
         "caption": "Cardiomediastinal silhouette isin normal limits of size and appearance. The pulmonary vascularity i…",
         "_deepnote_index_column": 46
        },
        {
         "uid": 24,
         "MeSH": "normal",
         "Problems": "normal",
         "findings": "Cardiomediastinal silhouette isin normal limits of size and appearance. The pulmonary vascularity i…",
         "impression": "No acute cardiopulmonary abnormality",
         "filename": "24_IM-0949-2001.dcm.png",
         "projection": "Lateral",
         "caption": "Cardiomediastinal silhouette isin normal limits of size and appearance. The pulmonary vascularity i…",
         "_deepnote_index_column": 47
        },
        {
         "uid": 25,
         "MeSH": "Sutures lung apex right,Lung, Hyperlucent,Lung hyperdistention,Pulmonary Emphysema,Airspace Disease…",
         "Problems": "Sutures,Lung, Hyperlucent,Lung,Pulmonary Emphysema,Airspace Disease,Pleural Effusion,Pleural Effusi…",
         "findings": "The heart isin normal limits in size. Surgical suture material projects over the right lung apex. T…",
         "impression": " Left lower lobe airspace disease and bilateral pleural effusions, left greater than right. This ma…",
         "filename": "25_IM-1024-2001.dcm.png",
         "projection": "Frontal",
         "caption": "The heart isin normal limits in size. Surgical suture material projects over the right lung apex. T…",
         "_deepnote_index_column": 48
        },
        {
         "uid": 25,
         "MeSH": "Sutures lung apex right,Lung, Hyperlucent,Lung hyperdistention,Pulmonary Emphysema,Airspace Disease…",
         "Problems": "Sutures,Lung, Hyperlucent,Lung,Pulmonary Emphysema,Airspace Disease,Pleural Effusion,Pleural Effusi…",
         "findings": "The heart isin normal limits in size. Surgical suture material projects over the right lung apex. T…",
         "impression": " Left lower lobe airspace disease and bilateral pleural effusions, left greater than right. This ma…",
         "filename": "25_IM-1024-3001.dcm.png",
         "projection": "Lateral",
         "caption": "The heart isin normal limits in size. Surgical suture material projects over the right lung apex. T…",
         "_deepnote_index_column": 49
        },
        {
         "uid": 26,
         "MeSH": "Spondylosis thoracic vertebrae",
         "Problems": "Spondylosis",
         "findings": "The cardiac contours are normal. The lungs are clear. Thoracic spondylosis",
         "impression": "No acute process",
         "filename": "26_IM-1090-1001.dcm.png",
         "projection": "Frontal",
         "caption": "The cardiac contours are normal. The lungs are clear. Thoracic spondylosis. No acute process",
         "_deepnote_index_column": 50
        },
        {
         "uid": 26,
         "MeSH": "Spondylosis thoracic vertebrae",
         "Problems": "Spondylosis",
         "findings": "The cardiac contours are normal. The lungs are clear. Thoracic spondylosis",
         "impression": "No acute process",
         "filename": "26_IM-1090-2001.dcm.png",
         "projection": "Lateral",
         "caption": "The cardiac contours are normal. The lungs are clear. Thoracic spondylosis. No acute process",
         "_deepnote_index_column": 51
        },
        {
         "uid": 27,
         "MeSH": "Lung hyperdistention,Diaphragm flattened,Thoracic Vertebrae degenerative",
         "Problems": "Lung,Diaphragm,Thoracic Vertebrae",
         "findings": "Lungs are overall hyperexpanded flattening of the diaphragms. No focal consolidation. No pleural ef…",
         "impression": "Hyperexpanded but clear lungs",
         "filename": "27_IM-1168-2002.dcm.png",
         "projection": "Frontal",
         "caption": "Lungs are overall hyperexpanded flattening of the diaphragms. No focal consolidation. No pleural ef…",
         "_deepnote_index_column": 52
        },
        {
         "uid": 27,
         "MeSH": "Lung hyperdistention,Diaphragm flattened,Thoracic Vertebrae degenerative",
         "Problems": "Lung,Diaphragm,Thoracic Vertebrae",
         "findings": "Lungs are overall hyperexpanded flattening of the diaphragms. No focal consolidation. No pleural ef…",
         "impression": "Hyperexpanded but clear lungs",
         "filename": "27_IM-1168-3003.dcm.png",
         "projection": "Lateral",
         "caption": "Lungs are overall hyperexpanded flattening of the diaphragms. No focal consolidation. No pleural ef…",
         "_deepnote_index_column": 53
        },
        {
         "uid": 28,
         "MeSH": "Opacity lung base bilateral scattered focal patchy multiple,Pulmonary Atelectasis,Consolidation lun…",
         "Problems": "Opacity,Pulmonary Atelectasis,Consolidation,Pulmonary Congestion,Cardiac Shadow",
         "findings": "Bilateral patchy pulmonary opacities noted. Interval improvement in left base consolidative opacity…",
         "impression": " Interval improvement in consolidative left base opacity. Multifocal scattered bibasilar patchy and…",
         "filename": "28_IM-1231-1001.dcm.png",
         "projection": "Frontal",
         "caption": "Bilateral patchy pulmonary opacities noted. Interval improvement in left base consolidative opacity…",
         "_deepnote_index_column": 54
        },
        {
         "uid": 28,
         "MeSH": "Opacity lung base bilateral scattered focal patchy multiple,Pulmonary Atelectasis,Consolidation lun…",
         "Problems": "Opacity,Pulmonary Atelectasis,Consolidation,Pulmonary Congestion,Cardiac Shadow",
         "findings": "Bilateral patchy pulmonary opacities noted. Interval improvement in left base consolidative opacity…",
         "impression": " Interval improvement in consolidative left base opacity. Multifocal scattered bibasilar patchy and…",
         "filename": "28_IM-1231-2001.dcm.png",
         "projection": "Lateral",
         "caption": "Bilateral patchy pulmonary opacities noted. Interval improvement in left base consolidative opacity…",
         "_deepnote_index_column": 55
        },
        {
         "uid": 29,
         "MeSH": "Cardiomegaly borderline,Diaphragm left elevated,Tube, Inserted trachea, carina,Airspace Disease lun…",
         "Problems": "Cardiomegaly,Diaphragm,Tube, Inserted,Airspace Disease",
         "findings": "no findings",
         "impression": "Borderline heart size. Elevated left diaphragm. Clear right lung. Tracheostomy tube tip above the c…",
         "filename": "29_IM-1302-1001.dcm.png",
         "projection": "Frontal",
         "caption": "Borderline heart size. Elevated left diaphragm. Clear right lung. Tracheostomy tube tip above the c…",
         "_deepnote_index_column": 56
        },
        {
         "uid": 29,
         "MeSH": "Cardiomegaly borderline,Diaphragm left elevated,Tube, Inserted trachea, carina,Airspace Disease lun…",
         "Problems": "Cardiomegaly,Diaphragm,Tube, Inserted,Airspace Disease",
         "findings": "no findings",
         "impression": "Borderline heart size. Elevated left diaphragm. Clear right lung. Tracheostomy tube tip above the c…",
         "filename": "29_IM-1302-2001.dcm.png",
         "projection": "Lateral",
         "caption": "Borderline heart size. Elevated left diaphragm. Clear right lung. Tracheostomy tube tip above the c…",
         "_deepnote_index_column": 57
        },
        {
         "uid": 30,
         "MeSH": "normal",
         "Problems": "normal",
         "findings": "Lungs are clearout focal consolidation, effusion, or pneumothorax. Normal heart size. Negative for …",
         "impression": "Negative acute cardiopulmonary abnormality",
         "filename": "30_IM-1385-1001.dcm.png",
         "projection": "Frontal",
         "caption": "Lungs are clearout focal consolidation, effusion, or pneumothorax. Normal heart size. Negative for …",
         "_deepnote_index_column": 58
        },
        {
         "uid": 30,
         "MeSH": "normal",
         "Problems": "normal",
         "findings": "Lungs are clearout focal consolidation, effusion, or pneumothorax. Normal heart size. Negative for …",
         "impression": "Negative acute cardiopulmonary abnormality",
         "filename": "30_IM-1385-2001.dcm.png",
         "projection": "Lateral",
         "caption": "Lungs are clearout focal consolidation, effusion, or pneumothorax. Normal heart size. Negative for …",
         "_deepnote_index_column": 59
        },
        {
         "uid": 31,
         "MeSH": "Markings lung interstitial",
         "Problems": "Markings",
         "findings": "no findings",
         "impression": "Suggestion of slightly more prominent interstitial markings, which may represent some bronchitic/br…",
         "filename": "31_IM-1450-1001.dcm.png",
         "projection": "Frontal",
         "caption": "Suggestion of slightly more prominent interstitial markings, which may represent some bronchitic/br…",
         "_deepnote_index_column": 60
        },
        {
         "uid": 31,
         "MeSH": "Markings lung interstitial",
         "Problems": "Markings",
         "findings": "no findings",
         "impression": "Suggestion of slightly more prominent interstitial markings, which may represent some bronchitic/br…",
         "filename": "31_IM-1450-3003.dcm.png",
         "projection": "Lateral",
         "caption": "Suggestion of slightly more prominent interstitial markings, which may represent some bronchitic/br…",
         "_deepnote_index_column": 61
        },
        {
         "uid": 32,
         "MeSH": "Costophrenic Angle right blunted mild",
         "Problems": "Costophrenic Angle",
         "findings": "The heart is normal in size. The mediastinum is unremarkable. Mild blunting of right costophrenic. …",
         "impression": "No acute disease",
         "filename": "32_IM-1511-1001.dcm.png",
         "projection": "Frontal",
         "caption": "The heart is normal in size. The mediastinum is unremarkable. Mild blunting of right costophrenic. …",
         "_deepnote_index_column": 62
        },
        {
         "uid": 32,
         "MeSH": "Costophrenic Angle right blunted mild",
         "Problems": "Costophrenic Angle",
         "findings": "The heart is normal in size. The mediastinum is unremarkable. Mild blunting of right costophrenic. …",
         "impression": "No acute disease",
         "filename": "32_IM-1511-4001.dcm.png",
         "projection": "Lateral",
         "caption": "The heart is normal in size. The mediastinum is unremarkable. Mild blunting of right costophrenic. …",
         "_deepnote_index_column": 63
        }
       ],
       "rows_bottom": [
        {
         "uid": 3968,
         "MeSH": "Pneumonia lower lobe left",
         "Problems": "Pneumonia",
         "findings": "no findings",
         "impression": "Left lower lobe  segment pneumonia. Heart size normal. Lungs otherwise clear. No effusion",
         "filename": "3968_IM-2029-1001.dcm.png",
         "projection": "Frontal",
         "caption": "Left lower lobe  segment pneumonia. Heart size normal. Lungs otherwise clear. No effusion",
         "_deepnote_index_column": 7402
        },
        {
         "uid": 3968,
         "MeSH": "Pneumonia lower lobe left",
         "Problems": "Pneumonia",
         "findings": "no findings",
         "impression": "Left lower lobe  segment pneumonia. Heart size normal. Lungs otherwise clear. No effusion",
         "filename": "3968_IM-2029-3001.dcm.png",
         "projection": "Frontal",
         "caption": "Left lower lobe  segment pneumonia. Heart size normal. Lungs otherwise clear. No effusion",
         "_deepnote_index_column": 7403
        },
        {
         "uid": 3968,
         "MeSH": "Pneumonia lower lobe left",
         "Problems": "Pneumonia",
         "findings": "no findings",
         "impression": "Left lower lobe  segment pneumonia. Heart size normal. Lungs otherwise clear. No effusion",
         "filename": "3968_IM-2029-2001.dcm.png",
         "projection": "Lateral",
         "caption": "Left lower lobe  segment pneumonia. Heart size normal. Lungs otherwise clear. No effusion",
         "_deepnote_index_column": 7404
        },
        {
         "uid": 3969,
         "MeSH": "Lung hyperdistention,Spine degenerative,Bone Diseases, Metabolic spine",
         "Problems": "Lung,Spine,Bone Diseases, Metabolic",
         "findings": "The lungs hyperexpanded suggesting emphysema. The heart size and pulmonary vascularity appearin nor…",
         "impression": "No evidence of active disease",
         "filename": "3969_IM-2030-1001.dcm.png",
         "projection": "Frontal",
         "caption": "The lungs hyperexpanded suggesting emphysema. The heart size and pulmonary vascularity appearin nor…",
         "_deepnote_index_column": 7405
        },
        {
         "uid": 3969,
         "MeSH": "Lung hyperdistention,Spine degenerative,Bone Diseases, Metabolic spine",
         "Problems": "Lung,Spine,Bone Diseases, Metabolic",
         "findings": "The lungs hyperexpanded suggesting emphysema. The heart size and pulmonary vascularity appearin nor…",
         "impression": "No evidence of active disease",
         "filename": "3969_IM-2030-2001.dcm.png",
         "projection": "Lateral",
         "caption": "The lungs hyperexpanded suggesting emphysema. The heart size and pulmonary vascularity appearin nor…",
         "_deepnote_index_column": 7406
        },
        {
         "uid": 3970,
         "MeSH": "normal",
         "Problems": "normal",
         "findings": "Lungs are clear bilaterally no focal infiltrate, pleural effusion, or pneumothoraces. Cardiomediast…",
         "impression": "No acute cardiopulmonary abnormality",
         "filename": "3970_IM-2031-1001.dcm.png",
         "projection": "Frontal",
         "caption": "Lungs are clear bilaterally no focal infiltrate, pleural effusion, or pneumothoraces. Cardiomediast…",
         "_deepnote_index_column": 7407
        },
        {
         "uid": 3970,
         "MeSH": "normal",
         "Problems": "normal",
         "findings": "Lungs are clear bilaterally no focal infiltrate, pleural effusion, or pneumothoraces. Cardiomediast…",
         "impression": "No acute cardiopulmonary abnormality",
         "filename": "3970_IM-2031-2001.dcm.png",
         "projection": "Lateral",
         "caption": "Lungs are clear bilaterally no focal infiltrate, pleural effusion, or pneumothoraces. Cardiomediast…",
         "_deepnote_index_column": 7408
        },
        {
         "uid": 3971,
         "MeSH": "normal",
         "Problems": "normal",
         "findings": "The heart size and cardiomediastinal silhouette are normal. There is no focal airspace opacity, ple…",
         "impression": "No acute cardiopulmonary finding",
         "filename": "3971_IM-2031-1001.dcm.png",
         "projection": "Frontal",
         "caption": "The heart size and cardiomediastinal silhouette are normal. There is no focal airspace opacity, ple…",
         "_deepnote_index_column": 7409
        },
        {
         "uid": 3971,
         "MeSH": "normal",
         "Problems": "normal",
         "findings": "The heart size and cardiomediastinal silhouette are normal. There is no focal airspace opacity, ple…",
         "impression": "No acute cardiopulmonary finding",
         "filename": "3971_IM-2031-3001.dcm.png",
         "projection": "Frontal",
         "caption": "The heart size and cardiomediastinal silhouette are normal. There is no focal airspace opacity, ple…",
         "_deepnote_index_column": 7410
        },
        {
         "uid": 3971,
         "MeSH": "normal",
         "Problems": "normal",
         "findings": "The heart size and cardiomediastinal silhouette are normal. There is no focal airspace opacity, ple…",
         "impression": "No acute cardiopulmonary finding",
         "filename": "3971_IM-2031-2001.dcm.png",
         "projection": "Lateral",
         "caption": "The heart size and cardiomediastinal silhouette are normal. There is no focal airspace opacity, ple…",
         "_deepnote_index_column": 7411
        },
        {
         "uid": 3972,
         "MeSH": "Lung hilum lymph nodes bilateral enlarged,Opacity lung bilateral interstitial,Sarcoidosis",
         "Problems": "Lung,Opacity,Sarcoidosis",
         "findings": "Heart size and pulmonary vascularity appearin normal limits. Bilateral hilar fullness is present co…",
         "impression": " Continued hilar fullness consistent adenopathy and bilateral interstitial opacities. Stable as com…",
         "filename": "3972_IM-2032-1001.dcm.png",
         "projection": "Frontal",
         "caption": "Heart size and pulmonary vascularity appearin normal limits. Bilateral hilar fullness is present co…",
         "_deepnote_index_column": 7412
        },
        {
         "uid": 3972,
         "MeSH": "Lung hilum lymph nodes bilateral enlarged,Opacity lung bilateral interstitial,Sarcoidosis",
         "Problems": "Lung,Opacity,Sarcoidosis",
         "findings": "Heart size and pulmonary vascularity appearin normal limits. Bilateral hilar fullness is present co…",
         "impression": " Continued hilar fullness consistent adenopathy and bilateral interstitial opacities. Stable as com…",
         "filename": "3972_IM-2032-2001.dcm.png",
         "projection": "Lateral",
         "caption": "Heart size and pulmonary vascularity appearin normal limits. Bilateral hilar fullness is present co…",
         "_deepnote_index_column": 7413
        },
        {
         "uid": 3974,
         "MeSH": "Lung hyperdistention,Pulmonary Emphysema,Airspace Disease lung middle lobe right patchy,Spine degen…",
         "Problems": "Lung,Pulmonary Emphysema,Airspace Disease,Spine",
         "findings": "The lungs are hyperexpanded consistent emphysema. The heart size and pulmonary vascularity appearin…",
         "impression": " Hyperexpanded lungs suggesting emphysema.  Patchy right middle lobe airspace disease. May represen…",
         "filename": "3974_IM-2034-2002.dcm.png",
         "projection": "Frontal",
         "caption": "The lungs are hyperexpanded consistent emphysema. The heart size and pulmonary vascularity appearin…",
         "_deepnote_index_column": 7415
        },
        {
         "uid": 3974,
         "MeSH": "Lung hyperdistention,Pulmonary Emphysema,Airspace Disease lung middle lobe right patchy,Spine degen…",
         "Problems": "Lung,Pulmonary Emphysema,Airspace Disease,Spine",
         "findings": "The lungs are hyperexpanded consistent emphysema. The heart size and pulmonary vascularity appearin…",
         "impression": " Hyperexpanded lungs suggesting emphysema.  Patchy right middle lobe airspace disease. May represen…",
         "filename": "3974_IM-2034-3003.dcm.png",
         "projection": "Lateral",
         "caption": "The lungs are hyperexpanded consistent emphysema. The heart size and pulmonary vascularity appearin…",
         "_deepnote_index_column": 7416
        },
        {
         "uid": 3975,
         "MeSH": "No Indexing",
         "Problems": "No Indexing",
         "findings": "No focal consolidation. No visualized pneumothorax. No large pleural effusions. Heart size normal. …",
         "impression": " No acute cardiopulmonary findings",
         "filename": "3975_IM-2035-1001.dcm.png",
         "projection": "Frontal",
         "caption": "No focal consolidation. No visualized pneumothorax. No large pleural effusions. Heart size normal. …",
         "_deepnote_index_column": 7417
        },
        {
         "uid": 3975,
         "MeSH": "No Indexing",
         "Problems": "No Indexing",
         "findings": "No focal consolidation. No visualized pneumothorax. No large pleural effusions. Heart size normal. …",
         "impression": " No acute cardiopulmonary findings",
         "filename": "3975_IM-2035-2001.dcm.png",
         "projection": "Lateral",
         "caption": "No focal consolidation. No visualized pneumothorax. No large pleural effusions. Heart size normal. …",
         "_deepnote_index_column": 7418
        },
        {
         "uid": 3976,
         "MeSH": "normal",
         "Problems": "normal",
         "findings": "Heart size and mediastinal contour are normal. Pulmonary vascularity is normal. Lungs are clear. No…",
         "impression": "No acute cardiopulmonary process",
         "filename": "3976_IM-2035-1001.dcm.png",
         "projection": "Frontal",
         "caption": "Heart size and mediastinal contour are normal. Pulmonary vascularity is normal. Lungs are clear. No…",
         "_deepnote_index_column": 7419
        },
        {
         "uid": 3976,
         "MeSH": "normal",
         "Problems": "normal",
         "findings": "Heart size and mediastinal contour are normal. Pulmonary vascularity is normal. Lungs are clear. No…",
         "impression": "No acute cardiopulmonary process",
         "filename": "3976_IM-2035-2001.dcm.png",
         "projection": "Lateral",
         "caption": "Heart size and mediastinal contour are normal. Pulmonary vascularity is normal. Lungs are clear. No…",
         "_deepnote_index_column": 7420
        },
        {
         "uid": 3977,
         "MeSH": "Aorta, Thoracic tortuous,Calcified Granuloma lung lower lobe left",
         "Problems": "Aorta, Thoracic,Calcified Granuloma",
         "findings": "Normal heart size. Stable unfolding the thoracic aorta. No focal air space consolidation. No pleura…",
         "impression": "No acute cardiopulmonary abnormality",
         "filename": "3977_IM-2036-1001.dcm.png",
         "projection": "Frontal",
         "caption": "Normal heart size. Stable unfolding the thoracic aorta. No focal air space consolidation. No pleura…",
         "_deepnote_index_column": 7421
        },
        {
         "uid": 3977,
         "MeSH": "Aorta, Thoracic tortuous,Calcified Granuloma lung lower lobe left",
         "Problems": "Aorta, Thoracic,Calcified Granuloma",
         "findings": "Normal heart size. Stable unfolding the thoracic aorta. No focal air space consolidation. No pleura…",
         "impression": "No acute cardiopulmonary abnormality",
         "filename": "3977_IM-2036-2001.dcm.png",
         "projection": "Lateral",
         "caption": "Normal heart size. Stable unfolding the thoracic aorta. No focal air space consolidation. No pleura…",
         "_deepnote_index_column": 7422
        },
        {
         "uid": 3978,
         "MeSH": "normal",
         "Problems": "normal",
         "findings": "The heart is normal in size and contour. There is no mediastinal widening. The lungs are clear bila…",
         "impression": "No acute cardiopulmonary abnormalities",
         "filename": "3978_IM-2037-0001-0001.dcm.png",
         "projection": "Frontal",
         "caption": "The heart is normal in size and contour. There is no mediastinal widening. The lungs are clear bila…",
         "_deepnote_index_column": 7423
        },
        {
         "uid": 3978,
         "MeSH": "normal",
         "Problems": "normal",
         "findings": "The heart is normal in size and contour. There is no mediastinal widening. The lungs are clear bila…",
         "impression": "No acute cardiopulmonary abnormalities",
         "filename": "3978_IM-2037-0001-0002.dcm.png",
         "projection": "Lateral",
         "caption": "The heart is normal in size and contour. There is no mediastinal widening. The lungs are clear bila…",
         "_deepnote_index_column": 7424
        },
        {
         "uid": 3979,
         "MeSH": "Aorta tortuous mild,Atherosclerosis aorta mild",
         "Problems": "Aorta,Atherosclerosis",
         "findings": "Normal heart size. Mild unfolding and atherosclerotic calcification of the aorta. No focal air spac…",
         "impression": "No acute cardiopulmonary abnormalities",
         "filename": "3979_IM-2038-1001.dcm.png",
         "projection": "Frontal",
         "caption": "Normal heart size. Mild unfolding and atherosclerotic calcification of the aorta. No focal air spac…",
         "_deepnote_index_column": 7425
        },
        {
         "uid": 3979,
         "MeSH": "Aorta tortuous mild,Atherosclerosis aorta mild",
         "Problems": "Aorta,Atherosclerosis",
         "findings": "Normal heart size. Mild unfolding and atherosclerotic calcification of the aorta. No focal air spac…",
         "impression": "No acute cardiopulmonary abnormalities",
         "filename": "3979_IM-2038-2001.dcm.png",
         "projection": "Lateral",
         "caption": "Normal heart size. Mild unfolding and atherosclerotic calcification of the aorta. No focal air spac…",
         "_deepnote_index_column": 7426
        },
        {
         "uid": 3980,
         "MeSH": "Cardiomegaly moderate,Pleural Effusion left small,Thickening pleura left,Opacity lung base bilatera…",
         "Problems": "Cardiomegaly,Pleural Effusion,Thickening,Opacity,Costophrenic Angle,Diaphragmatic Eventration",
         "findings": "Heart size moderately enlarged. Mild left costophrenic  blunting. Streaky and patchy bibasilar opac…",
         "impression": " Cardiomegaly and small left pleural effusion versus pleural thickening  Streaky and patchy bibasil…",
         "filename": "3980_IM-2039-1001.dcm.png",
         "projection": "Frontal",
         "caption": "Heart size moderately enlarged. Mild left costophrenic  blunting. Streaky and patchy bibasilar opac…",
         "_deepnote_index_column": 7427
        },
        {
         "uid": 3980,
         "MeSH": "Cardiomegaly moderate,Pleural Effusion left small,Thickening pleura left,Opacity lung base bilatera…",
         "Problems": "Cardiomegaly,Pleural Effusion,Thickening,Opacity,Costophrenic Angle,Diaphragmatic Eventration",
         "findings": "Heart size moderately enlarged. Mild left costophrenic  blunting. Streaky and patchy bibasilar opac…",
         "impression": " Cardiomegaly and small left pleural effusion versus pleural thickening  Streaky and patchy bibasil…",
         "filename": "3980_IM-2039-2001.dcm.png",
         "projection": "Lateral",
         "caption": "Heart size moderately enlarged. Mild left costophrenic  blunting. Streaky and patchy bibasilar opac…",
         "_deepnote_index_column": 7428
        },
        {
         "uid": 3981,
         "MeSH": "normal",
         "Problems": "normal",
         "findings": "The lungs are clear. There is no pleural effusion or pneumothorax. The heart and mediastinum are no…",
         "impression": "No acute pulmonary disease",
         "filename": "3981_IM-2039-1001.dcm.png",
         "projection": "Frontal",
         "caption": "The lungs are clear. There is no pleural effusion or pneumothorax. The heart and mediastinum are no…",
         "_deepnote_index_column": 7429
        },
        {
         "uid": 3981,
         "MeSH": "normal",
         "Problems": "normal",
         "findings": "The lungs are clear. There is no pleural effusion or pneumothorax. The heart and mediastinum are no…",
         "impression": "No acute pulmonary disease",
         "filename": "3981_IM-2039-2001.dcm.png",
         "projection": "Lateral",
         "caption": "The lungs are clear. There is no pleural effusion or pneumothorax. The heart and mediastinum are no…",
         "_deepnote_index_column": 7430
        },
        {
         "uid": 3982,
         "MeSH": "normal",
         "Problems": "normal",
         "findings": "Normal heart size. No focal airspace consolidation, pneumothorax, pleural effusion, or pulmonary ed…",
         "impression": "No acute cardiothoracic abnormality",
         "filename": "3982_IM-2039-1001.dcm.png",
         "projection": "Frontal",
         "caption": "Normal heart size. No focal airspace consolidation, pneumothorax, pleural effusion, or pulmonary ed…",
         "_deepnote_index_column": 7431
        },
        {
         "uid": 3982,
         "MeSH": "normal",
         "Problems": "normal",
         "findings": "Normal heart size. No focal airspace consolidation, pneumothorax, pleural effusion, or pulmonary ed…",
         "impression": "No acute cardiothoracic abnormality",
         "filename": "3982_IM-2039-2001.dcm.png",
         "projection": "Lateral",
         "caption": "Normal heart size. No focal airspace consolidation, pneumothorax, pleural effusion, or pulmonary ed…",
         "_deepnote_index_column": 7432
        },
        {
         "uid": 3983,
         "MeSH": "Opacity lung base left,Pulmonary Atelectasis base right",
         "Problems": "Opacity,Pulmonary Atelectasis",
         "findings": "There is a left basilar airspace opacity. Right basilar atelectasis. The heart size and mediastinal…",
         "impression": "There is a left basilar airspace opacity, which is concerning for pneumonia.  Right basilar atelect…",
         "filename": "3983_IM-2039-1001.dcm.png",
         "projection": "Frontal",
         "caption": "There is a left basilar airspace opacity. Right basilar atelectasis. The heart size and mediastinal…",
         "_deepnote_index_column": 7433
        },
        {
         "uid": 3983,
         "MeSH": "Opacity lung base left,Pulmonary Atelectasis base right",
         "Problems": "Opacity,Pulmonary Atelectasis",
         "findings": "There is a left basilar airspace opacity. Right basilar atelectasis. The heart size and mediastinal…",
         "impression": "There is a left basilar airspace opacity, which is concerning for pneumonia.  Right basilar atelect…",
         "filename": "3983_IM-2039-2001.dcm.png",
         "projection": "Lateral",
         "caption": "There is a left basilar airspace opacity. Right basilar atelectasis. The heart size and mediastinal…",
         "_deepnote_index_column": 7434
        },
        {
         "uid": 3984,
         "MeSH": "Aorta, Thoracic tortuous,Calcinosis lung hilum lymph nodes,Calcinosis mediastinum lymph nodes",
         "Problems": "Aorta, Thoracic,Calcinosis,Calcinosis",
         "findings": "The lungs appear clear. The thoracic aorta remains tortuous. The presence of an aortic aneurysm can…",
         "impression": " Stable tortuosity of the thoracic aorta. The presence of an underlying aneurysm cannot be excluded…",
         "filename": "3984_IM-2040-1001.dcm.png",
         "projection": "Frontal",
         "caption": "The lungs appear clear. The thoracic aorta remains tortuous. The presence of an aortic aneurysm can…",
         "_deepnote_index_column": 7435
        },
        {
         "uid": 3984,
         "MeSH": "Aorta, Thoracic tortuous,Calcinosis lung hilum lymph nodes,Calcinosis mediastinum lymph nodes",
         "Problems": "Aorta, Thoracic,Calcinosis,Calcinosis",
         "findings": "The lungs appear clear. The thoracic aorta remains tortuous. The presence of an aortic aneurysm can…",
         "impression": " Stable tortuosity of the thoracic aorta. The presence of an underlying aneurysm cannot be excluded…",
         "filename": "3984_IM-2040-3003.dcm.png",
         "projection": "Lateral",
         "caption": "The lungs appear clear. The thoracic aorta remains tortuous. The presence of an aortic aneurysm can…",
         "_deepnote_index_column": 7436
        },
        {
         "uid": 3985,
         "MeSH": "Calcified Granuloma lung lower lobe left anterior",
         "Problems": "Calcified Granuloma",
         "findings": "No pneumothorax, pleural effusion or airspace consolidation. Heart size and pulmonary vasculature a…",
         "impression": "No acute cardiopulmonary abnormality",
         "filename": "3985_IM-2041-1001.dcm.png",
         "projection": "Frontal",
         "caption": "No pneumothorax, pleural effusion or airspace consolidation. Heart size and pulmonary vasculature a…",
         "_deepnote_index_column": 7437
        },
        {
         "uid": 3985,
         "MeSH": "Calcified Granuloma lung lower lobe left anterior",
         "Problems": "Calcified Granuloma",
         "findings": "No pneumothorax, pleural effusion or airspace consolidation. Heart size and pulmonary vasculature a…",
         "impression": "No acute cardiopulmonary abnormality",
         "filename": "3985_IM-2041-2001.dcm.png",
         "projection": "Lateral",
         "caption": "No pneumothorax, pleural effusion or airspace consolidation. Heart size and pulmonary vasculature a…",
         "_deepnote_index_column": 7438
        },
        {
         "uid": 3986,
         "MeSH": "normal",
         "Problems": "normal",
         "findings": "The cardiomediastinal silhouette and vasculature arein normal limits for size and contour. The lung…",
         "impression": " No acute radiographic cardiopulmonary process",
         "filename": "3986_IM-2041-1001.dcm.png",
         "projection": "Frontal",
         "caption": "The cardiomediastinal silhouette and vasculature arein normal limits for size and contour. The lung…",
         "_deepnote_index_column": 7439
        },
        {
         "uid": 3986,
         "MeSH": "normal",
         "Problems": "normal",
         "findings": "The cardiomediastinal silhouette and vasculature arein normal limits for size and contour. The lung…",
         "impression": " No acute radiographic cardiopulmonary process",
         "filename": "3986_IM-2041-3001.dcm.png",
         "projection": "Frontal",
         "caption": "The cardiomediastinal silhouette and vasculature arein normal limits for size and contour. The lung…",
         "_deepnote_index_column": 7440
        },
        {
         "uid": 3986,
         "MeSH": "normal",
         "Problems": "normal",
         "findings": "The cardiomediastinal silhouette and vasculature arein normal limits for size and contour. The lung…",
         "impression": " No acute radiographic cardiopulmonary process",
         "filename": "3986_IM-2041-2001.dcm.png",
         "projection": "Lateral",
         "caption": "The cardiomediastinal silhouette and vasculature arein normal limits for size and contour. The lung…",
         "_deepnote_index_column": 7441
        },
        {
         "uid": 3987,
         "MeSH": "Thoracic Vertebrae scattered degenerative,Osteophyte thoracic vertebrae multiple",
         "Problems": "Thoracic Vertebrae,Osteophyte",
         "findings": "No acute osseous abnormality. Stable scattered endplate degenerative changes and osteophyte formati…",
         "impression": " No acute radiographic cardiopulmonary or osseous process",
         "filename": "3987_IM-2041-1001.dcm.png",
         "projection": "Frontal",
         "caption": "No acute osseous abnormality. Stable scattered endplate degenerative changes and osteophyte formati…",
         "_deepnote_index_column": 7442
        },
        {
         "uid": 3987,
         "MeSH": "Thoracic Vertebrae scattered degenerative,Osteophyte thoracic vertebrae multiple",
         "Problems": "Thoracic Vertebrae,Osteophyte",
         "findings": "No acute osseous abnormality. Stable scattered endplate degenerative changes and osteophyte formati…",
         "impression": " No acute radiographic cardiopulmonary or osseous process",
         "filename": "3987_IM-2041-2001.dcm.png",
         "projection": "Lateral",
         "caption": "No acute osseous abnormality. Stable scattered endplate degenerative changes and osteophyte formati…",
         "_deepnote_index_column": 7443
        },
        {
         "uid": 3988,
         "MeSH": "Opacity lung lingula streaky,Opacity lung base left streaky,Diaphragm left elevated,Calcified Granu…",
         "Problems": "Opacity,Opacity,Diaphragm,Calcified Granuloma",
         "findings": "No acute osseous abnormalities. Left midlung, and basilar streaky opacity. There is elevation of th…",
         "impression": "No acute osseous abnormalities. If continued clinical concern for rib fracture dedicated rib films …",
         "filename": "3988_IM-2041-1001.dcm.png",
         "projection": "Frontal",
         "caption": "No acute osseous abnormalities. Left midlung, and basilar streaky opacity. There is elevation of th…",
         "_deepnote_index_column": 7444
        },
        {
         "uid": 3988,
         "MeSH": "Opacity lung lingula streaky,Opacity lung base left streaky,Diaphragm left elevated,Calcified Granu…",
         "Problems": "Opacity,Opacity,Diaphragm,Calcified Granuloma",
         "findings": "No acute osseous abnormalities. Left midlung, and basilar streaky opacity. There is elevation of th…",
         "impression": "No acute osseous abnormalities. If continued clinical concern for rib fracture dedicated rib films …",
         "filename": "3988_IM-2041-2001.dcm.png",
         "projection": "Lateral",
         "caption": "No acute osseous abnormalities. Left midlung, and basilar streaky opacity. There is elevation of th…",
         "_deepnote_index_column": 7445
        },
        {
         "uid": 3989,
         "MeSH": "Diaphragmatic Eventration right",
         "Problems": "Diaphragmatic Eventration",
         "findings": "Heart sizein normal limits. Right hemidiaphragm eventration noted. No focal alveolar consolidation,…",
         "impression": "No acute cardiopulmonary findings",
         "filename": "3989_IM-2042-1001.dcm.png",
         "projection": "Frontal",
         "caption": "Heart sizein normal limits. Right hemidiaphragm eventration noted. No focal alveolar consolidation,…",
         "_deepnote_index_column": 7446
        },
        {
         "uid": 3989,
         "MeSH": "Diaphragmatic Eventration right",
         "Problems": "Diaphragmatic Eventration",
         "findings": "Heart sizein normal limits. Right hemidiaphragm eventration noted. No focal alveolar consolidation,…",
         "impression": "No acute cardiopulmonary findings",
         "filename": "3989_IM-2042-2001.dcm.png",
         "projection": "Lateral",
         "caption": "Heart sizein normal limits. Right hemidiaphragm eventration noted. No focal alveolar consolidation,…",
         "_deepnote_index_column": 7447
        },
        {
         "uid": 3991,
         "MeSH": "Spondylosis thoracic vertebrae",
         "Problems": "Spondylosis",
         "findings": "The cardiac contours are normal. The lungs are clear. Thoracic spondylosis",
         "impression": "No acute preoperative findings",
         "filename": "3991_IM-2044-1001.dcm.png",
         "projection": "Frontal",
         "caption": "The cardiac contours are normal. The lungs are clear. Thoracic spondylosis. No acute preoperative f…",
         "_deepnote_index_column": 7448
        },
        {
         "uid": 3991,
         "MeSH": "Spondylosis thoracic vertebrae",
         "Problems": "Spondylosis",
         "findings": "The cardiac contours are normal. The lungs are clear. Thoracic spondylosis",
         "impression": "No acute preoperative findings",
         "filename": "3991_IM-2044-2001.dcm.png",
         "projection": "Lateral",
         "caption": "The cardiac contours are normal. The lungs are clear. Thoracic spondylosis. No acute preoperative f…",
         "_deepnote_index_column": 7449
        },
        {
         "uid": 3992,
         "MeSH": "Pulmonary Congestion",
         "Problems": "Pulmonary Congestion",
         "findings": "no findings",
         "impression": "Prior sternotomy. Midline sternotomy. Normal heart size. Vascular congestion. No overt edema or lob…",
         "filename": "3992_IM-2044-1001.dcm.png",
         "projection": "Frontal",
         "caption": "Prior sternotomy. Midline sternotomy. Normal heart size. Vascular congestion. No overt edema or lob…",
         "_deepnote_index_column": 7450
        },
        {
         "uid": 3992,
         "MeSH": "Pulmonary Congestion",
         "Problems": "Pulmonary Congestion",
         "findings": "no findings",
         "impression": "Prior sternotomy. Midline sternotomy. Normal heart size. Vascular congestion. No overt edema or lob…",
         "filename": "3992_IM-2044-2001.dcm.png",
         "projection": "Lateral",
         "caption": "Prior sternotomy. Midline sternotomy. Normal heart size. Vascular congestion. No overt edema or lob…",
         "_deepnote_index_column": 7451
        },
        {
         "uid": 3993,
         "MeSH": "Cardiomegaly mild,Diaphragm left elevated",
         "Problems": "Cardiomegaly,Diaphragm",
         "findings": "The heart is mildly enlarged. Left hemidiaphragm is elevated. There is no acute infiltrate or pleur…",
         "impression": "Borderline cardiomegalyout acute disease",
         "filename": "3993_IM-2044-1001.dcm.png",
         "projection": "Frontal",
         "caption": "The heart is mildly enlarged. Left hemidiaphragm is elevated. There is no acute infiltrate or pleur…",
         "_deepnote_index_column": 7452
        },
        {
         "uid": 3993,
         "MeSH": "Cardiomegaly mild,Diaphragm left elevated",
         "Problems": "Cardiomegaly,Diaphragm",
         "findings": "The heart is mildly enlarged. Left hemidiaphragm is elevated. There is no acute infiltrate or pleur…",
         "impression": "Borderline cardiomegalyout acute disease",
         "filename": "3993_IM-2044-1002.dcm.png",
         "projection": "Lateral",
         "caption": "The heart is mildly enlarged. Left hemidiaphragm is elevated. There is no acute infiltrate or pleur…",
         "_deepnote_index_column": 7453
        },
        {
         "uid": 3994,
         "MeSH": "Cardiomegaly mild,Pulmonary Congestion,Heart Failure mild",
         "Problems": "Cardiomegaly,Pulmonary Congestion,Heart Failure",
         "findings": "Similar mild cardiomegaly. Of the pulmonary vascularity is prominent. No focal consolidations or ef…",
         "impression": "Mild cardiomegaly  of early failure",
         "filename": "3994_IM-2045-2001.dcm.png",
         "projection": "Frontal",
         "caption": "Similar mild cardiomegaly. Of the pulmonary vascularity is prominent. No focal consolidations or ef…",
         "_deepnote_index_column": 7454
        },
        {
         "uid": 3994,
         "MeSH": "Cardiomegaly mild,Pulmonary Congestion,Heart Failure mild",
         "Problems": "Cardiomegaly,Pulmonary Congestion,Heart Failure",
         "findings": "Similar mild cardiomegaly. Of the pulmonary vascularity is prominent. No focal consolidations or ef…",
         "impression": "Mild cardiomegaly  of early failure",
         "filename": "3994_IM-2045-1001.dcm.png",
         "projection": "Lateral",
         "caption": "Similar mild cardiomegaly. Of the pulmonary vascularity is prominent. No focal consolidations or ef…",
         "_deepnote_index_column": 7455
        },
        {
         "uid": 3995,
         "MeSH": "Lung hyperdistention mild,Diaphragm bilateral flattened,Cicatrix lung middle lobe right mild,Pulmon…",
         "Problems": "Lung,Diaphragm,Cicatrix,Pulmonary Atelectasis,Pulmonary Emphysema",
         "findings": "The cardiomediastinal silhouette and pulmonary vasculature arein normal limits in size. The lungs a…",
         "impression": " Interval resolution of bibasilar airspace disease.  Hyperinflation chronic changes of emphysema",
         "filename": "3995_IM-2046-1001.dcm.png",
         "projection": "Frontal",
         "caption": "The cardiomediastinal silhouette and pulmonary vasculature arein normal limits in size. The lungs a…",
         "_deepnote_index_column": 7456
        },
        {
         "uid": 3995,
         "MeSH": "Lung hyperdistention mild,Diaphragm bilateral flattened,Cicatrix lung middle lobe right mild,Pulmon…",
         "Problems": "Lung,Diaphragm,Cicatrix,Pulmonary Atelectasis,Pulmonary Emphysema",
         "findings": "The cardiomediastinal silhouette and pulmonary vasculature arein normal limits in size. The lungs a…",
         "impression": " Interval resolution of bibasilar airspace disease.  Hyperinflation chronic changes of emphysema",
         "filename": "3995_IM-2046-2001.dcm.png",
         "projection": "Lateral",
         "caption": "The cardiomediastinal silhouette and pulmonary vasculature arein normal limits in size. The lungs a…",
         "_deepnote_index_column": 7457
        },
        {
         "uid": 3996,
         "MeSH": "Spine degenerative",
         "Problems": "Spine",
         "findings": "The lungs are clear. Heart size is normal. No pneumothorax. There are endplate changes in the spine",
         "impression": "Clear lungs. No acute cardiopulmonary abnormality",
         "filename": "3996_IM-2047-1001.dcm.png",
         "projection": "Frontal",
         "caption": "The lungs are clear. Heart size is normal. No pneumothorax. There are endplate changes in the spine…",
         "_deepnote_index_column": 7458
        },
        {
         "uid": 3996,
         "MeSH": "Spine degenerative",
         "Problems": "Spine",
         "findings": "The lungs are clear. Heart size is normal. No pneumothorax. There are endplate changes in the spine",
         "impression": "Clear lungs. No acute cardiopulmonary abnormality",
         "filename": "3996_IM-2047-3001.dcm.png",
         "projection": "Lateral",
         "caption": "The lungs are clear. Heart size is normal. No pneumothorax. There are endplate changes in the spine…",
         "_deepnote_index_column": 7459
        },
        {
         "uid": 3997,
         "MeSH": "Opacity lung upper lobe right round small,Granuloma lung upper lobe right round small",
         "Problems": "Opacity,Granuloma",
         "findings": "Heart sizein normal limits. Small, nodular opacity in the right upper lobe. This does not look like…",
         "impression": "No acute findings, no evidence for active TB",
         "filename": "3997_IM-2048-1001.dcm.png",
         "projection": "Frontal",
         "caption": "Heart sizein normal limits. Small, nodular opacity in the right upper lobe. This does not look like…",
         "_deepnote_index_column": 7460
        },
        {
         "uid": 3997,
         "MeSH": "Opacity lung upper lobe right round small,Granuloma lung upper lobe right round small",
         "Problems": "Opacity,Granuloma",
         "findings": "Heart sizein normal limits. Small, nodular opacity in the right upper lobe. This does not look like…",
         "impression": "No acute findings, no evidence for active TB",
         "filename": "3997_IM-2048-1002.dcm.png",
         "projection": "Lateral",
         "caption": "Heart sizein normal limits. Small, nodular opacity in the right upper lobe. This does not look like…",
         "_deepnote_index_column": 7461
        },
        {
         "uid": 3998,
         "MeSH": "normal",
         "Problems": "normal",
         "findings": "no unusual findings",
         "impression": "Heart size is normal and the lungs are clear",
         "filename": "3998_IM-2048-1001.dcm.png",
         "projection": "Frontal",
         "caption": "Heart size is normal and the lungs are clear",
         "_deepnote_index_column": 7462
        },
        {
         "uid": 3998,
         "MeSH": "normal",
         "Problems": "normal",
         "findings": "no unusual findings",
         "impression": "Heart size is normal and the lungs are clear",
         "filename": "3998_IM-2048-1002.dcm.png",
         "projection": "Lateral",
         "caption": "Heart size is normal and the lungs are clear",
         "_deepnote_index_column": 7463
        },
        {
         "uid": 3999,
         "MeSH": "normal",
         "Problems": "normal",
         "findings": "no unusual findings",
         "impression": "The cardiac silhouette is normal in size and configuration. The mediastinum and perihilar structure…",
         "filename": "3999_IM-2049-1001.dcm.png",
         "projection": "Frontal",
         "caption": "The cardiac silhouette is normal in size and configuration. The mediastinum and perihilar structure…",
         "_deepnote_index_column": 7464
        },
        {
         "uid": 3999,
         "MeSH": "normal",
         "Problems": "normal",
         "findings": "no unusual findings",
         "impression": "The cardiac silhouette is normal in size and configuration. The mediastinum and perihilar structure…",
         "filename": "3999_IM-2049-2001.dcm.png",
         "projection": "Lateral",
         "caption": "The cardiac silhouette is normal in size and configuration. The mediastinum and perihilar structure…",
         "_deepnote_index_column": 7465
        }
       ]
      },
      "text/plain": "       uid                                               MeSH  \\\n0        1                                             normal   \n1        1                                             normal   \n2        2  Cardiomegaly borderline,Pulmonary Artery enlarged   \n3        2  Cardiomegaly borderline,Pulmonary Artery enlarged   \n4        3                                             normal   \n...    ...                                                ...   \n7461  3997  Opacity lung upper lobe right round small,Gran...   \n7462  3998                                             normal   \n7463  3998                                             normal   \n7464  3999                                             normal   \n7465  3999                                             normal   \n\n                           Problems  \\\n0                            normal   \n1                            normal   \n2     Cardiomegaly,Pulmonary Artery   \n3     Cardiomegaly,Pulmonary Artery   \n4                            normal   \n...                             ...   \n7461              Opacity,Granuloma   \n7462                         normal   \n7463                         normal   \n7464                         normal   \n7465                         normal   \n\n                                               findings  \\\n0     The cardiac silhouette and mediastinum size ar...   \n1     The cardiac silhouette and mediastinum size ar...   \n2     Borderline cardiomegaly. Midline sternotomy. E...   \n3     Borderline cardiomegaly. Midline sternotomy. E...   \n4                                   no unusual findings   \n...                                                 ...   \n7461  Heart sizein normal limits. Small, nodular opa...   \n7462                                no unusual findings   \n7463                                no unusual findings   \n7464                                no unusual findings   \n7465                                no unusual findings   \n\n                                             impression  \\\n0                                          Normal chest   \n1                                          Normal chest   \n2                           No acute pulmonary findings   \n3                           No acute pulmonary findings   \n4     No displaced rib fractures, pneumothorax, or p...   \n...                                                 ...   \n7461       No acute findings, no evidence for active TB   \n7462       Heart size is normal and the lungs are clear   \n7463       Heart size is normal and the lungs are clear   \n7464  The cardiac silhouette is normal in size and c...   \n7465  The cardiac silhouette is normal in size and c...   \n\n                       filename projection  \\\n0        1_IM-0001-4001.dcm.png    Frontal   \n1        1_IM-0001-3001.dcm.png    Lateral   \n2        2_IM-0652-1001.dcm.png    Frontal   \n3        2_IM-0652-2001.dcm.png    Lateral   \n4        3_IM-1384-1001.dcm.png    Frontal   \n...                         ...        ...   \n7461  3997_IM-2048-1002.dcm.png    Lateral   \n7462  3998_IM-2048-1001.dcm.png    Frontal   \n7463  3998_IM-2048-1002.dcm.png    Lateral   \n7464  3999_IM-2049-1001.dcm.png    Frontal   \n7465  3999_IM-2049-2001.dcm.png    Lateral   \n\n                                                caption  \n0     The cardiac silhouette and mediastinum size ar...  \n1     The cardiac silhouette and mediastinum size ar...  \n2     Borderline cardiomegaly. Midline sternotomy. E...  \n3     Borderline cardiomegaly. Midline sternotomy. E...  \n4     No displaced rib fractures, pneumothorax, or p...  \n...                                                 ...  \n7461  Heart sizein normal limits. Small, nodular opa...  \n7462       Heart size is normal and the lungs are clear  \n7463       Heart size is normal and the lungs are clear  \n7464  The cardiac silhouette is normal in size and c...  \n7465  The cardiac silhouette is normal in size and c...  \n\n[7426 rows x 8 columns]",
      "text/html": "<div>\n<style scoped>\n    .dataframe tbody tr th:only-of-type {\n        vertical-align: middle;\n    }\n\n    .dataframe tbody tr th {\n        vertical-align: top;\n    }\n\n    .dataframe thead th {\n        text-align: right;\n    }\n</style>\n<table border=\"1\" class=\"dataframe\">\n  <thead>\n    <tr style=\"text-align: right;\">\n      <th></th>\n      <th>uid</th>\n      <th>MeSH</th>\n      <th>Problems</th>\n      <th>findings</th>\n      <th>impression</th>\n      <th>filename</th>\n      <th>projection</th>\n      <th>caption</th>\n    </tr>\n  </thead>\n  <tbody>\n    <tr>\n      <th>0</th>\n      <td>1</td>\n      <td>normal</td>\n      <td>normal</td>\n      <td>The cardiac silhouette and mediastinum size ar...</td>\n      <td>Normal chest</td>\n      <td>1_IM-0001-4001.dcm.png</td>\n      <td>Frontal</td>\n      <td>The cardiac silhouette and mediastinum size ar...</td>\n    </tr>\n    <tr>\n      <th>1</th>\n      <td>1</td>\n      <td>normal</td>\n      <td>normal</td>\n      <td>The cardiac silhouette and mediastinum size ar...</td>\n      <td>Normal chest</td>\n      <td>1_IM-0001-3001.dcm.png</td>\n      <td>Lateral</td>\n      <td>The cardiac silhouette and mediastinum size ar...</td>\n    </tr>\n    <tr>\n      <th>2</th>\n      <td>2</td>\n      <td>Cardiomegaly borderline,Pulmonary Artery enlarged</td>\n      <td>Cardiomegaly,Pulmonary Artery</td>\n      <td>Borderline cardiomegaly. Midline sternotomy. E...</td>\n      <td>No acute pulmonary findings</td>\n      <td>2_IM-0652-1001.dcm.png</td>\n      <td>Frontal</td>\n      <td>Borderline cardiomegaly. Midline sternotomy. E...</td>\n    </tr>\n    <tr>\n      <th>3</th>\n      <td>2</td>\n      <td>Cardiomegaly borderline,Pulmonary Artery enlarged</td>\n      <td>Cardiomegaly,Pulmonary Artery</td>\n      <td>Borderline cardiomegaly. Midline sternotomy. E...</td>\n      <td>No acute pulmonary findings</td>\n      <td>2_IM-0652-2001.dcm.png</td>\n      <td>Lateral</td>\n      <td>Borderline cardiomegaly. Midline sternotomy. E...</td>\n    </tr>\n    <tr>\n      <th>4</th>\n      <td>3</td>\n      <td>normal</td>\n      <td>normal</td>\n      <td>no unusual findings</td>\n      <td>No displaced rib fractures, pneumothorax, or p...</td>\n      <td>3_IM-1384-1001.dcm.png</td>\n      <td>Frontal</td>\n      <td>No displaced rib fractures, pneumothorax, or p...</td>\n    </tr>\n    <tr>\n      <th>...</th>\n      <td>...</td>\n      <td>...</td>\n      <td>...</td>\n      <td>...</td>\n      <td>...</td>\n      <td>...</td>\n      <td>...</td>\n      <td>...</td>\n    </tr>\n    <tr>\n      <th>7461</th>\n      <td>3997</td>\n      <td>Opacity lung upper lobe right round small,Gran...</td>\n      <td>Opacity,Granuloma</td>\n      <td>Heart sizein normal limits. Small, nodular opa...</td>\n      <td>No acute findings, no evidence for active TB</td>\n      <td>3997_IM-2048-1002.dcm.png</td>\n      <td>Lateral</td>\n      <td>Heart sizein normal limits. Small, nodular opa...</td>\n    </tr>\n    <tr>\n      <th>7462</th>\n      <td>3998</td>\n      <td>normal</td>\n      <td>normal</td>\n      <td>no unusual findings</td>\n      <td>Heart size is normal and the lungs are clear</td>\n      <td>3998_IM-2048-1001.dcm.png</td>\n      <td>Frontal</td>\n      <td>Heart size is normal and the lungs are clear</td>\n    </tr>\n    <tr>\n      <th>7463</th>\n      <td>3998</td>\n      <td>normal</td>\n      <td>normal</td>\n      <td>no unusual findings</td>\n      <td>Heart size is normal and the lungs are clear</td>\n      <td>3998_IM-2048-1002.dcm.png</td>\n      <td>Lateral</td>\n      <td>Heart size is normal and the lungs are clear</td>\n    </tr>\n    <tr>\n      <th>7464</th>\n      <td>3999</td>\n      <td>normal</td>\n      <td>normal</td>\n      <td>no unusual findings</td>\n      <td>The cardiac silhouette is normal in size and c...</td>\n      <td>3999_IM-2049-1001.dcm.png</td>\n      <td>Frontal</td>\n      <td>The cardiac silhouette is normal in size and c...</td>\n    </tr>\n    <tr>\n      <th>7465</th>\n      <td>3999</td>\n      <td>normal</td>\n      <td>normal</td>\n      <td>no unusual findings</td>\n      <td>The cardiac silhouette is normal in size and c...</td>\n      <td>3999_IM-2049-2001.dcm.png</td>\n      <td>Lateral</td>\n      <td>The cardiac silhouette is normal in size and c...</td>\n    </tr>\n  </tbody>\n</table>\n<p>7426 rows × 8 columns</p>\n</div>"
     },
     "metadata": {}
    }
   ]
  },
  {
   "cell_type": "markdown",
   "source": "### Additional text cleaning\n- Case folding\n- Fixing unicode\n- Replace contractions, etc.",
   "metadata": {
    "tags": [],
    "cell_id": "00025-bc112c24-435e-44bb-a02a-5fefaf0344da",
    "deepnote_cell_type": "markdown"
   }
  },
  {
   "cell_type": "code",
   "metadata": {
    "tags": [],
    "cell_id": "00022-7a7556de-0308-4a86-9fb7-2ca54b44a790",
    "deepnote_to_be_reexecuted": false,
    "source_hash": "a95d7dcc",
    "execution_start": 1636047328423,
    "execution_millis": 4,
    "deepnote_cell_type": "code"
   },
   "source": "#Get all punctuations except fullstop \npunct_with_fullstop = string.punctuation.replace('.','')\n\ndef clean_text(text,clean_all=True, clean_with_clean_txt=False, clean_punc=False, \n               clean_contractions = False):\n    \n    \"\"\"\n    Function to clean text leveraging the cleantext, string and contractions packages\n    \n    Input:\n        - text (str): Uncleaned tweet\n        - clean_all (bool): Perform all cleaning operations\n        - clean_with_clean_txt (bool): Perform cleaning with clean-text package\n        - clean_punc (bool): Remove punctuations except fullstop\n        - clean_contractions (bool): Replace contractions with their full words\n        \n    Output:\n        - cleaned_text (str): Cleaned tweet\n    \"\"\"\n\n    #Perform all cleaning operations\n    if clean_all:\n        clean_with_clean_txt = True\n        clean_punc = True\n        clean_contractions = True\n\n    #Use clean-text package to fix unicode, case fold, etc.\n    if clean_with_clean_txt:\n        cleaned_text=clean(text,\n                        fix_unicode=True, # fix various unicode errors\n                        to_ascii=True,    # transliterate to closest ASCII representation\n                        lower=True,       # lowercase text\n                        no_line_breaks=True, # fully strip line breaks\n                        no_urls=True,      # replace all URLs with ''\n                        no_emails=True,   # replace all email addresses with ''\n                        no_phone_numbers=True, # replace all phone numbers with ''\n                        no_currency_symbols= True, # replace all currency symbols with ''\n                        )\n    \n    if clean_punc:\n        #Remove punctuations except fullstop\n        #We don't removed fullstop because it helps separate sentences\n        cleaned_text = cleaned_text.translate(str.maketrans('', '', punct_with_fullstop))\n\n\n    if clean_contractions:\n        #Replace contractions with full words\n        cleaned_text = contractions.fix(cleaned_text)\n\n    \n    return cleaned_text",
   "execution_count": 42,
   "outputs": []
  },
  {
   "cell_type": "code",
   "metadata": {
    "tags": [],
    "cell_id": "00023-8362820f-0512-4a2f-af59-d2fb9b5b81e2",
    "deepnote_to_be_reexecuted": false,
    "source_hash": "ae3c636d",
    "execution_start": 1636047334334,
    "execution_millis": 31733,
    "deepnote_cell_type": "code"
   },
   "source": "#Perform full clean on findings,impression, and captions column using the function above\nfor col in ['findings','impression','caption']:\n    data_dropped_nans[col] = data_dropped_nans[col].apply(clean_text)\n\n#Partial cleaning on MeSH and Problem\nfor col in ['MeSH','Problems']:\n    data_dropped_nans[col] = data_dropped_nans[col].apply(clean_text, args=(False,True,False,True))",
   "execution_count": 43,
   "outputs": [
    {
     "name": "stderr",
     "text": "/shared-libs/python3.7/py-core/lib/python3.7/site-packages/ipykernel_launcher.py:3: SettingWithCopyWarning: \nA value is trying to be set on a copy of a slice from a DataFrame.\nTry using .loc[row_indexer,col_indexer] = value instead\n\nSee the caveats in the documentation: https://pandas.pydata.org/pandas-docs/stable/user_guide/indexing.html#returning-a-view-versus-a-copy\n  This is separate from the ipykernel package so we can avoid doing imports until\n/shared-libs/python3.7/py-core/lib/python3.7/site-packages/ipykernel_launcher.py:7: SettingWithCopyWarning: \nA value is trying to be set on a copy of a slice from a DataFrame.\nTry using .loc[row_indexer,col_indexer] = value instead\n\nSee the caveats in the documentation: https://pandas.pydata.org/pandas-docs/stable/user_guide/indexing.html#returning-a-view-versus-a-copy\n  import sys\n",
     "output_type": "stream"
    }
   ]
  },
  {
   "cell_type": "code",
   "metadata": {
    "tags": [],
    "cell_id": "00029-93512a84-ddb5-4148-ad4f-2289e3d07c68",
    "deepnote_to_be_reexecuted": false,
    "source_hash": "3b4f6952",
    "execution_start": 1636047369110,
    "execution_millis": 44,
    "deepnote_cell_type": "code"
   },
   "source": "for col in ['MeSH','Problems','findings','impression','caption']:\n    print(col.capitalize())\n    print('------------------')\n    for idx,txt in enumerate(data_dropped_nans[col].sample(5)):\n        print(str(idx+1)+')',txt)\n    print('\\n')",
   "execution_count": 44,
   "outputs": [
    {
     "name": "stdout",
     "text": "Mesh\n------------------\n1) lung hypoinflation,markings bronchovascular,thoracic vertebrae degenerative mild\n2) normal\n3) cardiac shadow enlarged,lung hypoinflation,opacity lung base bilateral,pulmonary atelectasis base bilateral\n4) normal\n5) lung bilateral hyperdistention\n\n\nProblems\n------------------\n1) lung,calcinosis,calcinosis,arthritis,granulomatous disease,pulmonary disease, chronic obstructive\n2) aorta,granulomatous disease,osteophyte\n3) normal\n4) normal\n5) lung,aorta, thoracic,surgical instruments\n\n\nFindings\n------------------\n1) no findings\n2) the heart and lungs have in the interval. both lungs are clear and expanded. heart and mediastinum normal\n3) lungs are clear bilaterally. cardiac and mediastinal silhouettes are normal. pulmonary vasculature is normal. no pneumothorax or pleural effusion. no acute bony abnormality\n4) the heart and mediastinum are normal. the lungs are clear. there is mild blunting of the right costophrenic. there is no infiltrate mass or pneumothorax. the right internal jugular catheter has been removed\n5) the heart and lungs have in the interval. both lungs are clear and expanded. heart and mediastinum normal\n\n\nImpression\n------------------\n1) negative for acute cardiopulmonary findings\n2) large left hydropneumothorax complete collapse of the left lung. airspace and interstitial opacityin the right upper and lower lobes. possible apical cavitation. tuberculosis should be excluded clinically\n3) no acute disease\n4) there is no radiographic evidence of acute cardiopulmonary disease\n5) no acute pulmonary findings\n\n\nCaption\n------------------\n1) lungs are clear. no pleural effusions or pneumothoraces. heart and mediastinum of normal size and contour. degenerative changes in the spine. no focal lung opacity pleural effusion of pneumothorax\n2) heart size is normal and lungs are clear. no evidence of tuberculosis\n3) the lungs are clear bilaterally. specifically no evidence of focal consolidation pneumothorax or pleural effusion.. cardio mediastinal suggests possible right versus dextrocardia. visualized osseous structures of the thorax areout acute abnormality. no acute cardiopulmonary abnormality.. abnormal configuration of the heart and mediastinum suggestive of right aortic versus dextrocardia\n4) low lung volumes. bibasilar atelectasis versus scarring. stable left abdominal surgical clips. the heart size and mediastinal silhouette arein normal limits for contour. no pneumothorax or pleural effusions. the. low lung volumes. bibasilar atelectasis versus scarring\n5) the heart size and pulmonary vascularity appearin normal limits. lungs are free of focal airspace disease. no pleural effusion or pneumothorax is seen. foreign body is noted in the soft tissues of the left chest wall. no evidence of active disease\n\n\n",
     "output_type": "stream"
    }
   ]
  },
  {
   "cell_type": "markdown",
   "source": "### Split Dataset into Frontal and Lateral, and Train and Test",
   "metadata": {
    "tags": [],
    "cell_id": "00027-703564b3-a2ea-40c3-900c-505d643c51de",
    "deepnote_cell_type": "markdown"
   }
  },
  {
   "cell_type": "code",
   "metadata": {
    "tags": [],
    "cell_id": "00018-22048409-c104-424c-8008-06d07a75e301",
    "deepnote_to_be_reexecuted": false,
    "source_hash": "d711778d",
    "execution_start": 1636046918509,
    "execution_millis": 4,
    "deepnote_cell_type": "code"
   },
   "source": "# Split into frontal and lateral datasets\nfrontal_df = data_dropped_nans.query(\"projection == 'Frontal' \")\nlateral_df = data_dropped_nans.query(\"projection == 'Lateral' \")\n\nprint(frontal_df.shape[0], lateral_df.shape[0])",
   "execution_count": 20,
   "outputs": [
    {
     "name": "stdout",
     "text": "3794 3632\n",
     "output_type": "stream"
    }
   ]
  },
  {
   "cell_type": "code",
   "metadata": {
    "tags": [],
    "cell_id": "00016-20b1c51e-5954-4e3b-806d-be1a1ec7392b",
    "deepnote_to_be_reexecuted": false,
    "source_hash": "cc0301cc",
    "execution_start": 1636046921268,
    "execution_millis": 5,
    "deepnote_cell_type": "code"
   },
   "source": "#Split into train and test set for frontal dataset\nfrontal_train,frontal_test = train_test_split(frontal_df, test_size=0.25, random_state=42, shuffle=True)\n\n#Split into train and test set for lateral dataset\nlateral_train,lateral_test = train_test_split(lateral_df, test_size=0.25, random_state=1, shuffle=True)\n\nprint('frontal train size:',frontal_train.shape[0], 'frontal test size:',frontal_test.shape[0])\nprint('lateral train size:',lateral_train.shape[0], 'lateral test size:',lateral_test.shape[0])",
   "execution_count": 21,
   "outputs": [
    {
     "name": "stdout",
     "text": "frontal train size: 2845 frontal test size: 949\nlateral train size: 2724 lateral test size: 908\n",
     "output_type": "stream"
    }
   ]
  },
  {
   "cell_type": "markdown",
   "source": "### Write dataframes to CSV files",
   "metadata": {
    "tags": [],
    "cell_id": "00030-286dc6d8-0fad-4612-905e-5c032cc24257",
    "deepnote_cell_type": "markdown"
   }
  },
  {
   "cell_type": "code",
   "metadata": {
    "tags": [],
    "cell_id": "00013-371b7d6a-1ddb-402d-8842-9ba3c1240be8",
    "deepnote_to_be_reexecuted": false,
    "source_hash": "2df031b1",
    "execution_start": 1636046928632,
    "execution_millis": 340,
    "deepnote_cell_type": "code"
   },
   "source": "#Write full cleaned dataset to CSV\ndata_dropped_nans.to_csv('../data/interim/full_cleaned_data.csv', index=False)\n\n#Write full frontal and laterals datasets to csv\nfrontal_df.to_csv('../data/interim/full_frontal.csv', index=False)\nlateral_df.to_csv('../data/interim/full_lateral.csv', index=False)\n\n#Write train datasets to CSV\nfrontal_train.to_csv('../data/train/frontal_train.csv', index=False)\nlateral_train.to_csv('../data/train/lateral_train.csv', index=False)\n\n#Write test datasets to csv\nfrontal_test.to_csv('../data/test/frontal_test.csv', index=False)\nlateral_test.to_csv('../data/test/lateral_test.csv', index=False)\n\n",
   "execution_count": 22,
   "outputs": []
  },
  {
   "cell_type": "markdown",
   "source": "#### Goals for Exploration:\n- Explore the relevancy of comparison in generating our captions. Should we remove this column? Does comparison compare across UIDs or only in the same UID? None and NaN are the same, so 37% of the data is null values. Maybe we should drop, but anything you can output to make us certain of this decision would be helpful, @Korede.\n- Are there any other columns that we can drop?\n- What should we do with the XXXX's? Particularly in the caption column?\n- What are right dimensions for the images, will PCA be necessary (or relevant/valuable)?\n- Data Exploration on findings. What are most common words (wordcloud? most common phrases etc.). This can be done for different columns (e.g. Indication, Findings/Impressions)\n- Think about incorporating and therefore streamlining synonyms to technical words. \n- Can you identify any features that we should engineer from your analysis?\n- Decontraction you may want to take a look at this, it can help improve the results?",
   "metadata": {
    "tags": [],
    "cell_id": "00016-92717970-50dd-4660-98c9-a276960011d6",
    "deepnote_cell_type": "markdown"
   }
  },
  {
   "cell_type": "markdown",
   "source": "### Data Exploration & Feature Engineering",
   "metadata": {
    "tags": [],
    "cell_id": "00005-3cc12843-46a1-407f-8f24-63ba345f1c86",
    "deepnote_cell_type": "markdown"
   }
  },
  {
   "cell_type": "markdown",
   "source": "Hi this is Albion, I am doing some basic data exploration",
   "metadata": {
    "tags": [],
    "cell_id": "00038-abc6f42b-7eb3-4aaf-b6ca-b6e0def65d27",
    "deepnote_cell_type": "markdown"
   }
  },
  {
   "cell_type": "code",
   "metadata": {
    "tags": [],
    "cell_id": "00038-46bad0d9-132f-4cd2-85b1-b2d3c08ef3a9",
    "deepnote_to_be_reexecuted": false,
    "source_hash": "72359864",
    "execution_start": 1636044923162,
    "execution_millis": 4,
    "deepnote_cell_type": "code"
   },
   "source": "print(\"The number of images in the dataset\", len(data_dropped_nans))\nprint(\"The number of reports in the dataset\", data_dropped_nans['uid'].nunique())",
   "outputs": [
    {
     "name": "stdout",
     "text": "The number of images in the dataset 7426\nThe number of reports in the dataset 3826\n",
     "output_type": "stream"
    }
   ],
   "execution_count": null
  },
  {
   "cell_type": "markdown",
   "source": "According to the observation above, some reports have more than image associated with them.",
   "metadata": {
    "tags": [],
    "cell_id": "00038-427e144f-49c0-4d96-9f0d-1eb0166deb88",
    "deepnote_cell_type": "markdown"
   }
  },
  {
   "cell_type": "code",
   "metadata": {
    "tags": [],
    "cell_id": "00038-e141629b-8f20-46e3-b0b1-2c048f9fe304",
    "deepnote_to_be_reexecuted": false,
    "source_hash": "8dbba894",
    "execution_start": 1636044940114,
    "execution_millis": 263,
    "deepnote_cell_type": "code"
   },
   "source": "img_count = list(data_dropped_nans.uid.value_counts())\n\nprint(\"Images per patient :\\n\")\nprint(pd.Series(img_count).value_counts())\n\n\nplt.figure(figsize = (6,5))\npd.Series(img_count).plot(kind='hist')\nplt.xlabel('Number of images associated with report')\nplt.ylabel(\"Frequency of images associated with report\")\nplt.show()",
   "outputs": [
    {
     "name": "stdout",
     "text": "Images per patient :\n\n2    3197\n1     435\n3     180\n4      13\n5       1\ndtype: int64\n",
     "output_type": "stream"
    },
    {
     "data": {
      "text/plain": "<Figure size 432x360 with 1 Axes>",
      "image/png": "[encoded data removed]"
     },
     "metadata": {
      "needs_background": "light",
      "image/png": {
       "width": 395,
       "height": 317
      }
     },
     "output_type": "display_data"
    }
   ],
   "execution_count": null
  },
  {
   "cell_type": "code",
   "source": "def show_image_captions(df, patient_nr):\n    new_df = data_dropped_nans[data_dropped_nans[\"uid\"] == patient_nr]\n    print(\"Findings :\",df['findings'][patient_nr])\n    print(\"Impressions :\",df['impression'][patient_nr])\n    print(\"Caption :\",df['caption'][patient_nr])\n    \n    root_dir = '/datasets/gdrive/XRay-AKAKI/images_normalized/'\n    fig, axs = plt.subplots(1, len(new_df), figsize = (10,10), tight_layout=True)\n\n    for i in range(len(new_df)):\n        if new_df['filename'].iloc[i][:len(str(patient_nr))] == str(patient_nr):\n            img_id = new_df['filename'].iloc[i]\n            img_path = root_dir + img_id\n            image = Image.open(img_path)\n            imgplot = axs[i].imshow(image)\n\n    plt.show()",
   "metadata": {
    "tags": [],
    "cell_id": "00052-eb622704-1bec-40a2-8585-8df86569dea9",
    "deepnote_to_be_reexecuted": false,
    "source_hash": "d155d1fd",
    "execution_start": 1636044946647,
    "execution_millis": 4,
    "deepnote_cell_type": "code"
   },
   "outputs": [],
   "execution_count": null
  },
  {
   "cell_type": "code",
   "source": "show_image_captions(data_dropped_nans, 1)",
   "metadata": {
    "tags": [],
    "cell_id": "00053-504ccc02-5d3e-4985-b1c3-2e5148ce11ca",
    "deepnote_to_be_reexecuted": false,
    "source_hash": "da95636f",
    "execution_start": 1636044952794,
    "execution_millis": 1643,
    "deepnote_cell_type": "code"
   },
   "outputs": [
    {
     "name": "stdout",
     "text": "Findings : the cardiac silhouette and mediastinum size arein normal limits. there is no pulmonary edema. there is no focal consolidation. there are no of a pleural effusion. there is no evidence of pneumothorax\nImpressions : normal chest\nCaption : the cardiac silhouette and mediastinum size arein normal limits. there is no pulmonary edema. there is no focal consolidation. there are no of a pleural effusion. there is no evidence of pneumothorax. normal chest\n",
     "output_type": "stream"
    },
    {
     "data": {
      "text/plain": "<Figure size 720x720 with 2 Axes>",
      "image/png": "[encoded data removed]"
     },
     "metadata": {
      "needs_background": "light",
      "image/png": {
       "width": 711,
       "height": 410
      }
     },
     "output_type": "display_data"
    }
   ],
   "execution_count": null
  },
  {
   "cell_type": "code",
   "source": "show_image_captions(data_dropped_nans, 1000)",
   "metadata": {
    "tags": [],
    "cell_id": "00053-c9d8c5ae-f379-456f-8256-a7b59578f07c",
    "deepnote_to_be_reexecuted": false,
    "source_hash": "7381bb8b",
    "execution_start": 1636044962076,
    "execution_millis": 2258,
    "deepnote_cell_type": "code"
   },
   "outputs": [
    {
     "name": "stdout",
     "text": "Findings : there is scattered calcified granulomas. the lungs are otherwise grossly clear. cardiac and mediastinal silhouettes are normal. pulmonary vasculature is normal. no pneumothorax or pleural effusion. no acute bony abnormality\nImpressions : no acute cardiopulmonary abnormality\nCaption : there is scattered calcified granulomas. the lungs are otherwise grossly clear. cardiac and mediastinal silhouettes are normal. pulmonary vasculature is normal. no pneumothorax or pleural effusion. no acute bony abnormality. no acute cardiopulmonary abnormality\n",
     "output_type": "stream"
    },
    {
     "data": {
      "text/plain": "<Figure size 720x720 with 3 Axes>",
      "image/png": "[encoded data removed]"
     },
     "metadata": {
      "needs_background": "light",
      "image/png": {
       "width": 712,
       "height": 260
      }
     },
     "output_type": "display_data"
    }
   ],
   "execution_count": null
  },
  {
   "cell_type": "code",
   "metadata": {
    "tags": [],
    "cell_id": "00047-0d0fde32-3887-4838-ae5c-067081dcf5a6",
    "deepnote_to_be_reexecuted": false,
    "source_hash": "797ed5c8",
    "execution_start": 1636045022511,
    "execution_millis": 1,
    "deepnote_cell_type": "code"
   },
   "source": "def load_image(image_path):\n    img = tf.io.read_file(image_path)\n    img = tf.image.decode_jpeg(img, channels=3)\n    img = tf.image.resize(img, (299, 299))\n    img = tf.keras.applications.inception_v3.preprocess_input(img)\n    return img, image_path",
   "outputs": [],
   "execution_count": null
  },
  {
   "cell_type": "code",
   "source": "import tensorflow as tf\n\n\nimage_model = tf.keras.applications.InceptionV3(include_top=False,\n                                                weights='imagenet')\nnew_input = image_model.input\nhidden_layer = image_model.layers[-1].output\n\nimage_features_extract_model = tf.keras.Model(new_input, hidden_layer)\n",
   "metadata": {
    "tags": [],
    "cell_id": "00046-0b2202e5-8ef6-4003-9342-bde3989e02cf",
    "deepnote_to_be_reexecuted": false,
    "source_hash": "43f8c78e",
    "execution_start": 1636045054138,
    "execution_millis": 7433,
    "deepnote_cell_type": "code"
   },
   "outputs": [
    {
     "name": "stdout",
     "text": "Downloading data from https://storage.googleapis.com/tensorflow/keras-applications/inception_v3/inception_v3_weights_tf_dim_ordering_tf_kernels_notop.h5\n87916544/87910968 [==============================] - 1s 0us/step\n",
     "output_type": "stream"
    }
   ],
   "execution_count": null
  },
  {
   "cell_type": "code",
   "source": "from tqdm import tqdm\nimport numpy as np",
   "metadata": {
    "tags": [],
    "cell_id": "00047-cf63fd25-a356-421f-a503-2b05335c90b6",
    "deepnote_to_be_reexecuted": false,
    "source_hash": "8388633c",
    "execution_start": 1636045168877,
    "execution_millis": 14,
    "deepnote_cell_type": "code"
   },
   "outputs": [],
   "execution_count": null
  },
  {
   "cell_type": "code",
   "source": "# Get unique images\nencode_train = sorted(set(images_file_names))\n\n# Feel free to change batch_size according to your system configuration\nimage_dataset = tf.data.Dataset.from_tensor_slices(encode_train)\nimage_dataset = image_dataset.map(\n  load_image, num_parallel_calls=tf.data.AUTOTUNE).batch(16)",
   "metadata": {
    "tags": [],
    "cell_id": "00047-7acad098-9b30-4104-b1fd-abe22b0ed8f6",
    "deepnote_to_be_reexecuted": false,
    "source_hash": "f33de8bb",
    "execution_start": 1636045279766,
    "execution_millis": 510,
    "deepnote_cell_type": "code"
   },
   "outputs": [],
   "execution_count": null
  },
  {
   "cell_type": "code",
   "source": "for img, path in image_dataset:\n  batch_features = image_features_extract_model(img)\n  batch_features = tf.reshape(batch_features,\n                              (batch_features.shape[0], -1, batch_features.shape[3]))\n\n  for bf, p in zip(batch_features, path):\n    path_of_feature = p.numpy().decode(\"utf-8\")\n    np.save(path_of_feature, bf.numpy())",
   "metadata": {
    "tags": [],
    "cell_id": "00050-44044960-4f95-4aee-8ca8-690a9a83e339",
    "deepnote_to_be_reexecuted": false,
    "source_hash": "f253056b",
    "execution_start": 1636045320450,
    "execution_millis": 532948,
    "deepnote_cell_type": "code"
   },
   "outputs": [
    {
     "output_type": "error",
     "ename": "FileNotFoundError",
     "evalue": "[Errno 2] No such file or directory: '/datasets/gdrive/XRay-AKAKI/images_normalized/1109_IM-0076-1001.dcm.png.npy'",
     "traceback": [
      "\u001b[0;31m---------------------------------------------------------------------------\u001b[0m",
      "\u001b[0;31mFileNotFoundError\u001b[0m                         Traceback (most recent call last)",
      "\u001b[0;32m<ipython-input-104-14fee9445fbc>\u001b[0m in \u001b[0;36m<module>\u001b[0;34m\u001b[0m\n\u001b[1;32m      6\u001b[0m   \u001b[0;32mfor\u001b[0m \u001b[0mbf\u001b[0m\u001b[0;34m,\u001b[0m \u001b[0mp\u001b[0m \u001b[0;32min\u001b[0m \u001b[0mzip\u001b[0m\u001b[0;34m(\u001b[0m\u001b[0mbatch_features\u001b[0m\u001b[0;34m,\u001b[0m \u001b[0mpath\u001b[0m\u001b[0;34m)\u001b[0m\u001b[0;34m:\u001b[0m\u001b[0;34m\u001b[0m\u001b[0;34m\u001b[0m\u001b[0m\n\u001b[1;32m      7\u001b[0m     \u001b[0mpath_of_feature\u001b[0m \u001b[0;34m=\u001b[0m \u001b[0mp\u001b[0m\u001b[0;34m.\u001b[0m\u001b[0mnumpy\u001b[0m\u001b[0;34m(\u001b[0m\u001b[0;34m)\u001b[0m\u001b[0;34m.\u001b[0m\u001b[0mdecode\u001b[0m\u001b[0;34m(\u001b[0m\u001b[0;34m\"utf-8\"\u001b[0m\u001b[0;34m)\u001b[0m\u001b[0;34m\u001b[0m\u001b[0;34m\u001b[0m\u001b[0m\n\u001b[0;32m----> 8\u001b[0;31m     \u001b[0mnp\u001b[0m\u001b[0;34m.\u001b[0m\u001b[0msave\u001b[0m\u001b[0;34m(\u001b[0m\u001b[0mpath_of_feature\u001b[0m\u001b[0;34m,\u001b[0m \u001b[0mbf\u001b[0m\u001b[0;34m.\u001b[0m\u001b[0mnumpy\u001b[0m\u001b[0;34m(\u001b[0m\u001b[0;34m)\u001b[0m\u001b[0;34m)\u001b[0m\u001b[0;34m\u001b[0m\u001b[0;34m\u001b[0m\u001b[0m\n\u001b[0m",
      "\u001b[0;32m<__array_function__ internals>\u001b[0m in \u001b[0;36msave\u001b[0;34m(*args, **kwargs)\u001b[0m\n",
      "\u001b[0;32m/shared-libs/python3.7/py/lib/python3.7/site-packages/numpy/lib/npyio.py\u001b[0m in \u001b[0;36msave\u001b[0;34m(file, arr, allow_pickle, fix_imports)\u001b[0m\n\u001b[1;32m    522\u001b[0m         \u001b[0;32mif\u001b[0m \u001b[0;32mnot\u001b[0m \u001b[0mfile\u001b[0m\u001b[0;34m.\u001b[0m\u001b[0mendswith\u001b[0m\u001b[0;34m(\u001b[0m\u001b[0;34m'.npy'\u001b[0m\u001b[0;34m)\u001b[0m\u001b[0;34m:\u001b[0m\u001b[0;34m\u001b[0m\u001b[0;34m\u001b[0m\u001b[0m\n\u001b[1;32m    523\u001b[0m             \u001b[0mfile\u001b[0m \u001b[0;34m=\u001b[0m \u001b[0mfile\u001b[0m \u001b[0;34m+\u001b[0m \u001b[0;34m'.npy'\u001b[0m\u001b[0;34m\u001b[0m\u001b[0;34m\u001b[0m\u001b[0m\n\u001b[0;32m--> 524\u001b[0;31m         \u001b[0mfile_ctx\u001b[0m \u001b[0;34m=\u001b[0m \u001b[0mopen\u001b[0m\u001b[0;34m(\u001b[0m\u001b[0mfile\u001b[0m\u001b[0;34m,\u001b[0m \u001b[0;34m\"wb\"\u001b[0m\u001b[0;34m)\u001b[0m\u001b[0;34m\u001b[0m\u001b[0;34m\u001b[0m\u001b[0m\n\u001b[0m\u001b[1;32m    525\u001b[0m \u001b[0;34m\u001b[0m\u001b[0m\n\u001b[1;32m    526\u001b[0m     \u001b[0;32mwith\u001b[0m \u001b[0mfile_ctx\u001b[0m \u001b[0;32mas\u001b[0m \u001b[0mfid\u001b[0m\u001b[0;34m:\u001b[0m\u001b[0;34m\u001b[0m\u001b[0;34m\u001b[0m\u001b[0m\n",
      "\u001b[0;31mFileNotFoundError\u001b[0m: [Errno 2] No such file or directory: '/datasets/gdrive/XRay-AKAKI/images_normalized/1109_IM-0076-1001.dcm.png.npy'"
     ]
    }
   ],
   "execution_count": null
  },
  {
   "cell_type": "markdown",
   "source": "---",
   "metadata": {
    "tags": [],
    "cell_id": "00010-d6603ecf-3b69-4aa9-91ed-1b5c3991f155",
    "deepnote_cell_type": "markdown"
   }
  },
  {
   "cell_type": "markdown",
   "source": "## Modelling",
   "metadata": {
    "tags": [],
    "cell_id": "00014-d4b3942a-c5e3-4c98-a94e-d7446ebdc402",
    "deepnote_cell_type": "markdown"
   }
  },
  {
   "cell_type": "markdown",
   "source": "### Computer Vision",
   "metadata": {
    "tags": [],
    "cell_id": "00007-293291bd-2a61-44fb-87ed-bf772a02bf05",
    "deepnote_cell_type": "markdown"
   }
  },
  {
   "cell_type": "code",
   "metadata": {
    "tags": [],
    "cell_id": "00015-840c9add-8312-4c06-89b4-2ba682eb4342",
    "deepnote_to_be_reexecuted": true,
    "source_hash": "b623e53d",
    "deepnote_cell_type": "code"
   },
   "source": "",
   "execution_count": null,
   "outputs": []
  },
  {
   "cell_type": "markdown",
   "source": "### Natural Language Processing",
   "metadata": {
    "tags": [],
    "cell_id": "00006-5c6c3811-351a-4326-8558-aba8498c65da",
    "deepnote_cell_type": "markdown"
   }
  },
  {
   "cell_type": "code",
   "metadata": {
    "tags": [],
    "cell_id": "00016-20ceee77-4528-4837-ac10-2479d820d231",
    "deepnote_to_be_reexecuted": true,
    "source_hash": "b623e53d",
    "deepnote_cell_type": "code"
   },
   "source": "",
   "execution_count": null,
   "outputs": []
  },
  {
   "cell_type": "markdown",
   "source": "### Machine Learning",
   "metadata": {
    "tags": [],
    "cell_id": "00016-9a2c4d00-8ca3-406b-85f0-96391c8cb6cd",
    "deepnote_cell_type": "markdown"
   }
  },
  {
   "cell_type": "code",
   "metadata": {
    "tags": [],
    "cell_id": "00019-92306958-1c43-4b4a-8e77-c4a51860904e",
    "deepnote_to_be_reexecuted": true,
    "source_hash": "b623e53d",
    "deepnote_cell_type": "code"
   },
   "source": "",
   "execution_count": null,
   "outputs": []
  },
  {
   "cell_type": "markdown",
   "source": "<a style='text-decoration:none;line-height:16px;display:flex;color:#5B5B62;padding:10px;justify-content:end;' href='https://deepnote.com?utm_source=created-in-deepnote-cell&projectId=d67d5ca8-f99a-4baf-8748-4aa99efbd09b' target=\"_blank\">\n<img alt='Created in deepnote.com' style='display:inline;max-height:16px;margin:0px;margin-right:7.5px;' src='data:image/svg+xml;base64,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' > </img>\nCreated in <span style='font-weight:600;margin-left:4px;'>Deepnote</span></a>",
   "metadata": {
    "tags": [],
    "created_in_deepnote_cell": true,
    "deepnote_cell_type": "markdown"
   }
  }
 ],
 "nbformat": 4,
 "nbformat_minor": 2,
 "metadata": {
  "orig_nbformat": 2,
  "deepnote": {
   "is_reactive": false
  },
  "deepnote_notebook_id": "9d0af06f-68e0-4176-a171-5852372ddd7c",
  "deepnote_execution_queue": []
 }
}